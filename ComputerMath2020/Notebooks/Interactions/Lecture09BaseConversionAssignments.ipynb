{
 "cells": [
  {
   "cell_type": "markdown",
   "metadata": {},
   "source": [
    "# **第09讲 基底变换** `课堂互动`"
   ]
  },
  {
   "cell_type": "markdown",
   "metadata": {},
   "source": [
    "<font color=\"blue\">作者：欧新宇（Xinyu OU）</font>\n",
    "\n",
    "<font color=\"red\">本文档所展示的测试结果，均运行于：Intel Core i7-7700K CPU 4.2GHz</font>\n",
    "\n",
    "---"
   ]
  },
  {
   "cell_type": "markdown",
   "metadata": {
    "raw_mimetype": "text/html"
   },
   "source": [
    "## **【课堂互动一】** `基于基底变换的坐标变换`"
   ]
  },
  {
   "cell_type": "markdown",
   "metadata": {},
   "source": [
    "**1. $[x]_U$ -> $[x]_V$表示的含义是( )。**  \n",
    " \n",
    "A. 将坐标x从基底V迁移到基底U  \n",
    "<font style='color:blue;font-weight:bold;'>B. 将坐标x从基底U迁移到基底V</font>     \n",
    "C. 将向量U的x坐标分量迁移到向量V  \n",
    "D. 将向量V的x坐标分量迁移到向量U\n",
    "\n",
    "**答案及解析：** B  \n",
    "\n",
    "<br/>\n",
    "\n",
    "**2. 一般情况下，下面哪个符号用于表示空间的标准基。**\n",
    "\n",
    "A. $u$  \n",
    "B. $v$  \n",
    "<font style='color:blue;font-weight:bold;'>C. $e$</font>  \n",
    "D. $a$\n",
    "\n",
    "**答案及解析：** C  \n",
    "\n",
    "<br/>\n",
    "\n",
    "**3. 令 $u=(4,3)^𝑇，v=(-1,2)^𝑇$，若存在向量$x=3u-v$，则向量$x$的坐标为（ ）。**\n",
    "\n",
    "A. $[[3*4+(-1)*(-1), 3*3+(-1)*2]] = [[13,7]]$  \n",
    "<font style='color:blue;font-weight:bold;'>$B. [[3*4+(-1)*(-1)], [3*3+(-1)*2]] = [[13],[7]]$</font>  \n",
    "C. $[[4*3, -1*3],[-1*3, 2*(-1)]] = [[12, -3],[-3, -2]]$  \n",
    "D. $[[4*3, -1*3],[-1*3, 2*(-1)]] = [[12, -3],[-3, -2]]$\n",
    "\n",
    "**答案及解析：** B  \n",
    "\n",
    "<br/>"
   ]
  },
  {
   "cell_type": "markdown",
   "metadata": {},
   "source": [
    "## **【课堂互动二】** `从矩阵乘法的角度理解基底变换`"
   ]
  },
  {
   "cell_type": "markdown",
   "metadata": {},
   "source": [
    "**1. 给定一个矩阵$A=\\begin{bmatrix} 2 & 1 \\\\ 1 & 2 \\end{bmatrix}$，若以A的列向量组为基的空间中存在向量$u=[6,8]^T$。则向量$u$在标准基和以矩阵$A$为基的空间中的坐标分别表示为：（ ）。**  \n",
    "\n",
    "A. (6,8) (6,8)  \n",
    "B. (6,8) (20,22)  \n",
    "C. (20,22) (6,8)  \n",
    "D. (20,22) (20,22)\n",
    "\n",
    "<br/>\n",
    "\n",
    "**2. 如果一个向量所存在的空间$R$的维度确定了，那么它就有一个固定的位置，这个位置就称为向量的坐标。无论其他量如何变化，该坐标值都不会变化。**\n",
    "\n",
    "A. 对  \n",
    "B. 错\n",
    "\n",
    "<br/>\n",
    "\n",
    "**3. 三阶方阵和三阶向量相乘将满足以下哪一个公式？**\n",
    "\n",
    "A. $Au = \\begin{bmatrix} a & b & c \\\\ d & e & f \\\\ g & h & i \\end{bmatrix}\n",
    "\\begin{bmatrix} x \\\\ y \\\\ z \\end{bmatrix}\n",
    "=x\\begin{bmatrix} a \\\\ d \\\\ g \\end{bmatrix}\n",
    "+y\\begin{bmatrix} b \\\\ e \\\\ h \\end{bmatrix}\n",
    "+z\\begin{bmatrix} c \\\\ f \\\\ i \\end{bmatrix}$\n",
    "\n",
    "B. $Au = \\begin{bmatrix} a & b & c \\\\ d & e & f \\\\ g & h & i \\end{bmatrix}\n",
    "\\begin{bmatrix} x \\\\ y \\\\ z \\end{bmatrix}\n",
    "=x\\begin{bmatrix} a \\\\ b \\\\ c \\end{bmatrix}\n",
    "+y\\begin{bmatrix} d \\\\ e \\\\ f \\end{bmatrix}\n",
    "+z\\begin{bmatrix} g \\\\ h \\\\ i \\end{bmatrix}$\n",
    "\n",
    "<br/>\n",
    "\n",
    "**4. 向量的空间位置由其所参考的基底和相对于基底的位置决定，简单说，向量的空间位置可以表示为基底乘以对应的坐标。**\n",
    "\n",
    "A. 对  \n",
    "B. 错\n",
    "\n",
    "<br/>\n",
    "\n",
    "\n",
    "**5. 给定一组向量$U=(\\begin{bmatrix} a \\\\ c \\end{bmatrix}, \\begin{bmatrix} b \\\\ d \\end{bmatrix})$, 及以该向量组A为基底的坐标$c(x,y)$。问，如果将该坐标迁移到以标准基为基底的空间后，新坐标为( )。**  \n",
    "\n",
    "A. (x, y)  \n",
    "B. (ax+bx, cy+dy)  \n",
    "C. (ax+by, cx+dy)  \n",
    "D. (ay+by, cx+dx) \n",
    "\n",
    "<br/>"
   ]
  },
  {
   "cell_type": "markdown",
   "metadata": {},
   "source": [
    "## **【课堂互动三】** `从标准基开始的基底变换`"
   ]
  },
  {
   "cell_type": "markdown",
   "metadata": {},
   "source": [
    "**1. 给定基底V和基于基底V的坐标c，我们可以得到该坐标在标准基下的坐标x为( )。**  \n",
    "\n",
    "<font style='color:blue;font-x-:bold;'>A. x=Uc</font>  \n",
    "B. x=cU  \n",
    "C. x=U/c  \n",
    "D. x=c/U \n",
    "\n",
    "**答案及解析：** A\n",
    "\n",
    "<br/>"
   ]
  },
  {
   "cell_type": "markdown",
   "metadata": {},
   "source": [
    "**2. 令$u_1=(1,-1)^T,u_2=(2,2)^T$。则坐标$x=(1,2)^T$相应于$[u_1,u_2]$的坐标向量为（ ）。**\n",
    "\n",
    "A. $\\begin{bmatrix} 1 & 2 \\\\ -1 & 2 \\end{bmatrix} \\begin{bmatrix} 1 \\\\ 2 \\end{bmatrix}$  \n",
    "B. $\\begin{bmatrix} 1 \\\\ 2 \\end{bmatrix} \\begin{bmatrix} 1 & 2 \\\\ -1 & 2 \\end{bmatrix}$  \n",
    "<font style='color:blue;font-x-:bold;'>C. $\\begin{bmatrix} 1 & 2 \\\\ -1 & 2 \\end{bmatrix}^{-1} \\begin{bmatrix} 1 \\\\ 2 \\end{bmatrix}$</font>  \n",
    "D. $\\begin{bmatrix} 1 \\\\ 2 \\end{bmatrix} \\begin{bmatrix} 1 & 2 \\\\ -1 & 2 \\end{bmatrix}^{-1}$\n",
    "\n",
    "**答案及解析：** C\n",
    "\n",
    "从$[u_1,u_2]$到$[𝑒_1,𝑒_2]$的转移矩阵为：$U=[u_1,u_2]$.  \n",
    "由此，从$[𝑒_1,𝑒_2]$到$[u_1,u_2]$的转移矩阵为：$U^{-1}$  \n",
    "因此，坐标$𝑥$相应于$[u_1,u_2]$的坐标向量为：$𝑐 =U^{-1}x=\\begin{bmatrix} 1 & 2 \\\\ -1 & 2 \\end{bmatrix}^{-1}  \\begin{bmatrix} 1 \\\\ 2 \\end{bmatrix}$\n"
   ]
  },
  {
   "cell_type": "markdown",
   "metadata": {},
   "source": [
    "## **【课堂互动四】** `从任意基开始的基底变换`"
   ]
  },
  {
   "cell_type": "markdown",
   "metadata": {},
   "source": [
    "**1. 从$[v_1,v_2]$到$[u_1,u_2]$的转换可以看成是一个两步的过程。首先从$[v_1,v_2]$转换为标准基$[e_1,e_2]$，然后再从标准基转换为$[u_1,u_2]$。那么如果给定基于$V$的坐标$w$，我们可以得到基于$U$的坐标$x$的求解公式为：（ ）。**\n",
    "\n",
    "A. $x=UVw$  \n",
    "B. $x=UV^{-1}w$  \n",
    "<font style='color:blue;font-x-:bold;'>C. $x=U^{-1}Vw$</font>  \n",
    "D. $x=U^{-1}V^{-1}w$\n",
    "\n",
    "**答案及解析：** C\n",
    "\n",
    "从$[v_1,v_2]$到$[e_1,e_2]$的转移矩阵为V，而从$[e_1,e_2]$到$[u_1,u_2]$的转移矩阵为$U^{-1}$。因此，我们可以得到:$Vw=d$及$U^{-1}d=x$，其中$d$为w在标准基下的坐标。\n",
    "于是，$x=U^{-1}d=U^{-1}Vw$。\n",
    "\n",
    "<br/>"
   ]
  },
  {
   "cell_type": "markdown",
   "metadata": {
    "execution": {
     "iopub.execute_input": "2020-05-30T14:27:22.277019Z",
     "iopub.status.busy": "2020-05-30T14:27:22.276026Z",
     "iopub.status.idle": "2020-05-30T14:27:22.289979Z",
     "shell.execute_reply": "2020-05-30T14:27:22.287985Z",
     "shell.execute_reply.started": "2020-05-30T14:27:22.277019Z"
    }
   },
   "source": [
    "**2. 下列用于求解矩阵A的逆矩阵B的Python代码，正确的一个是（ )。**\n",
    "\n",
    "A. B = np.inv(A)  \n",
    "B. B = scipy.inv(A)$  \n",
    "<font style='color:blue;font-x-:bold;'>C. B = linalg.inv(A)</font>  \n",
    "D. B = np.dot(A)\n",
    "\n",
    "**答案及解析：** C"
   ]
  }
 ],
 "metadata": {
  "kernelspec": {
   "display_name": "Python 3",
   "language": "python",
   "name": "python3"
  },
  "language_info": {
   "codemirror_mode": {
    "name": "ipython",
    "version": 3
   },
   "file_extension": ".py",
   "mimetype": "text/x-python",
   "name": "python",
   "nbconvert_exporter": "python",
   "pygments_lexer": "ipython3",
   "version": "3.7.7"
  }
 },
 "nbformat": 4,
 "nbformat_minor": 4
}
