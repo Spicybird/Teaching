{
 "cells": [
  {
   "cell_type": "markdown",
   "metadata": {},
   "source": [
    "# **第00讲 课程导学** `课堂互动答案`"
   ]
  },
  {
   "cell_type": "markdown",
   "metadata": {},
   "source": [
    "<font color=\"blue\">作者：欧新宇（Xinyu OU）</font>\n",
    "\n",
    "<font color=\"red\">本文档所展示的测试结果，均运行于：Intel Core i7-7700K CPU 4.2GHz</font>\n",
    "\n",
    "---"
   ]
  },
  {
   "cell_type": "markdown",
   "metadata": {
    "raw_mimetype": "text/html"
   },
   "source": [
    "## **课堂互动**"
   ]
  },
  {
   "cell_type": "markdown",
   "metadata": {},
   "source": [
    "**1. 本门课老师不点名，可以随心参与。**  \n",
    "A. 对  \n",
    "<font style='color:blue;font-weight:bold;'>B. 错</font>\n",
    "\n",
    "**答案及解析：** B  \n",
    "本课程考勤占期末成绩10%，标准分10分，每次旷课扣1分，每次迟到扣0.2分，每次请假扣0.1分，每次早退扣0.5分。  \n",
    "\n",
    "<br/>\n",
    "\n",
    "**2. 这学期的《计算机数学》课程，只要期末考及格就可以通过。**  \n",
    "A. 对  \n",
    "<font style='color:blue;font-weight:bold;'>B. 错</font>\n",
    "\n",
    "**答案及解析：** B  \n",
    "期末考只占40%，因此，趁早打消期末突击的想法。  \n",
    "\n",
    "<br/>\n",
    "\n",
    "**3. 本门课只需要完成32课时的学习，就能学好。**  \n",
    "A. 对  \n",
    "<font style='color:blue;font-weight:bold;'>B. 错</font>\n",
    "\n",
    "**答案及解析：** B  \n",
    "完成32个课时的学习，可以拿到学分。但并不代表能掌握好本课程的所有知识点。特别是对于后续很多课程依赖于《线性代数》的同学（特别是软件专业-人工智能新工科实验班），请一定要多花时间打好基础。"
   ]
  }
 ],
 "metadata": {
  "kernelspec": {
   "display_name": "Python 3",
   "language": "python",
   "name": "python3"
  },
  "language_info": {
   "codemirror_mode": {
    "name": "ipython",
    "version": 3
   },
   "file_extension": ".py",
   "mimetype": "text/x-python",
   "name": "python",
   "nbconvert_exporter": "python",
   "pygments_lexer": "ipython3",
   "version": "3.7.7"
  }
 },
 "nbformat": 4,
 "nbformat_minor": 4
}
