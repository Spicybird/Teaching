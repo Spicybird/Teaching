{
 "cells": [
  {
   "cell_type": "markdown",
   "metadata": {},
   "source": [
    "# **第05讲 矩阵操作** `课堂互动答案`"
   ]
  },
  {
   "cell_type": "markdown",
   "metadata": {},
   "source": [
    "<font color=\"blue\">作者：欧新宇（Xinyu OU）</font>\n",
    "\n",
    "<font color=\"red\">本文档所展示的测试结果，均运行于：Intel Core i7-7700K CPU 4.2GHz</font>\n",
    "\n",
    "---"
   ]
  },
  {
   "cell_type": "markdown",
   "metadata": {
    "raw_mimetype": "text/html"
   },
   "source": [
    "## **【课堂互动一】** `矩阵的加法`"
   ]
  },
  {
   "cell_type": "markdown",
   "metadata": {},
   "source": [
    "**1. 在使用numpy进行矩阵加法运算的时候，要求执行加法的两个元素必须具有相同的形态。**  \n",
    " \n",
    "<font style='color:blue;font-weight:bold;'>A. 对</font>     \n",
    "B. 错\n",
    "\n",
    "**答案及解析：** A  \n",
    "\n",
    "两个矩阵执行加法运算需要满足两个条件，一是同型矩阵，二是对应元素相加。\n",
    "\n",
    "<br/>"
   ]
  },
  {
   "cell_type": "markdown",
   "metadata": {},
   "source": [
    "**2. 设存在矩阵$A = \\begin{bmatrix} 1.2 & 3.4 & 5.6 \\\\ 7.8 & 9.1 & 0.7 \\end{bmatrix}$, 和标量c=10，请使用*numpy*计算库求：*A* + $c$。**  \n",
    " \n",
    "A. 无法直接对矩阵和标量进行计算\n",
    "\n",
    "<font style='color:blue;font-weight:bold;'>B. $A=\\begin{bmatrix} 11.2 & 13.4 & 15.6 \\\\ 17.8 & 19.1 & 10.7 \\end{bmatrix}$</font>\n",
    "\n",
    "C. $A = \\begin{bmatrix} 11.2 & 13.4 & 15.6 \\\\ 7.8 & 9.1 & 0.7 \\end{bmatrix}$  \n",
    "\n",
    "D. $A = \\begin{bmatrix} 11.2 & 3.4 & 5.6 \\\\ 17.8 & 9.1 & 0.7 \\end{bmatrix}$\n",
    "\n",
    "**答案及解析：** B  \n",
    "\n",
    "标量与矩阵相加的结果为标量与矩阵所有元素相加的和。"
   ]
  },
  {
   "cell_type": "code",
   "execution_count": 1,
   "metadata": {
    "execution": {
     "iopub.execute_input": "2020-06-02T15:11:56.616050Z",
     "iopub.status.busy": "2020-06-02T15:11:56.615053Z",
     "iopub.status.idle": "2020-06-02T15:11:56.815023Z",
     "shell.execute_reply": "2020-06-02T15:11:56.815023Z",
     "shell.execute_reply.started": "2020-06-02T15:11:56.616050Z"
    }
   },
   "outputs": [
    {
     "name": "stdout",
     "output_type": "stream",
     "text": [
      "A+c=\n",
      " [[11.2 13.4 15.6]\n",
      " [17.8 19.1 10.7]]\n"
     ]
    }
   ],
   "source": [
    "import numpy as np\n",
    "A = np.array([[1.2,3.4,5.6],[7.8,9.1,0.7]])\n",
    "c = 10\n",
    "\n",
    "print('A+c=\\n {}'.format(A+c))"
   ]
  },
  {
   "cell_type": "markdown",
   "metadata": {},
   "source": [
    "## **【课堂互动二】** `矩阵乘法`"
   ]
  },
  {
   "cell_type": "markdown",
   "metadata": {
    "execution": {
     "iopub.execute_input": "2020-05-13T00:58:26.086103Z",
     "iopub.status.busy": "2020-05-13T00:58:26.086103Z",
     "iopub.status.idle": "2020-05-13T00:58:26.091090Z",
     "shell.execute_reply": "2020-05-13T00:58:26.091090Z",
     "shell.execute_reply.started": "2020-05-13T00:58:26.086103Z"
    }
   },
   "source": [
    "**1.给定以下两个矩阵A和B，以下求\"A的2倍与B的3倍的和\"的Python描述正确的是（          ）。**  \n",
    "\n",
    "$A = \\begin{bmatrix} 150 & 250 & 50 \\\\ 250 & 500 & 100 \\\\ 300 & 700 & 120 \\\\ 450 & 850 & 80 \\end{bmatrix},\n",
    "B =  \\begin{bmatrix} 180 & 350 & 60 \\\\ 300 & 550 & 120 \\\\ 350 & 850 & 150 \\\\ 500 & 850 & 100 \\end{bmatrix}$\n",
    "\n",
    "A. 2A+3B    \n",
    "<font style='color:blue;font-weight:bold;'>B. 2\\*A+3\\*B</font>  \n",
    "C. 2·A+3·B  \n",
    "D. 2×A+3×B  \n",
    "E. 2 $\\odot$ A+3 $\\odot$ B\n",
    "\n",
    "**答案及解析：** B\n",
    "\n",
    "选项A，一般用于文本书写中表达线性组合；选项B，为标准矩阵乘法表达；选项C，为向量内积；选项D，为向量外积；选项E，哈达玛乘积，即元素积。\n",
    "\n",
    "<br/>"
   ]
  },
  {
   "cell_type": "markdown",
   "metadata": {},
   "source": [
    "**2. 下列关于矩阵运算正确的包括（       ）。**  \n",
    "<font style='color:blue;font-weight:bold;'>A. $A^T+B^T=(A+B)^T$</font>  \n",
    "<font style='color:blue;font-weight:bold;'>B. $(\\alpha + \\beta)A^T=\\alpha A^T + \\beta A^T$</font>  \n",
    "C. $(AB)^T=(BA)^T$  \n",
    "D. $A^T+B^T=(AB)^T$\n",
    "\n",
    "**答案及解析：** AB\n",
    "\n",
    "矩阵的乘法不满足交换律。\n",
    "\n",
    "</br>"
   ]
  },
  {
   "cell_type": "markdown",
   "metadata": {
    "execution": {
     "iopub.execute_input": "2020-05-13T01:02:34.421366Z",
     "iopub.status.busy": "2020-05-13T01:02:34.420368Z",
     "iopub.status.idle": "2020-05-13T01:02:34.440313Z",
     "shell.execute_reply": "2020-05-13T01:02:34.436323Z",
     "shell.execute_reply.started": "2020-05-13T01:02:34.421366Z"
    }
   },
   "source": [
    "**3. 给定向量 *u, v*，及标量 $a, b$，下列运算规律正确的是（          ）。**  \n",
    "<font style='color:blue;font-weight:bold;'>A. **$a$($b$*u*)=$b$($a$*u*)**</font>  \n",
    "<font style='color:blue;font-weight:bold;'>B. **$a$(*u+v*)=$a$*u*+$a$*v***</font>  \n",
    "C. **$a$(*uv*)=$a$(*vu*)**  \n",
    "<font style='color:blue;font-weight:bold;'>D. **$(a+b)$*v* = $a$*v* + $b$*v***</font> \n",
    "\n",
    "**答案及解析：** ABD\n",
    "\n",
    "矩阵的乘法不满足交换律。\n",
    "\n",
    "<br/>"
   ]
  },
  {
   "cell_type": "markdown",
   "metadata": {},
   "source": [
    "**4. 按照下列代码，输出的结果正确的一个是（ ）。**  \n",
    "\n",
    "```python\n",
    "import numpy as np\n",
    "\n",
    "A=np.array([[1,2],[3,4]])\n",
    "x=np.array([[1,1]]).T \n",
    "print(np.dot(A,x))\n",
    "```\n",
    "\n",
    "A. $[7, \\\\ 3]$     \n",
    "<font style='color:blue;font-weight:bold;'>B. $[[3] \\\\ [7]]$</font>      \n",
    "C. [[3, 7]]  \n",
    "D. [3, 7]\n",
    "\n",
    "**答案及解析：** B\n",
    "\n",
    "$ A_{2×2} $的矩阵与$ x_{2×1} $的矩阵相乘，结果矩阵的形态为2×1的矩阵。"
   ]
  },
  {
   "cell_type": "code",
   "execution_count": 1,
   "metadata": {
    "execution": {
     "iopub.execute_input": "2020-05-21T15:55:46.505805Z",
     "iopub.status.busy": "2020-05-21T15:55:46.503810Z",
     "iopub.status.idle": "2020-05-21T15:55:46.823954Z",
     "shell.execute_reply": "2020-05-21T15:55:46.823954Z",
     "shell.execute_reply.started": "2020-05-21T15:55:46.505805Z"
    }
   },
   "outputs": [
    {
     "name": "stdout",
     "output_type": "stream",
     "text": [
      "[[3]\n",
      " [7]]\n"
     ]
    }
   ],
   "source": [
    "import numpy as np\n",
    "\n",
    "A=np.array([[1,2],[3,4]])\n",
    "x=np.array([[1,1]]).T \n",
    "print(np.dot(A,x))"
   ]
  },
  {
   "cell_type": "markdown",
   "metadata": {},
   "source": [
    "## **【课堂互动三】** `矩阵的秩和迹`"
   ]
  },
  {
   "cell_type": "markdown",
   "metadata": {
    "execution": {
     "iopub.execute_input": "2020-06-03T00:26:31.987063Z",
     "iopub.status.busy": "2020-06-03T00:26:31.986066Z",
     "iopub.status.idle": "2020-06-03T00:26:32.003020Z",
     "shell.execute_reply": "2020-06-03T00:26:32.000030Z",
     "shell.execute_reply.started": "2020-06-03T00:26:31.987063Z"
    }
   },
   "source": [
    "**1.给定矩阵$A = \\begin{bmatrix} 1 & 2 & 3 & 6 \\\\ 1 & 3 & 4 & 8 \\\\ 3 & 5 & 6 & 12 \\\\ 1 & 2 & 5 & 10 \\end{bmatrix}$，则矩阵A的秩为( )。**  \n",
    "\n",
    "A. 1    \n",
    "B. 2  \n",
    "<font style='color:blue;font-weight:bold;'>C. 3</font>   \n",
    "D. 4  \n",
    "\n",
    "**答案及解析：** C\n",
    "\n",
    "对于方阵来说，它的秩等于`行秩`和`列秩`中的较小数，也就是**线性无关**行（或列）的较小数，即: rank(A)=min(rank(row),rank(column))。"
   ]
  },
  {
   "cell_type": "code",
   "execution_count": 7,
   "metadata": {
    "execution": {
     "iopub.execute_input": "2020-06-03T00:31:15.129782Z",
     "iopub.status.busy": "2020-06-03T00:31:15.128784Z",
     "iopub.status.idle": "2020-06-03T00:31:15.135765Z",
     "shell.execute_reply": "2020-06-03T00:31:15.135765Z",
     "shell.execute_reply.started": "2020-06-03T00:31:15.129782Z"
    }
   },
   "outputs": [
    {
     "name": "stdout",
     "output_type": "stream",
     "text": [
      "[[ 1  2  3  6]\n",
      " [ 1  3  4  8]\n",
      " [ 3  5  6 12]\n",
      " [ 1  2  5 10]]\n",
      "rank=3\n"
     ]
    }
   ],
   "source": [
    "import numpy as np\n",
    "A = np.array([[1,2,3,6],[1,3,4,8],[3,5,6,12],[1,2,5,10]])\n",
    "\n",
    "print(A)\n",
    "print('rank={}'.format(np.linalg.matrix_rank(A)))"
   ]
  },
  {
   "cell_type": "markdown",
   "metadata": {},
   "source": [
    "<br/>\n",
    "\n",
    "**2.给定矩阵$A = \\begin{bmatrix} 1.2 & -3.6 \\\\ 2.3 & -1.48 \\end{bmatrix}$，则矩阵A的迹为( )。**  \n",
    "\n",
    "<font style='color:blue;font-weight:bold;'>A. -0.28</font>  \n",
    "B. 1.7  \n",
    "C. 3.5  \n",
    "D. -2.08 \n",
    "\n",
    "**答案及解析：** C\n",
    "\n",
    "矩阵的迹等于其主对角线上所有元素的和。"
   ]
  },
  {
   "cell_type": "code",
   "execution_count": 20,
   "metadata": {
    "execution": {
     "iopub.execute_input": "2020-06-03T00:57:22.388960Z",
     "iopub.status.busy": "2020-06-03T00:57:22.387962Z",
     "iopub.status.idle": "2020-06-03T00:57:22.394943Z",
     "shell.execute_reply": "2020-06-03T00:57:22.393946Z",
     "shell.execute_reply.started": "2020-06-03T00:57:22.388960Z"
    }
   },
   "outputs": [
    {
     "name": "stdout",
     "output_type": "stream",
     "text": [
      "[[ 1.2  -0.6 ]\n",
      " [ 2.3  -1.48]]\n",
      "trace = -0.28\n"
     ]
    }
   ],
   "source": [
    "import numpy as np\n",
    "A = np.array([[1.2, -.6], [2.3, -1.48]])\n",
    "\n",
    "print(A)\n",
    "print('trace = {}'.format(np.trace(A)))"
   ]
  },
  {
   "cell_type": "markdown",
   "metadata": {
    "execution": {
     "iopub.execute_input": "2020-06-03T01:30:44.508283Z",
     "iopub.status.busy": "2020-06-03T01:30:44.507286Z",
     "iopub.status.idle": "2020-06-03T01:30:44.516262Z",
     "shell.execute_reply": "2020-06-03T01:30:44.515265Z",
     "shell.execute_reply.started": "2020-06-03T01:30:44.508283Z"
    }
   },
   "source": [
    "<br/>\n",
    "\n",
    "**3.设矩阵A的迹trace(A)=3，矩阵B的迹trace(B)=4，求：$3A+2B-4B^T$。**  \n",
    "\n",
    "A. -0.28  \n",
    "B. 11  \n",
    "<font style='color:blue;font-weight:bold;'>C. -22.84</font>  \n",
    "D. 无法计算\n",
    "\n",
    "**答案及解析：** C\n",
    "\n",
    "矩阵的迹满足基于数乘、加法和转置运算的不变性，因此对于线性组合来说，可以单独求出每个矩阵的迹，然后直接使用迹运算进行计算。即：$Tr(3A+2B-4B^T)=3Tr(A)+2Tr(B)-4Tr(B)$"
   ]
  },
  {
   "cell_type": "code",
   "execution_count": 36,
   "metadata": {
    "execution": {
     "iopub.execute_input": "2020-06-03T01:30:21.964018Z",
     "iopub.status.busy": "2020-06-03T01:30:21.964018Z",
     "iopub.status.idle": "2020-06-03T01:30:21.970999Z",
     "shell.execute_reply": "2020-06-03T01:30:21.970999Z",
     "shell.execute_reply.started": "2020-06-03T01:30:21.964018Z"
    }
   },
   "outputs": [
    {
     "name": "stdout",
     "output_type": "stream",
     "text": [
      "trace = -22.84\n",
      "trace = -22.84\n"
     ]
    }
   ],
   "source": [
    "import numpy as np\n",
    "A = np.array([[1.2, -.6], [2.3, -1.48]])\n",
    "B = np.array([[3,6],[3,8]])\n",
    "\n",
    "\n",
    "print('trace = {:.2f}'.format(np.trace(3*A+2*B-4*B.T)))\n",
    "tra_A = np.trace(A)\n",
    "tra_B = np.trace(B)\n",
    "print('trace = {}'.format(3*tra_A+2*tra_B-4*tra_B.T))\n"
   ]
  },
  {
   "cell_type": "markdown",
   "metadata": {},
   "source": [
    "## **【课堂互动四】** `矩阵分块和张量的常用操作`"
   ]
  },
  {
   "cell_type": "markdown",
   "metadata": {
    "execution": {
     "iopub.execute_input": "2020-06-03T01:31:52.692590Z",
     "iopub.status.busy": "2020-06-03T01:31:52.692590Z",
     "iopub.status.idle": "2020-06-03T01:31:52.696579Z",
     "shell.execute_reply": "2020-06-03T01:31:52.696579Z",
     "shell.execute_reply.started": "2020-06-03T01:31:52.692590Z"
    }
   },
   "source": [
    "**1. 对于下列使用矩阵分块方法将方程式转换成向量形式 $a_1x_1\n",
    "+a_2x_2+a_3x_3+a_4x_4=b$，正确的一个是：（ ）。**  \n",
    "\n",
    "$\\begin{cases}\n",
    "\\ x_1 + 2x_2 + 3x_3 & = 2 \\\\\n",
    "\\ 2x_1 - 3x_2 + 4x_4 & = -2 \\\\\n",
    "\\ 2x_2 + 3x_3 + 5x_4 & = 5 \\\\\n",
    "\\end{cases}$\n",
    "\n",
    "A. $\\begin{bmatrix} 1 \\\\ 2 \\\\ 0 \\end{bmatrix} x_1\n",
    "+\\begin{bmatrix} 2 \\\\ -3 \\\\ 2 \\end{bmatrix} x_2\n",
    "+\\begin{bmatrix} 3 \\\\ 0 \\\\ 3 \\end{bmatrix} x_3\n",
    "+\\begin{bmatrix} 0 \\\\ 4 \\\\ 5 \\end{bmatrix} x_4\n",
    "=\\begin{bmatrix} 2 \\\\ -2 \\\\ 5 \\end{bmatrix}$\n",
    "\n",
    "B. $\\begin{bmatrix} 1 \\\\ 2 \\end{bmatrix} x_1\n",
    "+\\begin{bmatrix} 2 \\\\ -3 \\\\ 2 \\end{bmatrix} x_2\n",
    "+\\begin{bmatrix} 3 \\\\ 3 \\end{bmatrix} x_3\n",
    "+\\begin{bmatrix} 4 \\\\ 5 \\end{bmatrix} x_4\n",
    "=\\begin{bmatrix} 2 \\\\ -2 \\\\ 5 \\end{bmatrix}$\n",
    "\n",
    "**答案及解析：** A\n",
    "\n",
    "利用矩阵分块原理进行方程式的改写需要对齐未知数，对于不存在未知数的等式以补零方式构建向量。"
   ]
  },
  {
   "cell_type": "markdown",
   "metadata": {},
   "source": [
    "**2. 给定矩阵M，请问以下python语句可以实现调整矩阵维度顺序的语句是（），可以实现将矩阵M拉成行向量的语句是（）。**  \n",
    "\n",
    "A. M.transpose(1,2,0) M.reshape(-1,1)  \n",
    "B. M.concatenate(1,2,0) M.reshape(1,-1)  \n",
    "C. M.concatenate(1,2,0) M.reshape(-1,1)  \n",
    "<font style='color:blue;font-weight:bold;'>D. M.transpose(1,2,0) M.reshape(1,-1)</font>  \n",
    "\n",
    "**答案及解析：** D\n",
    "\n",
    "M.transpose(1,2,0)将矩阵的第0列调整到最后一个维度，并将第1，2列调整到第0和第1个维度；M.reshape(row, col)可以实现将矩阵重新调整为row行，col列，当值为`-1`时，表示跟随其他维度进行最大化调整；concatenate(M,axis=0)可以实现将矩阵M按照第0个维度进行合并。"
   ]
  }
 ],
 "metadata": {
  "kernelspec": {
   "display_name": "Python 3",
   "language": "python",
   "name": "python3"
  },
  "language_info": {
   "codemirror_mode": {
    "name": "ipython",
    "version": 3
   },
   "file_extension": ".py",
   "mimetype": "text/x-python",
   "name": "python",
   "nbconvert_exporter": "python",
   "pygments_lexer": "ipython3",
   "version": "3.7.7"
  }
 },
 "nbformat": 4,
 "nbformat_minor": 4
}
