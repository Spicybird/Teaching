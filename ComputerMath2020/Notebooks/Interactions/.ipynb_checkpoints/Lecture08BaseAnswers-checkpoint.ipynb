{
 "cells": [
  {
   "cell_type": "markdown",
   "metadata": {},
   "source": [
    "# **第08讲 维数、基底与坐标** `课堂互动答案`"
   ]
  },
  {
   "cell_type": "markdown",
   "metadata": {},
   "source": [
    "<font color=\"blue\">作者：欧新宇（Xinyu OU）</font>\n",
    "\n",
    "<font color=\"red\">本文档所展示的测试结果，均运行于：Intel Core i7-7700K CPU 4.2GHz</font>\n",
    "\n",
    "---"
   ]
  },
  {
   "cell_type": "markdown",
   "metadata": {
    "raw_mimetype": "text/html"
   },
   "source": [
    "## **【课堂互动一】** `维数、基底与坐标`"
   ]
  },
  {
   "cell_type": "markdown",
   "metadata": {
    "execution": {
     "iopub.execute_input": "2020-05-31T01:23:37.290981Z",
     "iopub.status.busy": "2020-05-31T01:23:37.289984Z",
     "iopub.status.idle": "2020-05-31T01:23:37.301954Z",
     "shell.execute_reply": "2020-05-31T01:23:37.299958Z",
     "shell.execute_reply.started": "2020-05-31T01:23:37.290981Z"
    }
   },
   "source": [
    "**1. 若一个线性空间V中存在一个包含10个元素的基底，那么我们可以说这个线性空间V的维数为10。**  \n",
    "\n",
    "<font style='color:blue;font-x-:bold;'>A. 对</font>  \n",
    "B. 错  \n",
    "\n",
    "**答案及解析：** A\n",
    "\n",
    "<br/>"
   ]
  },
  {
   "cell_type": "markdown",
   "metadata": {
    "execution": {
     "iopub.execute_input": "2020-05-31T01:23:28.760542Z",
     "iopub.status.busy": "2020-05-31T01:23:28.759470Z",
     "iopub.status.idle": "2020-05-31T01:23:28.770875Z",
     "shell.execute_reply": "2020-05-31T01:23:28.769473Z",
     "shell.execute_reply.started": "2020-05-31T01:23:28.760542Z"
    }
   },
   "source": [
    "**2. 若向量组$a_1, a_2,...,a_n$是线性空间$V$的一组基底，则要求该向量组必须（   ）。**  \n",
    "\n",
    "<font style='color:blue;font-x-:bold;'>A. 线性无关</font>  \n",
    "B. 线性相关  \n",
    "C. 存在不为0的元素  \n",
    "D. 不存在为0的元素\n",
    "\n",
    "**答案及解析：** A\n",
    "\n",
    "<br/>"
   ]
  },
  {
   "cell_type": "markdown",
   "metadata": {
    "execution": {
     "iopub.execute_input": "2020-05-31T01:23:28.760542Z",
     "iopub.status.busy": "2020-05-31T01:23:28.759470Z",
     "iopub.status.idle": "2020-05-31T01:23:28.770875Z",
     "shell.execute_reply": "2020-05-31T01:23:28.769473Z",
     "shell.execute_reply.started": "2020-05-31T01:23:28.760542Z"
    }
   },
   "source": [
    "**3. 设二维向量$u$在标准基环境中的坐标是（3，4），则在新基底 $E_x= [0.5, 0], E_y=[0, 2]$中，向量$u$ 的坐标为（     ）。**  \n",
    "\n",
    "A. (3, 4)  \n",
    "<font style='color:blue;font-x-:bold;'>B. (6, 2)</font>  \n",
    "C. (1.5, 8)  \n",
    "D. (6, 8)  \n",
    "E. (1.5, 2)\n",
    "\n",
    "**答案及解析：** B\n",
    "\n",
    "<br/>"
   ]
  },
  {
   "cell_type": "markdown",
   "metadata": {},
   "source": [
    "**4. 以下矩阵能够作为标准基的是（     ）。**  \n",
    "\n",
    "<font style='color:blue;font-x-:bold;'>A. $\\begin{bmatrix} 1 & 0 \\\\ 0 & 0 \\end{bmatrix}$</font>  \n",
    "B. $\\begin{bmatrix} 1 \\\\ 1 \\end{bmatrix}$  \n",
    "<font style='color:blue;font-x-:bold;'>C. $\\begin{bmatrix} 1 \\\\ 0 \\end{bmatrix}$</font>    \n",
    "<font style='color:blue;font-x-:bold;'>D. $\\begin{bmatrix} 1 \\\\ 0 \\\\ 0 \\end{bmatrix}$</font>\n",
    "\n",
    "**答案及解析：** ACD\n",
    "\n",
    "<br/>"
   ]
  },
  {
   "cell_type": "markdown",
   "metadata": {},
   "source": [
    "**5. 设$𝑎_1,𝑎_2,...,𝑎_n$是线性空间$𝑉_𝑛$的一个基，对于任意元素$𝑎∈𝑉_𝑛$，总有且仅有一组有序数$𝑥_1,𝑥_2,...,𝑥_𝑛$，使$𝑎=𝑥_1𝑎_1+𝑥_2𝑎_2+...+𝑥_n𝑎_n$ 。则（        ）称为元素$𝑎$在空间$𝑉_𝑛$中的坐标。**  \n",
    "\n",
    "A. 有序数$1, 2, ..., n$  \n",
    "<font style='color:blue;font-x-:bold;'>B. 有序数$x_1,x_2,...,x_n$</font>  \n",
    "C. 有序向量组$a_1,a_2,...,a_n$    \n",
    "D. 有序线性组合$x_1a_1, x_2a_2, ...,x_na_n $\n",
    "\n",
    "**答案及解析：** B\n",
    "\n",
    "<br/>"
   ]
  },
  {
   "cell_type": "markdown",
   "metadata": {},
   "source": [
    "## **【课堂互动二】** `构成基底的条件`"
   ]
  },
  {
   "cell_type": "markdown",
   "metadata": {},
   "source": [
    "**1. 任何向量组都可以作为基底。**  \n",
    "\n",
    "A. 对  \n",
    "<font style='color:blue;font-x-:bold;'>B. 错</font>  \n",
    "\n",
    "**答案及解析：** B\n",
    "\n",
    "<br/>"
   ]
  },
  {
   "cell_type": "markdown",
   "metadata": {},
   "source": [
    "**2. 给定一共2维空间$V_2$，如果存在向量组 $a = ([1,1]^T, [2,2]^T)$，请问向量组$a$是否能成为这个二维空间的基底？**  \n",
    "\n",
    "A. 不可以，因为它违背了向量完备性的要求  \n",
    "<font style='color:blue;font-x-:bold;'>B. 不可以，因为它违背了线性无关的要求</font>  \n",
    "C. 不可以，因为它违背了线性相关的要求   \n",
    "D. 可以作为这个二维空间的基底\n",
    "\n",
    "**答案及解析：** B\n",
    "\n",
    "<br/>"
   ]
  },
  {
   "cell_type": "markdown",
   "metadata": {},
   "source": [
    "**3. 在判断一个向量组是否能成为基底的条件时，有一个充分必要条件是空间中的任意一个向量都可以由向量组a的线性组合构成，并且这种组合具有唯一性。那么请问，唯一性等价于什么？**  \n",
    "\n",
    "A. 向量组 $a$ 线性相关  \n",
    "<font style='color:blue;font-x-:bold;'>B. 向量组 $a$ 线性无关</font>  \n",
    "C. 向量组 $a$ 数量完备   \n",
    "D. 向量组 $a$ 维数完备\n",
    "\n",
    "**答案及解析：** B\n",
    "\n",
    "<br/>"
   ]
  },
  {
   "cell_type": "markdown",
   "metadata": {},
   "source": [
    "**4. 给定两个向量 $a,b ≠0$ 和标量$i, j∈R$，它们的线性组合 $i*a + j*b$ 可能存在以下哪种情况？**  \n",
    "\n",
    "A. 确定一个点  \n",
    "<font style='color:blue;font-x-:bold;'>B. 确定一条直线</font>  \n",
    "<font style='color:blue;font-x-:bold;'>C. 确定一个平面</font>     \n",
    "D. 确定一个三维空间\n",
    "\n",
    "**答案及解析：** BC\n",
    "\n",
    "$a,b$为两个不为零的向量，当$a,b$不共线，则线性组合确定一个平面；当$a,b$共线，则线性组合只能确定一条直线。\n",
    "\n",
    "<br/>"
   ]
  },
  {
   "cell_type": "markdown",
   "metadata": {},
   "source": [
    "**5. 给定两个向量 $u,v,w \\neq 0$和标量$a,b,c \\in R$，它们的线性组合 $au+bv+cw$ 可能存在以下哪种情况？**  \n",
    "\n",
    "A. 确定一个点  \n",
    "<font style='color:blue;font-x-:bold;'>B. 确定一条直线</font>  \n",
    "<font style='color:blue;font-x-:bold;'>C. 确定一个平面</font>   \n",
    "<font style='color:blue;font-x-:bold;'>D. 确定一个三维空间</font>\n",
    "\n",
    "**答案及解析：** BCD\n",
    "\n",
    "对于不为0的三个向量，在空间R中，可能存在三种不同的关系。  \n",
    "1.三者共线，确定一条直线  \n",
    "2.任意两者共线，确定一个平面  \n",
    "3.三者均不共线（线性无关），确定整个三维空间\n",
    "\n",
    "<br/>"
   ]
  },
  {
   "cell_type": "code",
   "execution_count": null,
   "metadata": {},
   "outputs": [],
   "source": []
  }
 ],
 "metadata": {
  "kernelspec": {
   "display_name": "Python 3",
   "language": "python",
   "name": "python3"
  },
  "language_info": {
   "codemirror_mode": {
    "name": "ipython",
    "version": 3
   },
   "file_extension": ".py",
   "mimetype": "text/x-python",
   "name": "python",
   "nbconvert_exporter": "python",
   "pygments_lexer": "ipython3",
   "version": "3.7.7"
  }
 },
 "nbformat": 4,
 "nbformat_minor": 4
}
