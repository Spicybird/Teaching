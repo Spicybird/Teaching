{
 "cells": [
  {
   "cell_type": "markdown",
   "metadata": {},
   "source": [
    "# **第02讲 向量的基础知识** `课堂互动答案`"
   ]
  },
  {
   "cell_type": "markdown",
   "metadata": {},
   "source": [
    "<font color=\"blue\">作者：欧新宇（Xinyu OU）</font>\n",
    "\n",
    "<font color=\"red\">本文档所展示的测试结果，均运行于：Intel Core i7-7700K CPU 4.2GHz</font>\n",
    "\n",
    "---"
   ]
  },
  {
   "cell_type": "markdown",
   "metadata": {
    "raw_mimetype": "text/html"
   },
   "source": [
    "## **【课堂互动一】** `向量的基本知识和列向量`"
   ]
  },
  {
   "cell_type": "markdown",
   "metadata": {
    "execution": {
     "iopub.execute_input": "2020-05-13T00:58:26.086103Z",
     "iopub.status.busy": "2020-05-13T00:58:26.086103Z",
     "iopub.status.idle": "2020-05-13T00:58:26.091090Z",
     "shell.execute_reply": "2020-05-13T00:58:26.091090Z",
     "shell.execute_reply.started": "2020-05-13T00:58:26.086103Z"
    }
   },
   "source": [
    "**1. 下列量又可以被称为矢量的是（         ）。**  \n",
    "A. 标量  \n",
    "B. <font style='color:blue;font-weight:bold;'>向量</font>  \n",
    "C. 矩阵  \n",
    "D. 张量  \n",
    "\n",
    "**答案及解析：** B  \n",
    "\n",
    "向量称欧几里得向量、几何向量、矢量，它指具有大小和方向的量。它可以形象化地表示为带箭头的线段。\n",
    "\n",
    "<br/>"
   ]
  },
  {
   "cell_type": "markdown",
   "metadata": {},
   "source": [
    "**2. 以下记法中，可以用来表示向量的有哪些？**  \n",
    "A. <font style='color:blue;font-weight:bold;'>***a***</font>     \n",
    "B. <font style='color:blue;font-weight:bold;'>$\\vec{v}$</font>  \n",
    "C. <font style='color:blue;font-weight:bold;'>$\\vec{AB}$</font>   \n",
    "D. <font style='color:blue;font-weight:bold;'>***A***</font>     \n",
    "\n",
    "**答案及解析：** ABCD  \n",
    "A，向量的标准表达方式，小写粗斜体英文字母；B，单向量有向线段表达法；C，起点-终点有向线段表达法；D，张量表达法。\n",
    "\n",
    "<br/>"
   ]
  },
  {
   "cell_type": "markdown",
   "metadata": {
    "execution": {
     "iopub.execute_input": "2020-05-13T01:02:34.421366Z",
     "iopub.status.busy": "2020-05-13T01:02:34.420368Z",
     "iopub.status.idle": "2020-05-13T01:02:34.440313Z",
     "shell.execute_reply": "2020-05-13T01:02:34.436323Z",
     "shell.execute_reply.started": "2020-05-13T01:02:34.421366Z"
    }
   },
   "source": [
    "**3. 给定向量$a=[3,5,7]^T$ ，它可以用来表示（）。**  \n",
    "A. 一个行向量  \n",
    "<font style='color:blue;font-weight:bold;'>B. 一个列向量</font>  \n",
    "C. 一个矩阵  \n",
    "D. 矩阵在$x$方向上的分量\n",
    "\n",
    "**答案及解析：** B  \n",
    "默认情况，可以使用$a$表达一个列向量；而对于列举法，通常在元素列表的右上角增加一个转置符号用于表达一个列向量。\n",
    "\n",
    "<br/>"
   ]
  },
  {
   "cell_type": "markdown",
   "metadata": {},
   "source": [
    "**4. 给出下列Python代码的运行结果（）：**  \n",
    "\n",
    "\n",
    "```python\n",
    "import numpy as np\n",
    "A = np.array([2, 2, 3, 4])\n",
    "C = A.T\n",
    "\n",
    "print('a={}'.format(C))\n",
    "```\n",
    "           \n",
    "A. *a* = [[2 2 3 4]]  (二阶行向量)  \n",
    "<font style='color:blue;font-weight:bold;font-style:italic'>B. a = [2 2 3 4]  (一阶行向量)</font>  \n",
    "C. *a* = [2,  \n",
    "2,  \n",
    "3,  \n",
    "4]  \n",
    "(一阶列向量)  \n",
    "D. *a* = [[2],  \n",
    "[2],  \n",
    "[3],  \n",
    "[4]]  \n",
    "(二阶列向量)\n",
    "\n",
    "**答案及解析：** B"
   ]
  },
  {
   "cell_type": "code",
   "execution_count": 1,
   "metadata": {
    "execution": {
     "iopub.execute_input": "2020-05-16T15:28:41.694207Z",
     "iopub.status.busy": "2020-05-16T15:28:41.692212Z",
     "iopub.status.idle": "2020-05-16T15:28:41.910136Z",
     "shell.execute_reply": "2020-05-16T15:28:41.909138Z",
     "shell.execute_reply.started": "2020-05-16T15:28:41.694207Z"
    }
   },
   "outputs": [
    {
     "name": "stdout",
     "output_type": "stream",
     "text": [
      "a=[2 2 3 4]\n"
     ]
    }
   ],
   "source": [
    "import numpy as np\n",
    "A = np.array([2, 2, 3, 4])\n",
    "C = A.T\n",
    "\n",
    "print('a={}'.format(C))"
   ]
  },
  {
   "cell_type": "markdown",
   "metadata": {},
   "source": [
    "<br/>\n",
    "\n",
    "**5. 下列代码，可以用来表示一个列向量的是（）。**  \n",
    "A. A=np.array([5,6,7]).T  \n",
    "<font style='color:blue;font-weight:bold;'>B. A=np.array([[5,6,7]]).T</font>    \n",
    "C. A=np.array([[[5,6,7]]]).T  \n",
    "D. A=[5;6;7]\n",
    "\n",
    "**答案及解析：** B "
   ]
  },
  {
   "cell_type": "code",
   "execution_count": 13,
   "metadata": {
    "execution": {
     "iopub.execute_input": "2020-05-16T13:32:05.234125Z",
     "iopub.status.busy": "2020-05-16T13:32:05.234125Z",
     "iopub.status.idle": "2020-05-16T13:32:05.239111Z",
     "shell.execute_reply": "2020-05-16T13:32:05.239111Z",
     "shell.execute_reply.started": "2020-05-16T13:32:05.234125Z"
    }
   },
   "outputs": [
    {
     "name": "stdout",
     "output_type": "stream",
     "text": [
      "选项A = [5 6 7]\n",
      "选项B = [[5]\n",
      " [6]\n",
      " [7]]\n",
      "选项C = [[[5]]\n",
      "\n",
      " [[6]]\n",
      "\n",
      " [[7]]]\n"
     ]
    }
   ],
   "source": [
    "print('选项A = {}'.format(np.array([5,6,7]).T))\n",
    "print('选项B = {}'.format(np.array([[5,6,7]]).T))\n",
    "print('选项C = {}'.format(np.array([[[5,6,7]]]).T))"
   ]
  },
  {
   "cell_type": "markdown",
   "metadata": {},
   "source": [
    "## **【课堂互动二】** `范数`"
   ]
  },
  {
   "cell_type": "markdown",
   "metadata": {},
   "source": [
    "**1. 下列范数可以用来衡量两个向量间距离的是（      ）。**  \n",
    "A. p-范数  \n",
    "B. L1范数   \n",
    "<font style='color:blue;font-weight:bold;'>C. L2范数</font>  \n",
    "D. 无穷范数\n",
    "\n",
    "**答案及解析：** C\n",
    "\n",
    "</br>"
   ]
  },
  {
   "cell_type": "markdown",
   "metadata": {},
   "source": [
    "**2. 范数是数学中的一种基本概念，通常可以理解成一类特殊的函数。一个向量的范数通常满足以下哪些条件？（      ）。**  \n",
    "<font style='color:blue;font-weight:bold;'>A. 非负性</font>  \n",
    "<font style='color:blue;font-weight:bold;'>B. 齐次性</font>  \n",
    "C. 不变性  \n",
    "<font style='color:blue;font-weight:bold;'>D. 三角不等式</font>  \n",
    "\n",
    "**答案及解析：** ABD\n",
    "\n",
    "</br>"
   ]
  },
  {
   "cell_type": "markdown",
   "metadata": {
    "execution": {
     "iopub.execute_input": "2020-05-16T17:01:26.790638Z",
     "iopub.status.busy": "2020-05-16T17:01:26.789640Z",
     "iopub.status.idle": "2020-05-16T17:01:26.803604Z",
     "shell.execute_reply": "2020-05-16T17:01:26.801608Z",
     "shell.execute_reply.started": "2020-05-16T17:01:26.790638Z"
    }
   },
   "source": [
    "**3. 给定向量$a=[1,3,5,7,9]$，试求向量$a$的L1范数。**  \n",
    "<font style='color:blue;font-weight:bold;'>A. 25</font>  \n",
    "B. 12.8  \n",
    "C. 1.0    \n",
    "D. 9.0 \n",
    "\n",
    "**答案及解析：** A  \n",
    "\n",
    "`L1范数`求的是向量每个元素的绝对值的累加和，即：$||v_1||=\\sum^n_{i=1} |v_i|$。\n",
    "\n",
    "</br>"
   ]
  },
  {
   "cell_type": "markdown",
   "metadata": {
    "execution": {
     "iopub.execute_input": "2020-05-16T17:02:14.464357Z",
     "iopub.status.busy": "2020-05-16T17:02:14.462361Z",
     "iopub.status.idle": "2020-05-16T17:02:14.479315Z",
     "shell.execute_reply": "2020-05-16T17:02:14.478318Z",
     "shell.execute_reply.started": "2020-05-16T17:02:14.463358Z"
    }
   },
   "source": [
    "**4. 给定向量$a=[1,3,5,7,9]$，试求向量$a$的L2范数。**  \n",
    "A. 25.0</font>  \n",
    "<font style='color:blue;font-weight:bold;'>B. 12.8</font>  \n",
    "C. 1.0   \n",
    "D. 9.0\n",
    "\n",
    "**答案及解析：** B\n",
    "\n",
    "`L2范数`求的是向量的长度，也被称为欧几里得距离，简称欧氏距离。即：$||v_2||=(\\sum^n_{i=1} |v_i|^2)^{1/2}$。\n",
    "\n",
    "</br>"
   ]
  },
  {
   "cell_type": "markdown",
   "metadata": {},
   "source": [
    "**5. 给定向量$a=[1,3,5,7,9]$，试求向量$a$的无穷范数。**  \n",
    "A. 25.0  \n",
    "B. 12.8  \n",
    "C. 1.0   \n",
    "<font style='color:blue;font-weight:bold;'>D. 9.0</font> \n",
    "\n",
    "**答案及解析：** D\n",
    "\n",
    "$L_{\\infty}$ `范数` 表示向量中最大分量的绝对值，即：$||v_{\\infty}||=\\max \\limits_{i} |v_i|$。\n",
    "\n",
    "</br>"
   ]
  },
  {
   "cell_type": "markdown",
   "metadata": {},
   "source": [
    "习题3~5的Python描述"
   ]
  },
  {
   "cell_type": "code",
   "execution_count": 22,
   "metadata": {
    "execution": {
     "iopub.execute_input": "2020-05-16T17:23:23.960457Z",
     "iopub.status.busy": "2020-05-16T17:23:23.960457Z",
     "iopub.status.idle": "2020-05-16T17:23:23.972424Z",
     "shell.execute_reply": "2020-05-16T17:23:23.971427Z",
     "shell.execute_reply.started": "2020-05-16T17:23:23.960457Z"
    }
   },
   "outputs": [
    {
     "name": "stdout",
     "output_type": "stream",
     "text": [
      "L1范数:25.0\n",
      "L2范数:12.8\n",
      "无穷范数:9.0\n"
     ]
    }
   ],
   "source": [
    "import numpy as np\n",
    "a = np.array([1,3,5,7,9])\n",
    "\n",
    "print('L1范数:{:.1f}'.format(np.linalg.norm(a,ord=1)))\n",
    "print('L2范数:{:.1f}'.format(np.linalg.norm(a,ord=2)))\n",
    "print('无穷范数:{:.1f}'.format(np.linalg.norm(a,ord=np.inf)))"
   ]
  },
  {
   "cell_type": "markdown",
   "metadata": {},
   "source": [
    "## **【课堂互动三】**"
   ]
  },
  {
   "cell_type": "markdown",
   "metadata": {},
   "source": [
    "**1. 下列代码，属于One-Hot向量的是哪一个？**  \n",
    "A. $[0,3,0,0,0,1]$  \n",
    "<font style='color:blue;font-weight:bold;'>B. $[0,1,0,0,0,0]$</font>   \n",
    "C. $[0,1,0,1,0,1]$  \n",
    "D. $[1,1,1,1,1,1]$\n",
    "\n",
    "**答案及解析：** B \n",
    "\n",
    "有且仅有一个分量为1，其它分量都为0的向量称为One-Hot向量，又称为独热码。"
   ]
  },
  {
   "cell_type": "markdown",
   "metadata": {},
   "source": [
    "**2. 以下向量可以用来计算余弦相似性的特殊向量是哪一个？**  \n",
    "A. 全0向量  \n",
    "B. 全1向量   \n",
    "C. One\\-Hot向量  \n",
    "<font style='color:blue;font-weight:bold;'>D. 单位向量</font>\n",
    "\n",
    "**答案及解析：** B \n",
    "\n",
    "单位向量将向量的长度约束为1，这样可以很好地屏蔽模长（向量大小）带来的影响，仅用于表达向量的方向。而余弦相似性就是一种只关心向量间夹角大小的相似性计算方法。"
   ]
  }
 ],
 "metadata": {
  "kernelspec": {
   "display_name": "Python 3",
   "language": "python",
   "name": "python3"
  },
  "language_info": {
   "codemirror_mode": {
    "name": "ipython",
    "version": 3
   },
   "file_extension": ".py",
   "mimetype": "text/x-python",
   "name": "python",
   "nbconvert_exporter": "python",
   "pygments_lexer": "ipython3",
   "version": "3.7.7"
  }
 },
 "nbformat": 4,
 "nbformat_minor": 4
}
