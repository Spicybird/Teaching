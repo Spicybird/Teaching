{
 "cells": [
  {
   "cell_type": "markdown",
   "metadata": {},
   "source": [
    "# **第05讲 矩阵操作** `课堂互动`"
   ]
  },
  {
   "cell_type": "markdown",
   "metadata": {},
   "source": [
    "<font color=\"blue\">作者：欧新宇（Xinyu OU）</font>\n",
    "\n",
    "<font color=\"red\">本文档所展示的测试结果，均运行于：Intel Core i7-7700K CPU 4.2GHz</font>\n",
    "\n",
    "---"
   ]
  },
  {
   "cell_type": "markdown",
   "metadata": {
    "raw_mimetype": "text/html"
   },
   "source": [
    "## **【课堂互动一】**"
   ]
  },
  {
   "cell_type": "markdown",
   "metadata": {},
   "source": [
    "**1. 在使用numpy进行矩阵加法运算的时候，要求执行加法的两个元素必须具有相同的形态。**   \n",
    "A. 对     \n",
    "B. 错\n",
    "\n",
    "<br/>\n",
    "\n",
    "**2. 设存在矩阵$A = \\begin{bmatrix} 1.2 & 3.4 & 5.6 \\\\ 7.8 & 9.1 & 0.7 \\end{bmatrix}$, 和标量c=10，请使用*numpy*计算库求：*A* + $c$。**  \n",
    "A. 无法直接对矩阵和标量进行计算    \n",
    "B. $ \\begin{bmatrix} 11.2 & 13.4 & 15.6 \\\\ 17.8 & 19.1 & 10.7 \\end{bmatrix}$  \n",
    "C. $ \\begin{bmatrix} 11.2 & 13.4 & 15.6 \\\\ 7.8 & 9.1 & 0.7 \\end{bmatrix}$  \n",
    "D. $ \\begin{bmatrix} 11.2 & 3.4 & 5.6 \\\\ 17.8 & 9.1 & 0.7 \\end{bmatrix}$\n"
   ]
  },
  {
   "cell_type": "markdown",
   "metadata": {},
   "source": [
    "## **【课堂互动二】**"
   ]
  },
  {
   "cell_type": "markdown",
   "metadata": {},
   "source": [
    "**1.给定以下两个矩阵A和B，以下求\"A的2倍与B的3倍的和\"的Python描述正确的是（          ）。**  \n",
    "\n",
    "$A = \\begin{bmatrix} 150 & 250 & 50 \\\\ 250 & 500 & 100 \\\\ 300 & 700 & 120 \\\\ 450 & 850 & 80 \\end{bmatrix},\n",
    "B =  \\begin{bmatrix} 180 & 350 & 60 \\\\ 300 & 550 & 120 \\\\ 350 & 850 & 150 \\\\ 500 & 850 & 100 \\end{bmatrix}$\n",
    "\n",
    "A. 2A+3B    \n",
    "B. 2\\*A+3\\*B  \n",
    "C. 2·A+3·B  \n",
    "D. 2×A+3×B  \n",
    "E. 2 $\\odot$ A+3 $\\odot$ B\n",
    "\n",
    "<br/>\n",
    "\n",
    "**2. 下列关于矩阵运算正确的包括（       ）。**  \n",
    "A. $A^T+B^T=(A+B)^T$  \n",
    "B. $(\\alpha + \\beta)A^T=\\alpha A^T + \\beta A^T$  \n",
    "C. $(AB)^T=(BA)^T$  \n",
    "D. $A^T+B^T=(AB)^T$\n",
    "\n",
    "</br>\n",
    "\n",
    "**3. 给定向量 *u, v*，及标量 $a, b$，下列运算规律正确的是（          ）。**  \n",
    "A. **$a$($b$*u*)=$b$($a$*u*)**  \n",
    "B. **$a$(*u+v*)=$a$*u*+$a$*v***  \n",
    "C. **$a$(*uv*)=$a$(*vu*)**  \n",
    "D. **$(a+b)$*v* = $a$*v* + $b$*v*** \n",
    "\n",
    "<br/>\n",
    "\n",
    "**4. 按照下列代码，输出的结果正确的一个是（ ）。**\n",
    "\n",
    "```python\n",
    "import numpy as np\n",
    "\n",
    "A=np.array([[1,2],[3,4]])\n",
    "x=np.array([[1,1]]).T \n",
    "print(np.dot(A,x))\n",
    "```\n",
    "\n",
    "A. $[7, \\\\ 3]$     \n",
    "B. $[[3] \\\\ [7]]$      \n",
    "C. [[3, 7]]  \n",
    "D. [3, 7]"
   ]
  }
 ],
 "metadata": {
  "kernelspec": {
   "display_name": "Python 3",
   "language": "python",
   "name": "python3"
  },
  "language_info": {
   "codemirror_mode": {
    "name": "ipython",
    "version": 3
   },
   "file_extension": ".py",
   "mimetype": "text/x-python",
   "name": "python",
   "nbconvert_exporter": "python",
   "pygments_lexer": "ipython3",
   "version": "3.7.7"
  }
 },
 "nbformat": 4,
 "nbformat_minor": 4
}
