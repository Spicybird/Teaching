{
 "cells": [
  {
   "cell_type": "markdown",
   "metadata": {},
   "source": [
    "# **第01讲 线性代数绪论** `课堂互动`"
   ]
  },
  {
   "cell_type": "markdown",
   "metadata": {},
   "source": [
    "<font color=\"blue\">作者：欧新宇（Xinyu OU）</font>\n",
    "\n",
    "<font color=\"red\">本文档所展示的测试结果，均运行于：Intel Core i7-7700K CPU 4.2GHz</font>\n",
    "\n",
    "---"
   ]
  },
  {
   "cell_type": "markdown",
   "metadata": {
    "raw_mimetype": "text/html"
   },
   "source": [
    "## **【课堂互动一】**"
   ]
  },
  {
   "cell_type": "markdown",
   "metadata": {
    "execution": {
     "iopub.execute_input": "2020-05-13T00:58:26.086103Z",
     "iopub.status.busy": "2020-05-13T00:58:26.086103Z",
     "iopub.status.idle": "2020-05-13T00:58:26.091090Z",
     "shell.execute_reply": "2020-05-13T00:58:26.091090Z",
     "shell.execute_reply.started": "2020-05-13T00:58:26.086103Z"
    }
   },
   "source": [
    "1. 线性代数是计算机领域最重要的数学工具之一，它的研究对象是向量、向量空间、线性变换等，因此它处理的方程和函数主要是（        ）。  \n",
    "2. 60年前线性代数被引入到高校教学中 ，而在近几十年逐渐开始风靡，主要的原因是线性代数的相关理论得到了重大突破。  \n",
    "3. 工科特别是计算机领域研究线性代数，主要是用计算机来（             ）。  \n",
    "4. 在计算机领域，线性代数主要处理的数据类型是（          ）。  \n",
    "5. 线性代数在近年来变得越来愈重要，这主要是因为电子商务的发展推动了Web前端开发应用的巨大需求。  "
   ]
  },
  {
   "cell_type": "markdown",
   "metadata": {},
   "source": [
    "## **【课堂互动二】**"
   ]
  },
  {
   "cell_type": "markdown",
   "metadata": {},
   "source": [
    "**1. 下列量可以使用小写英文粗斜体表示的是哪一个?**  \n",
    "A. 标量  \n",
    "B. 向量  \n",
    "C. 矩阵  \n",
    "D. 张量  \n",
    "\n",
    "**2. 张量是定义在向量空间和对偶空间的笛卡尔积上的多重映射，它有两个重要的概念，分别什么？**  \n",
    "A. 基向量  \n",
    "B. 基底  \n",
    "C. 元素  \n",
    "D. 分量\n",
    "\n",
    "**3. 对于矩阵，我们可以使用下列哪一种类型的符号来表示？**  \n",
    "A. 斜体小写英文字母  \n",
    "B. 粗斜体小写英文字母  \n",
    "C. 粗斜体大写英文字母  \n",
    "D. 斜体大写英文字母\n",
    "\n",
    "**4. AB是笛卡尔坐标系中的向量，给定端点A(5,3,0)和B(2,7,0)。假设基向量为单位向量1，试求向量AB在xyz方向上的基向量。**  \n",
    "A. （3，4，0）  \n",
    "B. （7，10，0）   \n",
    "C. （5，7，0）  \n",
    "D. （2，3，0）  \n",
    "\n",
    "**5. $a_{43}$ 是矩阵A中的一个元素，它位于矩阵A的：（     ）。**  \n",
    "A. 第3行，第3列  \n",
    "B. 第3行，第4列  \n",
    "C. 第4行，第3列  \n",
    "D. 第4行，第4列  "
   ]
  },
  {
   "cell_type": "markdown",
   "metadata": {},
   "source": [
    "## **【课堂互动三】**"
   ]
  },
  {
   "cell_type": "markdown",
   "metadata": {},
   "source": [
    "**1. 在张量的定义下，向量可以被定义为（        ）阶张量。**  \n",
    "A. 零阶  \n",
    "B. 一阶  \n",
    "C. 二阶  \n",
    "D. 三阶\n",
    "\n",
    "**2. 在张量的定义下，标量是没有方向的，所以不存在基向量。**  \n",
    "A. 对  \n",
    "B. 错  \n",
    "\n",
    "**3. 数组$A = [A_1 A_2 A_3]$是一个三阶张量。**  \n",
    "A. 对  \n",
    "B. 错  \n",
    "\n",
    "**4. 一个3维空间中的4阶张量，包含多少个分量？**  \n",
    "A. 3  \n",
    "B. 4  \n",
    "C. $3^4=81$  \n",
    "D. $4^3=64$  \n",
    "\n",
    "**5. 𝑛维空间中的一阶张量$A$包含𝑛个分量，即𝑛个基向量。**  \n",
    "A. 对  \n",
    "B. 错"
   ]
  }
 ],
 "metadata": {
  "kernelspec": {
   "display_name": "Python 3",
   "language": "python",
   "name": "python3"
  },
  "language_info": {
   "codemirror_mode": {
    "name": "ipython",
    "version": 3
   },
   "file_extension": ".py",
   "mimetype": "text/x-python",
   "name": "python",
   "nbconvert_exporter": "python",
   "pygments_lexer": "ipython3",
   "version": "3.7.7"
  }
 },
 "nbformat": 4,
 "nbformat_minor": 4
}
