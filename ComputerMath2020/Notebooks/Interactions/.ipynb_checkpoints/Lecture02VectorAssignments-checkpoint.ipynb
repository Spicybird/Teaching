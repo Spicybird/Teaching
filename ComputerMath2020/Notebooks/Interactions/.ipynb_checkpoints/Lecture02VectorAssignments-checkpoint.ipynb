{
 "cells": [
  {
   "cell_type": "markdown",
   "metadata": {},
   "source": [
    "# **第02讲 向量的基础知识** `课堂互动`"
   ]
  },
  {
   "cell_type": "markdown",
   "metadata": {},
   "source": [
    "<font color=\"blue\">作者：欧新宇（Xinyu OU）</font>\n",
    "\n",
    "<font color=\"red\">本文档所展示的测试结果，均运行于：Intel Core i7-7700K CPU 4.2GHz</font>\n",
    "\n",
    "---"
   ]
  },
  {
   "cell_type": "markdown",
   "metadata": {
    "raw_mimetype": "text/html"
   },
   "source": [
    "## **【课堂互动一】**"
   ]
  },
  {
   "cell_type": "markdown",
   "metadata": {
    "execution": {
     "iopub.execute_input": "2020-05-16T17:32:40.104345Z",
     "iopub.status.busy": "2020-05-16T17:32:40.104345Z",
     "iopub.status.idle": "2020-05-16T17:32:40.118307Z",
     "shell.execute_reply": "2020-05-16T17:32:40.117310Z",
     "shell.execute_reply.started": "2020-05-16T17:32:40.104345Z"
    }
   },
   "source": [
    "**1. 下列量又可以被称为矢量的是（         ）。**  \n",
    "A. 标量  \n",
    "B. <font style='color:blue;font-weight:bold;'>向量</font>  \n",
    "C. 矩阵  \n",
    "D. 张量  \n",
    "\n",
    "**2. 以下记法中，可以用来表示向量的有哪些？**  \n",
    "A. <font style='color:blue;font-weight:bold;'>***a***</font>     \n",
    "B. <font style='color:blue;font-weight:bold;'>$\\vec{v}$</font>  \n",
    "C. <font style='color:blue;font-weight:bold;'>$\\vec{AB}$</font>   \n",
    "D. <font style='color:blue;font-weight:bold;'>***A***</font>     \n",
    "\n",
    "**3. 给定向量$a=[3,5,7]^T$ ，它可以用来表示（）。**  \n",
    "A. 一个行向量  \n",
    "<font style='color:blue;font-weight:bold;'>B. 一个列向量</font>  \n",
    "C. 一个矩阵  \n",
    "D. 矩阵在$x$方向上的分量\n",
    "\n",
    "**4. 给出下列Python代码的运行结果（）：**  \n",
    "\n",
    "```python\n",
    "import numpy as np\n",
    "A = np.array([2, 2, 3, 4])\n",
    "C = A.T\n",
    "\n",
    "print('a={}'.format(C))\n",
    "```\n",
    "          \n",
    "A. *a* = [[2 2 3 4]]  \n",
    "<font style='color:blue;font-weight:bold;font-style:italic'>B. a = [2 2 3 4]</font>  \n",
    "C. *a* = [2  \n",
    "2  \n",
    "3  \n",
    "4]  \n",
    "D. *a* = [[2]  \n",
    "[2]  \n",
    "[3]  \n",
    "[4]]  \n",
    "\n",
    "**5. 下列代码，可以用来表示一个列向量的是（）。**  \n",
    "A. A=np.array([5,6,7]).T  \n",
    "<font style='color:blue;font-weight:bold;'>B. A=np.array([[5,6,7]]).T</font>    \n",
    "C. A=np.array([[[5,6,7]]]).T  \n",
    "D. A=[5;6;7]"
   ]
  },
  {
   "cell_type": "markdown",
   "metadata": {},
   "source": [
    "## **【课堂互动二】**"
   ]
  },
  {
   "cell_type": "markdown",
   "metadata": {},
   "source": [
    "**1. 下列范数可以用来衡量两个向量间距离的是（      ）。**  \n",
    "A. p-范数  \n",
    "B. L1范数   \n",
    "<font style='color:blue;font-weight:bold;'>C. L2范数</font>  \n",
    "D. 无穷范数\n",
    "\n",
    "**2. 范数是数学中的一种基本概念，通常可以理解成一类特殊的函数。一个向量的范数通常满足以下哪些条件？（      ）。**  \n",
    "<font style='color:blue;font-weight:bold;'>A. 非负性</font>  \n",
    "<font style='color:blue;font-weight:bold;'>B. 齐次性</font>  \n",
    "C. 不变性  \n",
    "<font style='color:blue;font-weight:bold;'>D. 三角不等式</font>  \n",
    "\n",
    "**3. 给定向量$a=[1,3,5,7,9]$，试求向量$a$的L1范数。**  \n",
    "<font style='color:blue;font-weight:bold;'>A. 25</font>  \n",
    "B. 12.8  \n",
    "C. 1.0    \n",
    "D. 9.0 \n",
    "\n",
    "**4. 给定向量$a=[1,3,5,7,9]$，试求向量$a$的L2范数。**  \n",
    "A. 25.0</font>  \n",
    "<font style='color:blue;font-weight:bold;'>B. 12.8</font>  \n",
    "C. 1.0   \n",
    "D. 9.0\n",
    "\n",
    "**5. 给定向量$a=[1,3,5,7,9]$，试求向量$a$的无穷范数。**  \n",
    "A. 25.0  \n",
    "B. 12.8  \n",
    "C. 1.0   \n",
    "<font style='color:blue;font-weight:bold;'>D. 9.0</font> "
   ]
  },
  {
   "cell_type": "markdown",
   "metadata": {},
   "source": [
    "## **【课堂互动三】**"
   ]
  },
  {
   "cell_type": "markdown",
   "metadata": {},
   "source": [
    "**1. 下列代码，属于One-Hot向量的是哪一个？**  \n",
    "A. $[0,3,0,0,0,1]$  \n",
    "<font style='color:blue;font-weight:bold;'>B. $[0,1,0,0,0,0]$</font>   \n",
    "C. $[0,1,0,1,0,1]$  \n",
    "D. $[1,1,1,1,1,1]$\n",
    "\n",
    "**2. 以下向量可以用来计算余弦相似性的特殊向量是哪一个？**  \n",
    "A. 全0向量  \n",
    "B. 全1向量   \n",
    "C. One\\-Hot向量  \n",
    "<font style='color:blue;font-weight:bold;'>D. 单位向量</font>"
   ]
  }
 ],
 "metadata": {
  "kernelspec": {
   "display_name": "Python 3",
   "language": "python",
   "name": "python3"
  },
  "language_info": {
   "codemirror_mode": {
    "name": "ipython",
    "version": 3
   },
   "file_extension": ".py",
   "mimetype": "text/x-python",
   "name": "python",
   "nbconvert_exporter": "python",
   "pygments_lexer": "ipython3",
   "version": "3.7.7"
  }
 },
 "nbformat": 4,
 "nbformat_minor": 4
}
