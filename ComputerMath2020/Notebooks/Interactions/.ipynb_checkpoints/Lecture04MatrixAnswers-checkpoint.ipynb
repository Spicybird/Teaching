{
 "cells": [
  {
   "cell_type": "markdown",
   "metadata": {},
   "source": [
    "# **第04讲 矩阵的基础知识** `课堂互动答案`"
   ]
  },
  {
   "cell_type": "markdown",
   "metadata": {},
   "source": [
    "<font color=\"blue\">作者：欧新宇（Xinyu OU）</font>\n",
    "\n",
    "<font color=\"red\">本文档所展示的测试结果，均运行于：Intel Core i7-7700K CPU 4.2GHz</font>\n",
    "\n",
    "---"
   ]
  },
  {
   "cell_type": "markdown",
   "metadata": {
    "raw_mimetype": "text/html"
   },
   "source": [
    "## **【课堂互动一】** `矩阵的定义及基本操作`"
   ]
  },
  {
   "cell_type": "markdown",
   "metadata": {
    "execution": {
     "iopub.execute_input": "2020-05-13T00:58:26.086103Z",
     "iopub.status.busy": "2020-05-13T00:58:26.086103Z",
     "iopub.status.idle": "2020-05-13T00:58:26.091090Z",
     "shell.execute_reply": "2020-05-13T00:58:26.091090Z",
     "shell.execute_reply.started": "2020-05-13T00:58:26.086103Z"
    }
   },
   "source": [
    "**1. 下列可以用来表达一个矩阵的符号是（）。**  \n",
    "A. 加粗斜体小写英文字母    \n",
    "B. 加粗小写英文字母  \n",
    "C. 斜体小写英文字母  \n",
    "<font style='color:blue;font-weight:bold;'>D. 加粗斜体大写英文字母</font>    \n",
    "\n",
    "**答案及解析：** D \n",
    "\n",
    "<br/>"
   ]
  },
  {
   "cell_type": "markdown",
   "metadata": {},
   "source": [
    "**2. 下列代码可以用于实现创建一个2×3维数组的Python代码是：(      )**  \n",
    "A. A = np.array([1,2],[3,4],[5,6])      \n",
    "B. A = np.array([1,2,3],[4,5,6])   \n",
    "C. A = np.array([[1,2],[3,4],[5,6]])  \n",
    "<font style='color:blue;font-weight:bold;'>D. A = np.array([[1,2,3],[4,5,6]])</font>     \n",
    "\n",
    "**答案及解析：** D  \n",
    "\n",
    "对于numpy数组，内层小方括号的数量等于数组的行数，小方括号内部的元素的个数等于数组的列数。\n",
    "\n",
    "<br/>"
   ]
  },
  {
   "cell_type": "markdown",
   "metadata": {
    "execution": {
     "iopub.execute_input": "2020-05-13T01:02:34.421366Z",
     "iopub.status.busy": "2020-05-13T01:02:34.420368Z",
     "iopub.status.idle": "2020-05-13T01:02:34.440313Z",
     "shell.execute_reply": "2020-05-13T01:02:34.436323Z",
     "shell.execute_reply.started": "2020-05-13T01:02:34.421366Z"
    }
   },
   "source": [
    "**3. 如果矩阵A和矩阵B相等，则它们必为同型矩阵。**  \n",
    "<font style='color:blue;font-weight:bold;'>A. 对</font>  \n",
    "B. 错\n",
    "\n",
    "**答案及解析：** A\n",
    "\n",
    "矩阵相等的条件有两个：一是二者必须为同型矩阵；二是二者对应位置的元素必须相等。\n",
    "\n",
    "<br/>"
   ]
  },
  {
   "cell_type": "markdown",
   "metadata": {},
   "source": [
    "**4. 转置是矩阵的重要操作，它是以主对角线为轴的镜像，这条对角线从右上角到左下角。**  \n",
    "A. 对  \n",
    "<font style='color:blue;font-weight:bold;'>B. 错</font> \n",
    "\n",
    "**答案及解析：** B\n",
    "\n",
    "在矩阵中，从左上角到右下角的对角线称为主对角线。\n",
    "\n",
    "<br/>"
   ]
  },
  {
   "cell_type": "markdown",
   "metadata": {},
   "source": [
    "**5. 代码np.array([5,6,7]).T 所定义的量是列向量。**  \n",
    "A. 对  \n",
    "<font style='color:blue;font-weight:bold;'>B. 错</font> \n",
    "\n",
    "**答案及解析：** B\n",
    "\n",
    "在Python中，numpy所定义一维数组无法使用转置操作，因此np.array([]).T依然是一个一维行向量。"
   ]
  },
  {
   "cell_type": "code",
   "execution_count": 3,
   "metadata": {
    "execution": {
     "iopub.execute_input": "2020-05-17T11:25:18.814605Z",
     "iopub.status.busy": "2020-05-17T11:25:18.814605Z",
     "iopub.status.idle": "2020-05-17T11:25:18.820104Z",
     "shell.execute_reply": "2020-05-17T11:25:18.820104Z",
     "shell.execute_reply.started": "2020-05-17T11:25:18.814605Z"
    }
   },
   "outputs": [
    {
     "data": {
      "text/plain": [
       "array([5, 6, 7])"
      ]
     },
     "execution_count": 3,
     "metadata": {},
     "output_type": "execute_result"
    }
   ],
   "source": [
    "import numpy as np\n",
    "np.array([5,6,7]).T "
   ]
  },
  {
   "cell_type": "markdown",
   "metadata": {},
   "source": [
    "</br>\n",
    "\n",
    "**6. 按照下列代码，输出的结果正确的一个是（         ）。**  \n",
    "\n",
    "```python\n",
    "import numpy as np\n",
    "\n",
    "A=np.array([1,2,3,4]) \n",
    "print(A.T)\n",
    "```\n",
    "\n",
    "<font style='color:blue;font-weight:bold;'>A. $[1, 2, 3, 4]  (一维行向量)$</font>      \n",
    "B.  $ [1, \\\\ 2, \\\\ 3, \\\\ 4] \\\\ (一维列向量) $   \n",
    "C. $[[1, 2, 3, 4]]  (二维行向量) $  \n",
    "D. $ [[1], \\\\ [2], \\\\ [3], \\\\ [4]] \\\\  (二维列向量)$ \n",
    "\n",
    "**答案及解析：** A\n",
    "\n",
    "在numpy中，一维向量无法进行转置操作。"
   ]
  },
  {
   "cell_type": "code",
   "execution_count": 2,
   "metadata": {},
   "outputs": [
    {
     "name": "stdout",
     "output_type": "stream",
     "text": [
      "[1 2 3 4]\n"
     ]
    }
   ],
   "source": [
    "import numpy as np\n",
    "\n",
    "A=np.array([1,2,3,4]) \n",
    "print(A.T)"
   ]
  },
  {
   "cell_type": "markdown",
   "metadata": {},
   "source": [
    "## **【课堂互动二】** `特殊形态的矩阵`"
   ]
  },
  {
   "cell_type": "markdown",
   "metadata": {},
   "source": [
    "**1. 若矩阵A是一个对称矩阵，则矩阵A也必然为一个方阵。（      ）。**  \n",
    "<font style='color:blue;font-weight:bold;'>A. 对</font>    \n",
    "B. 错   \n",
    "\n",
    "**答案及解析：** A\n",
    "\n",
    "</br>"
   ]
  },
  {
   "cell_type": "markdown",
   "metadata": {},
   "source": [
    "**2. 下列矩阵中，通常用来实现矩阵初始化的是哪一种？（      ）。**  \n",
    "A. 单位矩阵  \n",
    "B. 对角矩阵  \n",
    "<font style='color:blue;font-weight:bold;'>C. 零矩阵</font>    \n",
    "D. 方阵  \n",
    "E. 对称矩阵  \n",
    "\n",
    "**答案及解析：** C\n",
    "\n",
    "零矩阵可以初始化为和目标矩阵同型，同时占用空间最小的优点，因此经常被用来做矩阵初始化和内存空间申请使用。\n",
    "\n",
    "</br>"
   ]
  },
  {
   "cell_type": "markdown",
   "metadata": {
    "execution": {
     "iopub.execute_input": "2020-05-16T17:01:26.790638Z",
     "iopub.status.busy": "2020-05-16T17:01:26.789640Z",
     "iopub.status.idle": "2020-05-16T17:01:26.803604Z",
     "shell.execute_reply": "2020-05-16T17:01:26.801608Z",
     "shell.execute_reply.started": "2020-05-16T17:01:26.790638Z"
    }
   },
   "source": [
    "**3. 所有的单位矩阵都是对角矩阵。**  \n",
    "<font style='color:blue;font-weight:bold;'>A. 对</font>    \n",
    "B. 错   \n",
    "\n",
    "**答案及解析：** A\n",
    "\n",
    "</br>"
   ]
  },
  {
   "cell_type": "markdown",
   "metadata": {
    "execution": {
     "iopub.execute_input": "2020-05-16T17:02:14.464357Z",
     "iopub.status.busy": "2020-05-16T17:02:14.462361Z",
     "iopub.status.idle": "2020-05-16T17:02:14.479315Z",
     "shell.execute_reply": "2020-05-16T17:02:14.478318Z",
     "shell.execute_reply.started": "2020-05-16T17:02:14.463358Z"
    }
   },
   "source": [
    "**4. 下列Python代码可以用来生成一个4阶单位矩阵的是（       ）。**  \n",
    "<font style='color:blue;font-weight:bold;'>A. np.eye(4)</font>  \n",
    "B. np.diag(4)  \n",
    "C. np.zeros(4)  \n",
    "D. np.ones(4)\n",
    "\n",
    "**答案及解析：** A\n",
    "\n",
    "A选项生成一个4阶单位矩阵；B选项无法生成任何形态的矩阵，但可通过修改后生成4阶对角矩阵；C选项生成一个全0向量；D选项生成一个全1向量。"
   ]
  },
  {
   "cell_type": "code",
   "execution_count": 5,
   "metadata": {
    "execution": {
     "iopub.execute_input": "2020-05-17T14:39:16.248523Z",
     "iopub.status.busy": "2020-05-17T14:39:16.248523Z",
     "iopub.status.idle": "2020-05-17T14:39:16.257499Z",
     "shell.execute_reply": "2020-05-17T14:39:16.256502Z",
     "shell.execute_reply.started": "2020-05-17T14:39:16.248523Z"
    }
   },
   "outputs": [
    {
     "name": "stdout",
     "output_type": "stream",
     "text": [
      "[[1. 0. 0. 0.]\n",
      " [0. 1. 0. 0.]\n",
      " [0. 0. 1. 0.]\n",
      " [0. 0. 0. 1.]]\n",
      "[[4 0 0 0]\n",
      " [0 4 0 0]\n",
      " [0 0 4 0]\n",
      " [0 0 0 4]]\n",
      "[0. 0. 0. 0.]\n",
      "[1. 1. 1. 1.]\n"
     ]
    }
   ],
   "source": [
    "import numpy as np\n",
    "\n",
    "print(np.eye(4))\n",
    "print(np.diag([4,4,4,4]))\n",
    "print(np.zeros(4))\n",
    "print(np.ones(4))\n"
   ]
  },
  {
   "cell_type": "markdown",
   "metadata": {},
   "source": [
    "</br>\n",
    "\n",
    "**5. 使用numpy定义二阶方阵的时候，以下函数正确的是（       ）。**  \n",
    "A. np.array((1, 2), (3, 4))  \n",
    "B. np.array((1, 2, 3, 4))  \n",
    "C. np.array([1,2,3,4])  \n",
    "<font style='color:blue;font-weight:bold;'>D. np.array([[1,2], [3,4]])</font> \n",
    "\n",
    "**答案及解析：** D\n",
    "\n",
    "A选项不符合语法规范；B选项首先创建了一个元组，其次使用np.array()方法将元组转换为一个一阶行向量；C选项创建一个一阶行向量；D选项创建了一个二阶方阵。"
   ]
  },
  {
   "cell_type": "code",
   "execution_count": 14,
   "metadata": {
    "execution": {
     "iopub.execute_input": "2020-05-17T14:44:52.909912Z",
     "iopub.status.busy": "2020-05-17T14:44:52.909912Z",
     "iopub.status.idle": "2020-05-17T14:44:52.918888Z",
     "shell.execute_reply": "2020-05-17T14:44:52.917891Z",
     "shell.execute_reply.started": "2020-05-17T14:44:52.909912Z"
    }
   },
   "outputs": [
    {
     "name": "stdout",
     "output_type": "stream",
     "text": [
      "A=[1 2 3 4]\n",
      "B=[1 2 3 4]\n",
      "C=[[1 2]\n",
      " [3 4]]\n"
     ]
    }
   ],
   "source": [
    "print('A={}'.format(np.array((1, 2, 3, 4))))\n",
    "print('B={}'.format(np.array([1,2,3,4])))\n",
    "print('C={}'.format(np.array([[1,2], [3,4]])))"
   ]
  },
  {
   "cell_type": "markdown",
   "metadata": {},
   "source": [
    "</br>\n",
    "\n",
    "**6. 下列矩阵满足$A^{-1}=A^T$的是（       ）。**  \n",
    "A. 逆矩阵  \n",
    "B. 正定矩阵  \n",
    "<font style='color:blue;font-weight:bold;'>C. 正交矩阵</font>  \n",
    "D. 对称矩阵  \n",
    "\n",
    "**答案及解析：** C\n",
    "\n",
    "</br>"
   ]
  }
 ],
 "metadata": {
  "kernelspec": {
   "display_name": "Python 3",
   "language": "python",
   "name": "python3"
  },
  "language_info": {
   "codemirror_mode": {
    "name": "ipython",
    "version": 3
   },
   "file_extension": ".py",
   "mimetype": "text/x-python",
   "name": "python",
   "nbconvert_exporter": "python",
   "pygments_lexer": "ipython3",
   "version": "3.7.7"
  }
 },
 "nbformat": 4,
 "nbformat_minor": 4
}
