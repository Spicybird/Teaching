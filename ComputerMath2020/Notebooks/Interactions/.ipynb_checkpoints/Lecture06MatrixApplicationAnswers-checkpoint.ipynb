{
 "cells": [
  {
   "cell_type": "markdown",
   "metadata": {},
   "source": [
    "# **第06讲 矩阵的应用** `课堂互动答案`"
   ]
  },
  {
   "cell_type": "markdown",
   "metadata": {},
   "source": [
    "<font color=\"blue\">作者：欧新宇（Xinyu OU）</font>\n",
    "\n",
    "<font color=\"red\">本文档所展示的测试结果，均运行于：Intel Core i7-7700K CPU 4.2GHz</font>\n",
    "\n",
    "---"
   ]
  },
  {
   "cell_type": "markdown",
   "metadata": {
    "raw_mimetype": "text/html"
   },
   "source": [
    "## **【课堂互动一】** `从线性变换的角度看矩阵与向量的乘法`"
   ]
  },
  {
   "cell_type": "markdown",
   "metadata": {},
   "source": [
    "**1. 在矩阵与向量的乘法运算中，矩阵可以被理解为向量从原始空间到目标空间的映射矩阵。**  \n",
    " \n",
    "<font style='color:blue;font-weight:bold;'>A. 对</font>     \n",
    "B. 错\n",
    "\n",
    "**答案及解析：** A  "
   ]
  },
  {
   "cell_type": "markdown",
   "metadata": {},
   "source": [
    "**2. 在进行向量与矩阵乘法的时候，通常写成矩阵在左，向量在右的形式，即：y=Ax；同样的写成y=xA也是等价的。**  \n",
    "A. 对    \n",
    "<font style='color:blue;font-weight:bold;'>B. 错</font>\n",
    "\n",
    "**答案及解析：** B\n",
    "\n",
    "在矩阵和向量的乘法运算中，我们通常将向量看成是一个矩阵，因此运算将变为两个矩阵的相乘。一般情况下矩阵的乘法是不满足交换律的，即$AB \\neq BA$"
   ]
  },
  {
   "cell_type": "markdown",
   "metadata": {},
   "source": [
    "## **【课堂互动二】** `从向量的角度看矩阵乘法`"
   ]
  },
  {
   "cell_type": "markdown",
   "metadata": {
    "execution": {
     "iopub.execute_input": "2020-05-13T00:58:26.086103Z",
     "iopub.status.busy": "2020-05-13T00:58:26.086103Z",
     "iopub.status.idle": "2020-05-13T00:58:26.091090Z",
     "shell.execute_reply": "2020-05-13T00:58:26.091090Z",
     "shell.execute_reply.started": "2020-05-13T00:58:26.086103Z"
    }
   },
   "source": [
    "**1. 如果矩阵M是一个5×6的矩阵，那么该矩阵包含（ ）个行向量和（ ）个列向量。**  \n",
    "A. 5 5   \n",
    "<font style='color:blue;font-weight:bold;'>B. 5 6</font>  \n",
    "C. 6 5  \n",
    "D. 6 6 \n",
    "\n",
    "**答案及解析：** B\n",
    "\n",
    "对于一个矩阵来说，其包含的行向量的个数等于其原始行数，其列向量的个数等于其原始的列数。"
   ]
  },
  {
   "cell_type": "markdown",
   "metadata": {},
   "source": [
    "**2. 只要是同一个向量，无论基底（坐标系）如何变换，其坐标值都不会变化。**  \n",
    "A. 对    \n",
    "<font style='color:blue;font-weight:bold;'>B. 错</font>  \n",
    "\n",
    "**答案及解析：** B\n",
    "\n",
    "对于一个向量来说，一旦进行了基底（坐标系）变换，则坐标的值就会发生变换。唯一不变的是空间中多个对象的相对关系。\n",
    "\n",
    "<br/>"
   ]
  },
  {
   "cell_type": "markdown",
   "metadata": {
    "execution": {
     "iopub.execute_input": "2020-05-13T01:02:34.421366Z",
     "iopub.status.busy": "2020-05-13T01:02:34.420368Z",
     "iopub.status.idle": "2020-05-13T01:02:34.440313Z",
     "shell.execute_reply": "2020-05-13T01:02:34.436323Z",
     "shell.execute_reply.started": "2020-05-13T01:02:34.421366Z"
    }
   },
   "source": [
    "**3. 给定一个矩阵$M=\\begin{bmatrix} \n",
    "2 & 5 & 1 \\\\ \n",
    "3 & 2 & 4 \\\\ \n",
    "1 & 2 & 3 \\\\ \n",
    "\\end{bmatrix}$，它的行空间矩阵为：（ ）。**  \n",
    "\n",
    "<font style='color:blue;font-weight:bold;'>\n",
    "A. $a(2,5,1)+b(3,2,4)+c(1,2,3)=(a,b,c)$</font>\n",
    "\n",
    "B. $a \\begin{bmatrix} 2 \\\\ 3 \\\\ 1 \\end{bmatrix}\n",
    "+b \\begin{bmatrix} 5 \\\\ 2 \\\\ 2 \\end{bmatrix}\n",
    "+c \\begin{bmatrix} 1 \\\\ 4 \\\\ 3 \\end{bmatrix}\n",
    "=\\begin{bmatrix} a \\\\ b \\\\ c \\end{bmatrix}$\n",
    "\n",
    "C. $a(2,3,1)+b(5,2,2)+c(1,4,3)=(a,b,c)$\n",
    "\n",
    "D. $a \\begin{bmatrix} 2 \\\\ 5 \\\\ 1 \\end{bmatrix}\n",
    "+b \\begin{bmatrix} 3 \\\\ 2 \\\\ 4 \\end{bmatrix}\n",
    "+c \\begin{bmatrix} 1 \\\\ 2 \\\\ 3 \\end{bmatrix}\n",
    "=\\begin{bmatrix} a \\\\ b \\\\ c \\end{bmatrix}$\n",
    "\n",
    "**答案及解析：** A\n",
    "\n",
    "对于矩阵$A$来说，其行空间矩阵是指它的各个行向量所张成的$R^{1 \\times n}$的子空间。一般来说，矩阵$A$包含多少行，则它就又多少个行空间矩阵。\n",
    "\n",
    "<br/>"
   ]
  },
  {
   "cell_type": "markdown",
   "metadata": {},
   "source": [
    "**4. 从行的角度审视矩阵与向量的乘法可以理解为（ ），从列的角度审视矩阵乘法可以理解为（ ）。**  \n",
    "\n",
    "A. 原矩阵的各行分别与向量进行点乘的过程 原矩阵的各行分别与向量进行点乘的过程  \n",
    "B. 原矩阵各列与向量对应位置的线性组合 原矩阵各列与向量对应位置的线性组合  \n",
    "<font style='color:blue;font-weight:bold;'>C. 原矩阵的各行分别与向量进行点乘的过程 原矩阵各列与向量对应位置的线性组合</font>  \n",
    "D. 原矩阵各列与向量对应位置的线性组合 原矩阵的各行分别与向量进行点乘的过程\n",
    "\n",
    "**答案及解析：** C\n",
    "\n",
    "<br/>"
   ]
  },
  {
   "cell_type": "markdown",
   "metadata": {
    "execution": {
     "iopub.execute_input": "2020-05-25T13:51:46.679510Z",
     "iopub.status.busy": "2020-05-25T13:51:46.677516Z",
     "iopub.status.idle": "2020-05-25T13:51:46.692475Z",
     "shell.execute_reply": "2020-05-25T13:51:46.691478Z",
     "shell.execute_reply.started": "2020-05-25T13:51:46.679510Z"
    }
   },
   "source": [
    "**5. 给出矩阵乘法*Ax*，可以得到其列向量的表示方法为（ ）。**\n",
    "\n",
    "$Ax=\\begin{bmatrix} 2 & 3 \\\\ 4 & 5 \\end{bmatrix} \\begin{bmatrix} 5 \\\\ 6 \\end{bmatrix}$\n",
    "\n",
    "<font style='color:blue;font-weight:bold;'>A. $5 \\begin{bmatrix} 2 \\\\ 4 \\end{bmatrix} + 6 \\begin{bmatrix} 3 \\\\ 5 \\end{bmatrix}$</font>\n",
    "\n",
    "B. $5 \\begin{bmatrix} 2 \\\\ 3 \\end{bmatrix} + 6 \\begin{bmatrix} 4 \\\\ 5 \\end{bmatrix}$\n",
    "\n",
    "C. $6 \\begin{bmatrix} 2 \\\\ 4 \\end{bmatrix} + 5 \\begin{bmatrix} 3 \\\\ 5 \\end{bmatrix}$\n",
    "\n",
    "D. $6 \\begin{bmatrix} 2 \\\\ 3 \\end{bmatrix} + 5 \\begin{bmatrix} 4 \\\\ 5 \\end{bmatrix}$\n",
    "\n",
    "**答案及解析：** A\n",
    "\n",
    "列向量表达方式为矩阵列和向量的线性组合，具体等于矩阵的各列分别与向量的对应位置进行数乘，之后再进行相加。\n",
    "\n",
    "<br/>"
   ]
  },
  {
   "cell_type": "markdown",
   "metadata": {},
   "source": [
    "**6. 给出以下矩阵和向量相乘的表达，下列选项中理解不正确的是（ ）。**  \n",
    "$Au=\\begin{bmatrix} 1 & 2 \\\\ 3 & 4\\end{bmatrix} \\begin{bmatrix} 3 \\\\ 5 \\end{bmatrix}\n",
    "=3\\begin{bmatrix} 1 \\\\ 3 \\end{bmatrix}\n",
    "+5\\begin{bmatrix} 2 \\\\ 4 \\end{bmatrix}$\n",
    "\n",
    "A. 列向量$[1, 3]^T$是空间$A$中的一个基向量  \n",
    "B. 坐标$[3,5]^T$可以理解为在空间A中的两个基的上的分量分别是3和5.  \n",
    "<font style='color:blue;font-weight:bold;'>C. 向量$[3,5]^T$分别表示向量u在空间$A$中，y方向上有3个分量，x方向上有5个分量</font>  \n",
    "D. 矩阵$[[1,2],[3,4]]$可以理解为向量$[3,5]^T$的基\n",
    "\n",
    "**答案及解析：** A\n",
    "\n",
    "向量$[3,5]^T$分别表示向量u在空间$A$中，x方向上有3个分量，y方向上有5个分量。\n",
    "\n",
    "<br/>"
   ]
  },
  {
   "cell_type": "markdown",
   "metadata": {
    "execution": {
     "iopub.execute_input": "2020-05-30T15:57:30.602841Z",
     "iopub.status.busy": "2020-05-30T15:57:30.602841Z",
     "iopub.status.idle": "2020-05-30T15:57:30.609823Z",
     "shell.execute_reply": "2020-05-30T15:57:30.608825Z",
     "shell.execute_reply.started": "2020-05-30T15:57:30.602841Z"
    }
   },
   "source": [
    "**7. 以下代码中，可以用来表示$A^{10}$的一项是（ ）。**  \n",
    "\n",
    "```python\n",
    "import numpy as np\n",
    "n = 10\n",
    "A = np.array([[1]])\n",
    "```\n",
    "\n",
    "A.  \n",
    "```python\n",
    "for i in range(n):    \n",
    "    res = np.dot(2, res)\n",
    "    print('n={}: res={}'.format(i, res))\n",
    "```\n",
    "\n",
    "<font style='color:blue;font-weight:bold;'>B.</font>  \n",
    "```python\n",
    "for i in range(n):    \n",
    "    res = np.dot(2, res)\n",
    "    print('n={}: res={}'.format(i+1, res))\n",
    "```\n",
    "\n",
    "C.\n",
    "```python\n",
    "for i in range(n+1):    \n",
    "    res = np.dot(2, res)\n",
    "    print('n={}: res={}'.format(i+1, res))\n",
    "```\n",
    "\n",
    "D.\n",
    "```python\n",
    "for i in range(n+1):    \n",
    "    res = np.dot(2, res)\n",
    "    print('n={}: res={}'.format(i, res))\n",
    "```\n",
    "\n",
    "**答案及解析：** B"
   ]
  },
  {
   "cell_type": "code",
   "execution_count": 10,
   "metadata": {
    "execution": {
     "iopub.execute_input": "2020-05-30T16:11:22.339782Z",
     "iopub.status.busy": "2020-05-30T16:11:22.339782Z",
     "iopub.status.idle": "2020-05-30T16:11:22.345764Z",
     "shell.execute_reply": "2020-05-30T16:11:22.345764Z",
     "shell.execute_reply.started": "2020-05-30T16:11:22.339782Z"
    }
   },
   "outputs": [
    {
     "name": "stdout",
     "output_type": "stream",
     "text": [
      "n=1: res=[[2]]\n",
      "n=2: res=[[4]]\n",
      "n=3: res=[[8]]\n",
      "n=4: res=[[16]]\n",
      "n=5: res=[[32]]\n",
      "n=6: res=[[64]]\n",
      "n=7: res=[[128]]\n",
      "n=8: res=[[256]]\n",
      "n=9: res=[[512]]\n",
      "n=10: res=[[1024]]\n"
     ]
    }
   ],
   "source": [
    "import numpy as np\n",
    "n = 10\n",
    "res = np.array([[1]])\n",
    "\n",
    "for i in range(n):    \n",
    "    res = np.dot(2, res)\n",
    "    print('n={}: res={}'.format(i+1, res))"
   ]
  }
 ],
 "metadata": {
  "kernelspec": {
   "display_name": "Python 3",
   "language": "python",
   "name": "python3"
  },
  "language_info": {
   "codemirror_mode": {
    "name": "ipython",
    "version": 3
   },
   "file_extension": ".py",
   "mimetype": "text/x-python",
   "name": "python",
   "nbconvert_exporter": "python",
   "pygments_lexer": "ipython3",
   "version": "3.7.7"
  }
 },
 "nbformat": 4,
 "nbformat_minor": 4
}
