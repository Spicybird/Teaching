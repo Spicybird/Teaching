{
 "cells": [
  {
   "cell_type": "markdown",
   "metadata": {},
   "source": [
    "# **第01讲 线性代数绪论** `课堂互动答案`"
   ]
  },
  {
   "cell_type": "markdown",
   "metadata": {},
   "source": [
    "<font color=\"blue\">作者：欧新宇（Xinyu OU）</font>\n",
    "\n",
    "<font color=\"red\">本文档所展示的测试结果，均运行于：Intel Core i7-7700K CPU 4.2GHz</font>\n",
    "\n",
    "---"
   ]
  },
  {
   "cell_type": "markdown",
   "metadata": {
    "raw_mimetype": "text/html"
   },
   "source": [
    "## **【课堂互动一】** `什么是线性代数？为什么要学线性代数`"
   ]
  },
  {
   "cell_type": "markdown",
   "metadata": {
    "execution": {
     "iopub.execute_input": "2020-05-13T00:58:26.086103Z",
     "iopub.status.busy": "2020-05-13T00:58:26.086103Z",
     "iopub.status.idle": "2020-05-13T00:58:26.091090Z",
     "shell.execute_reply": "2020-05-13T00:58:26.091090Z",
     "shell.execute_reply.started": "2020-05-13T00:58:26.086103Z"
    }
   },
   "source": [
    "**1. 线性代数是计算机领域最重要的数学工具之一，它的研究对象是向量、向量空间、线性变换等，因此它处理的方程和函数主要是（        ）。**  \n",
    "A. <font style='color:blue;font-weight:bold;'>一次</font>  \n",
    "B. 二次  \n",
    "C. 高次  \n",
    "D. 以上都是\n",
    "\n",
    "**答案及解析：** A  \n",
    "线性代数主要处理的是一次问题，但却可以是高阶(维度)的。这种解决问题的方法，可以有效地降低运算的复杂性。\n",
    "\n",
    "<br/>"
   ]
  },
  {
   "cell_type": "markdown",
   "metadata": {},
   "source": [
    "**2. 60年前线性代数被引入到高校教学中 ，而在近几十年逐渐开始风靡，主要的原因是线性代数的相关理论得到了重大突破。**  \n",
    "A. 对  \n",
    "<font style='color:blue;font-weight:bold;'>B. 错</font>\n",
    "\n",
    "**答案及解析：** B  \n",
    "线性代数开始风靡主要是各种应用的推动，特别是近年来人工智能技术的推广，更是让基于矩阵的各种运算变成了求解各种问题的基础。\n",
    "\n",
    "<br/>"
   ]
  },
  {
   "cell_type": "markdown",
   "metadata": {
    "execution": {
     "iopub.execute_input": "2020-05-13T01:02:34.421366Z",
     "iopub.status.busy": "2020-05-13T01:02:34.420368Z",
     "iopub.status.idle": "2020-05-13T01:02:34.440313Z",
     "shell.execute_reply": "2020-05-13T01:02:34.436323Z",
     "shell.execute_reply.started": "2020-05-13T01:02:34.421366Z"
    }
   },
   "source": [
    "**3. 工科特别是计算机领域研究线性代数，主要是用计算机来（             ）。**  \n",
    "<font style='color:blue;font-weight:bold;'>A. 求解高阶复杂的矩阵模型</font>  \n",
    "B. 分析小矩阵的经典理论  \n",
    "C. 进行符号推理  \n",
    "D. 分析N维空间的抽象概念\n",
    "\n",
    "**答案及解析：** A  \n",
    "高阶矩阵，等价于高维矩阵，例如张量。\n",
    "\n",
    "<br/>"
   ]
  },
  {
   "cell_type": "markdown",
   "metadata": {},
   "source": [
    "**4. 在计算机领域，线性代数主要处理的数据类型是（          ）。**  \n",
    "A. 离散数据  \n",
    "<font style='color:blue;font-weight:bold;'>B. 连续数据</font>  \n",
    "C. 以上都是  \n",
    "D. 以上都不是\n",
    "\n",
    "**答案及解析：** B  \n",
    "线性代数主要解决的是连续数据。但是对于非连续数据也可以通过近似拟合等方式实现求解。\n",
    "\n",
    "<br/>"
   ]
  },
  {
   "cell_type": "markdown",
   "metadata": {},
   "source": [
    "**5. 线性代数在近年来变得越来愈重要，这主要是因为电子商务的发展推动了Web前端开发应用的巨大需求。**  \n",
    "A. 对  \n",
    "<font style='color:blue;font-weight:bold;'>B. 错</font>  \n",
    "\n",
    "**答案及解析：** B  \n",
    "主要是基于人工智能、机器学习的各种应用的飞速发展推动了线性代数变得越来越重要。\n",
    "\n",
    "<br/>"
   ]
  },
  {
   "cell_type": "markdown",
   "metadata": {},
   "source": [
    "## **【课堂互动二】** `标量、向量、矩阵和张量`"
   ]
  },
  {
   "cell_type": "markdown",
   "metadata": {},
   "source": [
    "**1. 下列量可以使用小写英文粗斜体表示的是哪一个?**  \n",
    "A. 标量  \n",
    "<font style='color:blue;font-weight:bold;'>B. 向量</font>  \n",
    "C. 矩阵                  \n",
    "D. 张量  \n",
    "\n",
    "**答案及解析：** B\n",
    "\n",
    "<br/>"
   ]
  },
  {
   "cell_type": "markdown",
   "metadata": {},
   "source": [
    "**2. 张量是定义在向量空间和对偶空间的笛卡尔积上的多重映射，它有两个重要的概念，分别什么？**  \n",
    "<font style='color:blue;font-weight:bold;'>A. 基向量</font>  \n",
    "B. 基底  \n",
    "C. 元素  \n",
    "<font style='color:blue;font-weight:bold;'>D. 分量</font>\n",
    "\n",
    "**答案及解析：** A、D  \n",
    "\n",
    "<br/>"
   ]
  },
  {
   "cell_type": "markdown",
   "metadata": {},
   "source": [
    "**3. 对于矩阵，我们可以使用下列哪一种类型的符号来表示？**  \n",
    "A. 斜体小写英文字母  \n",
    "B. 粗斜体小写英文字母  \n",
    "<font style='color:blue;font-weight:bold;'>C. 粗斜体大写英文字母</font>  \n",
    "D. 斜体大写英文字母\n",
    "\n",
    "**答案及解析：** C\n",
    "\n",
    "<br/>"
   ]
  },
  {
   "cell_type": "markdown",
   "metadata": {},
   "source": [
    "**4. AB是笛卡尔坐标系中的向量，给定端点A(5,3,0)和B(2,7,0)。假设基向量为单位向量1，试求向量AB在xyz方向上的基向量。**  \n",
    "<font style='color:blue;font-weight:bold;'>A. （3，4，0） </font>  \n",
    "B. （7，10，0）  \n",
    "C. （5，7，0）  \n",
    "D. （2，3，0）\n",
    "\n",
    "**答案及解析：** A  \n",
    "因为向量AB的z方向的坐标为0，因此，它位于xoy所在的平面上。其中，x方向的基向量=|5-3|=2, y方向的基向量=|3-7|=4!\n",
    "\n",
    "<br/>"
   ]
  },
  {
   "cell_type": "markdown",
   "metadata": {},
   "source": [
    "**5. $a_{43}$ 是矩阵A中的一个元素，它位于矩阵A的：（     ）。**  \n",
    "A. 第3行，第3列  \n",
    "B. 第3行，第4列  \n",
    "<font style='color:blue;font-weight:bold;'>C. 第4行，第3列 </font>  \n",
    "D. 第4行，第4列\n",
    "\n",
    "**答案及解析：** C  \n",
    "对于矩阵A中的一个元素amn来说，m表示它所在的行的索引，n表示它所在的列的索引。\n",
    "\n",
    "<br/>"
   ]
  },
  {
   "cell_type": "markdown",
   "metadata": {},
   "source": [
    "## **【课堂互动三】**"
   ]
  },
  {
   "cell_type": "markdown",
   "metadata": {},
   "source": [
    "**1. 在张量的定义下，向量可以被定义为（        ）阶张量。**  \n",
    "A. 零阶  \n",
    "<font style='color:blue;font-weight:bold;'>B. 一阶</font>  \n",
    "C. 二阶  \n",
    "D. 三阶  \n",
    "\n",
    "**答案及解析：** B  \n",
    "标量对应零阶张量; 向量对应一阶张量；矩阵对应二阶张量；高维矩阵对应高阶张量。\n",
    "\n",
    "<br/>"
   ]
  },
  {
   "cell_type": "markdown",
   "metadata": {},
   "source": [
    "**2. 在张量的定义下，标量是没有方向的，所以不存在基向量。**  \n",
    "<font style='color:blue;font-weight:bold;'>A. 对</font>  \n",
    "B. 错\n",
    "\n",
    "**答案及解析：** A\n",
    "\n",
    "<br/>"
   ]
  },
  {
   "cell_type": "markdown",
   "metadata": {},
   "source": [
    "**3. 数组$A = [A_1 A_2 A_3]$是一个三阶张量。**  \n",
    "A. 对  \n",
    "<font style='color:blue;font-weight:bold;'>B. 错</font>\n",
    "\n",
    "**答案及解析：** B  \n",
    "数组是一阶张量，因为它只有一个方向上的量。\n",
    "\n",
    "<br/>"
   ]
  },
  {
   "cell_type": "markdown",
   "metadata": {},
   "source": [
    "**4. 一个3维空间中的4阶张量，包含多少个分量？**  \n",
    "A. 3  \n",
    "B. 4  \n",
    "<font style='color:blue;font-weight:bold;'>C. $3^4=81$</font>  \n",
    "D. $4^3=64$\n",
    "\n",
    "**答案及解析：** C  \n",
    "张量的分量个数由公式$n^m$给出，其中$n$是张量的维数，$m$是张量的阶数。\n",
    "\n",
    "<br/>"
   ]
  },
  {
   "cell_type": "markdown",
   "metadata": {},
   "source": [
    "**5. 𝑛维空间中的一阶张量$A$包含𝑛个分量，即𝑛个基向量。**  \n",
    "<font style='color:blue;font-weight:bold;'>A. 对</font>  \n",
    "B. 错\n",
    "\n",
    "**答案及解析：** A  \n",
    "张量$A= [A_1, A_2,…, A_n]$，表示张量$A$由n个分量，即每个维度上都具有一个分量，此时分量的单位长度都为1。\n",
    "\n",
    "<br/>"
   ]
  }
 ],
 "metadata": {
  "kernelspec": {
   "display_name": "Python 3",
   "language": "python",
   "name": "python3"
  },
  "language_info": {
   "codemirror_mode": {
    "name": "ipython",
    "version": 3
   },
   "file_extension": ".py",
   "mimetype": "text/x-python",
   "name": "python",
   "nbconvert_exporter": "python",
   "pygments_lexer": "ipython3",
   "version": "3.7.7"
  }
 },
 "nbformat": 4,
 "nbformat_minor": 4
}
