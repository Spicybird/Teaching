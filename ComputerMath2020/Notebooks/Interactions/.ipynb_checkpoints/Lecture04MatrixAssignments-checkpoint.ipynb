{
 "cells": [
  {
   "cell_type": "markdown",
   "metadata": {},
   "source": [
    "# **第04讲 矩阵的基础知识** `课堂互动`"
   ]
  },
  {
   "cell_type": "markdown",
   "metadata": {},
   "source": [
    "<font color=\"blue\">作者：欧新宇（Xinyu OU）</font>\n",
    "\n",
    "<font color=\"red\">本文档所展示的测试结果，均运行于：Intel Core i7-7700K CPU 4.2GHz</font>\n",
    "\n",
    "---"
   ]
  },
  {
   "cell_type": "markdown",
   "metadata": {
    "raw_mimetype": "text/html"
   },
   "source": [
    "## **【课堂互动一】**"
   ]
  },
  {
   "cell_type": "markdown",
   "metadata": {
    "execution": {
     "iopub.execute_input": "2020-05-17T15:06:32.719561Z",
     "iopub.status.busy": "2020-05-17T15:06:32.718565Z",
     "iopub.status.idle": "2020-05-17T15:06:32.732527Z",
     "shell.execute_reply": "2020-05-17T15:06:32.731529Z",
     "shell.execute_reply.started": "2020-05-17T15:06:32.719561Z"
    }
   },
   "source": [
    "**1. 下列可以用来表达一个矩阵的符号是（）。**  \n",
    "A. 加粗斜体小写英文字母    \n",
    "B. 加粗小写英文字母  \n",
    "C. 斜体小写英文字母  \n",
    "D. 加粗斜体大写英文字母\n",
    "\n",
    "<br/>\n",
    "\n",
    "**2. 下列代码可以用于实现创建一个2×3维数组的Python代码是：(      )**  \n",
    "A. A = np.array([1,2],[3,4],[5,6])      \n",
    "B. A = np.array([1,2,3],[4,5,6])   \n",
    "C. A = np.array([[1,2],[3,4],[5,6]])  \n",
    "D. A = np.array([[1,2,3],[4,5,6]])\n",
    "\n",
    "<br/>\n",
    "\n",
    "**3. 如果矩阵A和矩阵B相等，则它们必为同型矩阵。**  \n",
    "A. 对   \n",
    "B. 错\n",
    "\n",
    "<br/>\n",
    "\n",
    "**4. 转置是矩阵的重要操作，它是以主对角线为轴的镜像，这条对角线从右上角到左下角。**  \n",
    "A. 对  \n",
    "B. 错\n",
    "\n",
    "<br/>\n",
    "\n",
    "**5. 代码np.array([5,6,7]).T 所定义的量是列向量。**  \n",
    "A. 对  \n",
    "B. 错"
   ]
  },
  {
   "cell_type": "markdown",
   "metadata": {},
   "source": [
    "## **【课堂互动二】**"
   ]
  },
  {
   "cell_type": "markdown",
   "metadata": {},
   "source": [
    "**1. 若矩阵A是一个对称矩阵，则矩阵A也必然为一个方阵。（      ）。**  \n",
    "A. 对  \n",
    "B. 错   \n",
    "\n",
    "</br>\n",
    "\n",
    "**2. 下列矩阵中，通常用来实现矩阵初始化的是哪一种？（      ）。**  \n",
    "A. 单位矩阵  \n",
    "B. 对角矩阵  \n",
    "C. 零矩阵  \n",
    "D. 方阵  \n",
    "E. 对称矩阵  \n",
    "\n",
    "</br>\n",
    "\n",
    "**3. 所有的单位矩阵都是对角矩阵。**  \n",
    "A. 对  \n",
    "B. 错   \n",
    "\n",
    "</br>\n",
    "\n",
    "**4. 下列Python代码可以用来生成一个4阶单位矩阵的是（       ）。**  \n",
    "A. np.eye(4)  \n",
    "B. np.diag(4)  \n",
    "C. np.zeros(4)  \n",
    "D. np.ones(4)\n",
    "\n",
    "</br>\n",
    "\n",
    "**5. 使用numpy定义二阶方阵的时候，以下函数正确的是（       ）。**  \n",
    "A. np.array((1, 2), (3, 4))  \n",
    "B. np.array((1, 2, 3, 4))  \n",
    "C. np.array([1,2,3,4])  \n",
    "D. np.array([[1,2], [3,4]])\n",
    "\n",
    "</br>\n",
    "\n",
    "**6. 下列矩阵满足$A^{-1}=A^T$的是（       ）。**  \n",
    "A. 逆矩阵  \n",
    "B. 正定矩阵  \n",
    "C. 正交矩阵  \n",
    "D. 对称矩阵"
   ]
  }
 ],
 "metadata": {
  "kernelspec": {
   "display_name": "Python 3",
   "language": "python",
   "name": "python3"
  },
  "language_info": {
   "codemirror_mode": {
    "name": "ipython",
    "version": 3
   },
   "file_extension": ".py",
   "mimetype": "text/x-python",
   "name": "python",
   "nbconvert_exporter": "python",
   "pygments_lexer": "ipython3",
   "version": "3.7.7"
  }
 },
 "nbformat": 4,
 "nbformat_minor": 4
}
