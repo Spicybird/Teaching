{
 "cells": [
  {
   "cell_type": "markdown",
   "metadata": {},
   "source": [
    "# **第03讲 向量的四则运算** `课堂互动答案`"
   ]
  },
  {
   "cell_type": "markdown",
   "metadata": {},
   "source": [
    "<font color=\"blue\">作者：欧新宇（Xinyu OU）</font>\n",
    "\n",
    "<font color=\"red\">本文档所展示的测试结果，均运行于：Intel Core i7-7700K CPU 4.2GHz</font>\n",
    "\n",
    "---"
   ]
  },
  {
   "cell_type": "markdown",
   "metadata": {},
   "source": [
    "## **【课堂互动一】** `向量的加法和数乘`"
   ]
  },
  {
   "cell_type": "markdown",
   "metadata": {},
   "source": [
    "**1. 已知 $a = [3, 7], b = [2, 2]$， 求$a+b$。**  \n",
    "A. 14  \n",
    "B. [10, 4]  \n",
    "<font style='color:blue;font-weight:bold;'>C. [5, 9]</font>  \n",
    "D. 无法计算\n",
    "\n",
    "**答案及解析：** C"
   ]
  },
  {
   "cell_type": "code",
   "execution_count": 1,
   "metadata": {
    "execution": {
     "iopub.execute_input": "2020-05-16T14:56:43.307785Z",
     "iopub.status.busy": "2020-05-16T14:56:43.307785Z",
     "iopub.status.idle": "2020-05-16T14:56:43.598512Z",
     "shell.execute_reply": "2020-05-16T14:56:43.598512Z",
     "shell.execute_reply.started": "2020-05-16T14:56:43.307785Z"
    }
   },
   "outputs": [
    {
     "name": "stdout",
     "output_type": "stream",
     "text": [
      "[5 9]\n"
     ]
    }
   ],
   "source": [
    "import numpy as np\n",
    "a = np.array([3,7])\n",
    "b = np.array([2,2])\n",
    "\n",
    "print(a+b)"
   ]
  },
  {
   "cell_type": "markdown",
   "metadata": {},
   "source": [
    "<br/>\n",
    "\n",
    "**2. 已知 $a = [3, 3, 1], b = [5, 4]$， 求$a+b$。**  \n",
    "A. $[8, 7, 1]$  \n",
    "B. $[3, 5, 3, 4, 1]$  \n",
    "C. $[3, 3, 1, 5, 4]$  \n",
    "<font style='color:blue;font-weight:bold;'>D. 无法计算</font>  \n",
    "\n",
    "**答案及解析：** D  \n",
    "向量加法必须满足`同型`的前提。\n",
    "\n",
    "<br/>"
   ]
  },
  {
   "cell_type": "markdown",
   "metadata": {},
   "source": [
    "## **【课堂互动二】** `向量的内积和外积`"
   ]
  },
  {
   "cell_type": "markdown",
   "metadata": {},
   "source": [
    "**1. 给定向量 $u = [1,2,3]，v = [4,5,6]$，求它们的内积 $u·v$。**  \n",
    "A. [[32]]   \n",
    "B. [[ 4  5  6]  \n",
    "[ 8 10 12]  \n",
    "[12 15 18]]  \n",
    "<font style='color:blue;font-weight:bold;'>C. 32</font>  \n",
    "D. 无法计算  \n",
    "\n",
    "**答案及解析：** C  "
   ]
  },
  {
   "cell_type": "code",
   "execution_count": 2,
   "metadata": {
    "execution": {
     "iopub.execute_input": "2020-05-16T14:56:43.599510Z",
     "iopub.status.busy": "2020-05-16T14:56:43.599510Z",
     "iopub.status.idle": "2020-05-16T14:56:43.604497Z",
     "shell.execute_reply": "2020-05-16T14:56:43.604497Z",
     "shell.execute_reply.started": "2020-05-16T14:56:43.599510Z"
    }
   },
   "outputs": [
    {
     "name": "stdout",
     "output_type": "stream",
     "text": [
      "32\n"
     ]
    }
   ],
   "source": [
    "import numpy as np\n",
    "a = np.array([1,2,3])\n",
    "b = np.array([4,5,6]).T\n",
    "\n",
    "print(np.dot(a,b))"
   ]
  },
  {
   "cell_type": "markdown",
   "metadata": {},
   "source": [
    "<br/>\n",
    "\n",
    "**2. 给定向量 $u = [1,2,3]，v = [4,5,6]$，求它们的外积$u × v$。**  \n",
    "A. [4,5,6]  \n",
    "<font style='color:blue;font-weight:bold;'>B. [-3, 6, -3]</font>    \n",
    "C. [1, 2, 3]  \n",
    "D. 无法计算\n",
    "\n",
    "**答案及解析：** B"
   ]
  },
  {
   "cell_type": "code",
   "execution_count": 3,
   "metadata": {
    "execution": {
     "iopub.execute_input": "2020-05-16T14:56:43.606492Z",
     "iopub.status.busy": "2020-05-16T14:56:43.605494Z",
     "iopub.status.idle": "2020-05-16T14:56:43.609484Z",
     "shell.execute_reply": "2020-05-16T14:56:43.609484Z",
     "shell.execute_reply.started": "2020-05-16T14:56:43.606492Z"
    }
   },
   "outputs": [
    {
     "name": "stdout",
     "output_type": "stream",
     "text": [
      "[-3  6 -3]\n"
     ]
    }
   ],
   "source": [
    "import numpy as np\n",
    "a = np.array([1,2,3])\n",
    "b = np.array([4,5,6])\n",
    "\n",
    "print(np.cross(a,b))"
   ]
  },
  {
   "cell_type": "markdown",
   "metadata": {},
   "source": [
    "<br/>\n",
    "\n",
    "**3. 下列与内积具有同等含义的一个是（      ）。**  \n",
    "<font style='color:blue;font-weight:bold;'>A. 点乘</font>  \n",
    "B. 向量积  \n",
    "C. 外积  \n",
    "D. 叉乘  \n",
    "\n",
    "**答案及解析：** A  \n",
    "向量的内积，又称为点乘；向量的外积，又称为叉乘、向量积。\n",
    "\n",
    "<br/>"
   ]
  },
  {
   "cell_type": "markdown",
   "metadata": {},
   "source": [
    "<br/>\n",
    "\n",
    "**4. 下列哪一个几何意义，对应于向量 a 和 b 的内积？**  \n",
    "<font style='color:blue;font-weight:bold;'>A. 向量 a 在向量 b 方向上的投影长度乘以向量 b 的模长</font>   \n",
    "B. 向量 a 的模长乘以向量 b 的模长  \n",
    "C. 向量 a 和向量 b  张成的平行四边形的面积。  \n",
    "D. 向量 a 和向量 b  张成的平面的法向量，该向量垂直于 a 和 b  向量构成的平面。\n",
    "\n",
    "**答案及解析：** A  \n",
    "\n",
    "<br/>"
   ]
  },
  {
   "cell_type": "markdown",
   "metadata": {},
   "source": [
    "## **【课堂互动三】** `向量的线性组合`"
   ]
  },
  {
   "cell_type": "markdown",
   "metadata": {},
   "source": [
    "**1. 给定标量$\\alpha=1, \\beta=3, \\gamma=5$，和向量$u=[1,2]^T, v=[2,3]^T, w=[3,4]^T$，试求：$\\alpha u + \\beta v + \\gamma w$。**\n",
    "\n",
    "A. [[22, 31]]  \n",
    "<font style='color:blue;font-weight:bold;'>B. [[22]  \n",
    " [31]]</font>   \n",
    "C. [[1, 2]  \n",
    "[6, 9]  \n",
    "[15, 20]]  \n",
    "D. 无法计算\n",
    "\n",
    "**答案及解析：** B  "
   ]
  },
  {
   "cell_type": "code",
   "execution_count": 4,
   "metadata": {
    "execution": {
     "iopub.execute_input": "2020-05-16T14:56:43.610481Z",
     "iopub.status.busy": "2020-05-16T14:56:43.610481Z",
     "iopub.status.idle": "2020-05-16T14:56:43.615467Z",
     "shell.execute_reply": "2020-05-16T14:56:43.615467Z",
     "shell.execute_reply.started": "2020-05-16T14:56:43.610481Z"
    }
   },
   "outputs": [
    {
     "name": "stdout",
     "output_type": "stream",
     "text": [
      "[[22]\n",
      " [31]]\n"
     ]
    }
   ],
   "source": [
    "import numpy as np\n",
    "a = 1\n",
    "b = 3\n",
    "c = 5\n",
    "u = np.array([[1,2]]).T\n",
    "v = np.array([[2,3]]).T\n",
    "w = np.array([[3,4]]).T\n",
    "\n",
    "print(a*u+b*v+c*w)"
   ]
  }
 ],
 "metadata": {
  "kernelspec": {
   "display_name": "Python 3",
   "language": "python",
   "name": "python3"
  },
  "language_info": {
   "codemirror_mode": {
    "name": "ipython",
    "version": 3
   },
   "file_extension": ".py",
   "mimetype": "text/x-python",
   "name": "python",
   "nbconvert_exporter": "python",
   "pygments_lexer": "ipython3",
   "version": "3.7.7"
  }
 },
 "nbformat": 4,
 "nbformat_minor": 4
}
