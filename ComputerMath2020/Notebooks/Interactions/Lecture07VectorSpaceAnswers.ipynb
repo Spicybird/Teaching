{
 "cells": [
  {
   "cell_type": "markdown",
   "metadata": {},
   "source": [
    "# **第07讲 向量空间** `课堂互动答案`"
   ]
  },
  {
   "cell_type": "markdown",
   "metadata": {},
   "source": [
    "<font color=\"blue\">作者：欧新宇（Xinyu OU）</font>\n",
    "\n",
    "<font color=\"red\">本文档所展示的测试结果，均运行于：Intel Core i7-7700K CPU 4.2GHz</font>\n",
    "\n",
    "---"
   ]
  },
  {
   "cell_type": "markdown",
   "metadata": {
    "raw_mimetype": "text/html"
   },
   "source": [
    "## **【课堂互动一】** `向量与向量组`"
   ]
  },
  {
   "cell_type": "markdown",
   "metadata": {},
   "source": [
    "**1. 下列符号中可以用来表示 n 维向量的是（ ）。**  \n",
    "\n",
    "A. 小写正体英文字母  \n",
    "<font style='color:blue;font-weight:bold;'>B. 小写加粗斜体英文字母</font>     \n",
    "C. 小写斜体英文字母  \n",
    "D. 大写加粗斜体英文字母  \n",
    "E. 大写斜体英文字母\n",
    "\n",
    "**答案及解析：** B\n",
    "\n",
    "</br>"
   ]
  },
  {
   "cell_type": "markdown",
   "metadata": {},
   "source": [
    "**2. 把 $n$ 个无序的数排列在一起形成一个集合，这个集合就称为 $n$ 维向量。**  \n",
    "\n",
    "A. 对    \n",
    "<font style='color:blue;font-weight:bold;'>B. 错</font>\n",
    "\n",
    "**答案及解析：** B\n",
    "\n",
    "<br/>"
   ]
  },
  {
   "cell_type": "markdown",
   "metadata": {},
   "source": [
    "**3. 在计算机领域，默认情况下，向量 $a$ 表示一个（ ）。**  \n",
    "\n",
    "A. 行向量    \n",
    "<font style='color:blue;font-weight:bold;'>B. 列向量</font>  \n",
    "C. 以上都可以  \n",
    "D. 以上都不对\n",
    "\n",
    "**答案及解析：** B\n",
    "\n",
    "<br/>"
   ]
  },
  {
   "cell_type": "markdown",
   "metadata": {},
   "source": [
    "**4. 向量 $u^T$ 通常用来表示一个（ ）。**  \n",
    "\n",
    "<font style='color:blue;font-weight:bold;'>A. 行向量</font>  \n",
    "B. 列向量  \n",
    "C. 若无特殊说明，以上均可以  \n",
    "D. 一般不用来表示向量  \n",
    "\n",
    "**答案及解析：** A\n",
    "\n",
    "</br>"
   ]
  },
  {
   "cell_type": "markdown",
   "metadata": {},
   "source": [
    "**5. 所有的 n 维向量都可以理解为（ ）张量。**  \n",
    "\n",
    "A. 零阶  \n",
    "<font style='color:blue;font-weight:bold;'>B. 一阶</font>     \n",
    "C. 二阶  \n",
    "D. n 阶\n",
    "\n",
    "**答案及解析：** B\n",
    "\n",
    "</br>"
   ]
  },
  {
   "cell_type": "markdown",
   "metadata": {},
   "source": [
    "## **【课堂互动二】** `向量空间和子空间`"
   ]
  },
  {
   "cell_type": "markdown",
   "metadata": {},
   "source": [
    "**1. 在$n$维空间$V_n$中，如果存在一个超平面，那么该超平面的维度为（）。**  \n",
    "\n",
    "<font style='color:blue;font-weight:bold;'>A. n-1</font>  \n",
    "B. n     \n",
    "C. n+1    \n",
    "D. 无法确定\n",
    "\n",
    "**答案及解析：** A\n",
    "\n",
    "</br>"
   ]
  },
  {
   "cell_type": "markdown",
   "metadata": {},
   "source": [
    "**2. 若$V$为一向量空间，则它满足加法和标量乘法的完备性，这意味着以下（）公理是成立的。**  \n",
    "\n",
    "<font style='color:blue;font-weight:bold;'>A. 𝒙+𝒚=𝒚+𝒙</font>  \n",
    "<font style='color:blue;font-weight:bold;'>B. (𝒙+𝒚)+𝒛=𝒙+(𝒚+𝒛)</font>       \n",
    "<font style='color:blue;font-weight:bold;'>C. (𝑎+𝑏)𝒙=𝑎𝒙+𝑏𝒙</font>     \n",
    "<font style='color:blue;font-weight:bold;'>D. 𝒙+(−𝒙)=𝟎</font> \n",
    "\n",
    "**答案及解析：** ABCD\n",
    "\n",
    "</br>"
   ]
  },
  {
   "cell_type": "markdown",
   "metadata": {
    "execution": {
     "iopub.execute_input": "2020-06-03T05:46:01.253632Z",
     "iopub.status.busy": "2020-06-03T05:46:01.252635Z",
     "iopub.status.idle": "2020-06-03T05:46:01.265601Z",
     "shell.execute_reply": "2020-06-03T05:46:01.264603Z",
     "shell.execute_reply.started": "2020-06-03T05:46:01.253632Z"
    }
   },
   "source": [
    "**3. 若空间S是空间V的子空间，则（）。**  \n",
    "\n",
    "<font style='color:blue;font-weight:bold;'>A. 标量乘法运算是封闭的</font>  \n",
    "B. 乘法运算是封闭的       \n",
    "C. 除法运算时封闭的      \n",
    "<font style='color:blue;font-weight:bold;'>D. 加法运算是封闭的</font> \n",
    "\n",
    "**答案及解析：** AD\n",
    "\n",
    "</br>"
   ]
  },
  {
   "cell_type": "markdown",
   "metadata": {},
   "source": [
    "## **【课堂互动三】** `线性相关性`"
   ]
  },
  {
   "cell_type": "markdown",
   "metadata": {
    "execution": {
     "iopub.execute_input": "2020-05-30T16:55:45.880411Z",
     "iopub.status.busy": "2020-05-30T16:55:45.880411Z",
     "iopub.status.idle": "2020-05-30T16:55:45.887392Z",
     "shell.execute_reply": "2020-05-30T16:55:45.886426Z",
     "shell.execute_reply.started": "2020-05-30T16:55:45.880411Z"
    }
   },
   "source": [
    "**1. 假设存在向量组 $B={b_1, b_2, ..., b_m}$，请问B中各向量是线性无关的的条件是什么？**  \n",
    "\n",
    "A. 由向量组B所形成的矩阵的秩 < 向量组B中向量的个数  \n",
    "<font style='color:blue;font-weight:bold;'>B. 由向量组B所形成的矩阵的秩 = 向量组B中向量的个数</font>     \n",
    "C. 由向量组B所形成的矩阵的秩 > 向量组B中向量的个数    \n",
    "D. 无法判断向量组的线性无关\n",
    "\n",
    "**答案及解析：** B\n",
    "\n",
    "</br>"
   ]
  },
  {
   "cell_type": "markdown",
   "metadata": {
    "execution": {
     "iopub.execute_input": "2020-05-30T16:55:45.880411Z",
     "iopub.status.busy": "2020-05-30T16:55:45.880411Z",
     "iopub.status.idle": "2020-05-30T16:55:45.887392Z",
     "shell.execute_reply": "2020-05-30T16:55:45.886426Z",
     "shell.execute_reply.started": "2020-05-30T16:55:45.880411Z"
    }
   },
   "source": [
    "**2. 向量组中的两个向量，如果他们是线性相关的，那么在空间中，它们将确定（      ）。**  \n",
    "\n",
    "A. 一个点（即两个向量的交点）  \n",
    "<font style='color:blue;font-weight:bold;'>B. 一条直线</font>  \n",
    "C. 一个平面    \n",
    "D. 一个三维空间\n",
    "\n",
    "**答案及解析：** B\n",
    "\n",
    "</br>"
   ]
  },
  {
   "cell_type": "markdown",
   "metadata": {
    "execution": {
     "iopub.execute_input": "2020-05-30T16:55:45.880411Z",
     "iopub.status.busy": "2020-05-30T16:55:45.880411Z",
     "iopub.status.idle": "2020-05-30T16:55:45.887392Z",
     "shell.execute_reply": "2020-05-30T16:55:45.886426Z",
     "shell.execute_reply.started": "2020-05-30T16:55:45.880411Z"
    }
   },
   "source": [
    "**3. 当方程组中的某个方程式可以由其他方程式通过线性组合得到，那么可以说这个方程式是多余的。**  \n",
    "<font style='color:blue;font-weight:bold;'>A. 对</font>   \n",
    "B. 错\n",
    "\n",
    "**答案及解析：** A\n",
    "\n",
    "</br>"
   ]
  },
  {
   "cell_type": "markdown",
   "metadata": {
    "execution": {
     "iopub.execute_input": "2020-05-30T16:55:45.880411Z",
     "iopub.status.busy": "2020-05-30T16:55:45.880411Z",
     "iopub.status.idle": "2020-05-30T16:55:45.887392Z",
     "shell.execute_reply": "2020-05-30T16:55:45.886426Z",
     "shell.execute_reply.started": "2020-05-30T16:55:45.880411Z"
    }
   },
   "source": [
    "**4. 如果一个向量组包含5个列向量，那么我们将这5个列向量排成一行所组成的矩阵，可以被称为矩阵的行向量组。**  \n",
    "\n",
    "A. 对  \n",
    "<font style='color:blue;font-weight:bold;'>B. 错</font>   \n",
    "\n",
    "**答案及解析：** B\n",
    "\n",
    "</br>"
   ]
  },
  {
   "cell_type": "markdown",
   "metadata": {},
   "source": [
    "**5. 下列表达式，可以用来表达一个 n 维向量空间的是（ ）。**  \n",
    "\n",
    "A. $\\pi=\\{x=(x_1,x_2,...,x_n)^T|a_1x_1+a_2x_2+...+a_nx_n=b\\}$  \n",
    "B. $b=\\lambda_1a_1+\\lambda_2a_2+...+\\lambda_m a_m$  \n",
    "<font style='color:blue;font-weight:bold;'>C. $R_n=\\{x=(x_1,x_2,...,x_n)^T|x_1,x_2,...,x_n \\in R \\}$</font>  \n",
    "D. $k_1a_1+k_2a_2+...+k_ma_m=0$  \n",
    "E. $A:a_1,a_2,...,a_m$\n",
    "\n",
    "**答案及解析：** C\n",
    "\n",
    "选项A表示平面，\n",
    "\n",
    "</br>"
   ]
  },
  {
   "cell_type": "markdown",
   "metadata": {},
   "source": [
    "## **【课堂互动四】** `空间的张成`"
   ]
  },
  {
   "cell_type": "markdown",
   "metadata": {},
   "source": [
    "**1. 判断如下向量所张成的空间的形态（ ）。**  \n",
    "\n",
    "$u_1=\\begin{bmatrix} 1 \\\\ 1.5 \\end{bmatrix}, u_2=\\begin{bmatrix} 0.5 \\\\ 1 \\end{bmatrix}$\n",
    "\n",
    "A. 一条直线  \n",
    "<font style='color:blue;font-weight:bold;'>B. 一个平面</font>    \n",
    "C. 整个三维空间  \n",
    "D. 无法张成空间\n",
    "\n",
    "**答案及解析：** B\n",
    "\n",
    "</br>"
   ]
  },
  {
   "cell_type": "markdown",
   "metadata": {
    "execution": {
     "iopub.execute_input": "2020-05-31T01:03:10.761163Z",
     "iopub.status.busy": "2020-05-31T01:03:10.760166Z",
     "iopub.status.idle": "2020-05-31T01:03:10.772132Z",
     "shell.execute_reply": "2020-05-31T01:03:10.771135Z",
     "shell.execute_reply.started": "2020-05-31T01:03:10.761163Z"
    }
   },
   "source": [
    "**2. 判断如下向量所张成的空间的形态（ ）。**  \n",
    "\n",
    "$u_1=\\begin{bmatrix} 1 \\\\ 2 \\\\ 1 \\end{bmatrix}, u_2=\\begin{bmatrix} 1 \\\\ 2 \\\\ 3 \\end{bmatrix}$\n",
    "\n",
    "A. 一条直线  \n",
    "<font style='color:blue;font-weight:bold;'>B. 一个平面</font>    \n",
    "C. 整个三维空间  \n",
    "D. 无法张成空间\n",
    "\n",
    "**答案及解析：** B\n",
    "\n",
    "</br>"
   ]
  },
  {
   "cell_type": "markdown",
   "metadata": {},
   "source": [
    "**3. 判断如下向量所张成的空间的形态（ ）。**  \n",
    "\n",
    "$u_1=\\begin{bmatrix} 1 \\\\ 1 \\\\ 1 \\end{bmatrix}, u_2=\\begin{bmatrix} -2 \\\\ -2 \\\\ -2 \\end{bmatrix}, u_2=\\begin{bmatrix} 3 \\\\ 3 \\\\ 3 \\end{bmatrix}$\n",
    "\n",
    "<font style='color:blue;font-weight:bold;'>A. 一条直线</font>      \n",
    "B. 一个平面  \n",
    "C. 整个三维空间  \n",
    "D. 无法张成空间\n",
    "\n",
    "**答案及解析：** A\n",
    "\n",
    "</br>"
   ]
  },
  {
   "cell_type": "markdown",
   "metadata": {},
   "source": [
    "**4. 判断如下向量所张成的空间的形态（ ）。**  \n",
    "\n",
    "$u_1=\\begin{bmatrix} 1 \\\\ 3 \\\\ 5 \\end{bmatrix}, \n",
    "u_2=\\begin{bmatrix} 2 \\\\ 1 \\\\ 5 \\end{bmatrix}, \n",
    "u_3=\\begin{bmatrix} 4 \\\\ 3 \\\\ 2 \\end{bmatrix},\n",
    "u_4=\\begin{bmatrix} 4 \\\\ 2 \\\\ 10 \\end{bmatrix}$\n",
    "\n",
    "A. 一条直线    \n",
    "B. 一个平面  \n",
    "<font style='color:blue;font-weight:bold;'>C. 整个三维空间</font>  \n",
    "D. 整个四维空间  \n",
    "E. 无法张成空间\n",
    "\n",
    "**答案及解析：** C\n",
    "\n",
    "</br>"
   ]
  },
  {
   "cell_type": "markdown",
   "metadata": {},
   "source": [
    "**5. 判断如下向量所张成的空间的形态（ ）。**  \n",
    "\n",
    "$u_1=\\begin{bmatrix} 1 \\\\ 2 \\end{bmatrix}, \n",
    "u_2=\\begin{bmatrix} -1 \\\\ -2 \\end{bmatrix}$\n",
    "\n",
    "<font style='color:blue;font-weight:bold;'>A. 一条直线</font>     \n",
    "B. 一个平面  \n",
    "C. 整个三维空间  \n",
    "D. 无法张成空间\n",
    "\n",
    "**答案及解析：** A\n",
    "\n",
    "</br>"
   ]
  }
 ],
 "metadata": {
  "kernelspec": {
   "display_name": "Python 3",
   "language": "python",
   "name": "python3"
  },
  "language_info": {
   "codemirror_mode": {
    "name": "ipython",
    "version": 3
   },
   "file_extension": ".py",
   "mimetype": "text/x-python",
   "name": "python",
   "nbconvert_exporter": "python",
   "pygments_lexer": "ipython3",
   "version": "3.7.7"
  }
 },
 "nbformat": 4,
 "nbformat_minor": 4
}
