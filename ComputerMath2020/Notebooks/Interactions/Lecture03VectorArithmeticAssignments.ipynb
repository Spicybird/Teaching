{
 "cells": [
  {
   "cell_type": "markdown",
   "metadata": {},
   "source": [
    "# **第03讲 向量的四则运算** `课堂互动`"
   ]
  },
  {
   "cell_type": "markdown",
   "metadata": {},
   "source": [
    "<font color=\"blue\">作者：欧新宇（Xinyu OU）</font>\n",
    "\n",
    "<font color=\"red\">本文档所展示的测试结果，均运行于：Intel Core i7-7700K CPU 4.2GHz</font>\n",
    "\n",
    "---"
   ]
  },
  {
   "cell_type": "markdown",
   "metadata": {},
   "source": [
    "## **【课堂互动一】**"
   ]
  },
  {
   "cell_type": "markdown",
   "metadata": {},
   "source": [
    "**1. 已知 $a = [3, 7], b = [2, 2]$， 求$a+b$。**  \n",
    "A. 14  \n",
    "B. [10, 4]  \n",
    "C. [5, 9]  \n",
    "D. 无法计算\n",
    "\n",
    "**2. 已知 $a = [3, 3, 1], b = [5, 4]$， 求$a+b$。**  \n",
    "A. $[8, 7, 1]$  \n",
    "B. $[3, 5, 3, 4, 1]$  \n",
    "C. $[3, 3, 1, 5, 4]$  \n",
    "D. 无法计算"
   ]
  },
  {
   "cell_type": "markdown",
   "metadata": {},
   "source": [
    "## **【课堂互动二】**"
   ]
  },
  {
   "cell_type": "markdown",
   "metadata": {},
   "source": [
    "**1. 给定向量 $u = [1,2,3]，v = [4,5,6]$，求它们的内积 $u·v$。**   \n",
    "A. [[32]]   \n",
    "B. [[ 4  5  6]  \n",
    "[ 8 10 12]  \n",
    "[12 15 18]]  \n",
    "C. 32  \n",
    "D. 无法计算  \n",
    "\n",
    "**2. 给定向量 $u = [1,2,3]，v = [4,5,6]$，求它们的外积$u × v$。**  \n",
    "A. [4,5,6]  \n",
    "B. [-3, 6, -3]   \n",
    "C. [1, 2, 3]  \n",
    "D. 无法计算\n",
    "\n",
    "**3. 下列与内积具有同等含义的一个是（      ）。**  \n",
    "A. 点乘  \n",
    "B. 向量积  \n",
    "C. 外积  \n",
    "D. 叉乘   \n",
    "\n",
    "**4. 下列哪一个几何意义，对应于向量 a 和 b 的内积？**  \n",
    "A. 向量 a 在向量 b 方向上的投影长度乘以向量 b 的模长  \n",
    "B. 向量 a 的模长乘以向量 b 的模长  \n",
    "C. 向量 a 和向量 b  张成的平行四边形的面积。  \n",
    "D. 向量 a 和向量 b  张成的平面的法向量，该向量垂直于 a 和 b  向量构成的平面。\n"
   ]
  },
  {
   "cell_type": "markdown",
   "metadata": {},
   "source": [
    "## **【课堂互动三】**"
   ]
  },
  {
   "cell_type": "markdown",
   "metadata": {},
   "source": [
    "**1. 给定标量$\\alpha=1, \\beta=3, \\gamma=5$，和向量$u=[1,2]^T, v=[2,3]^T, w=[3,4]^T$，试求：$\\alpha u + \\beta v + \\gamma w$。**\n",
    "\n",
    "A. [[22, 31]]\n",
    "\n",
    "B. [[22]  \n",
    " [31]]\n",
    " \n",
    "C. [[1, 2]  \n",
    "[6, 9]  \n",
    "[15, 20]]\n",
    "\n",
    "D. 无法计算"
   ]
  }
 ],
 "metadata": {
  "kernelspec": {
   "display_name": "Python 3",
   "language": "python",
   "name": "python3"
  },
  "language_info": {
   "codemirror_mode": {
    "name": "ipython",
    "version": 3
   },
   "file_extension": ".py",
   "mimetype": "text/x-python",
   "name": "python",
   "nbconvert_exporter": "python",
   "pygments_lexer": "ipython3",
   "version": "3.7.7"
  }
 },
 "nbformat": 4,
 "nbformat_minor": 4
}
