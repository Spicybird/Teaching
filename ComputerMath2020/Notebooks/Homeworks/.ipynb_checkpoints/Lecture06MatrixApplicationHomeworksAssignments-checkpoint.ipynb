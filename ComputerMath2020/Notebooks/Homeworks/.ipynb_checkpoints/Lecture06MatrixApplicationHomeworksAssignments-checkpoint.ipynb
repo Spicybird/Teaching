{
 "cells": [
  {
   "cell_type": "markdown",
   "metadata": {},
   "source": [
    "# **第05讲 矩阵操作** `课后习题`"
   ]
  },
  {
   "cell_type": "markdown",
   "metadata": {},
   "source": [
    "<font color=\"blue\">作者：欧新宇（Xinyu OU）</font>\n",
    "\n",
    "<font color=\"red\">本文档所展示的测试结果，均运行于：Intel Core i7-7700K CPU 4.2GHz</font>\n",
    "\n",
    "---"
   ]
  },
  {
   "cell_type": "markdown",
   "metadata": {
    "execution": {
     "iopub.execute_input": "2020-05-16T07:28:54.542095Z",
     "iopub.status.busy": "2020-05-16T07:28:54.540100Z",
     "iopub.status.idle": "2020-05-16T07:28:54.553067Z",
     "shell.execute_reply": "2020-05-16T07:28:54.552185Z",
     "shell.execute_reply.started": "2020-05-16T07:28:54.542095Z"
    }
   },
   "source": [
    "- ### **作业要求及提交**\n",
    "\n",
    "1. 将所有运行结果保存为一个`word`文档（特别推荐保存为`pdf`文档进行提交）\n",
    "2. 要求：使用编程环境完成下列习题，并按题目顺序进行排版，每个题目要求按如下顺序组织（若存在）:  \n",
    "`0).`题目(将题目完整Copy到作业文档中，可以通过公式编辑器编辑或截图方式）；  \n",
    "`1).`需要手工书写的部分，请尽量在word文档中进行编辑（迫不得已时，可书写在纸上并拍照）；  \n",
    "`2).`代码（尽量通过从编程环境截图粘贴）；  \n",
    "`3).`运行结果贴于文档中。 （复制运行结果到文档或通过截图粘贴）  \n",
    "`x). ` **如果熟悉本编程环境'Jupyter Notebook'也可以直接在本环境中编写所有文稿及代码，并打印成pdf文档进行提交。**\n",
    "3. 将文档上传至 `课堂派` 平台\n",
    "\n",
    "> 注意：截图只需要截取必要部分。此外，请确保截图清晰可见。\n"
   ]
  },
  {
   "cell_type": "markdown",
   "metadata": {},
   "source": [
    "<br/>\n",
    "\n",
    "**1. 【应用题】冠状病毒感染人员预测**\n",
    "\n",
    "冠状病毒的感染是非常快速的，某城市有800万人，在1月15日有2000人确诊感染了冠状病毒。假设每天新增确诊病例为未感染人口的0.4%，每天的治愈率为确诊人群的5%。假设在没有找到有效的抑制病例增加手段和防感染疫苗的情况下，2天，10天，20天，50天，100天后分别有多少确诊病例。\n",
    "\n",
    "**【进阶问题】** <font color=\"blue\">按照当前的设定，多少天以后达到峰值，即：新增确诊病例和新增治愈人数基本一致。</font>\n",
    "\n",
    "**【扩展问题】** <font color=\"red\">有兴趣的同学可以考虑，如何利用Python获取，当治愈率上升到一定的程度，或感染率降低到一定的程度后，出现拐点的日期。</font>\n"
   ]
  },
  {
   "cell_type": "markdown",
   "metadata": {
    "execution": {
     "iopub.execute_input": "2020-05-24T14:22:35.870037Z",
     "iopub.status.busy": "2020-05-24T14:22:35.869040Z",
     "iopub.status.idle": "2020-05-24T14:22:35.874027Z",
     "shell.execute_reply": "2020-05-24T14:22:35.874027Z",
     "shell.execute_reply.started": "2020-05-24T14:22:35.870037Z"
    }
   },
   "source": [
    "<br/>\n",
    "\n",
    "**2.【应用题】 网络的矩阵分割和连接**\n",
    "\n",
    "给出如下电路图，同时已知输入电流$i_{in}=25A$和输入电压$u_{in}=220V$，假设并联电路的电阻$R_{并}=200$欧姆，串联电路的电阻$R_{串}=4$欧姆，求输出电流$i_{out}$和输出电压$u_{out}$。（输出结果保留2位小数）\n",
    "\n",
    "> 在Python实现的时候，注意使用合理维度的数组存储数据。\n",
    "\n",
    "![](../../Attachments/L0601-hw201.png)\n"
   ]
  }
 ],
 "metadata": {
  "kernelspec": {
   "display_name": "Python 3",
   "language": "python",
   "name": "python3"
  },
  "language_info": {
   "codemirror_mode": {
    "name": "ipython",
    "version": 3
   },
   "file_extension": ".py",
   "mimetype": "text/x-python",
   "name": "python",
   "nbconvert_exporter": "python",
   "pygments_lexer": "ipython3",
   "version": "3.7.7"
  }
 },
 "nbformat": 4,
 "nbformat_minor": 4
}
