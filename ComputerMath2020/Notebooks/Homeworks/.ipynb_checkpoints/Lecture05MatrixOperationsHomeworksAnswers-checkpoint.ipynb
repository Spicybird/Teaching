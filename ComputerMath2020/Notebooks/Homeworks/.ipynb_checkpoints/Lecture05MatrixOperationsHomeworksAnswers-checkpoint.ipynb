{
 "cells": [
  {
   "cell_type": "markdown",
   "metadata": {},
   "source": [
    "# **第05讲 矩阵操作** `课后习题答案`"
   ]
  },
  {
   "cell_type": "markdown",
   "metadata": {},
   "source": [
    "<font color=\"blue\">作者：欧新宇（Xinyu OU）</font>\n",
    "\n",
    "<font color=\"red\">本文档所展示的测试结果，均运行于：Intel Core i7-7700K CPU 4.2GHz</font>\n",
    "\n",
    "---"
   ]
  },
  {
   "cell_type": "markdown",
   "metadata": {
    "execution": {
     "iopub.execute_input": "2020-05-16T07:28:54.542095Z",
     "iopub.status.busy": "2020-05-16T07:28:54.540100Z",
     "iopub.status.idle": "2020-05-16T07:28:54.553067Z",
     "shell.execute_reply": "2020-05-16T07:28:54.552185Z",
     "shell.execute_reply.started": "2020-05-16T07:28:54.542095Z"
    }
   },
   "source": [
    "- ### **作业要求及提交**\n",
    "\n",
    "1. 将所有运行结果保存为一个`word`文档（特别推荐保存为`pdf`文档进行提交）\n",
    "2. 要求：使用编程环境完成下列习题，并按题目顺序进行排版，每个题目要求按如下顺序组织（若存在）:  \n",
    "`0).`题目(将题目完整Copy到作业文档中，可以通过公式编辑器编辑或截图方式）；  \n",
    "`1).`需要手工书写的部分，请尽量在word文档中进行编辑（迫不得已时，可书写在纸上并拍照）；  \n",
    "`2).`代码（尽量通过从编程环境截图粘贴）；  \n",
    "`3).`运行结果贴于文档中。 （复制运行结果到文档或通过截图粘贴）  \n",
    "`x). ` **如果熟悉本编程环境'Jupyter Notebook'也可以直接在本环境中编写所有文稿及代码，并打印成pdf文档进行提交。**\n",
    "3. 将文档上传至 `课堂派` 平台\n",
    "\n",
    "> 注意：截图只需要截取必要部分。此外，请确保截图清晰可见。\n"
   ]
  },
  {
   "cell_type": "markdown",
   "metadata": {},
   "source": [
    "-  ### **答案及解析**"
   ]
  },
  {
   "cell_type": "markdown",
   "metadata": {
    "execution": {
     "iopub.execute_input": "2020-05-13T00:58:26.086103Z",
     "iopub.status.busy": "2020-05-13T00:58:26.086103Z",
     "iopub.status.idle": "2020-05-13T00:58:26.091090Z",
     "shell.execute_reply": "2020-05-13T00:58:26.091090Z",
     "shell.execute_reply.started": "2020-05-13T00:58:26.086103Z"
    }
   },
   "source": [
    "**1. 【计算题】使用Python代码，求解以下矩阵运算**"
   ]
  },
  {
   "cell_type": "markdown",
   "metadata": {
    "execution": {
     "iopub.execute_input": "2020-05-13T00:58:26.086103Z",
     "iopub.status.busy": "2020-05-13T00:58:26.086103Z",
     "iopub.status.idle": "2020-05-13T00:58:26.091090Z",
     "shell.execute_reply": "2020-05-13T00:58:26.091090Z",
     "shell.execute_reply.started": "2020-05-13T00:58:26.086103Z"
    }
   },
   "source": [
    "(1) 已知 $A=[1,2,3], B=[4,5,6]^T$，求***AB***和***BA***。\n",
    "\n",
    "解：  \n",
    "$ AB = [1,2,3] \\begin{bmatrix} 4 \\\\ 5 \\\\ 6 \\end{bmatrix}\n",
    "= 1 \\times 4 + 2 \\times 5 + 3 \\times 6 \n",
    "= 32 $\n",
    "\n",
    "$ BA = \\begin{bmatrix} 4 \\\\ 5 \\\\ 6 \\end{bmatrix} [1,2,3]\n",
    "= \\begin{bmatrix} 4 \\times 1 & 4 \\times 2 & 4 \\times 3 \\\\\n",
    "5 \\times 1 & 5 \\times 2 & 5 \\times 3 \\\\\n",
    "6 \\times 1 & 6 \\times 2 & 6 \\times 3 \\end{bmatrix}\n",
    "= \\begin{bmatrix} 4 & 8 & 12 \\\\ 5 & 10 & 15 \\\\ 6 & 12 & 18\\end{bmatrix}$"
   ]
  },
  {
   "cell_type": "code",
   "execution_count": 1,
   "metadata": {
    "execution": {
     "iopub.execute_input": "2020-05-23T11:39:02.194602Z",
     "iopub.status.busy": "2020-05-23T11:39:02.193561Z",
     "iopub.status.idle": "2020-05-23T11:39:02.333188Z",
     "shell.execute_reply": "2020-05-23T11:39:02.333188Z",
     "shell.execute_reply.started": "2020-05-23T11:39:02.193561Z"
    }
   },
   "outputs": [
    {
     "name": "stdout",
     "output_type": "stream",
     "text": [
      "AB=\n",
      " [[32]]\n",
      "BA=\n",
      " [[ 4  8 12]\n",
      " [ 5 10 15]\n",
      " [ 6 12 18]]\n"
     ]
    }
   ],
   "source": [
    "import numpy as np\n",
    "A = np.array([[1,2,3]])\n",
    "B = np.array([[4],[5],[6]])\n",
    "\n",
    "print(\"AB=\\n {}\".format(np.dot(A,B)))\n",
    "print(\"BA=\\n {}\".format(np.dot(B,A)))"
   ]
  },
  {
   "cell_type": "markdown",
   "metadata": {
    "execution": {
     "iopub.execute_input": "2020-05-13T00:58:26.086103Z",
     "iopub.status.busy": "2020-05-13T00:58:26.086103Z",
     "iopub.status.idle": "2020-05-13T00:58:26.091090Z",
     "shell.execute_reply": "2020-05-13T00:58:26.091090Z",
     "shell.execute_reply.started": "2020-05-13T00:58:26.086103Z"
    }
   },
   "source": [
    "<br/>\n",
    "\n",
    "(2) 求矩阵 $S = \\begin{bmatrix}\n",
    "2 & 1 & 4 & 0 \\\\\n",
    "1 & -1 & 3 & 4 \\\\\n",
    "\\end{bmatrix}\n",
    "\\begin{bmatrix}\n",
    "1 & 3 & 1 \\\\\n",
    "0 & -1 & 2 \\\\\n",
    "1 & -3 & 1 \\\\\n",
    "4 & 0 & -2 \\\\\n",
    "\\end{bmatrix}$ 的乘积。\n",
    "\n",
    "解："
   ]
  },
  {
   "cell_type": "code",
   "execution_count": 2,
   "metadata": {
    "execution": {
     "iopub.execute_input": "2020-05-23T11:39:02.334185Z",
     "iopub.status.busy": "2020-05-23T11:39:02.334185Z",
     "iopub.status.idle": "2020-05-23T11:39:02.339174Z",
     "shell.execute_reply": "2020-05-23T11:39:02.339174Z",
     "shell.execute_reply.started": "2020-05-23T11:39:02.334185Z"
    }
   },
   "outputs": [
    {
     "name": "stdout",
     "output_type": "stream",
     "text": [
      "A×B=\n",
      " [[ 6 -7  8]\n",
      " [20 -5 -6]]\n"
     ]
    }
   ],
   "source": [
    "import numpy as np\n",
    "A = np.array([[2,1,4,0],[1,-1,3,4]])\n",
    "B = np.array([[1,3,1],[0,-1,2],[1,-3,1],[4,0,-2]])\n",
    "\n",
    "S = np.dot(A,B)\n",
    "print(\"A×B=\\n {}\".format(S))"
   ]
  },
  {
   "cell_type": "markdown",
   "metadata": {
    "execution": {
     "iopub.execute_input": "2020-05-13T00:58:26.086103Z",
     "iopub.status.busy": "2020-05-13T00:58:26.086103Z",
     "iopub.status.idle": "2020-05-13T00:58:26.091090Z",
     "shell.execute_reply": "2020-05-13T00:58:26.091090Z",
     "shell.execute_reply.started": "2020-05-13T00:58:26.086103Z"
    }
   },
   "source": [
    "<br/>\n",
    "\n",
    "(3) 设$A = \\begin{bmatrix}\n",
    "1 & 2 & 1 & 0 \\\\\n",
    "2 & 1 & 0 & 1 \\\\\n",
    "3 & -2 & 2 & 1 \\\\\n",
    "1 & 2 & 4 & 3 \\\\\n",
    "\\end{bmatrix}$，\n",
    "$B = \\begin{bmatrix}\n",
    "3 & 4 & 1 & -2 \\\\\n",
    "2 & 1 & 2 & 2 \\\\\n",
    "2 & -2 & 2 & 1 \\\\\n",
    "1 & 2 & -4 & 3 \\\\\n",
    "\\end{bmatrix}$，求$M = 4A^2 + 3AB - 2BA+ 5B^2 + (AB)^T$。\n",
    "\n",
    "解:"
   ]
  },
  {
   "cell_type": "code",
   "execution_count": 8,
   "metadata": {
    "execution": {
     "iopub.execute_input": "2020-05-23T11:40:03.286411Z",
     "iopub.status.busy": "2020-05-23T11:40:03.285412Z",
     "iopub.status.idle": "2020-05-23T11:40:03.299374Z",
     "shell.execute_reply": "2020-05-23T11:40:03.298376Z",
     "shell.execute_reply.started": "2020-05-23T11:40:03.285412Z"
    }
   },
   "outputs": [
    {
     "name": "stdout",
     "output_type": "stream",
     "text": [
      "Result = \n",
      " [[129  71 154  26]\n",
      " [ 97 107   4  35]\n",
      " [ 86  52  10 -23]\n",
      " [155  85  -3 141]]\n"
     ]
    }
   ],
   "source": [
    "import numpy as np\n",
    "A = np.array([[1,2,1,0],[2,1,0,1],[3,-2,2,1],[1,2,4,3]])\n",
    "B = np.array([[3,4,1,-2],[2,1,2,2],[2,-2,2,1],[1,2,-4,3]])\n",
    "\n",
    "M = 4*np.dot(A,A)+3*np.dot(A,B)-2*np.dot(B,A)+5*np.dot(B,B)+(np.dot(A,B).T)\n",
    "print(\"Result = \\n {}\".format(M))"
   ]
  },
  {
   "cell_type": "markdown",
   "metadata": {
    "execution": {
     "iopub.execute_input": "2020-05-13T00:58:26.086103Z",
     "iopub.status.busy": "2020-05-13T00:58:26.086103Z",
     "iopub.status.idle": "2020-05-13T00:58:26.091090Z",
     "shell.execute_reply": "2020-05-13T00:58:26.091090Z",
     "shell.execute_reply.started": "2020-05-13T00:58:26.086103Z"
    }
   },
   "source": [
    "<br/>\n",
    "\n",
    "(4) 矩阵的加法：设存在矩阵$A = \\begin{bmatrix} 1.2 & 3.4 & 5.6 \\\\ 7.8 & 9.1 & 0.7 \\end{bmatrix}$, 和向量$u = [100, 200]^T$。试求$(2A+3b)-(3A-2b)$。\n",
    "\n",
    "解："
   ]
  },
  {
   "cell_type": "code",
   "execution_count": 4,
   "metadata": {
    "execution": {
     "iopub.execute_input": "2020-05-23T11:39:02.349145Z",
     "iopub.status.busy": "2020-05-23T11:39:02.349145Z",
     "iopub.status.idle": "2020-05-23T11:39:02.354132Z",
     "shell.execute_reply": "2020-05-23T11:39:02.354132Z",
     "shell.execute_reply.started": "2020-05-23T11:39:02.349145Z"
    }
   },
   "outputs": [
    {
     "name": "stdout",
     "output_type": "stream",
     "text": [
      "[[498.8 496.6 494.4]\n",
      " [992.2 990.9 999.3]]\n"
     ]
    }
   ],
   "source": [
    "import numpy as np\n",
    "A = np.array([[1.2,3.4,5.6],[7.8,9.1,0.7]])\n",
    "u = np.array([[100,200]]).T\n",
    "\n",
    "print((2*A+3*u)-(3*A-2*u))"
   ]
  },
  {
   "cell_type": "markdown",
   "metadata": {},
   "source": [
    "<br/>\n",
    "\n",
    "**2. 【应用题】冠状病毒感染人员预测**\n",
    "\n",
    "冠状病毒的感染是非常快速的，某城市有800万人，在1月15日有2000人确诊感染了冠状病毒。假设每天新增确诊病例为未感染人口的0.4%，每天的治愈率为确诊人群的5%。假设在没有找到有效的抑制病例增加手段和防感染疫苗的情况下，2天，10天，20天，50天，100天后分别有多少确诊病例。\n",
    "\n",
    "**【进阶问题】** <font color=\"blue\">按照当前的设定，多少天以后达到峰值，即：新增确诊病例和新增治愈人数基本一致。</font>\n",
    "\n",
    "**【扩展问题】** <font color=\"red\">有兴趣的同学可以考虑，如何利用Python获取，当治愈率上升到一定的程度，或感染率降低到一定的程度后，出现拐点的日期。</font>\n"
   ]
  },
  {
   "cell_type": "markdown",
   "metadata": {},
   "source": [
    "解：我们可以用如下思路构建传染矩阵X。\n",
    "1. 矩阵X的第一行第一个元素为一天后仍然没有被感染的人占前一天没有被感染人群的百分比; 第一行第二个元素为前一天被治愈的人群占前一天确诊感染人群的百分比。。\n",
    "2. 矩阵A的第二行第一个元素为一天后被感染确诊的人占前一天没有被感染人群的百分比；第二行第二个元素为前一天确诊的同时没有被治愈的人占前一天确诊人群的百分比。\n",
    "\n",
    "则有:\n",
    "$A=\\begin{bmatrix}\n",
    "99.6/100 & 5/100 \\\\\n",
    "0.4/100 & 95/100 \\\\\n",
    "\\end{bmatrix}$\n",
    "\n",
    "若令 $x=\\begin{bmatrix} 8000000-2000 \\\\ 2000 \\end{bmatrix}$，则1天后确诊感染人数和正常人数可以用$A$乘以$x$计算。其中`(8000000-2000)*(99.6/100)`表示原来正常人群中仍然没有被感染的人数，`2000*(5/100)`表示一天后被治愈的人数，两者相加就是1天后正常人群的总数；`(8000000-2000)*(0.4/100)`表示新增确诊病例，`2000*(95/100)`表示一天后仍然没有被治愈的确诊人数，两者相加就是1天后处于确诊状态的被感染人群。\n",
    "\n",
    "$Ax=\\begin{bmatrix}\n",
    "99.6/100 & 5/100 \\\\\n",
    "0.4/100 & 95/100 \\\\\n",
    "\\end{bmatrix}\n",
    "\\begin{bmatrix} \n",
    "8000000-2000 \\\\\n",
    "2000 \\\\\n",
    "\\end{bmatrix}\n",
    "=\\begin{bmatrix} \n",
    "0.996*7998000 + 0.05*2000 \\\\\n",
    "0.004*7998000 + 0.95*2000 \\\\\n",
    "\\end{bmatrix}\n",
    "=\\begin{bmatrix} \n",
    "‭7,966,108‬ \\\\\n",
    "‭33,892‬ \\\\\n",
    "\\end{bmatrix}$\n",
    "\n",
    "一般地说，n天后，感染冠状病毒的人数和正常人数，可由$A^n x$求得。"
   ]
  },
  {
   "cell_type": "code",
   "execution_count": 5,
   "metadata": {
    "execution": {
     "iopub.execute_input": "2020-05-23T11:39:02.356128Z",
     "iopub.status.busy": "2020-05-23T11:39:02.355131Z",
     "iopub.status.idle": "2020-05-23T11:39:02.368095Z",
     "shell.execute_reply": "2020-05-23T11:39:02.368095Z",
     "shell.execute_reply.started": "2020-05-23T11:39:02.356128Z"
    }
   },
   "outputs": [
    {
     "name": "stdout",
     "output_type": "stream",
     "text": [
      "  2天后，未感染人数为7935938，确诊人数为64062\n",
      " 10天后，未感染人数为7728101，确诊人数为271899\n",
      " 20天后，未感染人数为7519099，确诊人数为480901\n",
      " 50天后，未感染人数为7414764，确诊人数为585236\n",
      "100天后，未感染人数为7407438，确诊人数为592562\n"
     ]
    }
   ],
   "source": [
    "import numpy as np\n",
    "A = np.array([[0.996, 0.05],[0.004,0.95]])\n",
    "x = np.array([[7998000],[2000]])\n",
    "\n",
    "n = [2, 10, 20, 50, 100] # n=1:A^2; n=2:A^3\n",
    "\n",
    "person = np.dot(A,x)\n",
    "\n",
    "for i in n:\n",
    "    for j in range(i-1):\n",
    "        person = np.dot(A, person)\n",
    "\n",
    "    print(\"{:3d}天后，未感染人数为{:.0f}，确诊人数为{:.0f}\".format(i, person[0][0], person[1][0]))\n"
   ]
  },
  {
   "cell_type": "markdown",
   "metadata": {},
   "source": [
    "**【进阶问题】** <font color=\"blue\">按照当前的设定，多少天以后达到峰值，即：新增确诊病例和新增治愈人数基本一致。</font>\n",
    "> 基本思路是设置一个`峰值`，当某一天确诊人数不再增长时，即确诊人数不高于峰值人数时，循环停止。"
   ]
  },
  {
   "cell_type": "markdown",
   "metadata": {},
   "source": [
    "- 方法一：使用for循环"
   ]
  },
  {
   "cell_type": "code",
   "execution_count": 6,
   "metadata": {
    "execution": {
     "iopub.execute_input": "2020-05-23T11:39:02.369092Z",
     "iopub.status.busy": "2020-05-23T11:39:02.369092Z",
     "iopub.status.idle": "2020-05-23T11:39:02.377070Z",
     "shell.execute_reply": "2020-05-23T11:39:02.377070Z",
     "shell.execute_reply.started": "2020-05-23T11:39:02.369092Z"
    }
   },
   "outputs": [
    {
     "name": "stdout",
     "output_type": "stream",
     "text": [
      "\n",
      " 峰值出现在第612天，此时未感染人数为7407407，确诊人数为592593\n"
     ]
    }
   ],
   "source": [
    "import numpy as np\n",
    "A = np.array([[0.996, 0.05],[0.004,0.95]])\n",
    "x = np.array([[7998000],[2000]])\n",
    "\n",
    "n = 999999 # n=1:A^2; n=2:A^3\n",
    "\n",
    "person = np.dot(A,x)\n",
    "top = 0\n",
    "\n",
    "for i in range(n-1):\n",
    "    person = np.dot(A, person)\n",
    "    if top < person[1][0]:\n",
    "        top = person[1][0]\n",
    "#         print(\"\\r {:3d}天后，未感染人数为{:.0f}，确诊人数为{:.0f}\".format(i, person[0][0], person[1][0]), end=\"\")\n",
    "    else:\n",
    "        print(\"\\n 峰值出现在第{:3d}天，此时未感染人数为{:.0f}，确诊人数为{:.0f}\".format(i, person[0][0], person[1][0]))\n",
    "        break"
   ]
  },
  {
   "cell_type": "markdown",
   "metadata": {},
   "source": [
    "- 方法二：使用while循环"
   ]
  },
  {
   "cell_type": "code",
   "execution_count": 7,
   "metadata": {
    "execution": {
     "iopub.execute_input": "2020-05-23T11:39:02.378068Z",
     "iopub.status.busy": "2020-05-23T11:39:02.378068Z",
     "iopub.status.idle": "2020-05-23T11:39:02.386047Z",
     "shell.execute_reply": "2020-05-23T11:39:02.386047Z",
     "shell.execute_reply.started": "2020-05-23T11:39:02.378068Z"
    }
   },
   "outputs": [
    {
     "name": "stdout",
     "output_type": "stream",
     "text": [
      "\n",
      " 峰值出现在第612天，此时未感染人数为7407407，确诊人数为592593\n"
     ]
    }
   ],
   "source": [
    "import numpy as np\n",
    "A = np.array([[0.996, 0.05],[0.004,0.95]])\n",
    "x = np.array([[7998000],[2000]])\n",
    "\n",
    "person = np.dot(A,x)\n",
    "top = person[1][0]\n",
    "person = np.dot(A, person)\n",
    "i = 0\n",
    "\n",
    "while top < person[1][0]:    \n",
    "    top = person[1][0]\n",
    "    person = np.dot(A, person)\n",
    "    i = i + 1\n",
    "\n",
    "print(\"\\n 峰值出现在第{:3d}天，此时未感染人数为{:.0f}，确诊人数为{:.0f}\".format(i, person[0][0], person[1][0]))\n"
   ]
  }
 ],
 "metadata": {
  "kernelspec": {
   "display_name": "Python 3",
   "language": "python",
   "name": "python3"
  },
  "language_info": {
   "codemirror_mode": {
    "name": "ipython",
    "version": 3
   },
   "file_extension": ".py",
   "mimetype": "text/x-python",
   "name": "python",
   "nbconvert_exporter": "python",
   "pygments_lexer": "ipython3",
   "version": "3.7.7"
  }
 },
 "nbformat": 4,
 "nbformat_minor": 4
}
