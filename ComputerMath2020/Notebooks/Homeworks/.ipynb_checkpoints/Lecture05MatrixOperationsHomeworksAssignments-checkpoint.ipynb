{
 "cells": [
  {
   "cell_type": "markdown",
   "metadata": {},
   "source": [
    "# **第05讲 矩阵操作** `课后习题`"
   ]
  },
  {
   "cell_type": "markdown",
   "metadata": {},
   "source": [
    "<font color=\"blue\">作者：欧新宇（Xinyu OU）</font>\n",
    "\n",
    "<font color=\"red\">本文档所展示的测试结果，均运行于：Intel Core i7-7700K CPU 4.2GHz</font>\n",
    "\n",
    "---"
   ]
  },
  {
   "cell_type": "markdown",
   "metadata": {
    "execution": {
     "iopub.execute_input": "2020-05-16T07:28:54.542095Z",
     "iopub.status.busy": "2020-05-16T07:28:54.540100Z",
     "iopub.status.idle": "2020-05-16T07:28:54.553067Z",
     "shell.execute_reply": "2020-05-16T07:28:54.552185Z",
     "shell.execute_reply.started": "2020-05-16T07:28:54.542095Z"
    }
   },
   "source": [
    "- ### **作业要求及提交**\n",
    "\n",
    "1. 将所有运行结果保存为一个`word`文档（特别推荐保存为`pdf`文档进行提交）\n",
    "2. 要求：使用编程环境完成下列习题，并按题目顺序进行排版，每个题目要求按如下顺序组织（若存在）:  \n",
    "`0).`题目(将题目完整Copy到作业文档中，可以通过公式编辑器编辑或截图方式）；  \n",
    "`1).`需要手工书写的部分，请尽量在word文档中进行编辑（迫不得已时，可书写在纸上并拍照）；  \n",
    "`2).`代码（尽量通过从编程环境截图粘贴）；  \n",
    "`3).`运行结果贴于文档中。 （复制运行结果到文档或通过截图粘贴）  \n",
    "`x). ` **如果熟悉本编程环境'Jupyter Notebook'也可以直接在本环境中编写所有文稿及代码，并打印成pdf文档进行提交。**\n",
    "3. 将文档上传至 `课堂派` 平台\n",
    "\n",
    "> 注意：截图只需要截取必要部分。此外，请确保截图清晰可见。\n"
   ]
  },
  {
   "cell_type": "markdown",
   "metadata": {
    "execution": {
     "iopub.execute_input": "2020-05-13T00:58:26.086103Z",
     "iopub.status.busy": "2020-05-13T00:58:26.086103Z",
     "iopub.status.idle": "2020-05-13T00:58:26.091090Z",
     "shell.execute_reply": "2020-05-13T00:58:26.091090Z",
     "shell.execute_reply.started": "2020-05-13T00:58:26.086103Z"
    }
   },
   "source": [
    "**1. 【计算题】使用Python代码，求解以下矩阵运算**\n",
    "\n",
    "(1) 已知 $A=[1,2,3], B=[4,5,6]^T$，求***AB***和***BA***。\n",
    "\n",
    "(2) 求矩阵 $S = \\begin{bmatrix}\n",
    "2 & 1 & 4 & 0 \\\\\n",
    "1 & -1 & 3 & 4 \\\\\n",
    "\\end{bmatrix}\n",
    "\\begin{bmatrix}\n",
    "1 & 3 & 1 \\\\\n",
    "0 & -1 & 2 \\\\\n",
    "1 & -3 & 1 \\\\\n",
    "4 & 0 & -2 \\\\\n",
    "\\end{bmatrix}$ 的乘积。\n",
    "\n",
    "(3) 设$A = \\begin{bmatrix}\n",
    "1 & 2 & 1 & 0 \\\\\n",
    "2 & 1 & 0 & 1 \\\\\n",
    "3 & -2 & 2 & 1 \\\\\n",
    "1 & 2 & 4 & 3 \\\\\n",
    "\\end{bmatrix}$，\n",
    "$B = \\begin{bmatrix}\n",
    "3 & 4 & 1 & -2 \\\\\n",
    "2 & 1 & 2 & 2 \\\\\n",
    "2 & -2 & 2 & 1 \\\\\n",
    "1 & 2 & -4 & 3 \\\\\n",
    "\\end{bmatrix}$，求$M = 4A^2 + 3AB - 2BA+ 5B^2 + (AB)^T$。\n",
    "\n",
    "(4) 矩阵的加法：设存在矩阵$A = \\begin{bmatrix} 1.2 & 3.4 & 5.6 \\\\ 7.8 & 9.1 & 0.7 \\end{bmatrix}$, 和向量$u = [100, 200]^T$。试求$(2A+3b)-(3A-2b)$。"
   ]
  },
  {
   "cell_type": "markdown",
   "metadata": {},
   "source": [
    "**2. 【应用题】冠状病毒感染人员预测**\n",
    "\n",
    "冠状病毒的感染是非常快速的，某城市有800万人，在1月15日有2000人确诊感染了冠状病毒。假设每天新增确诊病例为未感染人口的0.4%，每天的治愈率为确诊人群的5%。假设在没有找到有效的抑制病例增加手段和防感染疫苗的情况下，2天，10天，20天，50天，100天后分别有多少确诊病例。\n",
    "\n",
    "**【进阶问题】** <font color=\"blue\">按照当前的设定，多少天以后达到峰值，即：新增确诊病例和新增治愈人数基本一致。</font>\n",
    "\n",
    "**【扩展问题】** <font color=\"red\">有兴趣的同学可以考虑，如何利用Python获取，当治愈率上升到一定的程度，或感染率降低到一定的程度后，出现拐点的日期。</font>\n"
   ]
  }
 ],
 "metadata": {
  "kernelspec": {
   "display_name": "Python 3",
   "language": "python",
   "name": "python3"
  },
  "language_info": {
   "codemirror_mode": {
    "name": "ipython",
    "version": 3
   },
   "file_extension": ".py",
   "mimetype": "text/x-python",
   "name": "python",
   "nbconvert_exporter": "python",
   "pygments_lexer": "ipython3",
   "version": "3.7.7"
  }
 },
 "nbformat": 4,
 "nbformat_minor": 4
}
