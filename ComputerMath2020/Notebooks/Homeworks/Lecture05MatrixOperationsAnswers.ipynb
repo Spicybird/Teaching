{
 "cells": [
  {
   "cell_type": "markdown",
   "metadata": {},
   "source": [
    "# **第05讲 矩阵操作** `课后习题答案`"
   ]
  },
  {
   "cell_type": "markdown",
   "metadata": {},
   "source": [
    "<font color=\"blue\">作者：欧新宇（Xinyu OU）</font>\n",
    "\n",
    "<font color=\"red\">本文档所展示的测试结果，均运行于：Intel Core i7-7700K CPU 4.2GHz</font>\n",
    "\n",
    "---"
   ]
  },
  {
   "cell_type": "markdown",
   "metadata": {
    "execution": {
     "iopub.execute_input": "2020-05-16T07:28:54.542095Z",
     "iopub.status.busy": "2020-05-16T07:28:54.540100Z",
     "iopub.status.idle": "2020-05-16T07:28:54.553067Z",
     "shell.execute_reply": "2020-05-16T07:28:54.552185Z",
     "shell.execute_reply.started": "2020-05-16T07:28:54.542095Z"
    }
   },
   "source": [
    "- ### **作业要求及提交**\n",
    "\n",
    "1. 将所有运行结果保存为一个`word`文档（特别推荐保存为`pdf`文档进行提交）\n",
    "2. 要求：使用编程环境完成下列习题，并按题目顺序进行排版，每个题目要求按如下顺序组织（若存在）:  \n",
    "`0).`题目(将题目完整Copy到作业文档中，可以通过公式编辑器编辑或截图方式）；  \n",
    "`1).`需要手工书写的部分，请尽量在word文档中进行编辑（迫不得已时，可书写在纸上并拍照）；  \n",
    "`2).`代码（尽量通过从编程环境截图粘贴）；  \n",
    "`3).`运行结果贴于文档中。 （复制运行结果到文档或通过截图粘贴）  \n",
    "`x). ` **如果熟悉本编程环境'Jupyter Notebook'也可以直接在本环境中编写所有文稿及代码，并打印成pdf文档进行提交。**\n",
    "3. 将文档上传至 `课堂派` 平台\n",
    "\n",
    "> 注意：截图只需要截取必要部分。此外，请确保截图清晰可见。\n"
   ]
  },
  {
   "cell_type": "markdown",
   "metadata": {},
   "source": [
    "-  ### **答案及解析**"
   ]
  },
  {
   "cell_type": "markdown",
   "metadata": {
    "execution": {
     "iopub.execute_input": "2020-05-13T00:58:26.086103Z",
     "iopub.status.busy": "2020-05-13T00:58:26.086103Z",
     "iopub.status.idle": "2020-05-13T00:58:26.091090Z",
     "shell.execute_reply": "2020-05-13T00:58:26.091090Z",
     "shell.execute_reply.started": "2020-05-13T00:58:26.086103Z"
    }
   },
   "source": [
    "**【计算题】使用Python代码，求解以下矩阵运算**"
   ]
  },
  {
   "cell_type": "markdown",
   "metadata": {
    "execution": {
     "iopub.execute_input": "2020-05-13T00:58:26.086103Z",
     "iopub.status.busy": "2020-05-13T00:58:26.086103Z",
     "iopub.status.idle": "2020-05-13T00:58:26.091090Z",
     "shell.execute_reply": "2020-05-13T00:58:26.091090Z",
     "shell.execute_reply.started": "2020-05-13T00:58:26.086103Z"
    }
   },
   "source": [
    "**1. 已知 $A=[1,2,3], B=[4,5,6]^T$，求$AB$和$BA$。**\n",
    "\n",
    "**解**：  \n",
    "$ AB = [1,2,3] \\begin{bmatrix} 4 \\\\ 5 \\\\ 6 \\end{bmatrix}\n",
    "= 1 \\times 4 + 2 \\times 5 + 3 \\times 6 \n",
    "= 32 $\n",
    "\n",
    "$ BA = \\begin{bmatrix} 4 \\\\ 5 \\\\ 6 \\end{bmatrix} [1,2,3]\n",
    "= \\begin{bmatrix} 4 \\times 1 & 4 \\times 2 & 4 \\times 3 \\\\\n",
    "5 \\times 1 & 5 \\times 2 & 5 \\times 3 \\\\\n",
    "6 \\times 1 & 6 \\times 2 & 6 \\times 3 \\end{bmatrix}\n",
    "= \\begin{bmatrix} 4 & 8 & 12 \\\\ 5 & 10 & 15 \\\\ 6 & 12 & 18\\end{bmatrix}$"
   ]
  },
  {
   "cell_type": "code",
   "execution_count": 1,
   "metadata": {
    "execution": {
     "iopub.execute_input": "2020-05-23T11:39:02.194602Z",
     "iopub.status.busy": "2020-05-23T11:39:02.193561Z",
     "iopub.status.idle": "2020-05-23T11:39:02.333188Z",
     "shell.execute_reply": "2020-05-23T11:39:02.333188Z",
     "shell.execute_reply.started": "2020-05-23T11:39:02.193561Z"
    }
   },
   "outputs": [
    {
     "name": "stdout",
     "output_type": "stream",
     "text": [
      "AB=\n",
      " [[32]]\n",
      "BA=\n",
      " [[ 4  8 12]\n",
      " [ 5 10 15]\n",
      " [ 6 12 18]]\n"
     ]
    }
   ],
   "source": [
    "import numpy as np\n",
    "A = np.array([[1,2,3]])\n",
    "B = np.array([[4],[5],[6]])\n",
    "\n",
    "print(\"AB=\\n {}\".format(np.dot(A,B)))\n",
    "print(\"BA=\\n {}\".format(np.dot(B,A)))"
   ]
  },
  {
   "cell_type": "markdown",
   "metadata": {
    "execution": {
     "iopub.execute_input": "2020-05-13T00:58:26.086103Z",
     "iopub.status.busy": "2020-05-13T00:58:26.086103Z",
     "iopub.status.idle": "2020-05-13T00:58:26.091090Z",
     "shell.execute_reply": "2020-05-13T00:58:26.091090Z",
     "shell.execute_reply.started": "2020-05-13T00:58:26.086103Z"
    }
   },
   "source": [
    "<br/>\n",
    "\n",
    "**2. 求矩阵 $S = \\begin{bmatrix}\n",
    "2 & 1 & 4 & 0 \\\\\n",
    "1 & -1 & 3 & 4 \\\\\n",
    "\\end{bmatrix}\n",
    "\\begin{bmatrix}\n",
    "1 & 3 & 1 \\\\\n",
    "0 & -1 & 2 \\\\\n",
    "1 & -3 & 1 \\\\\n",
    "4 & 0 & -2 \\\\\n",
    "\\end{bmatrix}$ 的乘积。**\n",
    "\n",
    "**解：**"
   ]
  },
  {
   "cell_type": "code",
   "execution_count": 2,
   "metadata": {
    "execution": {
     "iopub.execute_input": "2020-05-23T11:39:02.334185Z",
     "iopub.status.busy": "2020-05-23T11:39:02.334185Z",
     "iopub.status.idle": "2020-05-23T11:39:02.339174Z",
     "shell.execute_reply": "2020-05-23T11:39:02.339174Z",
     "shell.execute_reply.started": "2020-05-23T11:39:02.334185Z"
    }
   },
   "outputs": [
    {
     "name": "stdout",
     "output_type": "stream",
     "text": [
      "A×B=\n",
      " [[ 6 -7  8]\n",
      " [20 -5 -6]]\n"
     ]
    }
   ],
   "source": [
    "import numpy as np\n",
    "A = np.array([[2,1,4,0],[1,-1,3,4]])\n",
    "B = np.array([[1,3,1],[0,-1,2],[1,-3,1],[4,0,-2]])\n",
    "\n",
    "S = np.dot(A,B)\n",
    "print(\"A×B=\\n {}\".format(S))"
   ]
  },
  {
   "cell_type": "markdown",
   "metadata": {
    "execution": {
     "iopub.execute_input": "2020-05-13T00:58:26.086103Z",
     "iopub.status.busy": "2020-05-13T00:58:26.086103Z",
     "iopub.status.idle": "2020-05-13T00:58:26.091090Z",
     "shell.execute_reply": "2020-05-13T00:58:26.091090Z",
     "shell.execute_reply.started": "2020-05-13T00:58:26.086103Z"
    }
   },
   "source": [
    "<br/>\n",
    "\n",
    "**3. 设$A = \\begin{bmatrix}\n",
    "1 & 2 & 1 & 0 \\\\\n",
    "2 & 1 & 0 & 1 \\\\\n",
    "3 & -2 & 2 & 1 \\\\\n",
    "1 & 2 & 4 & 3 \\\\\n",
    "\\end{bmatrix}$，\n",
    "$B = \\begin{bmatrix}\n",
    "3 & 4 & 1 & -2 \\\\\n",
    "2 & 1 & 2 & 2 \\\\\n",
    "2 & -2 & 2 & 1 \\\\\n",
    "1 & 2 & -4 & 3 \\\\\n",
    "\\end{bmatrix}$，求$M = 4A^2 + 3AB - 2BA+ 5B^2 + (AB)^T$。**\n",
    "\n",
    "**解:**"
   ]
  },
  {
   "cell_type": "code",
   "execution_count": 8,
   "metadata": {
    "execution": {
     "iopub.execute_input": "2020-05-23T11:40:03.286411Z",
     "iopub.status.busy": "2020-05-23T11:40:03.285412Z",
     "iopub.status.idle": "2020-05-23T11:40:03.299374Z",
     "shell.execute_reply": "2020-05-23T11:40:03.298376Z",
     "shell.execute_reply.started": "2020-05-23T11:40:03.285412Z"
    }
   },
   "outputs": [
    {
     "name": "stdout",
     "output_type": "stream",
     "text": [
      "Result = \n",
      " [[129  71 154  26]\n",
      " [ 97 107   4  35]\n",
      " [ 86  52  10 -23]\n",
      " [155  85  -3 141]]\n"
     ]
    }
   ],
   "source": [
    "import numpy as np\n",
    "A = np.array([[1,2,1,0],[2,1,0,1],[3,-2,2,1],[1,2,4,3]])\n",
    "B = np.array([[3,4,1,-2],[2,1,2,2],[2,-2,2,1],[1,2,-4,3]])\n",
    "\n",
    "M = 4*np.dot(A,A)+3*np.dot(A,B)-2*np.dot(B,A)+5*np.dot(B,B)+(np.dot(A,B).T)\n",
    "print(\"Result = \\n {}\".format(M))"
   ]
  },
  {
   "cell_type": "markdown",
   "metadata": {
    "execution": {
     "iopub.execute_input": "2020-05-13T00:58:26.086103Z",
     "iopub.status.busy": "2020-05-13T00:58:26.086103Z",
     "iopub.status.idle": "2020-05-13T00:58:26.091090Z",
     "shell.execute_reply": "2020-05-13T00:58:26.091090Z",
     "shell.execute_reply.started": "2020-05-13T00:58:26.086103Z"
    }
   },
   "source": [
    "<br/>\n",
    "\n",
    "**4. 矩阵的加法：设存在矩阵$A = \\begin{bmatrix} 1.2 & 3.4 & 5.6 \\\\ 7.8 & 9.1 & 0.7 \\end{bmatrix}$, 和向量$u = [100, 200]^T$。试求$(2A+3b)-(3A-2b)$。**\n",
    "\n",
    "**解：**"
   ]
  },
  {
   "cell_type": "code",
   "execution_count": 4,
   "metadata": {
    "execution": {
     "iopub.execute_input": "2020-05-23T11:39:02.349145Z",
     "iopub.status.busy": "2020-05-23T11:39:02.349145Z",
     "iopub.status.idle": "2020-05-23T11:39:02.354132Z",
     "shell.execute_reply": "2020-05-23T11:39:02.354132Z",
     "shell.execute_reply.started": "2020-05-23T11:39:02.349145Z"
    }
   },
   "outputs": [
    {
     "name": "stdout",
     "output_type": "stream",
     "text": [
      "[[498.8 496.6 494.4]\n",
      " [992.2 990.9 999.3]]\n"
     ]
    }
   ],
   "source": [
    "import numpy as np\n",
    "A = np.array([[1.2,3.4,5.6],[7.8,9.1,0.7]])\n",
    "u = np.array([[100,200]]).T\n",
    "\n",
    "print((2*A+3*u)-(3*A-2*u))"
   ]
  }
 ],
 "metadata": {
  "kernelspec": {
   "display_name": "Python 3",
   "language": "python",
   "name": "python3"
  },
  "language_info": {
   "codemirror_mode": {
    "name": "ipython",
    "version": 3
   },
   "file_extension": ".py",
   "mimetype": "text/x-python",
   "name": "python",
   "nbconvert_exporter": "python",
   "pygments_lexer": "ipython3",
   "version": "3.7.7"
  }
 },
 "nbformat": 4,
 "nbformat_minor": 4
}
