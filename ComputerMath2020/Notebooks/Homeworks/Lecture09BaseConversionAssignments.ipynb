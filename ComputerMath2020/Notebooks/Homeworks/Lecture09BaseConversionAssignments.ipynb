{
 "cells": [
  {
   "cell_type": "markdown",
   "metadata": {},
   "source": [
    "# **第09讲 基底变换** `课后习题`"
   ]
  },
  {
   "cell_type": "markdown",
   "metadata": {},
   "source": [
    "<font color=\"blue\">作者：欧新宇（Xinyu OU）</font>\n",
    "\n",
    "<font color=\"red\">本文档所展示的测试结果，均运行于：Intel Core i7-7700K CPU 4.2GHz</font>\n",
    "\n",
    "---"
   ]
  },
  {
   "cell_type": "markdown",
   "metadata": {
    "execution": {
     "iopub.execute_input": "2020-05-16T07:28:54.542095Z",
     "iopub.status.busy": "2020-05-16T07:28:54.540100Z",
     "iopub.status.idle": "2020-05-16T07:28:54.553067Z",
     "shell.execute_reply": "2020-05-16T07:28:54.552185Z",
     "shell.execute_reply.started": "2020-05-16T07:28:54.542095Z"
    }
   },
   "source": [
    "- ### **作业要求及提交**\n",
    "\n",
    "1. 将所有运行结果保存为一个`word`文档（特别推荐保存为`pdf`文档进行提交）\n",
    "2. 要求：使用编程环境完成下列习题，并按题目顺序进行排版，每个题目要求按如下顺序组织（若存在）:  \n",
    "`0).`题目(将题目完整Copy到作业文档中，可以通过公式编辑器编辑或截图方式）；  \n",
    "`1).`需要手工书写的部分，请尽量在word文档中进行编辑（迫不得已时，可书写在纸上并拍照）；  \n",
    "`2).`代码（尽量通过从编程环境截图粘贴）；  \n",
    "`3).`运行结果贴于文档中。 （复制运行结果到文档或通过截图粘贴）  \n",
    "`x). ` **如果熟悉本编程环境'Jupyter Notebook'也可以直接在本环境中编写所有文稿及代码，并打印成pdf文档进行提交。**\n",
    "3. 将文档上传至 `课堂派` 平台\n",
    "\n",
    "> 注意：截图只需要截取必要部分。此外，请确保截图清晰可见。\n",
    "\n",
    "\n",
    "- ### **提示：**\n",
    "\n",
    "在python中，如果需要对numpy数组中的元素进行格式化，可以使用以下两种方法\n",
    "\n",
    "`1.` 默认保留精度为n的浮点数, 对于小数位数不足n的，将自动截断\n",
    "\n",
    "```python\n",
    "np.set_printoptions(precision=3, suppress=True)  # 设置保留三位小数\n",
    "```\n",
    "\n",
    "`2.` 按照formatter的格式化要求进行设置，对于小数位数不足的元素，将进行补零\n",
    "```python\n",
    "np.set_printoptions(formatter={'float': '{: 0.3f}'.format})\n",
    "```\n",
    "\n",
    "---"
   ]
  },
  {
   "cell_type": "markdown",
   "metadata": {},
   "source": [
    "**1. 令$v_1=(4,3)^T, v_2=(2,5)^T$，对应于下列问题中每一组有序基$[u_1, u_2]$，求从$[v_1,v_2]$到$[u_1,u_2]$的转移矩阵。**\n",
    "\n",
    "(1). $u_1 = (1,2)^T, u_2 = (1,-4)^T$\n",
    "\n",
    "(2). $u_1 = (5,4)^T, u_2 = (2,5)^T$\n",
    "\n",
    "<br/>\n",
    "\n",
    "**2. 令$E=[(2,4)^T, (3,4)^T]$，并令$u=(3,5)^T,v=(6,8)^T$。计算$[u]_E, [v]_E$。**\n",
    "\n",
    "<br/>\n",
    "\n",
    "**3. 令$v_1=(1,2,3)^T, v_2=(2,3,4)^T, v_3=(3,4,5)^T$，并令$u_1=(9,7,6)^T, u_2=(8,6,3)^T, u_3=(2,4,6)^T$，求：**\n",
    "\n",
    "**(1). 求从特定基$[v_1, v_2, v_3]$到特定基$[u_1, u_2, u_3]$的转移矩阵。**\n",
    "\n",
    "**(2). 若$x=-3v_1 - 5v_2 + 7v_3$，确定向量$x$相应于$u_1,u_2,u_3$的坐标。**\n",
    "\n",
    "<br/>\n",
    "\n",
    "**4. 给定$v_1=\\begin{bmatrix} 3 \\\\ 5 \\end{bmatrix}, v_2=\\begin{bmatrix} -3 \\\\ -4 \\end{bmatrix}, S = \\begin{bmatrix} 2 & -2 \\\\ 3 & 5 \\end{bmatrix}$，求：$u_1, u_2$，使得$S$为从$[v_1, v_2]$到$[u_1, u_2]$的转移矩阵。**\n"
   ]
  },
  {
   "cell_type": "code",
   "execution_count": null,
   "metadata": {},
   "outputs": [],
   "source": []
  }
 ],
 "metadata": {
  "kernelspec": {
   "display_name": "Python 3",
   "language": "python",
   "name": "python3"
  },
  "language_info": {
   "codemirror_mode": {
    "name": "ipython",
    "version": 3
   },
   "file_extension": ".py",
   "mimetype": "text/x-python",
   "name": "python",
   "nbconvert_exporter": "python",
   "pygments_lexer": "ipython3",
   "version": "3.7.7"
  }
 },
 "nbformat": 4,
 "nbformat_minor": 4
}
