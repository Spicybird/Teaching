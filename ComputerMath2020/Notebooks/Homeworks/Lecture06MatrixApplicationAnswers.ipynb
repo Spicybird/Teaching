{
 "cells": [
  {
   "cell_type": "markdown",
   "metadata": {},
   "source": [
    "# **第06讲 矩阵的应用** `课后习题答案`"
   ]
  },
  {
   "cell_type": "markdown",
   "metadata": {},
   "source": [
    "<font color=\"blue\">作者：欧新宇（Xinyu OU）</font>\n",
    "\n",
    "<font color=\"red\">本文档所展示的测试结果，均运行于：Intel Core i7-7700K CPU 4.2GHz</font>\n",
    "\n",
    "---"
   ]
  },
  {
   "cell_type": "markdown",
   "metadata": {
    "execution": {
     "iopub.execute_input": "2020-05-16T07:28:54.542095Z",
     "iopub.status.busy": "2020-05-16T07:28:54.540100Z",
     "iopub.status.idle": "2020-05-16T07:28:54.553067Z",
     "shell.execute_reply": "2020-05-16T07:28:54.552185Z",
     "shell.execute_reply.started": "2020-05-16T07:28:54.542095Z"
    }
   },
   "source": [
    "- ### **作业要求及提交**\n",
    "\n",
    "1. 将所有运行结果保存为一个`word`文档（特别推荐保存为`pdf`文档进行提交）\n",
    "2. 要求：使用编程环境完成下列习题，并按题目顺序进行排版，每个题目要求按如下顺序组织（若存在）:  \n",
    "`0).`题目(将题目完整Copy到作业文档中，可以通过公式编辑器编辑或截图方式）；  \n",
    "`1).`需要手工书写的部分，请尽量在word文档中进行编辑（迫不得已时，可书写在纸上并拍照）；  \n",
    "`2).`代码（尽量通过从编程环境截图粘贴）；  \n",
    "`3).`运行结果贴于文档中。 （复制运行结果到文档或通过截图粘贴）  \n",
    "`x). ` **如果熟悉本编程环境'Jupyter Notebook'也可以直接在本环境中编写所有文稿及代码，并打印成pdf文档进行提交。**\n",
    "3. 将文档上传至 `课堂派` 平台\n",
    "\n",
    "> 注意：截图只需要截取必要部分。此外，请确保截图清晰可见。\n"
   ]
  },
  {
   "cell_type": "markdown",
   "metadata": {},
   "source": [
    "-  ### **答案及解析**"
   ]
  },
  {
   "cell_type": "markdown",
   "metadata": {},
   "source": [
    "**1. 给定矩阵$M=\\begin{bmatrix}\n",
    "1 & 0 & 0 & 0 \\\\\n",
    "0 & 1 & 0 & 0 \\\\\n",
    "0 & 0 & 1 & 0 \\\\\n",
    "\\end{bmatrix}$，分别求它的行空间形式和列空间形式。其中，向量组的系数以$a,b,c,d$进行表示。** "
   ]
  },
  {
   "cell_type": "markdown",
   "metadata": {},
   "source": [
    "**解：**\n",
    "\n",
    "矩阵M的行空间形式为：$a(1,0,0,0)+b(0,1,0,0)+c(0,0,1,0)=(a,b,c,0)$\n",
    "\n",
    "矩阵M的列空间形式为：$a\\begin{bmatrix} 1 \\\\ 0 \\\\ 0 \\end{bmatrix}\n",
    "+b\\begin{bmatrix} 0 \\\\ 1 \\\\ 0 \\end{bmatrix}\n",
    "+c\\begin{bmatrix} 0 \\\\ 0 \\\\ 1 \\end{bmatrix}\n",
    "+d\\begin{bmatrix} 0 \\\\ 0 \\\\ 0 \\end{bmatrix}\n",
    "=\\begin{bmatrix} a \\\\ b \\\\ c \\end{bmatrix}$"
   ]
  },
  {
   "cell_type": "markdown",
   "metadata": {},
   "source": [
    "**2. 设存在矩阵\n",
    "$A = \\begin{bmatrix} 1 & 4 \\\\ 2 & 5 \\\\ 3 & 6 \\end{bmatrix},\n",
    "B = \\begin{bmatrix} 1 & 4 & 7 \\\\ 2 & 5 & 8 \\end{bmatrix}$, 向量\n",
    "$u = \\begin{bmatrix} 10 \\\\ 20 \\end{bmatrix}, \n",
    "v = \\begin{bmatrix} 100\\\\ 200 \\\\300 \\end{bmatrix}$。\n",
    "请将乘法$Au$和$Bv$分解成列的视角。**"
   ]
  },
  {
   "cell_type": "markdown",
   "metadata": {},
   "source": [
    "**解：**\n",
    "\n",
    "$Au=\\begin{bmatrix} 1 & 4 \\\\ 2 & 5 \\\\ 3 & 6 \\end{bmatrix} \n",
    "\\begin{bmatrix} 10 \\\\ 20 \\end{bmatrix}\n",
    "=10\\begin{bmatrix} 1 \\\\ 2 \\\\ 3 \\end{bmatrix}\n",
    "+20\\begin{bmatrix} 4 \\\\ 5 \\\\ 6 \\end{bmatrix}$\n",
    "\n",
    "$Bv=\\begin{bmatrix} 1 & 4 & 7 \\\\ 2 & 5 & 8 \\end{bmatrix}\n",
    "\\begin{bmatrix} 100\\\\ 200 \\\\300 \\end{bmatrix}\n",
    "=100\\begin{bmatrix} 1 \\\\ 2 \\end{bmatrix}\n",
    "+200\\begin{bmatrix} 4 \\\\ 5 \\end{bmatrix}\n",
    "+300\\begin{bmatrix} 7 \\\\ 8 \\end{bmatrix}$\n",
    "\n",
    "<br/>"
   ]
  },
  {
   "cell_type": "markdown",
   "metadata": {},
   "source": [
    "**3. 【应用题】冠状病毒感染人员预测**\n",
    "\n",
    "冠状病毒的感染是非常快速的，某城市有800万人，在1月15日有2000人确诊感染了冠状病毒。假设每天新增确诊病例为未感染人口的0.4%，每天的治愈率为确诊人群的5%。假设在没有找到有效的抑制病例增加手段和防感染疫苗的情况下，2天，10天，20天，50天，100天后分别有多少确诊病例。\n",
    "\n",
    "**【进阶问题】** <font color=\"blue\">按照当前的设定，多少天以后达到峰值，即：新增确诊病例和新增治愈人数基本一致。</font>\n",
    "\n",
    "**【扩展问题】** <font color=\"red\">有兴趣的同学可以考虑，如何利用Python获取，当治愈率上升到一定的程度，或感染率降低到一定的程度后，出现拐点的日期。</font>\n"
   ]
  },
  {
   "cell_type": "markdown",
   "metadata": {},
   "source": [
    "**解**：我们可以用如下思路构建传染矩阵X。\n",
    "1. 矩阵X的第一行第一个元素为一天后仍然没有被感染的人占前一天没有被感染人群的百分比; 第一行第二个元素为前一天被治愈的人群占前一天确诊感染人群的百分比。。\n",
    "2. 矩阵A的第二行第一个元素为一天后被感染确诊的人占前一天没有被感染人群的百分比；第二行第二个元素为前一天确诊的同时没有被治愈的人占前一天确诊人群的百分比。\n",
    "\n",
    "则有:\n",
    "$A=\\begin{bmatrix}\n",
    "99.6/100 & 5/100 \\\\\n",
    "0.4/100 & 95/100 \\\\\n",
    "\\end{bmatrix}$\n",
    "\n",
    "若令 $x=\\begin{bmatrix} 8000000-2000 \\\\ 2000 \\end{bmatrix}$，则1天后确诊感染人数和正常人数可以用$A$乘以$x$计算。其中`(8000000-2000)*(99.6/100)`表示原来正常人群中仍然没有被感染的人数，`2000*(5/100)`表示一天后被治愈的人数，两者相加就是1天后正常人群的总数；`(8000000-2000)*(0.4/100)`表示新增确诊病例，`2000*(95/100)`表示一天后仍然没有被治愈的确诊人数，两者相加就是1天后处于确诊状态的被感染人群。\n",
    "\n",
    "$Ax=\\begin{bmatrix}\n",
    "99.6/100 & 5/100 \\\\\n",
    "0.4/100 & 95/100 \\\\\n",
    "\\end{bmatrix}\n",
    "\\begin{bmatrix} \n",
    "8000000-2000 \\\\\n",
    "2000 \\\\\n",
    "\\end{bmatrix}\n",
    "=\\begin{bmatrix} \n",
    "0.996*7998000 + 0.05*2000 \\\\\n",
    "0.004*7998000 + 0.95*2000 \\\\\n",
    "\\end{bmatrix}\n",
    "=\\begin{bmatrix} \n",
    "‭7,966,108‬ \\\\\n",
    "‭33,892‬ \\\\\n",
    "\\end{bmatrix}$\n",
    "\n",
    "一般地说，n天后，感染冠状病毒的人数和正常人数，可由$A^n x$求得。"
   ]
  },
  {
   "cell_type": "code",
   "execution_count": 2,
   "metadata": {
    "execution": {
     "iopub.execute_input": "2020-05-31T09:14:40.773665Z",
     "iopub.status.busy": "2020-05-31T09:14:40.773665Z",
     "iopub.status.idle": "2020-05-31T09:14:40.786605Z",
     "shell.execute_reply": "2020-05-31T09:14:40.785606Z",
     "shell.execute_reply.started": "2020-05-31T09:14:40.773665Z"
    }
   },
   "outputs": [
    {
     "name": "stdout",
     "output_type": "stream",
     "text": [
      "  2天后，未感染人数为7935938，确诊人数为64062\n",
      " 10天后，未感染人数为7710784，确诊人数为289216\n",
      " 20天后，未感染人数为7507362，确诊人数为492638\n",
      " 50天后，未感染人数为7413636，确诊人数为586364\n",
      "100天后，未感染人数为7407432，确诊人数为592568\n"
     ]
    }
   ],
   "source": [
    "import numpy as np\n",
    "A = np.array([[0.996, 0.05],[0.004,0.95]])\n",
    "x = np.array([[7998000],[2000]])\n",
    "\n",
    "n = [2, 10, 20, 50, 100] # n=1:A^2; n=2:A^3\n",
    "\n",
    "person = x\n",
    "\n",
    "for i in n:\n",
    "    for j in range(i):\n",
    "        person = np.dot(A, person)\n",
    "\n",
    "    print(\"{:3d}天后，未感染人数为{:.0f}，确诊人数为{:.0f}\".format(i, person[0][0], person[1][0]))\n"
   ]
  },
  {
   "cell_type": "markdown",
   "metadata": {},
   "source": [
    "<br/>\n",
    "\n",
    "**【进阶问题】** <font color=\"blue\">按照当前的设定，多少天以后达到峰值，即：新增确诊病例和新增治愈人数基本一致。</font>\n",
    "> 基本思路是设置一个`峰值`，当某一天确诊人数不再增长时，即确诊人数不高于峰值人数时，循环停止。"
   ]
  },
  {
   "cell_type": "markdown",
   "metadata": {},
   "source": [
    "- 方法一：使用for循环"
   ]
  },
  {
   "cell_type": "code",
   "execution_count": 6,
   "metadata": {
    "execution": {
     "iopub.execute_input": "2020-05-31T09:24:08.798137Z",
     "iopub.status.busy": "2020-05-31T09:24:08.797390Z",
     "iopub.status.idle": "2020-05-31T09:24:08.810072Z",
     "shell.execute_reply": "2020-05-31T09:24:08.809771Z",
     "shell.execute_reply.started": "2020-05-31T09:24:08.798137Z"
    }
   },
   "outputs": [
    {
     "name": "stdout",
     "output_type": "stream",
     "text": [
      "\n",
      " 峰值出现在第613天，此时未感染人数为7407407，确诊人数为592593\n"
     ]
    }
   ],
   "source": [
    "import numpy as np\n",
    "A = np.array([[0.996, 0.05],[0.004,0.95]])\n",
    "x = np.array([[7998000],[2000]])\n",
    "\n",
    "n = 999999 # n=1:A^2; n=2:A^3\n",
    "\n",
    "person = x\n",
    "top = 0\n",
    "\n",
    "for i in range(n):\n",
    "    person = np.dot(A, person)\n",
    "    if top < person[1][0]:\n",
    "        top = person[1][0]\n",
    "#         print(\"\\r {:3d}天后，未感染人数为{:.0f}，确诊人数为{:.0f}\".format(i, person[0][0], person[1][0]), end=\"\")\n",
    "    else:\n",
    "        print(\"\\n 峰值出现在第{:3d}天，此时未感染人数为{:.0f}，确诊人数为{:.0f}\".format(i, person[0][0], person[1][0]))\n",
    "        break"
   ]
  },
  {
   "cell_type": "markdown",
   "metadata": {},
   "source": [
    "- 方法二：使用while循环"
   ]
  },
  {
   "cell_type": "code",
   "execution_count": 7,
   "metadata": {
    "execution": {
     "iopub.execute_input": "2020-05-31T09:24:16.106469Z",
     "iopub.status.busy": "2020-05-31T09:24:16.105473Z",
     "iopub.status.idle": "2020-05-31T09:24:16.117404Z",
     "shell.execute_reply": "2020-05-31T09:24:16.116487Z",
     "shell.execute_reply.started": "2020-05-31T09:24:16.106469Z"
    }
   },
   "outputs": [
    {
     "name": "stdout",
     "output_type": "stream",
     "text": [
      "\n",
      " 峰值出现在第613天，此时未感染人数为7407407，确诊人数为592593\n"
     ]
    }
   ],
   "source": [
    "import numpy as np\n",
    "A = np.array([[0.996, 0.05],[0.004,0.95]])\n",
    "x = np.array([[7998000],[2000]])\n",
    "\n",
    "person = x # 初始状态\n",
    "top = person[1][0]\n",
    "person = np.dot(A, person)\n",
    "i = 0\n",
    "\n",
    "while top < person[1][0]:    \n",
    "    top = person[1][0]\n",
    "    person = np.dot(A, person)\n",
    "    i = i + 1\n",
    "\n",
    "print(\"\\n 峰值出现在第{:3d}天，此时未感染人数为{:.0f}，确诊人数为{:.0f}\".format(i, person[0][0], person[1][0]))\n"
   ]
  },
  {
   "cell_type": "markdown",
   "metadata": {
    "execution": {
     "iopub.execute_input": "2020-05-24T14:22:35.870037Z",
     "iopub.status.busy": "2020-05-24T14:22:35.869040Z",
     "iopub.status.idle": "2020-05-24T14:22:35.874027Z",
     "shell.execute_reply": "2020-05-24T14:22:35.874027Z",
     "shell.execute_reply.started": "2020-05-24T14:22:35.870037Z"
    }
   },
   "source": [
    "<br/>\n",
    "\n",
    "**4.【应用题】 网络的矩阵分割和连接**\n",
    "\n",
    "给出如下电路图，同时已知输入电流$i_{in}=25A$和输入电压$u_{in}=220V$，假设并联电路的电阻$R_{并}=200$欧姆，串联电路的电阻$R_{串}=4$欧姆，求输出电流$i_{out}$和输出电压$u_{out}$。（输出结果保留2位小数）\n",
    "\n",
    "> 在Python实现的时候，注意使用合理维度的数组存储数据。\n",
    "\n",
    "![](../../Attachments/L0601-hw201.png)\n",
    "\n",
    "解：观察以上电路图，不难得出结论，该电路图主要有2种不同的电路结构构成，分别是串联电路（第2,4组）和并联电路（第1,3,5组）。因此只需要分别求出这两种电路的传输矩阵，即可组件最终的五组电路构成的完整电路。\n",
    "\n",
    "**(1). 求串联电路的传输矩阵(以第二组电路为例）**\n",
    "\n",
    "1). 根据电路原理可以得到\n",
    "\n",
    "$i_3 = i_2, u_3 = u_2 - i_2 R_2 $\n",
    "\n",
    "2). 将公式转换为矩阵方程\n",
    "\n",
    "$\\begin{bmatrix} u_3 \\\\ i_3 \\end{bmatrix}\n",
    "=\\begin{bmatrix} u_2 - i_2 R_2 \\\\ 0 - i_2 \\end{bmatrix}\n",
    "=\\begin{bmatrix} 1 & -R_1 \\\\ 0 & 1 \\end{bmatrix} \\begin{bmatrix} u_2 \\\\ i_2 \\end{bmatrix}\n",
    "=A_{串} \\begin{bmatrix} u_2 \\\\ i_2 \\end{bmatrix}$\n",
    "\n",
    "3). 获得第一个子网络的传输矩阵，即`单一串联电路`的传输矩阵。\n",
    "\n",
    "$A_{串}=\\begin{bmatrix} 1 & -R_{串} \\\\ 0 & 1 \\end{bmatrix}\n",
    "=\\begin{bmatrix} 1 & -R_{串} \\\\ 0 & 1 \\end{bmatrix}$\n",
    "\n",
    "**(2). 求并联电路的传输矩阵(以第一组电路为例）**\n",
    "\n",
    "1). 根据电路原理可以得到\n",
    "\n",
    "$i_2 = i_1 - u_1/R_1, u_2 = u_1$\n",
    "\n",
    "2). 将公式转换为矩阵方程\n",
    "\n",
    "$\\begin{bmatrix} u_2 \\\\ i_2 \\end{bmatrix}\n",
    "=\\begin{bmatrix} u_1 + 0 i_1 \\\\ -u_1/R_1 + i_1 \\end{bmatrix}\n",
    "=\\begin{bmatrix} 1 & 0 \\\\ -1/R_2 & 1 \\end{bmatrix} \\begin{bmatrix} u_1 \\\\ i_1 \\end{bmatrix}\n",
    "=A_{并} \\begin{bmatrix} u_2 \\\\ i_2 \\end{bmatrix}$\n",
    "\n",
    "3). 获得第二个子网络的传输矩阵，即`单一并联电路`的传输矩阵。\n",
    "\n",
    "$A_{并}=\\begin{bmatrix} 1 & 0 \\\\ -1/R_2 & 1 \\end{bmatrix}\n",
    "\\begin{bmatrix} 1 & 0 \\\\ -1/R_{并} & 1 \\end{bmatrix}$\n",
    "\n",
    "**(3). 求总电路的传输矩阵**\n",
    "\n",
    "1). 联立5个组件电路获得最终的输出电压和电流\n",
    "\n",
    "$\\begin{bmatrix} u_{out} \\\\ i_{out} \\end{bmatrix}\n",
    "=A_5 A_4 A_3 A_2 A_1 \\begin{bmatrix} u_1 \\\\ i_1 \\end{bmatrix}\n",
    "=A_{并} A_{串} A_{并} A_{串} A_{并} \\begin{bmatrix} u_1 \\\\ i_1 \\end{bmatrix}$\n",
    "\n",
    "2). 使用Python求解最终结果\n",
    "\n",
    "$A=A_2 A_1\n",
    "=\\begin{bmatrix} 1 & 0 \\\\ -1/R_2 & 1 \\end{bmatrix} \\begin{bmatrix} 1 & -R_1 \\\\ 0 & 1 \\end{bmatrix}\n",
    "=\\begin{bmatrix} 1 & -R_1 \\\\ -1/R_2 & 1+R_1/R_2 \\end{bmatrix}$\n",
    "\n",
    "3). 利用传输矩阵求输出电压和输出电流\n",
    "\n",
    "$\\begin{bmatrix} u_3 \\\\ i_3 \\end{bmatrix}\n",
    "=A \\begin{bmatrix} u_1 \\\\ i_1 \\end{bmatrix}\n",
    "=\\begin{bmatrix} 1 & -R_1 \\\\ -1/R_2 & 1+R_1/R_2 \\end{bmatrix} \\begin{bmatrix} u_1 \\\\ i_1 \\end{bmatrix}$\n",
    "\n",
    "下面给出矩阵乘法$A=A_2 A_1$的Python描述。"
   ]
  },
  {
   "cell_type": "code",
   "execution_count": 72,
   "metadata": {
    "execution": {
     "iopub.execute_input": "2020-05-26T14:16:54.098585Z",
     "iopub.status.busy": "2020-05-26T14:16:54.098585Z",
     "iopub.status.idle": "2020-05-26T14:16:54.108558Z",
     "shell.execute_reply": "2020-05-26T14:16:54.108558Z",
     "shell.execute_reply.started": "2020-05-26T14:16:54.098585Z"
    }
   },
   "outputs": [
    {
     "name": "stdout",
     "output_type": "stream",
     "text": [
      "输出电压为: [-Rs*(i0 - u0/Rp) - Rs*(i0 - u0/Rp - (-Rs*(i0 - u0/Rp) + u0)/Rp) + u0] 伏特\n",
      "输出电流为: [i0 - u0/Rp - (-Rs*(i0 - u0/Rp) + u0)/Rp - (-Rs*(i0 - u0/Rp) - Rs*(i0 - u0/Rp - (-Rs*(i0 - u0/Rp) + u0)/Rp) + u0)/Rp] 安培\n"
     ]
    }
   ],
   "source": [
    "import numpy as np\n",
    "from sympy import *\n",
    "\n",
    "# 设 p表示并联电路 parallel connection, s表示并联电路 series connection\n",
    "\n",
    "Rs = Symbol('Rs', real=True)   \n",
    "Rp = Symbol('Rp', real=True)\n",
    "u0 = Symbol('u0', real=True)\n",
    "i0 = Symbol('i0', real=True)\n",
    "\n",
    "IN = np.array([[u0], [i0]]) \n",
    "\n",
    "As = np.array([[1,-Rs],[0,1]])\n",
    "Ap = np.array([[1,0],[-1/Rp,1]])\n",
    "A = [Ap, As, Ap, As, Ap]\n",
    "\n",
    "OUT = IN\n",
    "for item in A:\n",
    "    OUT = np.dot(item, OUT)\n",
    "\n",
    "\n",
    "print('输出电压为: [{}] 伏特'.format(OUT[0][0]))\n",
    "print('输出电流为: [{}] 安培'.format(OUT[1][0]))"
   ]
  },
  {
   "cell_type": "code",
   "execution_count": 68,
   "metadata": {
    "execution": {
     "iopub.execute_input": "2020-05-26T14:15:48.683502Z",
     "iopub.status.busy": "2020-05-26T14:15:48.683502Z",
     "iopub.status.idle": "2020-05-26T14:15:48.690483Z",
     "shell.execute_reply": "2020-05-26T14:15:48.690483Z",
     "shell.execute_reply.started": "2020-05-26T14:15:48.683502Z"
    }
   },
   "outputs": [
    {
     "name": "stdout",
     "output_type": "stream",
     "text": [
      "输出电压为: 31.29V\n",
      "输出电流为: 23.12A\n"
     ]
    }
   ],
   "source": [
    "import numpy as np\n",
    "from sympy import *\n",
    "\n",
    "# 设 p表示并联电路 parallel connection, s表示并联电路 series connection\n",
    "\n",
    "Rs = 4     # Symbol('Rs', real=True)  \n",
    "Rp = 200   # Symbol('Rp', real=True)\n",
    "u0 = 220   # Symbol('u0', real=True)\n",
    "i0 = 25    # Symbol('i0', real=True)\n",
    "\n",
    "IN = np.array([[u0], [i0]]) \n",
    "\n",
    "As = np.array([[1,-Rs],[0,1]])\n",
    "Ap = np.array([[1,0],[-1/Rp,1]])\n",
    "A = [Ap, As, Ap, As, Ap]\n",
    "\n",
    "OUT = IN\n",
    "for item in A:\n",
    "    OUT = np.dot(item, OUT)\n",
    "\n",
    "print('输出电压为: {:.2f}V'.format(OUT[0][0]))\n",
    "print('输出电流为: {:.2f}A'.format(OUT[1][0]))"
   ]
  }
 ],
 "metadata": {
  "kernelspec": {
   "display_name": "Python 3",
   "language": "python",
   "name": "python3"
  },
  "language_info": {
   "codemirror_mode": {
    "name": "ipython",
    "version": 3
   },
   "file_extension": ".py",
   "mimetype": "text/x-python",
   "name": "python",
   "nbconvert_exporter": "python",
   "pygments_lexer": "ipython3",
   "version": "3.7.7"
  }
 },
 "nbformat": 4,
 "nbformat_minor": 4
}
