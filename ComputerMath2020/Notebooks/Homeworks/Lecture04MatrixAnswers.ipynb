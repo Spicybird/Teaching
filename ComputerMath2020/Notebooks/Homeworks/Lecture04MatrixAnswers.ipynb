{
 "cells": [
  {
   "cell_type": "markdown",
   "metadata": {},
   "source": [
    "# **第04讲 矩阵的基础知识** `课后习题答案`"
   ]
  },
  {
   "cell_type": "markdown",
   "metadata": {},
   "source": [
    "<font color=\"blue\">作者：欧新宇（Xinyu OU）</font>\n",
    "\n",
    "<font color=\"red\">本文档所展示的测试结果，均运行于：Intel Core i7-7700K CPU 4.2GHz</font>\n",
    "\n",
    "---"
   ]
  },
  {
   "cell_type": "markdown",
   "metadata": {
    "execution": {
     "iopub.execute_input": "2020-05-16T07:28:54.542095Z",
     "iopub.status.busy": "2020-05-16T07:28:54.540100Z",
     "iopub.status.idle": "2020-05-16T07:28:54.553067Z",
     "shell.execute_reply": "2020-05-16T07:28:54.552185Z",
     "shell.execute_reply.started": "2020-05-16T07:28:54.542095Z"
    }
   },
   "source": [
    "- ### **作业要求及提交**\n",
    "\n",
    "1. 将所有运行结果保存为一个`word`文档（特别推荐保存为`pdf`文档进行提交）\n",
    "2. 要求：使用编程环境完成下列习题，并按题目顺序进行排版，每个题目要求按如下顺序组织（若存在）:  \n",
    "`0).`题目(将题目完整Copy到作业文档中，可以通过公式编辑器编辑或截图方式）；  \n",
    "`1).`需要手工书写的部分，请尽量在word文档中进行编辑（迫不得已时，可书写在纸上并拍照）；  \n",
    "`2).`代码（尽量通过从编程环境截图粘贴）；  \n",
    "`3).`运行结果贴于文档中。 （复制运行结果到文档或通过截图粘贴）  \n",
    "`x). ` **如果熟悉本编程环境'Jupyter Notebook'也可以直接在本环境中编写所有文稿及代码，并打印成pdf文档进行提交。**\n",
    "3. 将文档上传至 `课堂派` 平台\n",
    "\n",
    "> 注意：截图只需要截取必要部分。此外，请确保截图清晰可见。\n"
   ]
  },
  {
   "cell_type": "markdown",
   "metadata": {},
   "source": [
    "-  ### **答案及解析**"
   ]
  },
  {
   "cell_type": "markdown",
   "metadata": {},
   "source": [
    "**1. 编写Python代码，实现以下矩阵的创建，并显示（打印）到屏幕。**\n",
    "\n",
    "$(1). A=\\begin{bmatrix}\n",
    "2 & 1 & 4 & 0 \\\\\n",
    "1 & -1 & 3 & 4 \\\\\n",
    "\\end{bmatrix}$\n",
    "\n",
    "$(2). B=\\begin{bmatrix}\n",
    "1 & 3 & 1 \\\\\n",
    "0 & -1 & 2 \\\\\n",
    "1 & -3 & 1 \\\\\n",
    "4 & 0 & -2 \\\\\n",
    "\\end{bmatrix}$\n"
   ]
  },
  {
   "cell_type": "markdown",
   "metadata": {},
   "source": [
    "解："
   ]
  },
  {
   "cell_type": "code",
   "execution_count": 3,
   "metadata": {},
   "outputs": [
    {
     "name": "stdout",
     "output_type": "stream",
     "text": [
      "A= \n",
      "[[ 2  1  4  0]\n",
      " [ 1 -1  3  4]]\n",
      "B= \n",
      "[[ 1  3  1]\n",
      " [ 0 -1  2]\n",
      " [ 1 -3  1]\n",
      " [ 4  0 -2]]\n"
     ]
    }
   ],
   "source": [
    "import numpy as np\n",
    "A = np.array([[2,1,4,0],[1,-1,3,4]])\n",
    "B = np.array([[1,3,1],[0,-1,2],[1,-3,1],[4,0,-2]])\n",
    "\n",
    "print('A= \\n{}'.format(A))\n",
    "print('B= \\n{}'.format(B))"
   ]
  },
  {
   "cell_type": "markdown",
   "metadata": {},
   "source": [
    "**2. 【计算题】给定以下两个矩阵A和B，试求线性组合S=2.4A+1.7B，并将结果显示（打印）到屏幕。**\n",
    "\n",
    "$A=\\begin{bmatrix}\n",
    "2.2 & 1.5 & 4.4 \\\\\n",
    "1.4 & -1.1 & 3.1 \\\\\n",
    "\\end{bmatrix}, \n",
    "B=\\begin{bmatrix}\n",
    "1.2 & 3 & 1.6 \\\\\n",
    "0 & -1.8 & 2.3 \\\\\n",
    "\\end{bmatrix}$"
   ]
  },
  {
   "cell_type": "markdown",
   "metadata": {},
   "source": [
    "解："
   ]
  },
  {
   "cell_type": "code",
   "execution_count": 6,
   "metadata": {},
   "outputs": [
    {
     "name": "stdout",
     "output_type": "stream",
     "text": [
      "S = \n",
      "[[ 7.32  8.7  13.28]\n",
      " [ 3.36 -5.7  11.35]]\n"
     ]
    }
   ],
   "source": [
    "import numpy as np\n",
    "A = np.array([[2.2,1.5,4.4],[1.4,-1.1,3.1]])\n",
    "B = np.array([[1.2,3,1.6],[0,-1.8,2.3]])\n",
    "\n",
    "S = 2.4 * A + 1.7 * B\n",
    "\n",
    "print('S = \\n{}'.format(S))"
   ]
  }
 ],
 "metadata": {
  "kernelspec": {
   "display_name": "Python 3",
   "language": "python",
   "name": "python3"
  },
  "language_info": {
   "codemirror_mode": {
    "name": "ipython",
    "version": 3
   },
   "file_extension": ".py",
   "mimetype": "text/x-python",
   "name": "python",
   "nbconvert_exporter": "python",
   "pygments_lexer": "ipython3",
   "version": "3.7.7"
  }
 },
 "nbformat": 4,
 "nbformat_minor": 4
}
