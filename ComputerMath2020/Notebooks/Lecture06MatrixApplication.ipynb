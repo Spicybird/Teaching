{
 "cells": [
  {
   "cell_type": "markdown",
   "metadata": {},
   "source": [
    "# **第06讲 矩阵的应用**"
   ]
  },
  {
   "cell_type": "markdown",
   "metadata": {},
   "source": [
    "<font color=\"blue\">作者：欧新宇（Xinyu OU）</font>\n",
    "\n",
    "<font color=\"red\">本文档所展示的测试结果，均运行于：Intel Core i7-7700K CPU 4.2GHz</font>\n",
    "\n",
    "---"
   ]
  },
  {
   "cell_type": "markdown",
   "metadata": {},
   "source": [
    "**【学习目标】**\n",
    "- 矩阵的定义及基本操作\n",
    "- 基于矩阵的向量\n",
    "- 特殊形态的矩阵\n",
    "- 矩阵的四则运算\n",
    "- 张量的常用操作\n",
    "- 矩阵的分块\n",
    "- **矩阵的应用**\n",
    "\n",
    "**【本章要点】**\n",
    "\n",
    "<br/>"
   ]
  },
  {
   "cell_type": "markdown",
   "metadata": {},
   "source": [
    "## 一. 从线性变换的角度看矩阵与向量的乘法"
   ]
  },
  {
   "cell_type": "markdown",
   "metadata": {},
   "source": [
    "### 1. 基本定义"
   ]
  },
  {
   "cell_type": "markdown",
   "metadata": {},
   "source": [
    "矩阵与向量的乘法通常可以理解成向量 $x$ 到向量 $y$ 的线性变换。\n",
    "\n",
    "> **【定义6.1】** 对于向量 $y=[y_1, y_2, ..., y_m]^T$，若它能由向量 $x=[x_1, x_2,...,x_n]^T$ 线性表示，即有：\n",
    "\n",
    "$\\left\\{\n",
    "\\begin{aligned}\n",
    "& y_1 = a_{11} x_{1} + a_{12} x_{2} + ... + a_{1n} x_{n} \\\\\n",
    "& y_2 = a_{21} x_{1} + a_{22} x_{2} + ... + a_{2n} x_{n} \\\\\n",
    "& ... \\\\\n",
    "& y_m = a_{m1} x_{1} + a_{m2} x_{2} + ... + a_{mn} x_{n} \\\\\n",
    "\\end{aligned}\n",
    "\\right.$\n",
    "\n",
    "则称此关系式为向量$x$到向量$y$的**线性变换**，可以写成输出向量 $y$ 等于系数矩阵$A$左乘输入向量$x$：\n",
    "\n",
    "$y=\\begin{bmatrix} \n",
    "    y_1 \\\\ \n",
    "    y_2 \\\\ \n",
    "    ... \\\\ \n",
    "    y_m \\\\\n",
    "\\end{bmatrix}\n",
    "=\\begin{bmatrix} \n",
    "    a_{11} & a_{12} & ... & a_{1n} \\\\ \n",
    "    a_{21} & a_{22} & ... & a_{2n} \\\\ \n",
    "    ... & ... & ... & ... \\\\ \n",
    "    a_{m1} & a_{m2} & ... & a_{mn} \\\\\n",
    "\\end{bmatrix}\n",
    "\\begin{bmatrix} \n",
    "    x_1 \\\\ \n",
    "    x_2 \\\\ \n",
    "    ... \\\\ \n",
    "    x_n \\\\\n",
    "\\end{bmatrix}\n",
    "=\\begin{bmatrix} \n",
    "    a_{11} x_{1} + a_{12} x_{2} + ... + a_{1n} x_{n} \\\\ \n",
    "    a_{21} x_{1} + a_{22} x_{2} + ... + a_{2n} x_{n} \\\\ \n",
    "    ...  \\\\ \n",
    "    a_{m1} x_{1} + a_{m2} x_{2} + ... + a_{mn} x_{n} \\\\\n",
    "\\end{bmatrix}\n",
    "=AX$\n",
    "\n",
    "*注意 $m$ 不一定等于 $n$.* 一般而言，$y=Ax$ 的形式是便于描述向量x的空间位置在矩阵A的作用下进行变换的过程。此时需要特别注意的是，在进行乘法的时候，**矩阵A在左，列向量x在右**，即Ax的顺序不能变。正如前面所讲，`矩阵与向量`的*乘法*可以看作是`矩阵与矩阵`的*乘法*第一种特征形式，只不过位于后面的矩阵是一个列数为1的特殊矩阵。\n",
    "\n",
    "对照矩阵与矩阵的乘法规则，我们可以总结矩阵与向量的乘法规则：当把列向量看作是一个列数为1的特殊矩阵时，那么运算过程就变得比较简单了。  \n",
    "1. 矩阵在左，列向量在右，矩阵的列数和列向量的维数必须相等；\n",
    "2. 矩阵和列向量相乘的结果也是一个列向量；\n",
    "3. 矩阵的行数就是结果向量的维数；\n",
    "4. 乘法运算的实施过程就是矩阵的每行和列向量的对应元素分别相乘后,再进行相加。\n"
   ]
  },
  {
   "cell_type": "markdown",
   "metadata": {
    "toc-hr-collapsed": true,
    "toc-nb-collapsed": true
   },
   "source": [
    "### 2. 多次线性变换等价于矩阵连乘\n",
    "\n",
    "设 $ \\left\\{ \n",
    "\\begin{aligned}\n",
    "y_1 & = a_{11}x_1 + a_{12}x_2 + a_{13}x_3 \\\\\n",
    "y_2 & = a_{21}x_1 + a_{22}x_2 + a_{23}x_3\n",
    "\\end{aligned}\n",
    "\\right. $ 可写成 $y=Ax$，且\n",
    "$ \\left\\{ \n",
    "\\begin{aligned}\n",
    "x_1 & = b_{11}t_1 + b_{12}t_2 \\\\\n",
    "x_2 & = b_{21}t_1 + b_{22}t_2 \\\\\n",
    "x_3 & = b_{31}t_1 + b_{22}t_2\n",
    "\\end{aligned}\n",
    "\\right. $ 可写成 $x=Bt$。\n",
    "\n",
    "则有：\n",
    "\n",
    "$y = \\begin{bmatrix} \n",
    "a_{11} & a_{12} & a_{13} \\\\\n",
    "a_{21} & a_{22} & a_{23} \\\\ \n",
    "\\end{bmatrix}\n",
    "\\begin{bmatrix} \n",
    "b_{11} & b_{12} \\\\\n",
    "b_{21} & b_{22} \\\\ \n",
    "b_{31} & b_{32} \\\\\n",
    "\\end{bmatrix}\n",
    "\\begin{bmatrix} t_1 \\\\ t_2 \\end{bmatrix} \\\\ \n",
    "\\quad = ABt \\\\\n",
    "\\quad =\\begin{bmatrix} \n",
    "a_{11}b_{11} + a_{12}b_{21} + a_{13}b_{31} & a_{11}b_{12} + a_{12}b_{22} + a_{13}b_{32} \\\\\n",
    "a_{21}b_{11} + a_{22}b_{21} + a_{23}b_{31} & a_{21}b_{12} + a_{22}b_{22} + a_{23}b_{32} \\\\ \n",
    "\\end{bmatrix}\n",
    "\\begin{bmatrix} t_1 \\\\ t_2 \\end{bmatrix}$\n"
   ]
  },
  {
   "cell_type": "markdown",
   "metadata": {},
   "source": [
    "### 3. 从矩阵乘法的角度看线性方程组"
   ]
  },
  {
   "cell_type": "markdown",
   "metadata": {},
   "source": [
    "线性方程组 $ \\left\\{ \n",
    "\\begin{aligned}\n",
    "a_{11}x_1 + a_{12}x_2 + ... + a_{1n}x_n = b_1 \\\\\n",
    "a_{21}x_1 + a_{22}x_2 + ... + a_{2n}x_n = b_2 \\\\\n",
    "... \\\\\n",
    "a_{m1}x_1 + a_{m2}x_2 + ... + a_{mn}x_n = b_m \\\\\n",
    "\\end{aligned}\n",
    "\\right.$ 可以看成是系数矩阵***A***与输入变量***x***的乘积: $Ax=b$。\n",
    "\n",
    "其中，$A = \\begin{bmatrix} \n",
    "a_{11} + a_{12} + ... + a_{1n} = b_1 \\\\\n",
    "a_{21} + a_{22} + ... + a_{2n} = b_2 \\\\\n",
    "... \\\\\n",
    "a_{m1} + a_{m2} + ... + a_{mn} = b_m \\\\\n",
    "\\end{bmatrix}，\n",
    "x = \\begin{bmatrix} x_1 \\\\ x_2 \\\\ ... \\\\ x_n \\end{bmatrix}，\n",
    "b = \\begin{bmatrix} b_1 \\\\ b_2 \\\\ ... \\\\ b_m \\end{bmatrix}.$"
   ]
  },
  {
   "cell_type": "markdown",
   "metadata": {
    "execution": {
     "iopub.execute_input": "2020-05-24T09:26:01.291788Z",
     "iopub.status.busy": "2020-05-24T09:26:01.290790Z",
     "iopub.status.idle": "2020-05-24T09:26:01.305752Z",
     "shell.execute_reply": "2020-05-24T09:26:01.304753Z",
     "shell.execute_reply.started": "2020-05-24T09:26:01.291788Z"
    }
   },
   "source": [
    "\n",
    "**【例6.1】** 给出一个矩阵与向量相乘的例子：$\\begin{bmatrix} \n",
    "    1 & 2  \\\\\n",
    "    4 & 5  \\\\\n",
    "    7 & 8  \\\\  \n",
    "\\end{bmatrix}\n",
    "\\begin{bmatrix} \n",
    "    3 \\\\\n",
    "    4 \\\\ \n",
    "\\end{bmatrix}\n",
    "=\\begin{bmatrix} \n",
    "    1*3+2*4 \\\\\n",
    "    4*3+5*4 \\\\\n",
    "    7*3+8*4 \\\\\n",
    "\\end{bmatrix}\n",
    "=\\begin{bmatrix} \n",
    "    11 \\\\\n",
    "    32 \\\\\n",
    "    53 \\\\\n",
    "\\end{bmatrix}$.\n",
    "\n",
    "下面给出Python描述："
   ]
  },
  {
   "cell_type": "code",
   "execution_count": 1,
   "metadata": {
    "execution": {
     "iopub.execute_input": "2020-05-24T15:27:12.029311Z",
     "iopub.status.busy": "2020-05-24T15:27:12.028314Z",
     "iopub.status.idle": "2020-05-24T15:27:12.367913Z",
     "shell.execute_reply": "2020-05-24T15:27:12.367913Z",
     "shell.execute_reply.started": "2020-05-24T15:27:12.028314Z"
    }
   },
   "outputs": [
    {
     "name": "stdout",
     "output_type": "stream",
     "text": [
      "[[11]\n",
      " [32]\n",
      " [53]]\n"
     ]
    }
   ],
   "source": [
    "import numpy as np\n",
    "A = np.array([[1,2],\n",
    "              [4,5],\n",
    "              [7,8]])\n",
    "x = np.array([[3,4]]).T\n",
    "print(np.dot(A,x))"
   ]
  },
  {
   "cell_type": "markdown",
   "metadata": {},
   "source": [
    "**【结果分析】**\n",
    "\n",
    "从程序运行的结果来看，原始向量 $x=\\begin{bmatrix} 3 \\\\ 4 \\end{bmatrix}$ 表示二维平面的一个点，其在二维平面中的坐标为 A(3, 4)，经过与矩阵 $A=\\begin{bmatrix} 1 & 4 & 7 \\\\ 2 & 5 & 8 \\end{bmatrix}$ 的乘法运算后，最终将原始点 A 转换为新的目标点B，其空间坐标为B(11,32,53)。\n",
    "\n",
    "从以上的例子可以总结出矩阵所发挥的重要作用：\n",
    "\n",
    "> 在指定矩阵的作用下，原始空间中的向量被**映射**转换到了目标空间的新坐标，向量的空间`位置`由此发生了变化，甚至在映射后，目标空间的维数想较于原始空间都有可能发生改变。"
   ]
  },
  {
   "cell_type": "markdown",
   "metadata": {},
   "source": [
    "## 二. 从向量的角度看矩阵乘法"
   ]
  },
  {
   "cell_type": "markdown",
   "metadata": {
    "toc-hr-collapsed": true,
    "toc-nb-collapsed": true
   },
   "source": [
    "### 1. 行空间和列空间\n",
    "\n",
    "如果***A***是一个$m \\times n$的矩阵，***A***的每一行为一个实的n元组，于是可以将其看成是 $\\bf{R}^{1 \\times n}$ 中的一个向量。对应于***A***的$m$个行的向量称为***A***的行向量（row vector），记作：\n",
    "\n",
    "$A=\\begin{bmatrix} a_{row_1} \\\\ a_{row_2} \\\\ ... \\\\ a_{row_m} \\end{bmatrix}$\n",
    "\n",
    "类似地，***A***的每一列可以看成是$\\bf{R}^m$中的一个向量，且称这$n$个向量为***A***的列向量(column vector)，记作：\n",
    "\n",
    "$A = [a_{col_1}, a_{col_2}, ..., a_{col_n}]$ \n",
    "\n",
    "**【定义6.2】** 如果***A***为一个$m \\times n$的矩阵，由***A***的行向量张成的$\\bf{R}^{1 \\times n}$的子空间称为***A***的**行空间**(row space)。由***A***的各列张成的$\\bf{R}^m$的子空间称为***A***的**列空间**(column space)。\n",
    "\n",
    "**【例6.2】** 令$A=\\begin{bmatrix} 1 & 0 & 0  \\\\ 0 & 1 & 0 \\end{bmatrix}$，则:\n",
    "\n",
    "- A的行空间有如下形式的三元组：\n",
    "$\\alpha(1,0,0)+\\beta(0,1,0)=(\\alpha,\\beta,0)$\n",
    "\n",
    "- A的列空间是所有如下形式的向量：$\\alpha \\begin{bmatrix} 1 \\\\ 0 \\end{bmatrix} + \\beta \\begin{bmatrix} 0 \\\\ 1 \\end{bmatrix} + \\gamma \\begin{bmatrix} 0 \\\\ 0 \\end{bmatrix} = \\begin{bmatrix} \\alpha \\\\ \\beta \\end{bmatrix}$\n",
    "\n",
    "因此，***A***的行空间为一个$\\bf{R}^{1 \\times 3}$的二维子空间，且A的列空间为$\\bf{R}^2$。"
   ]
  },
  {
   "cell_type": "markdown",
   "metadata": {},
   "source": [
    "### 2. 基于行视角的矩阵乘法\n",
    "\n",
    "下面我们来回顾一下矩阵和向量相乘的运算法则。假设存在一个$m$维向量$x$和一个$m \\times n$的矩阵$A$，它们相乘的规则如下：\n",
    "\n",
    "$Ax=\\begin{bmatrix} \n",
    "    a_{11} & a_{12} & ... & a_{1n} \\\\ \n",
    "    a_{21} & a_{22} & ... & a_{2n} \\\\ \n",
    "    ... & ... & ... & ... \\\\ \n",
    "    a_{m1} & a_{m2} & ... & a_{mn} \\\\\n",
    "\\end{bmatrix}\n",
    "\\begin{bmatrix} \n",
    "    x_1 \\\\ \n",
    "    x_2 \\\\ \n",
    "    ... \\\\ \n",
    "    x_n \\\\\n",
    "\\end{bmatrix}\n",
    "=\\begin{bmatrix} \n",
    "    a_{11} x_{1} + a_{12} x_{2} + ... + a_{1n} x_{n} \\\\ \n",
    "    a_{21} x_{1} + a_{22} x_{2} + ... + a_{2n} x_{n} \\\\ \n",
    "    ...  \\\\ \n",
    "    a_{m1} x_{1} + a_{m2} x_{2} + ... + a_{mn} x_{n} \\\\\n",
    "\\end{bmatrix}$\n",
    "\n",
    "不难发现，矩阵$A$第$i$行的行向量的各成分和列向量$x$各成分分别相乘后再相加，得到的就是结果向量$Ax$中的第$i$个成分。这个计算方法就是`多次应用了向量点乘的定义式`，即：\n",
    "\n",
    "$Ax=\\begin{bmatrix} \n",
    "    row_{1} \\\\ \n",
    "    row_{2} \\\\ \n",
    "    ...  \\\\ \n",
    "    row_{m} \\\\\n",
    "\\end{bmatrix}x\n",
    "=\\begin{bmatrix} \n",
    "    row_{1} · x \\\\ \n",
    "    row_{2} · x \\\\ \n",
    "    ...  \\\\ \n",
    "    row_{m} · x \\\\\n",
    "\\end{bmatrix}$\n",
    "\n",
    "对于矩阵和向量的乘法运算，以上就是按行计算的展示，这也是常规的计算规则。但看上去只是一种规范性的计算法则，并没有太多的几何意义和内涵。下面我们给出另外一种从列的视角来解释的矩阵乘法。"
   ]
  },
  {
   "cell_type": "markdown",
   "metadata": {},
   "source": [
    "### 3. 基于列视角矩阵乘法\n",
    "\n",
    "我们依然以一个$m$维向量$x$和一个$m \\times n$的矩阵$A$的乘法为例：\n",
    "\n",
    "$Ax=\\begin{bmatrix} \n",
    "a_{11} & a_{12} & ... & a_{1n} \\\\ \n",
    "a_{21} & a_{22} & ... & a_{2n} \\\\ \n",
    "... & ... & ... & ... \\\\ \n",
    "a_{m1} & a_{m2} & ... & a_{mn} \\end{bmatrix}\n",
    "\\begin{bmatrix} x_1 \\\\ x_2 \\\\ ... \\\\ x_n \\end{bmatrix}\n",
    "=x_1 \\begin{bmatrix} a_{11} \\\\ a_{21} \\\\ ... \\\\ a_{m1} \\end{bmatrix}\n",
    "+x_2 \\begin{bmatrix} a_{12} \\\\ a_{22} \\\\ ... \\\\ a_{m2} \\end{bmatrix}\n",
    "+... \n",
    "+x_n \\begin{bmatrix} a_{1n} \\\\ a_{2n} \\\\ ... \\\\ a_{mn} \\end{bmatrix}\n",
    "=\\begin{bmatrix} \n",
    "a_{11} x_{1} + a_{12} x_{2} + ... + a_{1n} x_{n} \\\\ \n",
    "a_{21} x_{1} + a_{22} x_{2} + ... + a_{2n} x_{n} \\\\ \n",
    "... \\\\ \n",
    "a_{m1} x_{1} + a_{m2} x_{2} + ... + a_{mn} x_{n}\\end{bmatrix}$\n",
    "\n",
    "基于这样的拆解方式，依然可以得到正确的结果。\n",
    "\n",
    "不难发现的是，矩阵$A$第$j$列的列向量的各成分和列向量$x$对应的第$j$行相乘，得到的是结果向量$Ax$中的第$j$个成分。$Ax$相乘的运算就简化成了两个向量的点乘，即：\n",
    "\n",
    "$Ax=[Col_1, Col_2,...,Col_n] \\begin{bmatrix} x_1 \\\\ x_2 \\\\ ... \\\\ x_n \\end{bmatrix}$。\n",
    "\n",
    "这个结果很有趣，从列的角度来看，矩阵$A$与向量$x$的乘法，实质上对矩阵A的各个列向量进行线性组合的过程，每个列向量的系数就是向量$x$的各个对应成分。\n",
    "\n",
    "**【例6.3】** 给出矩阵乘法\n",
    "\n",
    "$Ax=\\begin{bmatrix} 1 & 2 \\\\ 3 & 4 \\end{bmatrix}\n",
    "\\begin{bmatrix} 3 \\\\ 5 \\end{bmatrix}\n",
    "=3\\begin{bmatrix} 1 \\\\ 3 \\end{bmatrix}\n",
    "+5\\begin{bmatrix} 2 \\\\ 4 \\end{bmatrix}$\n",
    "\n",
    "通过乘法计算，最终所得到的结果向量是：位于矩阵第一列的列向量$\\begin{bmatrix} 1 \\\\ 3 \\end{bmatrix}$的3倍加上位于第二列的列向量的$\\begin{bmatrix} 2 \\\\ 4 \\end{bmatrix}$的5倍。\n",
    "\n",
    "**【小节】**\n",
    "\n",
    "综上所述，一个矩阵和一个向量相乘的过程可以理解为：`对位于原矩阵各列的列向量重新进行线性组合的过程`，而在线性组合的运算过程中，结果中的各个系数就是乘法运算的列向量中所对应的各个成分。这是一种从列的角度去看待矩阵与向量乘法的新视角。"
   ]
  },
  {
   "cell_type": "markdown",
   "metadata": {},
   "source": [
    "## 三. 矩阵的应用案例\n",
    "\n",
    "矩阵的应用非常广泛，下面给出若干例子。"
   ]
  },
  {
   "cell_type": "markdown",
   "metadata": {
    "execution": {
     "iopub.execute_input": "2020-05-24T13:13:55.487771Z",
     "iopub.status.busy": "2020-05-24T13:13:55.487771Z",
     "iopub.status.idle": "2020-05-24T13:13:55.491760Z",
     "shell.execute_reply": "2020-05-24T13:13:55.491760Z",
     "shell.execute_reply.started": "2020-05-24T13:13:55.487771Z"
    }
   },
   "source": [
    "### **【例6.4】 特殊矩阵的生成**\n",
    "\n",
    "生成特殊规则的矩阵，可用单列乘单行的矩阵乘法。如：\n",
    "\n",
    "$X_{10 \\times 21} = \\begin{bmatrix} \n",
    "-10 & -9 & ... & 0 & 9 & 10 \\\\ \n",
    "-10 & -9 & ... & 0 & 9 & 10 \\\\ \n",
    "... & ... & ... & ... & ... & ... \\\\ \n",
    "-10 & -9 & ... & 0 & 9 & 10 \\\\\n",
    "\\end{bmatrix}.$\n",
    "\n",
    "**基本思路**：可令 $𝑣_1 = [-10, -9, …, 9, 10], 𝑣_2  = [1; 1; …; 1]$  (10行1列)，\n",
    "则 $𝑋=𝑣_2^𝑇 𝑣_1$ 是一个$10×21$的矩阵。下面给出Python描述。"
   ]
  },
  {
   "cell_type": "code",
   "execution_count": 2,
   "metadata": {
    "execution": {
     "iopub.execute_input": "2020-05-24T15:27:12.368910Z",
     "iopub.status.busy": "2020-05-24T15:27:12.368910Z",
     "iopub.status.idle": "2020-05-24T15:27:12.376889Z",
     "shell.execute_reply": "2020-05-24T15:27:12.376889Z",
     "shell.execute_reply.started": "2020-05-24T15:27:12.368910Z"
    }
   },
   "outputs": [
    {
     "name": "stdout",
     "output_type": "stream",
     "text": [
      "(10, 21)\n",
      "[[-10.  -9.  -8.  -7.  -6.  -5.  -4.  -3.  -2.  -1.   0.   1.   2.   3.\n",
      "    4.   5.   6.   7.   8.   9.  10.]\n",
      " [-10.  -9.  -8.  -7.  -6.  -5.  -4.  -3.  -2.  -1.   0.   1.   2.   3.\n",
      "    4.   5.   6.   7.   8.   9.  10.]\n",
      " [-10.  -9.  -8.  -7.  -6.  -5.  -4.  -3.  -2.  -1.   0.   1.   2.   3.\n",
      "    4.   5.   6.   7.   8.   9.  10.]\n",
      " [-10.  -9.  -8.  -7.  -6.  -5.  -4.  -3.  -2.  -1.   0.   1.   2.   3.\n",
      "    4.   5.   6.   7.   8.   9.  10.]\n",
      " [-10.  -9.  -8.  -7.  -6.  -5.  -4.  -3.  -2.  -1.   0.   1.   2.   3.\n",
      "    4.   5.   6.   7.   8.   9.  10.]\n",
      " [-10.  -9.  -8.  -7.  -6.  -5.  -4.  -3.  -2.  -1.   0.   1.   2.   3.\n",
      "    4.   5.   6.   7.   8.   9.  10.]\n",
      " [-10.  -9.  -8.  -7.  -6.  -5.  -4.  -3.  -2.  -1.   0.   1.   2.   3.\n",
      "    4.   5.   6.   7.   8.   9.  10.]\n",
      " [-10.  -9.  -8.  -7.  -6.  -5.  -4.  -3.  -2.  -1.   0.   1.   2.   3.\n",
      "    4.   5.   6.   7.   8.   9.  10.]\n",
      " [-10.  -9.  -8.  -7.  -6.  -5.  -4.  -3.  -2.  -1.   0.   1.   2.   3.\n",
      "    4.   5.   6.   7.   8.   9.  10.]\n",
      " [-10.  -9.  -8.  -7.  -6.  -5.  -4.  -3.  -2.  -1.   0.   1.   2.   3.\n",
      "    4.   5.   6.   7.   8.   9.  10.]]\n"
     ]
    }
   ],
   "source": [
    "import numpy as np\n",
    "v1 = np.array([np.linspace(-10,10,21,dtype=int)])\n",
    "v2 = np.array([np.linspace(1,1,10)])\n",
    "\n",
    "X = np.dot(v2.T,v1)\n",
    "print(X.shape)\n",
    "print(X)"
   ]
  },
  {
   "cell_type": "markdown",
   "metadata": {
    "toc-nb-collapsed": true
   },
   "source": [
    "<br/>\n",
    "\n",
    "### **【例6.5】生产成本核算问题** \n",
    "\n",
    "某厂生产三种产品，它的成本分为三类。每一类成本中，给出生产单个产品时估计需要的量。同时给出每季度生产每种产品数量的估计。该公司希望在股东会上用一个表格展示出每一季度三类成本的数量：原料费、工资和管理费。\n",
    "\n",
    "成本（元）|产品A|产品B|产品C||产品|夏|秋|冬|春\n",
    ":-:|:-:|:-:|:-:||:-:|:-:|:-:|:-:|:-:\n",
    "原材料|0.1|0.3|0.15||A|4000|4500|4500|4000\n",
    "劳动|0.3|0.4|0.25||B|2000|2600|2400|2200\n",
    "企业管理费|0.1|0.2|0.15||C|5800|6200|6000|6000\n",
    "\n",
    "解：我们用矩阵的方法来考虑此问题，设产品分类成本矩阵为M，季度产量矩阵为P，则有：\n",
    "\n",
    "$M=\\begin{bmatrix} \n",
    "0.1 & 0.3 & 0.15 \\\\\n",
    "0.3 & 0.4 & 0.25 \\\\\n",
    "0.1 & 0.2 & 0.15 \n",
    "\\end{bmatrix}，P=\\begin{bmatrix} \n",
    "4000 & 4500 & 4500 & 4000 \\\\\n",
    "2000 & 2600 & 2400 & 2200 \\\\\n",
    "5800 & 6200 & 6000 & 6000 \\\\\n",
    "\\end{bmatrix}.$\n",
    "\n",
    "- 如果按 $Q=M*P$ 构造乘积，则MP的第一列表示夏季的成本。\n",
    "    - 原料费：$0.1*4000+0.3*2000+0.15*5800=1870$\n",
    "    - 工资：$0.3*4000+0.4*2000+0.25*5800=3450$\n",
    "    - 管理费和其他：$0.1*4000+0.2*2000+0.15*5800=1670$\n",
    "- MP的第二列表示秋季的成本。\n",
    "    - 原料费：$0.1*4500+0.3*2600+0.15*6200=2100$\n",
    "    - 工资: $0.3*4500+0.4*2600+0.25*6200$\n",
    "    - 管理费和其他: $0.1*4500+0.2*2600+0.15*6200$\n",
    "- MP的第三列和第四列表示冬季和秋季的成本。\n",
    "\n",
    "MP第一行的元素表示四个季度原料的总成本，第二和第三行的元素分别表示四个季度中每一季度工资和管理的成本。每一类成本的年度总成本可由矩阵的每一行元素相加得到。每一列元素相加，即可得到每一季度的总成本。下表汇总了总成本。\n",
    "\n",
    "成本（元）|夏|秋|冬|春|全年\n",
    ":-:|:-:|:-:|:-:|:-:|:-:\n",
    "原材料|1870|2160|2070|1960|8060\n",
    "劳动|3450|3940|3810|3580|14780\n",
    "企业管理费|1670|1900|1830|1740|7140\n",
    "总成本|6990|8000|7710|7280|29980\n",
    "\n",
    "下面给出Python的计算方法。"
   ]
  },
  {
   "cell_type": "code",
   "execution_count": 3,
   "metadata": {
    "execution": {
     "iopub.execute_input": "2020-05-24T15:27:12.378883Z",
     "iopub.status.busy": "2020-05-24T15:27:12.377887Z",
     "iopub.status.idle": "2020-05-24T15:27:12.886526Z",
     "shell.execute_reply": "2020-05-24T15:27:12.886526Z",
     "shell.execute_reply.started": "2020-05-24T15:27:12.378883Z"
    }
   },
   "outputs": [
    {
     "data": {
      "text/html": [
       "<div>\n",
       "<style scoped>\n",
       "    .dataframe tbody tr th:only-of-type {\n",
       "        vertical-align: middle;\n",
       "    }\n",
       "\n",
       "    .dataframe tbody tr th {\n",
       "        vertical-align: top;\n",
       "    }\n",
       "\n",
       "    .dataframe thead th {\n",
       "        text-align: right;\n",
       "    }\n",
       "</style>\n",
       "<table border=\"1\" class=\"dataframe\">\n",
       "  <thead>\n",
       "    <tr style=\"text-align: right;\">\n",
       "      <th></th>\n",
       "      <th>夏</th>\n",
       "      <th>秋</th>\n",
       "      <th>东</th>\n",
       "      <th>春</th>\n",
       "      <th>全年</th>\n",
       "    </tr>\n",
       "  </thead>\n",
       "  <tbody>\n",
       "    <tr>\n",
       "      <th>原材料</th>\n",
       "      <td>1870.0</td>\n",
       "      <td>2160.0</td>\n",
       "      <td>2070.0</td>\n",
       "      <td>1960.0</td>\n",
       "      <td>8060.0</td>\n",
       "    </tr>\n",
       "    <tr>\n",
       "      <th>劳动</th>\n",
       "      <td>3450.0</td>\n",
       "      <td>3940.0</td>\n",
       "      <td>3810.0</td>\n",
       "      <td>3580.0</td>\n",
       "      <td>14780.0</td>\n",
       "    </tr>\n",
       "    <tr>\n",
       "      <th>企业管理费</th>\n",
       "      <td>1670.0</td>\n",
       "      <td>1900.0</td>\n",
       "      <td>1830.0</td>\n",
       "      <td>1740.0</td>\n",
       "      <td>7140.0</td>\n",
       "    </tr>\n",
       "    <tr>\n",
       "      <th>总成本</th>\n",
       "      <td>6990.0</td>\n",
       "      <td>8000.0</td>\n",
       "      <td>7710.0</td>\n",
       "      <td>7280.0</td>\n",
       "      <td>29980.0</td>\n",
       "    </tr>\n",
       "  </tbody>\n",
       "</table>\n",
       "</div>"
      ],
      "text/plain": [
       "            夏       秋       东       春       全年\n",
       "原材料    1870.0  2160.0  2070.0  1960.0   8060.0\n",
       "劳动     3450.0  3940.0  3810.0  3580.0  14780.0\n",
       "企业管理费  1670.0  1900.0  1830.0  1740.0   7140.0\n",
       "总成本    6990.0  8000.0  7710.0  7280.0  29980.0"
      ]
     },
     "metadata": {},
     "output_type": "display_data"
    }
   ],
   "source": [
    "import numpy as np\n",
    "import pandas as pd\n",
    "\n",
    "M = np.array([[0.1,0.3,0.15],[0.3,0.4,0.25],[0.1,0.2,0.15]])\n",
    "P = np.array([[4000,4500,4500,4000],[2000,2600,2400,2200],[5800,6200,6000,6000]])\n",
    "Q = np.dot(M,P)\n",
    "\n",
    "# 将numpy数组转换为DataFrame\n",
    "df = pd.DataFrame(Q)\n",
    "# 添加行列的标题\n",
    "df.columns = ['夏','秋','东','春']\n",
    "df.index = ['原材料','劳动','企业管理费']\n",
    "# 计算各列数据总和并作为新列添加到末尾\n",
    "df['全年'] = df.apply(lambda x:x.sum(), axis=1)\n",
    "# 计算各列数据总和并作为新行添加到末尾\n",
    "df.loc['总成本'] = df.apply(lambda x:x.sum())\n",
    "\n",
    "# 输出pandas数据\n",
    "display(df)"
   ]
  },
  {
   "cell_type": "markdown",
   "metadata": {},
   "source": [
    "<br/>\n",
    "\n",
    "### **【例6.6】 婚姻状况计算模型**\n",
    "\n",
    "某城镇中，有8000位已婚女性和2000位单身女性，假设每年有30%的已婚女性离婚，20%的单身女性结婚。假设所有女性的总数为一常数，试求1年后有多少已婚女性和单身女性？2年后呢？10年后呢？\n",
    "\n",
    "**解：** \n",
    "\n",
    "**首先**，我们可以用如下的思路构建矩阵A。  \n",
    "1). 矩阵A的第一行元素分别为1年后仍处于婚姻状态的已婚女性和已婚的单身女性百分比;  \n",
    "2). 第二行元素分别为1年后离婚的已婚女性和未婚的单身女性的百分比。则：\n",
    "\n",
    "$A=\\begin{bmatrix} \n",
    "0.7 & 0.2 \\\\\n",
    "0.3 & 0.8 \\\\ \n",
    "\\end{bmatrix}$\n",
    "\n",
    "若令 $x=\\begin{bmatrix} 8000 \\\\ 2000 \\end{bmatrix}$，则1年后已婚女性和单身女性人数可以用$A$乘以$x$计算. 其中`8000*0.7`表示仍然在婚姻状态的已婚女性，`2000*0.2`为转变为已婚的单身女性，两者相加就是1年后已婚女性的总人数；`8000*0.3`表示1年后离婚的已婚女性，`2000*0.8`表示仍然未婚的未婚女性，两者相加就是1年后未婚女性的总人数。\n",
    "\n",
    "$Ax=\\begin{bmatrix} \n",
    "0.7 & 0.2 \\\\\n",
    "0.3 & 0.8 \\\\ \n",
    "\\end{bmatrix}\n",
    "\\begin{bmatrix} \n",
    "8000 \\\\\n",
    "2000 \\\\ \n",
    "\\end{bmatrix}\n",
    "=\\begin{bmatrix} \n",
    "6000 \\\\\n",
    "4000 \\\\ \n",
    "\\end{bmatrix}$\n",
    "\n",
    "1年后将有6000位已婚女性，4000位单身女性。\n",
    "\n",
    "**其次**，要求2年后`已婚女性`和`单身女性`的数量，计算\n",
    "\n",
    "$A^2 x = A(Ax) =\\begin{bmatrix} \n",
    "0.7 & 0.2 \\\\\n",
    "0.3 & 0.8 \\\\ \n",
    "\\end{bmatrix}\n",
    "\\begin{bmatrix} \n",
    "6000 \\\\\n",
    "4000 \\\\ \n",
    "\\end{bmatrix}\n",
    "=\\begin{bmatrix} \n",
    "5000 \\\\\n",
    "5000 \\\\ \n",
    "\\end{bmatrix}$\n",
    "\n",
    "2年后，一半的女性将为未婚，一般的女性将为单身。\n",
    "\n",
    "**最后**，讨论一般情况，n年后已婚女性和单身女性的数量可由$A^n x$求得。\n",
    "\n",
    "按照以上的分析，我们将使用Python代码实现后续的计算，求解10年后的已婚女性和单身女性的数量。"
   ]
  },
  {
   "cell_type": "code",
   "execution_count": 10,
   "metadata": {
    "execution": {
     "iopub.execute_input": "2020-05-26T12:08:47.537784Z",
     "iopub.status.busy": "2020-05-26T12:08:47.537784Z",
     "iopub.status.idle": "2020-05-26T12:08:47.543768Z",
     "shell.execute_reply": "2020-05-26T12:08:47.543768Z",
     "shell.execute_reply.started": "2020-05-26T12:08:47.537784Z"
    }
   },
   "outputs": [
    {
     "name": "stdout",
     "output_type": "stream",
     "text": [
      "第1年，已婚女性6000.0人，未婚女性4000.0人\n",
      "第2年，已婚女性5000.0人，未婚女性5000.0人\n",
      "第3年，已婚女性4500.0人，未婚女性5500.0人\n",
      "第4年，已婚女性4250.0人，未婚女性5750.0人\n",
      "第5年，已婚女性4125.0人，未婚女性5875.0人\n",
      "第6年，已婚女性4062.5人，未婚女性5937.5人\n",
      "第7年，已婚女性4031.25人，未婚女性5968.75人\n",
      "第8年，已婚女性4015.625人，未婚女性5984.375人\n",
      "第9年，已婚女性4007.8125人，未婚女性5992.1875人\n",
      "第10年，已婚女性4003.90625人，未婚女性5996.09375人\n"
     ]
    }
   ],
   "source": [
    "import numpy as np\n",
    "A = np.array([[0.7,0.2],[0.3,0.8]])\n",
    "x = np.array([[8000],[2000]])\n",
    "\n",
    "n = 10 # n=1:A^2; n=2:A^3\n",
    "product = x\n",
    "\n",
    "for i in range(n):\n",
    "    product = np.dot(A, product)\n",
    "    print('第{}年，已婚女性{}人，未婚女性{}人'.format(i+1, product[0][0],product[1][0]))\n"
   ]
  },
  {
   "cell_type": "markdown",
   "metadata": {},
   "source": [
    "**【结果分析】**\n",
    "\n",
    "由程序的输出结果可知，10年后已婚女性和诞生女性的数量分别为：4016人和5984人。\n"
   ]
  },
  {
   "cell_type": "markdown",
   "metadata": {
    "execution": {
     "iopub.execute_input": "2020-05-24T14:22:35.870037Z",
     "iopub.status.busy": "2020-05-24T14:22:35.869040Z",
     "iopub.status.idle": "2020-05-24T14:22:35.874027Z",
     "shell.execute_reply": "2020-05-24T14:22:35.874027Z",
     "shell.execute_reply.started": "2020-05-24T14:22:35.870037Z"
    }
   },
   "source": [
    "<br/>\n",
    "\n",
    "### **【例6.7】 网络的矩阵分割和连接**\n",
    "\n",
    "给出如下电路图，同时已知输入电流$i_{in}$和输入电压$u_{in}$，并且已知四个电阻的电阻值，求输出电流$i_{out}$和输出电压$u_{out}$。\n",
    "\n",
    "![](../Attachments/L0601-ex105.png)\n",
    "\n",
    "为了求输出电流、电压，我们可以将以上电路图抽象化为黑盒图，并拆分成不同电路模块的组合，再通过矩阵乘法求解最终的输出矩阵。如下图所示，其中$A1、A4$为串联电路，$A2、A3$为并联电路。：\n",
    "\n",
    "![](../Attachments/L0601-ex104.png)\n",
    "\n",
    "> **首先给出一个简化版的例子：**\n",
    "\n",
    "![](../Attachments/L0601-ex102.png)\n",
    "![](../Attachments/L0601-ex103.png)\n",
    "\n",
    "\n",
    "**1. 求第一个子网络（串联电路）的传输矩阵**\n",
    "\n",
    "1). 根据电路原理可以得到\n",
    "\n",
    "$i_2 = i_1, u_2 = u_1 - i_1 R_1 $\n",
    "\n",
    "2). 将公式转换为矩阵方程\n",
    "\n",
    "$\\begin{bmatrix} u_2 \\\\ i_2 \\end{bmatrix}\n",
    "=\\begin{bmatrix} u_1 - i_1 R_1 \\\\ 0 - i_1 \\end{bmatrix}\n",
    "=\\begin{bmatrix} 1 & -R_1 \\\\ 0 & 1 \\end{bmatrix} \\begin{bmatrix} u_1 \\\\ i_1 \\end{bmatrix}\n",
    "=A_1 \\begin{bmatrix} u_1 \\\\ i_1 \\end{bmatrix}$\n",
    "\n",
    "3). 获得第一个子网络的传输矩阵，即`单一串联电路`的传输矩阵。\n",
    "\n",
    "$A_1=\\begin{bmatrix} 1 & -R_1 \\\\ 0 & 1 \\end{bmatrix}$\n",
    "\n",
    "**2. 求第二个子网络（并联电路）的传输矩阵**\n",
    "\n",
    "1). 根据电路原理可以得到\n",
    "\n",
    "$i_3 = i_2 - u_2/R_2, u_3 = u_2$\n",
    "\n",
    "2). 将公式转换为矩阵方程\n",
    "\n",
    "$\\begin{bmatrix} u_3 \\\\ i_3 \\end{bmatrix}\n",
    "=\\begin{bmatrix} u_2 + 0 i_2 \\\\ -u_2/R_2 + i_2 \\end{bmatrix}\n",
    "=\\begin{bmatrix} 1 & 0 \\\\ -1/R_2 & 1 \\end{bmatrix} \\begin{bmatrix} u_2 \\\\ i_2 \\end{bmatrix}\n",
    "=A_2 \\begin{bmatrix} u_1 \\\\ i_1 \\end{bmatrix}$\n",
    "\n",
    "3). 获得第二个子网络的传输矩阵，即`单一并联电路`的传输矩阵。\n",
    "\n",
    "$A_2=\\begin{bmatrix} 1 & 0 \\\\ -1/R_2 & 1 \\end{bmatrix}$\n",
    "\n",
    "**3. 求总电路的传输矩阵**\n",
    "\n",
    "1). 联立以上两个网络获得输入输出的关系\n",
    "\n",
    "$\\begin{bmatrix} u_3 \\\\ i_3 \\end{bmatrix}\n",
    "=A_2 \\begin{bmatrix} u_2 \\\\ i_2 \\end{bmatrix}\n",
    "=A_2 A_1 \\begin{bmatrix} u_1 \\\\ i_1 \\end{bmatrix}$\n",
    "\n",
    "2). 获得总电路传输矩阵$𝑨$\n",
    "\n",
    "$A=A_2 A_1\n",
    "=\\begin{bmatrix} 1 & 0 \\\\ -1/R_2 & 1 \\end{bmatrix} \\begin{bmatrix} 1 & -R_1 \\\\ 0 & 1 \\end{bmatrix}\n",
    "=\\begin{bmatrix} 1 & -R_1 \\\\ -1/R_2 & 1+R_1/R_2 \\end{bmatrix}$\n",
    "\n",
    "3). 利用传输矩阵求输出电压和输出电流\n",
    "\n",
    "$\\begin{bmatrix} u_3 \\\\ i_3 \\end{bmatrix}\n",
    "=A \\begin{bmatrix} u_1 \\\\ i_1 \\end{bmatrix}\n",
    "=\\begin{bmatrix} 1 & -R_1 \\\\ -1/R_2 & 1+R_1/R_2 \\end{bmatrix} \\begin{bmatrix} u_1 \\\\ i_1 \\end{bmatrix}$\n",
    "\n",
    "下面给出矩阵乘法$A=A_2 A_1$的Python描述。"
   ]
  },
  {
   "cell_type": "code",
   "execution_count": 5,
   "metadata": {
    "execution": {
     "iopub.execute_input": "2020-05-24T15:27:12.898494Z",
     "iopub.status.busy": "2020-05-24T15:27:12.898494Z",
     "iopub.status.idle": "2020-05-24T15:27:13.558276Z",
     "shell.execute_reply": "2020-05-24T15:27:13.557279Z",
     "shell.execute_reply.started": "2020-05-24T15:27:12.898494Z"
    }
   },
   "outputs": [
    {
     "name": "stdout",
     "output_type": "stream",
     "text": [
      "A = \n",
      " [[1 -R1]\n",
      " [-1/R2 R1/R2 + 1]]\n"
     ]
    }
   ],
   "source": [
    "import numpy as np\n",
    "from sympy import *\n",
    "\n",
    "R1 = Symbol('R1', real=True)\n",
    "R2 = Symbol('R2', real=True)\n",
    "\n",
    "A1 = np.array([[1,-R1],[0,1]])\n",
    "A2 = np.array([[1,0],[-1/R2,1]])\n",
    "\n",
    "A = np.dot(A2,A1)\n",
    "print('A = \\n {}'.format(A))"
   ]
  },
  {
   "cell_type": "markdown",
   "metadata": {},
   "source": [
    "**【原题解答思路】**\n",
    "\n",
    "对于由单一电路构成的集成电路，我们可以使用`矩阵连乘`的方法进行求解，值得注意的是多个单一电路合并时的`顺序`与矩阵连乘的`顺序`密切相关。事实上，对于复杂电路也可以用类似的方法求解。\n",
    "\n",
    "![](../Attachments/L0601-ex105.png)\n",
    "![](../Attachments/L0601-ex104.png)\n",
    "\n",
    "- 求最终的变换矩阵\n",
    "\n",
    "$A = A1 A2 A3 A4 =  A_1 A_2 A_2 A_1$\n",
    "\n",
    "$\\begin{bmatrix} u_{out} \\\\ i_{out} \\end{bmatrix}=A \\begin{bmatrix} u_{in} \\\\ i_{in} \\end{bmatrix}$"
   ]
  },
  {
   "cell_type": "code",
   "execution_count": 16,
   "metadata": {
    "execution": {
     "iopub.execute_input": "2020-05-26T14:21:44.905600Z",
     "iopub.status.busy": "2020-05-26T14:21:44.905600Z",
     "iopub.status.idle": "2020-05-26T14:21:44.912581Z",
     "shell.execute_reply": "2020-05-26T14:21:44.912581Z",
     "shell.execute_reply.started": "2020-05-26T14:21:44.905600Z"
    }
   },
   "outputs": [
    {
     "name": "stdout",
     "output_type": "stream",
     "text": [
      "A_OUT = \n",
      " [[2*R1/R2 + 1 -2*R1]\n",
      " [-(2*R1/R2 + 1)/R2 - 1/R2 2*R1/R2 + 1]]\n"
     ]
    }
   ],
   "source": [
    "import numpy as np\n",
    "from sympy import *\n",
    "\n",
    "R1 = Symbol('R1', real=True)\n",
    "R2 = Symbol('R2', real=True)\n",
    "\n",
    "A1 = np.array([[1,-R1],[0,1]])\n",
    "A2 = np.array([[1,0],[-1/R2,1]])\n",
    "\n",
    "A = [A2,A1,A1,A2]\n",
    "A_OUT = 1\n",
    "for i in A:\n",
    "    A_OUT = np.dot(A_OUT,i)\n",
    "\n",
    "print('A_OUT = \\n {}'.format(A_OUT))"
   ]
  },
  {
   "cell_type": "markdown",
   "metadata": {
    "execution": {
     "iopub.execute_input": "2020-05-26T14:21:14.505529Z",
     "iopub.status.busy": "2020-05-26T14:21:14.505529Z",
     "iopub.status.idle": "2020-05-26T14:21:14.574345Z",
     "shell.execute_reply": "2020-05-26T14:21:14.574345Z",
     "shell.execute_reply.started": "2020-05-26T14:21:14.505529Z"
    }
   },
   "source": [
    "- 给出最终的输出电压和输出电流"
   ]
  },
  {
   "cell_type": "code",
   "execution_count": 14,
   "metadata": {
    "execution": {
     "iopub.execute_input": "2020-05-26T14:20:23.954367Z",
     "iopub.status.busy": "2020-05-26T14:20:23.953369Z",
     "iopub.status.idle": "2020-05-26T14:20:23.962345Z",
     "shell.execute_reply": "2020-05-26T14:20:23.962345Z",
     "shell.execute_reply.started": "2020-05-26T14:20:23.954367Z"
    }
   },
   "outputs": [
    {
     "name": "stdout",
     "output_type": "stream",
     "text": [
      "输出电压 = -2*R1*i0 + u0*(2*R1/R2 + 1) 伏特\n",
      "输出电流 = i0*(2*R1/R2 + 1) + u0*(-(2*R1/R2 + 1)/R2 - 1/R2) 安培\n"
     ]
    }
   ],
   "source": [
    "u0 = Symbol('u0', real=True)\n",
    "i0 = Symbol('i0', real=True)\n",
    "\n",
    "IN = np.array([[u0], [i0]]) \n",
    "\n",
    "OUT = np.dot(A_OUT, IN)\n",
    "\n",
    "print('输出电压 = {} 伏特'.format(OUT[0][0]))\n",
    "print('输出电流 = {} 安培'.format(OUT[1][0]))"
   ]
  }
 ],
 "metadata": {
  "kernelspec": {
   "display_name": "Python 3",
   "language": "python",
   "name": "python3"
  },
  "language_info": {
   "codemirror_mode": {
    "name": "ipython",
    "version": 3
   },
   "file_extension": ".py",
   "mimetype": "text/x-python",
   "name": "python",
   "nbconvert_exporter": "python",
   "pygments_lexer": "ipython3",
   "version": "3.7.7"
  }
 },
 "nbformat": 4,
 "nbformat_minor": 4
}
