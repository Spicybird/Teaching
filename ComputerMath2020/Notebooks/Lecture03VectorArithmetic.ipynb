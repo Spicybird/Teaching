{
 "cells": [
  {
   "cell_type": "markdown",
   "metadata": {},
   "source": [
    "# 第03讲 向量的四则运算"
   ]
  },
  {
   "cell_type": "markdown",
   "metadata": {},
   "source": [
    "<font color=\"blue\">作者：欧新宇（Xinyu OU）</font>\n",
    "\n",
    "<font color=\"red\">本文档所展示的测试结果，均运行于：Intel Core i7-7700K CPU 4.2GHz</font>\n",
    "\n",
    "---"
   ]
  },
  {
   "cell_type": "markdown",
   "metadata": {},
   "source": [
    "## 1. 向量的加法\n",
    "\n",
    "要进行**向量相加**，前提是两个向量具有相同的形态（即 $a.shape = b.shape$）。向量的加法可以理解为两个向量对应元素的相加（按位相加），生成的结果向量维度保持不变（即$(a+b).shape = a.shape = b.shape$）。\n",
    "\n",
    "给定两个 $n$ 维向量 ***u*** 和 ***v*** ，它们的加法运算规则可以表示为：\n",
    "\n",
    "$\\begin{bmatrix} u_1 \\\\ u_2 \\\\ u_3 \\\\ ... \\\\ u_n \\end{bmatrix}+\n",
    "\\begin{bmatrix} v_1 \\\\ v_2 \\\\ v_3 \\\\ ... \\\\ v_n \\end{bmatrix}=\n",
    "\\begin{bmatrix} u_1+v_1 \\\\ u_2+v_2 \\\\ u_3+v_3 \\\\ ... \\\\ u_n+v_n \\end{bmatrix}$\n",
    "\n",
    "向量加法的规则非常简单，下面给出一个例子.\n",
    "\n",
    "**【例1】** 求解向量 $u = \\begin{bmatrix} 1 \\\\ 2 \\\\ 3 \\\\ 4 \\end{bmatrix}$ 和 $v = \\begin{bmatrix} 5 \\\\ 6 \\\\ 7 \\\\ 8 \\end{bmatrix}$ 的**和**的运算结果。\n",
    "\n",
    "按照运算规则可以表示为：\n",
    "\n",
    "$u+v=\n",
    "\\begin{bmatrix} 1 \\\\ 2 \\\\ 3 \\\\ 4 \\end{bmatrix}+\n",
    "\\begin{bmatrix} 5 \\\\ 6 \\\\ 7 \\\\ 8 \\end{bmatrix}=\n",
    "\\begin{bmatrix} 1+5 \\\\ 2+6 \\\\ 3+7 \\\\ 4+8 \\end{bmatrix}=\n",
    "\\begin{bmatrix} 6 \\\\ 8 \\\\ 10 \\\\ 12 \\end{bmatrix}$\n",
    "\n",
    "使用Python语言可以描述为："
   ]
  },
  {
   "cell_type": "code",
   "execution_count": 1,
   "metadata": {
    "execution": {
     "iopub.execute_input": "2020-05-16T04:30:25.812872Z",
     "iopub.status.busy": "2020-05-16T04:30:25.812872Z",
     "iopub.status.idle": "2020-05-16T04:30:25.956488Z",
     "shell.execute_reply": "2020-05-16T04:30:25.956488Z",
     "shell.execute_reply.started": "2020-05-16T04:30:25.812872Z"
    }
   },
   "outputs": [
    {
     "name": "stdout",
     "output_type": "stream",
     "text": [
      "u=[[1]\n",
      " [2]\n",
      " [3]\n",
      " [4]]\n",
      "\n",
      " v=[[5]\n",
      " [6]\n",
      " [7]\n",
      " [8]]\n",
      "\n",
      " u+v=[[ 6]\n",
      " [ 8]\n",
      " [10]\n",
      " [12]]\n"
     ]
    }
   ],
   "source": [
    "import numpy as np\n",
    "u = np.array([[1,2,3,4]]).T\n",
    "v = np.array([[5,6,7,8]]).T\n",
    "w = u + v\n",
    "\n",
    "print('u={}\\n\\n v={}\\n\\n u+v={}'.format(u,v,w))"
   ]
  },
  {
   "cell_type": "markdown",
   "metadata": {},
   "source": [
    "对于`形态为` $1 \\times n$ `的单行矩阵`和`行向量`的相加，也遵循**按位相加**的原则。\n",
    "\n",
    "- 单行矩阵"
   ]
  },
  {
   "cell_type": "code",
   "execution_count": 2,
   "metadata": {
    "execution": {
     "iopub.execute_input": "2020-05-16T04:30:25.957485Z",
     "iopub.status.busy": "2020-05-16T04:30:25.957485Z",
     "iopub.status.idle": "2020-05-16T04:30:25.961474Z",
     "shell.execute_reply": "2020-05-16T04:30:25.961474Z",
     "shell.execute_reply.started": "2020-05-16T04:30:25.957485Z"
    }
   },
   "outputs": [
    {
     "name": "stdout",
     "output_type": "stream",
     "text": [
      "u=[[1 2 3 4]]\n",
      "\n",
      " v=[[5 6 7 8]]\n",
      "\n",
      " u+v=[[ 6  8 10 12]]\n"
     ]
    }
   ],
   "source": [
    "import numpy as np\n",
    "u = np.array([[1,2,3,4]])\n",
    "v = np.array([[5,6,7,8]])\n",
    "w = u + v\n",
    "\n",
    "print('u={}\\n\\n v={}\\n\\n u+v={}'.format(u,v,w))"
   ]
  },
  {
   "cell_type": "markdown",
   "metadata": {},
   "source": [
    "- 行向量"
   ]
  },
  {
   "cell_type": "code",
   "execution_count": 3,
   "metadata": {
    "execution": {
     "iopub.execute_input": "2020-05-16T04:30:25.962472Z",
     "iopub.status.busy": "2020-05-16T04:30:25.962472Z",
     "iopub.status.idle": "2020-05-16T04:30:25.966461Z",
     "shell.execute_reply": "2020-05-16T04:30:25.966461Z",
     "shell.execute_reply.started": "2020-05-16T04:30:25.962472Z"
    }
   },
   "outputs": [
    {
     "name": "stdout",
     "output_type": "stream",
     "text": [
      "u=[1 2 3 4]\n",
      "\n",
      " v=[5 6 7 8]\n",
      "\n",
      " u+v=[ 6  8 10 12]\n"
     ]
    }
   ],
   "source": [
    "import numpy as np\n",
    "u = np.array([1,2,3,4])\n",
    "v = np.array([5,6,7,8])\n",
    "w = u + v\n",
    "\n",
    "print('u={}\\n\\n v={}\\n\\n u+v={}'.format(u,v,w))"
   ]
  },
  {
   "cell_type": "markdown",
   "metadata": {},
   "source": [
    "## 2. 向量的数乘\n",
    "\n",
    "**向量**的`数乘`，又称为向量的`数量乘法`，它表示的是一个`标量`和一个`向量`之间的乘积关系。与向量的加法类似，向量的数乘是由标量和向量中的**每个元素**依次相乘，生成的新向量与原来的向量具有`相同的形态`。向量的数乘从`几何`意义上来说，可以理解为向量沿着所在直线的方向拉升相应的倍数，拉升的**倍数**由`标量`决定，拉升的**方向**与原向量`方向`保持不变。\n",
    "\n",
    "- 下面给出向量数乘的的几何示意图。"
   ]
  },
  {
   "cell_type": "code",
   "execution_count": 4,
   "metadata": {
    "execution": {
     "iopub.execute_input": "2020-05-16T04:30:25.967459Z",
     "iopub.status.busy": "2020-05-16T04:30:25.967459Z",
     "iopub.status.idle": "2020-05-16T04:30:26.452188Z",
     "shell.execute_reply": "2020-05-16T04:30:26.452188Z",
     "shell.execute_reply.started": "2020-05-16T04:30:25.967459Z"
    }
   },
   "outputs": [
    {
     "data": {
      "text/plain": [
       "<Figure size 432x288 with 0 Axes>"
      ]
     },
     "metadata": {},
     "output_type": "display_data"
    },
    {
     "data": {
      "image/png": "[encoded data removed]",
      "text/plain": [
       "<Figure size 864x288 with 2 Axes>"
      ]
     },
     "metadata": {
      "needs_background": "light"
     },
     "output_type": "display_data"
    }
   ],
   "source": [
    "from mpl_toolkits.mplot3d import axes3d\n",
    "import matplotlib.pyplot as plt\n",
    "import numpy as np\n",
    "from pylab import subplot\n",
    "\n",
    "fig = plt.figure()\n",
    "\n",
    "# Make the direction data for the arrows\n",
    "o = np.array([0,0]) # 向量的起点坐标\n",
    "u = np.array([2,1]) # 向量A的终点\n",
    "v = 3*u # 向量B的终点\n",
    "\n",
    "plt.figure(figsize=(12,4))\n",
    "\n",
    "subplot(121)\n",
    "plt.xlim(0,7)\n",
    "plt.ylim(0,4)\n",
    "plt.plot([o[0], u[0]], [o[1], u[1]])\n",
    "plt.plot(o[0], o[1], 'ks')\n",
    "plt.plot(u[0], u[1], 'ks')\n",
    "plt.annotate('o(0,0)', xy = o, xytext = ([0.5, 0.1]))\n",
    "plt.annotate('u(2,1)', xy = u, xytext = ([u[0]+0.1, u[1]+0.1]))\n",
    "\n",
    "subplot(122)\n",
    "plt.xlim(0,7)\n",
    "plt.ylim(0,4)\n",
    "plt.plot([o[0], v[0]], [o[1], v[1]])\n",
    "plt.plot(o[0], o[1], 'ks')\n",
    "plt.plot(v[0], v[1], 'ks')\n",
    "plt.annotate('o(0,0)', xy = o, xytext = ([0.5, 0.1]))\n",
    "plt.annotate('v(6,3)', xy = v, xytext = ([v[0]+0.1, v[1]+0.1]))\n",
    "\n",
    "plt.show()"
   ]
  },
  {
   "cell_type": "markdown",
   "metadata": {},
   "source": [
    "**【结果分析】**\n",
    "\n",
    "从上图可以看到向量 $u$ 和 向量 $v=3*u$ 的几何示意图，两个向量具有相同的方向，但具有不同的长度。向量 $v=3*u$ 的长度刚好是向量 $u$ 的3倍。 \n",
    "\n",
    "---\n",
    "\n",
    "给定一个 $n$ 维向量 $u$ 和一个标量 *v*，它们的数乘变换运算规则可以表示为：\n",
    "\n",
    "$c*u = c*\\begin{bmatrix} u_1 \\\\ u_2 \\\\ u_3 \\\\ ... \\\\ u_n \\end{bmatrix}\n",
    "= \\begin{bmatrix} c*u_1 \\\\ c*u_2 \\\\ c*u_3 \\\\ ... \\\\ c*u_n \\end{bmatrix}$\n",
    "\n",
    "下面给出一个向量数乘的例子：\n",
    "\n",
    "**【例2】** 给定标量5和向量$u=\\begin{bmatrix} 1 \\\\ 2 \\\\ 3 \\\\ 4 \\end{bmatrix}$，可以得到它们的数乘结果为：\n",
    "$5*u\n",
    "=5*\\begin{bmatrix} 1 \\\\ 2 \\\\ 3 \\\\ 4 \\end{bmatrix}\n",
    "=5*\\begin{bmatrix} 5*1 \\\\ 5*2 \\\\ 5*3 \\\\ 5*4 \\end{bmatrix}\n",
    "=\\begin{bmatrix} 5 \\\\ 10 \\\\ 15 \\\\ 20 \\end{bmatrix}$。\n",
    "\n",
    "使用Python语言可以描述为："
   ]
  },
  {
   "cell_type": "code",
   "execution_count": 5,
   "metadata": {
    "execution": {
     "iopub.execute_input": "2020-05-16T04:30:26.454183Z",
     "iopub.status.busy": "2020-05-16T04:30:26.453186Z",
     "iopub.status.idle": "2020-05-16T04:30:26.458171Z",
     "shell.execute_reply": "2020-05-16T04:30:26.458171Z",
     "shell.execute_reply.started": "2020-05-16T04:30:26.454183Z"
    }
   },
   "outputs": [
    {
     "name": "stdout",
     "output_type": "stream",
     "text": [
      "[[ 5]\n",
      " [10]\n",
      " [15]\n",
      " [20]]\n"
     ]
    }
   ],
   "source": [
    "import numpy as np\n",
    "u = np.array([[1,2,3,4]]).T\n",
    "res = 5*u\n",
    "print(res)"
   ]
  },
  {
   "cell_type": "markdown",
   "metadata": {},
   "source": [
    "**【结果分析】**\n",
    "\n",
    "向量的数乘是没有方向的，无论左乘还是右乘都具有相同的效果，这意味着 $\\vec{u}*v = v*\\vec{u}$。这个结论，可以轻松推广到矩阵的数乘。"
   ]
  },
  {
   "cell_type": "markdown",
   "metadata": {},
   "source": [
    "## 3. 向量间的乘法：内积和外积\n",
    "\n",
    "向量间的乘法分为内积和外积两种形式，这两种形式具有较大的差异，下面我们依次介绍。"
   ]
  },
  {
   "cell_type": "markdown",
   "metadata": {},
   "source": [
    "### 3.1 向量间的内积\n",
    "\n",
    "- 内积的**前提**：两个向量维数相同，长度相同\n",
    "- 向量内积的**结果**：标量\n",
    "- 内积的**别称**：点乘\n",
    "- **运算规则**：对应位置上的元素相乘，然后合并相加\n",
    "\n",
    "$𝑢·𝑣=\\begin{bmatrix} u_1 \\\\ u_2 \\\\ u_3 \\\\ ... \\\\ u_n \\end{bmatrix}·\\begin{bmatrix} u_1 \\\\ u_2 \\\\ u_3 \\\\ ... \\\\ u_n \\end{bmatrix}\n",
    "=𝑣_1 𝑣_1+𝑣_2 𝑣_2+𝑣_3 𝑣_3+... +𝑣_𝑛 𝑣_𝑛$\n",
    "\n",
    "- 内积的**几何形式**：𝑢·v=|𝑢||𝑣|  𝑐𝑜𝑠⁡𝜃\n",
    "- 内积的**几何意义**：向量u 在向量v 方向上的投影长度乘以向量v 的模长。\n",
    "- 内积的**几何表示**：\n",
    "\n",
    "![Image](http://ouxinyu.cn/Teaching/ComputerMath/Attachments/0203_InnerProduct.png)\n",
    "\n",
    "**【例3】** 试计算，向量 $𝑢=\\begin{bmatrix} 2 \\\\ 4 \\\\ 6 \\end{bmatrix}$ 与向量 $𝑣=\\begin{bmatrix} 1 \\\\ 3 \\\\ 5 \\end{bmatrix}$ 的内积。\n",
    "\n",
    "解：\n",
    "$𝑢·𝑣=\n",
    "\\begin{bmatrix} 2 \\\\ 4 \\\\ 6 \\end{bmatrix}·\n",
    "\\begin{bmatrix} 1 \\\\ 3 \\\\ 5 \\end{bmatrix}$\n",
    "=2*1+4*3+6*5=2+12+30=44\n"
   ]
  },
  {
   "cell_type": "code",
   "execution_count": 6,
   "metadata": {
    "execution": {
     "iopub.execute_input": "2020-05-16T04:30:26.459168Z",
     "iopub.status.busy": "2020-05-16T04:30:26.459168Z",
     "iopub.status.idle": "2020-05-16T04:30:26.463157Z",
     "shell.execute_reply": "2020-05-16T04:30:26.463157Z",
     "shell.execute_reply.started": "2020-05-16T04:30:26.459168Z"
    }
   },
   "outputs": [
    {
     "name": "stdout",
     "output_type": "stream",
     "text": [
      "44\n"
     ]
    }
   ],
   "source": [
    "import numpy as np\n",
    "u = np.array([2,4,6])\n",
    "v = np.array([1,3,5])\n",
    "print(np.dot(u,v))"
   ]
  },
  {
   "cell_type": "markdown",
   "metadata": {},
   "source": [
    "**【结果分析】**\n",
    "\n",
    "向量间的内积要求两个元素必须是向量形式，同时具有相同的形态。这意味，以矩阵形式表示的“向量”无法进行内积运算。\n"
   ]
  },
  {
   "cell_type": "code",
   "execution_count": 7,
   "metadata": {
    "execution": {
     "iopub.execute_input": "2020-05-16T04:30:26.464155Z",
     "iopub.status.busy": "2020-05-16T04:30:26.464155Z",
     "iopub.status.idle": "2020-05-16T04:30:26.600789Z",
     "shell.execute_reply": "2020-05-16T04:30:26.600789Z",
     "shell.execute_reply.started": "2020-05-16T04:30:26.464155Z"
    }
   },
   "outputs": [
    {
     "ename": "ValueError",
     "evalue": "shapes (1,3) and (1,3) not aligned: 3 (dim 1) != 1 (dim 0)",
     "output_type": "error",
     "traceback": [
      "\u001b[1;31m---------------------------------------------------------------------------\u001b[0m",
      "\u001b[1;31mValueError\u001b[0m                                Traceback (most recent call last)",
      "\u001b[1;32m<ipython-input-7-54e4fb57e3e4>\u001b[0m in \u001b[0;36m<module>\u001b[1;34m\u001b[0m\n\u001b[0;32m      2\u001b[0m \u001b[0mu\u001b[0m \u001b[1;33m=\u001b[0m \u001b[0mnp\u001b[0m\u001b[1;33m.\u001b[0m\u001b[0marray\u001b[0m\u001b[1;33m(\u001b[0m\u001b[1;33m[\u001b[0m\u001b[1;33m[\u001b[0m\u001b[1;36m2\u001b[0m\u001b[1;33m,\u001b[0m\u001b[1;36m4\u001b[0m\u001b[1;33m,\u001b[0m\u001b[1;36m6\u001b[0m\u001b[1;33m]\u001b[0m\u001b[1;33m]\u001b[0m\u001b[1;33m)\u001b[0m\u001b[1;33m\u001b[0m\u001b[1;33m\u001b[0m\u001b[0m\n\u001b[0;32m      3\u001b[0m \u001b[0mv\u001b[0m \u001b[1;33m=\u001b[0m \u001b[0mnp\u001b[0m\u001b[1;33m.\u001b[0m\u001b[0marray\u001b[0m\u001b[1;33m(\u001b[0m\u001b[1;33m[\u001b[0m\u001b[1;33m[\u001b[0m\u001b[1;36m1\u001b[0m\u001b[1;33m,\u001b[0m\u001b[1;36m3\u001b[0m\u001b[1;33m,\u001b[0m\u001b[1;36m5\u001b[0m\u001b[1;33m]\u001b[0m\u001b[1;33m]\u001b[0m\u001b[1;33m)\u001b[0m\u001b[1;33m\u001b[0m\u001b[1;33m\u001b[0m\u001b[0m\n\u001b[1;32m----> 4\u001b[1;33m \u001b[0mprint\u001b[0m\u001b[1;33m(\u001b[0m\u001b[0mnp\u001b[0m\u001b[1;33m.\u001b[0m\u001b[0mdot\u001b[0m\u001b[1;33m(\u001b[0m\u001b[0mu\u001b[0m\u001b[1;33m,\u001b[0m\u001b[0mv\u001b[0m\u001b[1;33m)\u001b[0m\u001b[1;33m)\u001b[0m\u001b[1;33m\u001b[0m\u001b[1;33m\u001b[0m\u001b[0m\n\u001b[0m",
      "\u001b[1;32m<__array_function__ internals>\u001b[0m in \u001b[0;36mdot\u001b[1;34m(*args, **kwargs)\u001b[0m\n",
      "\u001b[1;31mValueError\u001b[0m: shapes (1,3) and (1,3) not aligned: 3 (dim 1) != 1 (dim 0)"
     ]
    }
   ],
   "source": [
    "import numpy as np\n",
    "u = np.array([[2,4,6]])\n",
    "v = np.array([[1,3,5]])\n",
    "print(np.dot(u,v))"
   ]
  },
  {
   "cell_type": "code",
   "execution_count": null,
   "metadata": {
    "execution": {
     "iopub.status.busy": "2020-05-16T04:30:26.601788Z",
     "iopub.status.idle": "2020-05-16T04:30:26.601788Z"
    }
   },
   "outputs": [],
   "source": [
    "import numpy as np\n",
    "u = np.array([[2,4,6]]).T\n",
    "v = np.array([[1,3,5]]).T\n",
    "print(np.dot(u,v))"
   ]
  },
  {
   "cell_type": "markdown",
   "metadata": {},
   "source": [
    "**【结果分析】**\n",
    "\n",
    "可以看到相同形态的二维矩阵无法进行内积运算，哪怕是行数或列数为1的二维数组。这似乎和前面的运算规则相违背。\n",
    "\n",
    "若需要使用二维数组表示的**向量**进行内积运算，则要求两个数组具有相同的长度，同时两个数组互为转置。\n",
    "\n",
    "具体的运算规则将在后面的矩阵乘法中进行解释。"
   ]
  },
  {
   "cell_type": "code",
   "execution_count": null,
   "metadata": {
    "execution": {
     "iopub.status.busy": "2020-05-16T04:30:26.602786Z",
     "iopub.status.idle": "2020-05-16T04:30:26.603782Z"
    }
   },
   "outputs": [],
   "source": [
    "import numpy as np\n",
    "u = np.array([[2,4,6]])\n",
    "v = np.array([[1,3,5]]).T\n",
    "print(np.dot(u,v))"
   ]
  },
  {
   "cell_type": "markdown",
   "metadata": {},
   "source": [
    "### 3.2 向量间的外积\n",
    "\n",
    "- 向量外积的**结果**：标量（二维）、向量（三维以上）\n",
    "- 外积的**别称**：叉乘、向量积\n",
    "- 二维平面的**运算规则**：\n",
    "\n",
    "$𝑢×𝑣=\n",
    "\\begin{bmatrix} 𝑢_1 \\\\ 𝑢_2 \\end{bmatrix}×\n",
    "\\begin{bmatrix} 𝑣_1 \\\\ 𝑣_2 \\end{bmatrix}\n",
    "=𝑢_1 𝑣_2 − 𝑢_2 𝑣_1$\n",
    "\n",
    "- 外积的**几何形式**：𝑢×v=|𝑢||𝑣|s𝑖𝑛⁡𝜃\n",
    "- **几何意义（二维）**：向量u 和向量v 张成的平行四边形的面积。\n",
    "- **几何表示（二维）** ：\n",
    "\n",
    "![Image](http://ouxinyu.cn/Teaching/ComputerMath/Attachments/0204_2DOuterProduct.png)\n",
    "\n",
    "三维平面的运算规则：\n",
    "\n",
    "$𝑢×𝑣=\n",
    "\\begin{bmatrix} 𝑢_1 \\\\ 𝑢_2 \\\\ 𝑢_3 \\end{bmatrix}×\n",
    "\\begin{bmatrix} 𝑣_1 \\\\ 𝑣_2 \\\\ 𝑣_3 \\end{bmatrix}\n",
    "=\\begin{bmatrix} 𝑢_2 𝑣_3 - 𝑢_3 𝑣_2 \\\\ 𝑢_3 𝑣_1 - 𝑢_1 𝑣_3  \\\\ 𝑢_1 𝑣_2 - 𝑢_2 𝑣_1 \\end{bmatrix}$\n",
    "\n",
    "- **几何意义（三维）**：向量 𝑢 和向量 𝑣 张成的平面的法向量，该向量垂直于 𝑢 和 𝑣 向量构成的平面。\n",
    "- **几何表示（三维）** ：\n",
    "\n",
    "![Image](http://ouxinyu.cn/Teaching/ComputerMath/Attachments/0205_3DOuterProduct.png)\n",
    "\n",
    "**【例4】** 试计算，向量 $𝑢=\\begin{bmatrix} 2 \\\\ 4 \\end{bmatrix}$ 与向量 $𝑣=\\begin{bmatrix} 3 \\\\ 5 \\end{bmatrix}$ 的外积。\n",
    "\n",
    "解：\n",
    "$𝑢×𝑣=\n",
    "\\begin{bmatrix} 2 \\\\ 4 \\end{bmatrix}·\n",
    "\\begin{bmatrix} 3 \\\\ 5 \\end{bmatrix}$\n",
    "=2*5 - 4*3 =10-12=-2"
   ]
  },
  {
   "cell_type": "code",
   "execution_count": null,
   "metadata": {
    "execution": {
     "iopub.status.busy": "2020-05-16T04:30:26.604780Z",
     "iopub.status.idle": "2020-05-16T04:30:26.604780Z"
    }
   },
   "outputs": [],
   "source": [
    "import numpy as np\n",
    "u = np.array([2,4])\n",
    "v = np.array([3,5])\n",
    "print(np.cross(u,v))"
   ]
  },
  {
   "cell_type": "markdown",
   "metadata": {},
   "source": [
    "**【例5】** 试计算，向量 $𝑢=\\begin{bmatrix} 2 \\\\ 3 \\\\ 4 \\end{bmatrix}$ 与向量 $𝑣=\\begin{bmatrix} 1 \\\\ 3 \\\\ 6 \\end{bmatrix}$ 的外积。\n",
    "\n",
    "解：\n",
    "$u×v=\n",
    "\\begin{bmatrix} 2 \\\\ 3 \\\\ 4 \\end{bmatrix}·\n",
    "\\begin{bmatrix} 1 \\\\ 3 \\\\ 6 \\end{bmatrix}\n",
    "=\\begin{bmatrix} u_2 v_3 - u_3 v_2 \\\\ u_3 v_1 - u_1 v_3 \\\\ u_1 v_2 - u_2 v_1 \\end{bmatrix}\n",
    "=\\begin{bmatrix} 3*6-4*3 \\\\ 4*1-2*6 \\\\ 2*3-3*1 \\end{bmatrix}\n",
    "=\\begin{bmatrix} 6 \\\\ -8 \\\\ 3 \\end{bmatrix}$"
   ]
  },
  {
   "cell_type": "code",
   "execution_count": null,
   "metadata": {
    "execution": {
     "iopub.status.busy": "2020-05-16T04:30:26.605776Z",
     "iopub.status.idle": "2020-05-16T04:30:26.605776Z"
    }
   },
   "outputs": [],
   "source": [
    "import numpy as np\n",
    "u = np.array([2,3,4])\n",
    "v = np.array([1,3,6])\n",
    "print(np.cross(u,v))"
   ]
  },
  {
   "cell_type": "code",
   "execution_count": null,
   "metadata": {
    "execution": {
     "iopub.status.busy": "2020-05-16T04:30:26.605776Z",
     "iopub.status.idle": "2020-05-16T04:30:26.606773Z"
    }
   },
   "outputs": [],
   "source": [
    "import numpy as np\n",
    "u = np.array([1,1,1])\n",
    "v = np.array([2,3]).T\n",
    "print(np.cross(u,v))"
   ]
  },
  {
   "cell_type": "markdown",
   "metadata": {},
   "source": [
    "## 4. 向量的线性组合\n",
    "\n",
    "- 向量的**线性组合**：基于向量加法和数乘构建的基本运算。\n",
    "- 基本**运算规则**：假设存在标量𝑎,𝑏,𝑐 和向量𝒖,𝒗,𝒘 ，则有：\n",
    "\n",
    "$𝑎𝒖+𝑏𝒗+𝑐𝒘\n",
    "=𝑎\\begin{bmatrix} u_1 \\\\ u_2 \\\\ u_3 \\end{bmatrix}\n",
    "+𝑏\\begin{bmatrix} v_1 \\\\ v_2 \\\\ v_3 \\end{bmatrix}\n",
    "+𝑐\\begin{bmatrix} w_1 \\\\ w_2 \\\\ w_3 \\end{bmatrix}\n",
    "=\\begin{bmatrix} a u_1 + b v_1 + c w_1 \\\\ a u_2 + b v_2 + c w_2 \\\\ a u_3 + b v_3 + c w_3 \\end{bmatrix}$\n",
    "\n",
    "**【例6】** 给定标量𝑎=2,𝑏=4,𝑐=6和向量 $𝑢=\\begin{bmatrix} 1 \\\\ 2 \\\\ 3 \\end{bmatrix},𝒗=\\begin{bmatrix} 4 \\\\ 5 \\\\ 6 \\end{bmatrix},𝒘=\\begin{bmatrix} 7 \\\\ 8 \\\\ 9 \\end{bmatrix}$，试求线性组合 $𝑎𝒖+𝑏𝒗+𝑐𝒘$。\n",
    "\n",
    "解：\n",
    "$𝑎𝒖+𝑏𝒗+𝑐𝒘=\n",
    "2\\begin{bmatrix} 1 \\\\ 2 \\\\ 3 \\end{bmatrix}+\n",
    "4\\begin{bmatrix} 4 \\\\ 5 \\\\ 6 \\end{bmatrix}+\n",
    "6\\begin{bmatrix} 7 \\\\ 8 \\\\ 9 \\end{bmatrix}=\n",
    "\\begin{bmatrix} 2*1+4*4+6*7 \\\\ 2*2+4*5+6*8 \\\\ 2*3+4*6+6*9  \\end{bmatrix}=\n",
    "\\begin{bmatrix} 60 \\\\ 72 \\\\ 84  \\end{bmatrix}$"
   ]
  },
  {
   "cell_type": "code",
   "execution_count": null,
   "metadata": {
    "execution": {
     "iopub.status.busy": "2020-05-16T04:30:26.606773Z",
     "iopub.status.idle": "2020-05-16T04:30:26.606773Z"
    }
   },
   "outputs": [],
   "source": [
    "import numpy as np\n",
    "u = np.array([[1,2,3]]).T\n",
    "v = np.array([[4,5,6]]).T\n",
    "w = np.array([[7,8,9]]).T\n",
    "print(2*u + 4*v + 6*w)"
   ]
  },
  {
   "cell_type": "code",
   "execution_count": null,
   "metadata": {
    "execution": {
     "iopub.status.busy": "2020-05-16T04:30:26.607771Z",
     "iopub.status.idle": "2020-05-16T04:30:26.607771Z"
    }
   },
   "outputs": [],
   "source": [
    "import numpy as np\n",
    "u = np.array([1,2,3]).T\n",
    "v = np.array([4,5,6]).T\n",
    "w = np.array([7,8,9]).T\n",
    "print(2*u + 4*v + 6*w)"
   ]
  },
  {
   "cell_type": "markdown",
   "metadata": {},
   "source": [
    "**【结果分析】**\n",
    "\n",
    "向量的线性组合需要将向量转换为列向量，因此需要使用二维数组来表示列向量。直接进行线性变换，可以运算，但无法获得最终的列向量。\n"
   ]
  },
  {
   "cell_type": "code",
   "execution_count": null,
   "metadata": {
    "execution": {
     "iopub.status.busy": "2020-05-16T04:30:26.608768Z",
     "iopub.status.idle": "2020-05-16T04:30:26.608768Z"
    }
   },
   "outputs": [],
   "source": [
    "import numpy as np\n",
    "u = np.array([[1,2]]).T\n",
    "v = np.array([[2,3]]).T\n",
    "w = np.array([[3,4]]).T\n",
    "print(1*u + 3*v + 5*w)"
   ]
  },
  {
   "cell_type": "code",
   "execution_count": null,
   "metadata": {
    "execution": {
     "iopub.status.busy": "2020-05-16T04:30:26.608768Z",
     "iopub.status.idle": "2020-05-16T04:30:26.609765Z"
    }
   },
   "outputs": [],
   "source": [
    "import numpy as np\n",
    "u = np.array([1,2,3])\n",
    "v = np.array([4,5,6])\n",
    "print(np.cross(u,v))"
   ]
  }
 ],
 "metadata": {
  "kernelspec": {
   "display_name": "Python 3",
   "language": "python",
   "name": "python3"
  },
  "language_info": {
   "codemirror_mode": {
    "name": "ipython",
    "version": 3
   },
   "file_extension": ".py",
   "mimetype": "text/x-python",
   "name": "python",
   "nbconvert_exporter": "python",
   "pygments_lexer": "ipython3",
   "version": "3.7.7"
  }
 },
 "nbformat": 4,
 "nbformat_minor": 4
}
