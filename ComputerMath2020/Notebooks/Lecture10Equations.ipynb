{
 "cells": [
  {
   "cell_type": "markdown",
   "metadata": {},
   "source": [
    "# 矩阵乘向量的新视角：变换基底"
   ]
  },
  {
   "cell_type": "markdown",
   "metadata": {},
   "source": [
    "<font color=\"blue\">作者：欧新宇（Xinyu OU）</font>\n",
    "\n",
    "<font color=\"red\">本文档所展示的测试结果，均运行于：Intel Core i7-7700K CPU 4.2GHz</font>\n",
    "\n",
    "---"
   ]
  },
  {
   "cell_type": "markdown",
   "metadata": {},
   "source": [
    "## 本章要点\n",
    "1. 理解基底变化和坐标变换的原理\n",
    "2. 学会从将标准基$[e_1, e_2]$下的坐标迁移到特定基$[u_1, u_2]$，并求转移矩阵\n",
    "3. 学会从将特定基$[u_1, u_2]$下的坐标迁移到标准基$[e_1, e_2]$，并求转移矩阵\n",
    "4. 学会从将特定基$[u_1, u_2]$下的坐标迁移到特定基$[v_1, v_2]$，并求转移矩阵\n",
    "5. 重点掌握配合Python描述实现上述功能"
   ]
  },
  {
   "cell_type": "markdown",
   "metadata": {},
   "source": [
    "在前面的学习中，我们知道同一个向量在不同的基（坐标系）下有不同的表示（坐标），那么不同的基与不同的坐标之间又有怎么样的关系呢？其实，很多应用问题都可以通过从一个坐标系转换为另一个坐标系而得到简化。\n",
    "\n",
    "图一:\n",
    "![Image](http://ouxinyu.cn/Teaching/ComputerMath/Attachments/0501Kernel01.png)\n",
    "\n",
    "图二：\n",
    "![Image](http://ouxinyu.cn/Teaching/ComputerMath/Attachments/0502Kernel02.png)\n",
    "\n",
    "在一个向量空间中转换坐标和从一组基转为另外一组基本质上是相同的。本节中，我们讨论从一个坐标系转换为另一坐标系的问题，并证明它可以通过将给定向量 $x$ 乘以一个非奇异矩阵$S$来实现。乘积$y=Sx$为新坐标系下的坐标向量。"
   ]
  },
  {
   "cell_type": "markdown",
   "metadata": {
    "toc-hr-collapsed": true,
    "toc-nb-collapsed": true
   },
   "source": [
    "## 1. 行空间和列空间\n",
    "\n",
    "如果***A***是一个$m \\times n$的矩阵，***A***的每一行为一个实的n元组，于是可以将其看成是 $\\bf{R}^{1 \\times n}$ 中的一个向量。对应于***A***的$m$个行的向量称为***A***的行向量（row vector），记作：\n",
    "\n",
    "$A=\\begin{bmatrix} a_{row_1} \\\\ a_{row_2} \\\\ ... \\\\ a_{row_m} \\end{bmatrix}$\n",
    "\n",
    "类似地，***A***的每一列可以看成是$\\bf{R}^m$中的一个向量，且称这$n$个向量为***A***的列向量(column vector)，记作：\n",
    "\n",
    "$A = [a_{col_1}, a_{col_2}, ..., a_{col_n}]$ \n",
    "\n",
    "**【定义】** 如果***A***为一个$m \\times n$的矩阵，由***A***的行向量张成的$\\bf{R}^{1 \\times n}$的子空间称为***A***的**行空间**(row space)。由***A***的各列张成的$\\bf{R}^m$的子空间称为***A***的**列空间**(column space)。\n",
    "\n",
    "**【例5.1】** 令$A=\\begin{bmatrix} 1 & 0 & 0  \\\\ 0 & 1 & 0 \\end{bmatrix}$，则:\n",
    "\n",
    "- A的行空间有如下形式的三元组：\n",
    "$\\alpha(1,0,0)+\\beta(0,1,0)=(\\alpha,\\beta,0)$\n",
    "\n",
    "- A的列空间是所有如下形式的向量：$\\alpha \\begin{bmatrix} 1 \\\\ 0 \\end{bmatrix} + \\beta \\begin{bmatrix} 0 \\\\ 1 \\end{bmatrix} + \\gamma \\begin{bmatrix} 0 \\\\ 0 \\end{bmatrix} = \\begin{bmatrix} \\alpha \\\\ \\beta \\end{bmatrix}$\n",
    "\n",
    "因此，***A***的行空间为一个$\\bf{R}^{1 \\times 3}$的二维子空间，且A的列空间为$\\bf{R}^2$。"
   ]
  },
  {
   "cell_type": "markdown",
   "metadata": {},
   "source": [
    "## 2. 矩阵乘法的新视角"
   ]
  },
  {
   "cell_type": "markdown",
   "metadata": {},
   "source": [
    "### 2.1 基于行视角矩阵乘法\n",
    "\n",
    "下面我们来回顾一下矩阵和向量相乘的运算法则。假设存在一个$m$维向量$x$和一个$m \\times n$的矩阵$A$，它们相乘的规则如下：\n",
    "\n",
    "$Ax=\\begin{bmatrix} \n",
    "    a_{11} & a_{12} & ... & a_{1n} \\\\ \n",
    "    a_{21} & a_{22} & ... & a_{2n} \\\\ \n",
    "    ... & ... & ... & ... \\\\ \n",
    "    a_{m1} & a_{m2} & ... & a_{mn} \\\\\n",
    "\\end{bmatrix}\n",
    "\\begin{bmatrix} \n",
    "    x_1 \\\\ \n",
    "    x_2 \\\\ \n",
    "    ... \\\\ \n",
    "    x_n \\\\\n",
    "\\end{bmatrix}\n",
    "=\\begin{bmatrix} \n",
    "    a_{11} x_{1} + a_{12} x_{2} + ... + a_{1n} x_{n} \\\\ \n",
    "    a_{21} x_{1} + a_{22} x_{2} + ... + a_{2n} x_{n} \\\\ \n",
    "    ...  \\\\ \n",
    "    a_{m1} x_{1} + a_{m2} x_{2} + ... + a_{mn} x_{n} \\\\\n",
    "\\end{bmatrix}$\n",
    "\n",
    "不难发现，矩阵$A$第$i$行的行向量的各成分和列向量$x$各成分分别相乘后再相加，得到的就是结果向量$Ax$中的第$i$个成分。这个计算方法就是多次应用了向量点乘的定义式，即：\n",
    "\n",
    "$Ax=\\begin{bmatrix} \n",
    "    row_{1} \\\\ \n",
    "    row_{2} \\\\ \n",
    "    ...  \\\\ \n",
    "    row_{m} \\\\\n",
    "\\end{bmatrix}x\n",
    "=\\begin{bmatrix} \n",
    "    row_{1} · x \\\\ \n",
    "    row_{2} · x \\\\ \n",
    "    ...  \\\\ \n",
    "    row_{m} · x \\\\\n",
    "\\end{bmatrix}$\n",
    "\n",
    "对于矩阵和向量的乘法运算，以上就是按行计算的展示，这也是常规的计算规则。但看上去只是一种规范性的计算法则，并没有太多的几何意义和内涵。下面我们给出另外一种从列的视角来解释的矩阵乘法。"
   ]
  },
  {
   "cell_type": "markdown",
   "metadata": {},
   "source": [
    "### 2.2 基于列视角矩阵乘法\n",
    "\n",
    "我们依然以一个$m$维向量$x$和一个$m \\times n$的矩阵$A$的乘法为例：\n",
    "\n",
    "$Ax=\\begin{bmatrix} \n",
    "a_{11} & a_{12} & ... & a_{1n} \\\\ \n",
    "a_{21} & a_{22} & ... & a_{2n} \\\\ \n",
    "... & ... & ... & ... \\\\ \n",
    "a_{m1} & a_{m2} & ... & a_{mn} \\end{bmatrix}\n",
    "\\begin{bmatrix} x_1 \\\\ x_2 \\\\ ... \\\\ x_n \\end{bmatrix}\n",
    "=x_1 \\begin{bmatrix} a_{11} \\\\ a_{21} \\\\ ... \\\\ a_{m1} \\end{bmatrix}\n",
    "+x_2 \\begin{bmatrix} a_{12} \\\\ a_{22} \\\\ ... \\\\ a_{m2} \\end{bmatrix}\n",
    "+... \n",
    "+x_n \\begin{bmatrix} a_{1n} \\\\ a_{2n} \\\\ ... \\\\ a_{mn} \\end{bmatrix}\n",
    "=\\begin{bmatrix} \n",
    "a_{11} x_{1} + a_{12} x_{2} + ... + a_{1n} x_{n} \\\\ \n",
    "a_{21} x_{1} + a_{22} x_{2} + ... + a_{2n} x_{n} \\\\ \n",
    "... \\\\ \n",
    "a_{m1} x_{1} + a_{m2} x_{2} + ... + a_{mn} x_{n}\\end{bmatrix}$\n",
    "\n",
    "基于这样的拆解方式，依然可以得到正确的结果。不难发现的是，矩阵$A$第$j$列的列向量的各成分和列向量$x$对应的第$j$行相乘，得到的是结果向量$Ax$中的第$j$个成分。$Ax$相乘的运算就简化成了两个向量的点乘，即：\n",
    "\n",
    "$Ax=[Col_1, Col_2,...,Col_n] \\begin{bmatrix} x_1 \\\\ x_2 \\\\ ... \\\\ x_n \\end{bmatrix}$。\n",
    "\n",
    "这个结果很有趣，从列的角度来看，矩阵$A$与向量$x$的乘法，实质上对矩阵A的各个列向量进行线性组合的过程，每个列向量的系数就是向量$x$的各个对应成分。\n",
    "\n",
    "**【例5.2】** 给出矩阵乘法\n",
    "\n",
    "$Ax=\\begin{bmatrix} 1 & 2 \\\\ 3 & 4 \\end{bmatrix}\n",
    "\\begin{bmatrix} 3 \\\\ 5 \\end{bmatrix}\n",
    "=3\\begin{bmatrix} 1 \\\\ 3 \\end{bmatrix}\n",
    "+5\\begin{bmatrix} 2 \\\\ 4 \\end{bmatrix}$\n",
    "\n",
    "通过乘法计算，最终所得到的结果向量是：位于矩阵第一列的列向量$\\begin{bmatrix} 1 \\\\ 3 \\end{bmatrix}$的3倍加上位于第二列的列向量的$\\begin{bmatrix} 2 \\\\ 4 \\end{bmatrix}$的5倍。\n",
    "\n",
    "**【小节】**\n",
    "\n",
    "综上所述，一个矩阵和一个向量相乘的过程可以理解为对位于原矩阵各列的列向量重新进行线性组合的过程，而在线性组合的运算过程中，结果中的各个系数就是乘法运算的列向量中所对应的各个成分。这是一种从列的角度去看待矩阵与向量乘法的新视角。"
   ]
  },
  {
   "cell_type": "markdown",
   "metadata": {},
   "source": [
    "## 3. 基于基底变换的坐标变换\n",
    "\n",
    "在进行`坐标变换`的时候，我们有时候也会将其解释为`基底变换`，事实上`坐标变换`和`基底变换`在某种程度上可以理解为是一回事。与此同时，我们也可以说这是**向量**的`基底变换`，因为在空间中，我们通常将`向量`称成为`坐标`。所不同的是，基底变换描述的是坐标的参照体系的变换，而坐标变换描述的是一个向量在不同坐标系下的具体的值。\n",
    "\n",
    "简单的说，我们给定一个基于特定基底$U$的坐标$x$，其坐标变换的实质就是将该坐标$x$从基底$U$迁移到基底$V$，得到新的坐标。\n",
    "\n",
    "此处我们可以将坐标变换表示为：$[x]_U -> [x]_V$.\n",
    "\n",
    "下面我们再来看看在坐标的定义。"
   ]
  },
  {
   "cell_type": "markdown",
   "metadata": {},
   "source": [
    "### 3.1 基于基底的坐标\n",
    "\n",
    "**【定义】** 假设二维空间$R^2$存在标准基为${e_1, e_2}$，任何$R^2$中的向量$x$都可以表示为线性组合:\n",
    "\n",
    "$x=x_1 e_1 + x_2 e_2$\n",
    "\n",
    "标量$x_1$和$x_2$可以看成是$x$在标准基下的**坐标**。\n",
    "\n",
    "事实上，对任意$R^2$的基$\\{y, z\\}$，给定向量$x$可唯一地表示为线性组合: $x=\\alpha y + \\beta z$，标量$\\alpha, \\beta$为$x$相应于基$\\{y, z\\}$的坐标。对基中的元素进行排序，使得$y$为第一个基向量，$z$为第二个基向量，并将这个有序的基记为 $[y, z]$。然后称向量$(\\alpha, \\beta)^T$为$x$对应于$[y,z]$的坐标向量。注意，如果交换基向量的顺序为$[z, y]$，则必须同时交换坐标向量。$x$对应于$[z, y]$的坐标向量为$(\\beta, \\alpha)^T$。当使用下标基时，例如$\\{u_1, u_2\\}$，下标就表示基向量的一个顺序。\n",
    "\n",
    "**【例5.3】** 令$y=(2,1)^T，z=(1,4)^T$。向量y和z线性无关，且构成$R^2$的一组基。向量$x=(7,7)^T$可写为线性组合: x=3y+z。\n",
    "\n",
    "因此，x相应于[y, z]的坐标向量是$(3,1)^T$。从几何上看，坐标向量表示如何从原点移动到点(7,7)，即首先沿着y方向，然后沿着z方向。而如果把z看作是第一个基向量，y是第二个基向量，则：x=z+3y。\n",
    "\n",
    "![Image](http://ouxinyu.cn/Teaching/ComputerMath/Attachments/0503Coordinates.png)\n",
    "\n",
    "x对应于有序基[z, y]的坐标向量为$(1,3)^T$。从几何上看，这个向量告诉我们如何从原点移动到点(7,7)，即首先沿着z方向，然后沿着y方向移动。\n",
    "\n",
    "**【例5.4】人口迁移** 假设一个大城市的总人口保持相对固定；然而，每年6%的人从城市搬到郊区，2%的的人从郊区搬到城市。如果初始时，30%的人生活在城市，70%的人生活中郊区，那么10年后这些比例有什么变化？30年后呢？50年后呢？长时过程意味着什么？\n",
    "\n",
    "解：人口的变化可由矩阵乘法确定。若令：$A=\\begin{bmatrix} 0.94 & 0.02 \\\\ 0.06 & 0.98 \\end{bmatrix}$及$x=\\begin{bmatrix} 0.30 \\\\ 0.70 \\end{bmatrix}$。其中0.94表示一年后仍然生活在城市的人口比例，0.02表示从郊区搬到城市的人口比例；0.06表示从城市搬到郊区的人口比例，0.98表示仍然生活在郊区的人口比例。\n",
    "\n",
    "则，1年后，在城市和郊区生活的人口比例可由$x_1 = A x_0$ 求得。2年后的比例可由$x_2 = Ax_1 = A^2 x_0$求得。一般地，n年后的比例可由$x_n = A^n x_0$给出。如果计算n=10，30和50时的百分比，并将它们舍入到最接近的百分比，我们有：\n",
    "\n",
    "$x_{10}=A^{10} x_0 = \\begin{bmatrix} 0.272 \\\\ 0.728 \\end{bmatrix}, \n",
    "x_{30}=A^{30} x_0 = \\begin{bmatrix} 0.254 \\\\ 0.745 \\end{bmatrix}, \n",
    "x_{50}=A^{50} x_0 = \\begin{bmatrix} 0.250 \\\\ 0.749 \\end{bmatrix}$\n",
    "\n",
    "上式中矩阵乘法的部分，我们可以使用Python来编程实现："
   ]
  },
  {
   "cell_type": "code",
   "execution_count": 42,
   "metadata": {},
   "outputs": [
    {
     "name": "stdout",
     "output_type": "stream",
     "text": [
      " 1年后的居住比例为：[[0.296 0.704]]\n",
      " 2年后的居住比例为：[[0.29232 0.70768]]\n",
      "10年后的居住比例为：[[0.27171942 0.72828058]]\n",
      "30年后的居住比例为：[[0.25409831 0.74590169]]\n",
      "50年后的居住比例为：[[0.25077332 0.74922668]]\n"
     ]
    }
   ],
   "source": [
    "import numpy as np\n",
    "# np.set_printoptions(formatter={'float': '{: 0.2f}'.format})\n",
    "\n",
    "A0 = np.array([[0.94,0.02],[0.06,0.98]])\n",
    "x = np.array([[0.3],[0.7]])\n",
    "\n",
    "n = 50\n",
    "years = [1,2,10,30,50]\n",
    "\n",
    "A = A0\n",
    "for year in range(n):  # year的取值范围是[0:49],其中0为第一年，49为第50年\n",
    "    res = np.dot(A, x)    \n",
    "    A = np.dot(A, A0)\n",
    "    if year+1 in years:\n",
    "        print('{:2d}年后的居住比例为：{}'.format(year+1, res.T))\n"
   ]
  },
  {
   "cell_type": "markdown",
   "metadata": {},
   "source": [
    "**【结果分析】**\n",
    "\n",
    "当n持续增加时，向量序列$x_n = A^n x_0$将收敛到极限 $x=[0.25,0.75]^T$。向量x的极限称为该过程的稳态向量（steady-state vector）。有兴趣的同学可以查询有关**马尔可夫过程(Markov process)**的相关文献。"
   ]
  },
  {
   "cell_type": "markdown",
   "metadata": {},
   "source": [
    "### 3.2 从**矩阵乘法**的角度理解基底变换（坐标变换）"
   ]
  },
  {
   "cell_type": "markdown",
   "metadata": {},
   "source": [
    "#### 3.2.1 基于二阶方阵的基底变换（坐标变换）\n",
    "\n",
    "前面我们说过向量的坐标必须依托于基底的选取，也就是说，向量的坐标在明确了基底的前提下才有实际意义。而对于二维列向量，我们说它对应到空间中的坐标是(x,y)，其实就是基于默认基底：$(\\begin{bmatrix} 1 \\\\ 0 \\end{bmatrix}, \\begin{bmatrix} 0 \\\\ 1 \\end{bmatrix})$. 那么二维基向量的完整表达就应该是：\n",
    "$\\begin{bmatrix} x \\\\ y \\end{bmatrix}\n",
    "=x \\begin{bmatrix} 1 \\\\ 0 \\end{bmatrix}\n",
    "+y \\begin{bmatrix} 0 \\\\ 1 \\end{bmatrix}$。\n",
    "\n",
    "下面我们就利用这个概念来讲矩阵与向量的乘法运算进行展开，进一步理解坐标变换的过程。\n",
    "\n",
    "给定一个矩阵$A = \\begin{bmatrix} a & b \\\\ c & d \\end{bmatrix}$，若存在向量$u=\\begin{bmatrix} x \\\\ y \\end{bmatrix}$，则它们之间的乘法关系可以表示为：\n",
    "\n",
    "$Au = \\begin{bmatrix} a & b \\\\ c & d \\end{bmatrix} \\begin{bmatrix} x \\\\ y \\end{bmatrix}\n",
    "=\\begin{bmatrix} a & b \\\\ c & d \\end{bmatrix} (x \\begin{bmatrix} 1 \\\\ 0 \\end{bmatrix}\n",
    "+y \\begin{bmatrix} 0 \\\\ 1 \\end{bmatrix})\n",
    "=x \\begin{bmatrix} a & b \\\\ c & d \\end{bmatrix} \\begin{bmatrix} 1 \\\\ 0 \\end{bmatrix}\n",
    "+y \\begin{bmatrix} a & b \\\\ c & d \\end{bmatrix} \\begin{bmatrix} 0 \\\\ 1 \\end{bmatrix}\n",
    "=x \\begin{bmatrix} a \\\\ c \\end{bmatrix} + y \\begin{bmatrix} b \\\\ d \\end{bmatrix}$\n",
    "\n",
    "更连贯地表达，我们可以认为在矩阵$\\begin{bmatrix} a & b \\\\ c & d \\end{bmatrix}$的作用下，向量$u$将从标准基迁移到一个新的基下，即完成了坐标变换。\n",
    "\n",
    "$x \\begin{bmatrix} 1 \\\\ 0 \\end{bmatrix} + y \\begin{bmatrix} 0 \\\\ 1 \\end{bmatrix}$\n",
    "=> $x \\begin{bmatrix} a \\\\ c \\end{bmatrix} + y \\begin{bmatrix} b \\\\ d \\end{bmatrix}$\n",
    "\n",
    "具体而言，通过乘法运算，矩阵把向量的基底进行了变换，旧的基底$(\\begin{bmatrix} 1 \\\\ 0 \\end{bmatrix}, \\begin{bmatrix} 0 \\\\ 1 \\end{bmatrix})$变成了新的基底$(\\begin{bmatrix} a \\\\ c \\end{bmatrix}, \\begin{bmatrix} b \\\\ d \\end{bmatrix})$。映射前由旧的基底分别乘以对应的坐标(x,y)来表示其空间位置；而映射后，很自然地想到是由新的基底去乘以坐标(x,y)来表述坐标在新的基底下的空间位置：$x \\begin{bmatrix} 1 \\\\ 0 \\end{bmatrix} + y \\begin{bmatrix} 0 \\\\ 1 \\end{bmatrix}\n",
    "=> x \\begin{bmatrix} a \\\\ c \\end{bmatrix} + y \\begin{bmatrix} b \\\\ d \\end{bmatrix}\n",
    "=\\begin{bmatrix} ax+by \\\\ cx+dy \\end{bmatrix}$。该映射关系可以用下图来表示：\n",
    "\n",
    "![Image](http://ouxinyu.cn/Teaching/ComputerMath/Attachments/0505CoordinatesChange.png)\n",
    "\n",
    "**【结果分析】**\n",
    "\n",
    "综合矩阵的乘法公式不难发现：\n",
    "\n",
    "1. 矩阵A的第一列$\\begin{bmatrix} a \\\\ c \\end{bmatrix}$就是原始的$x$方向上的标准基$\\begin{bmatrix} 1 \\\\ 0 \\end{bmatrix}$变换所得到的目标位置（基于新基向量的坐标），而第二列$\\begin{bmatrix} b \\\\ d \\end{bmatrix}$就是$y$方向上的标准基$\\begin{bmatrix} 0 \\\\ 1 \\end{bmatrix}$映射后的目标位置（基于新基向量的坐标）。\n",
    "\n",
    "2. 映射后得到的新向量，如果以向量$(\\begin{bmatrix} a \\\\ c \\end{bmatrix}, \\begin{bmatrix} b \\\\ d \\end{bmatrix})$为基底那么其坐标仍然是(x,y)；如果以标准基$(\\begin{bmatrix} 1 \\\\ 0 \\end{bmatrix}, \\begin{bmatrix} 0 \\\\ 1 \\end{bmatrix})$为基底，那么其坐标就变为$(ax+by, cx+dy)$。\n"
   ]
  },
  {
   "cell_type": "markdown",
   "metadata": {},
   "source": [
    "#### 3.2.2 基于三阶方阵的基底变换（坐标变换）\n",
    "\n",
    "下面我们再研讨一下三阶方阵和三维列向量相乘的例子，其运算规则也满足二阶变换的原理。\n",
    "\n",
    "\n",
    "$Au= \\begin{bmatrix} a & b & c \\\\ d & e & f \\\\ g & h & i \\end{bmatrix} \\begin{bmatrix} x \\\\ y \\\\ z \\end{bmatrix}\n",
    "=\\begin{bmatrix} a & b & c \\\\ d & e & f \\\\ g & h & i \\end{bmatrix} (x \\begin{bmatrix} 1 \\\\ 0 \\\\ 0 \\end{bmatrix} + y \\begin{bmatrix} 0 \\\\ 1 \\\\ 0 \\end{bmatrix} + z \\begin{bmatrix} 0 \\\\ 0 \\\\ 1 \\end{bmatrix})\n",
    "=x \\begin{bmatrix} a \\\\ d \\\\ g \\end{bmatrix}\n",
    "+y \\begin{bmatrix} b \\\\ e \\\\ h \\end{bmatrix}\n",
    "+z \\begin{bmatrix} c \\\\ f \\\\ i \\end{bmatrix}$\n",
    "\n",
    "**【结果分析】**\n",
    "\n",
    "与二阶方阵相相似，\n",
    "\n",
    "1. 三阶方阵将三维列向量的基底做了映射转换，方阵的第一列$\\begin{bmatrix} a \\\\ d \\\\ g \\end{bmatrix}$是原基向量$\\begin{bmatrix} 1 \\\\ 0 \\\\ 0 \\end{bmatrix}$映射后的目标位置（新目标向量），方阵的第二列$\\begin{bmatrix} b \\\\ e \\\\ h \\end{bmatrix}$是基向量$\\begin{bmatrix} 0 \\\\ 1 \\\\ 0 \\end{bmatrix}$映射后的目标位置（新的基向量），而方阵的第三列$\\begin{bmatrix} c \\\\ f \\\\ i \\end{bmatrix}$则是原始向量$\\begin{bmatrix} 0 \\\\ 0 \\\\ 1 \\end{bmatrix}$映射后的目标位置（新的基向量）。\n",
    "\n",
    "2. 映射后的目标向量如果在新的基底$(\\begin{bmatrix} a \\\\ d \\\\ g \\end{bmatrix}, \\begin{bmatrix} b \\\\ e \\\\ h \\end{bmatrix}, \\begin{bmatrix} c \\\\ f \\\\ i \\end{bmatrix})$，其坐标仍然是$(x,y,z)$。如果回到原始基底$(\\begin{bmatrix} 1 \\\\ 0 \\\\ 0 \\end{bmatrix}, \\begin{bmatrix} 0 \\\\ 1 \\\\ 0 \\end{bmatrix}, \\begin{bmatrix} 0 \\\\ 0 \\\\ 1 \\end{bmatrix})$下来看，将新的基底$(\\begin{bmatrix} a \\\\ d \\\\ g \\end{bmatrix}, \\begin{bmatrix} b \\\\ e \\\\ h \\end{bmatrix}, \\begin{bmatrix} c \\\\ f \\\\ i \\end{bmatrix})$和其所对应的坐标$(x,y,z)$相结合，就能得到默认原始基底的坐标值，具体表示为:$\\begin{bmatrix} ax+by+cz \\\\ dx+ey+fz \\\\ gx+hy+iz \\end{bmatrix}$."
   ]
  },
  {
   "cell_type": "markdown",
   "metadata": {},
   "source": [
    "#### 3.2.3 基于m×n阶方阵的基底变换（坐标变换）\n",
    "\n",
    "下面讨论更一般的例子，给定一个矩阵$A_{m×n} (m \\neq n)$和向量一个$n$维列向量$x$。我们按照上面的步骤计算矩阵$A=\\begin{bmatrix} a_{11} & a_{12} & ... & a_{1n} \\\\ a_{21} & a_{22} & ... & a_{2n} \\\\ \\vdots & \\vdots & \\ddots & \\dots \\\\ a_{m1} & a_{m2} & ... & a_{mn} \\end{bmatrix}$和向量$x=\\begin{bmatrix} x_1 \\\\ x_2 \\\\ \\vdots \\\\ x_n \\end{bmatrix}$的乘法，可以得到：\n",
    "\n",
    "$Ax = \\begin{bmatrix} a_{11} & a_{12} & ... & a_{1n} \\\\ a_{21} & a_{22} & ... & a_{2n} \\\\ \\vdots & \\vdots & \\ddots & \\dots \\\\ a_{m1} & a_{m2} & ... & a_{mn} \\end{bmatrix}\n",
    "\\begin{bmatrix} x_1 \\\\ x_2 \\\\ \\vdots \\\\ x_n \\end{bmatrix}\n",
    "=x_1 \\begin{bmatrix} a_{11} \\\\ a_{21} \\\\ \\vdots \\\\ a_{m1} \\end{bmatrix}\n",
    "+x_2 \\begin{bmatrix} a_{12} \\\\ a_{22} \\\\ \\vdots \\\\ a_{m2} \\end{bmatrix}\n",
    "+...\n",
    "+x_n \\begin{bmatrix} a_{1n} \\\\ a_{2n} \\\\ \\vdots \\\\ a_{mn} \\end{bmatrix}$.\n",
    "\n",
    "在$m×n$形状大小的矩阵$A$的作用下，原始的$n$维向量$\\begin{bmatrix} 1 \\\\ 0 \\\\ \\vdots \\\\ 0 \\end{bmatrix}$被映射了新的$m$维度基向量$\\begin{bmatrix} a_{11} \\\\ a_{21} \\\\ \\vdots \\\\ a_{m1} \\end{bmatrix}$，原始的$n$维向量$\\begin{bmatrix} 0 \\\\ 1 \\\\ \\vdots \\\\ 0 \\end{bmatrix}$被映射成了新的$m$维基向量$\\begin{bmatrix} a_{12} \\\\ a_{22} \\\\ \\vdots \\\\ a_{m2} \\end{bmatrix}$。原始的$n$维基向量$\\begin{bmatrix} 0 \\\\ 0 \\\\ \\vdots \\\\ 1 \\end{bmatrix}$被映射成了新的m维基向量$\\begin{bmatrix} a_{1n} \\\\ a_{2n} \\\\ \\vdots \\\\ a_{mn} \\end{bmatrix}$.\n",
    "\n",
    "**【结果分析】**\n",
    "\n",
    "从推导结果可以发现，映射前后的坐标维度发生了变换，原始的$n$维列向量变成了$n$个$m$维列向量线性组合的形式，其最终的运算结果是一个$m$维的列向量。由此，我们不难得出结论：映射后的向量维数和原始向量维数的关系取决于`映射矩阵`的维数$m$和$n$的关系：\n",
    "\n",
    "- $m>n$，映射后的目标向量维数大于原始向量的维数。但$m>n$时，矩阵A中的$n$个列向量不足以表达$m$维空间中的所有向量。因此，这$n$个向量无法成为$m$维空间的基底。\n",
    "- $m<n$，目标向量的维数小于原始向量的维数，则$n$个向量中，一定存在线性相关的向量，因此它也无法构成基底。\n",
    "- $m=n$，方阵，目标向量维数与原始向量一致。此时，如果这$n$个向量线性无关，则它们就能够构建一组新的基底。\n",
    "\n",
    "事实上，如果映射前后向量的维度发生了变换，也并不意味着坐标无法进行变换。在这种情况，坐标将从一个空间转换到了另外一个空间，而这两个空间具有完全不同的空间系统，因此基底的维数也可能产生不同。即转换前后的空间可能会具有不同的维度和不同的阶数，在实际应用中，这种空间转换同样具有非常重要的意义和用处。例如，一个自然场景的图片，从RGB颜色空间（红绿蓝），转换为CMYK颜色空间（青、洋红（品红）、黄、黑）。\n"
   ]
  },
  {
   "cell_type": "markdown",
   "metadata": {},
   "source": [
    "### 3.3 从**标准基**开始的基底变换（坐标变换）\n",
    "\n",
    "一旦决定使用一组新的基，就需要寻找在这组基下的坐标。例如，假设我们希望用一组不同的基代替$R^2$中的标准基$[e_1, e_2]$，不妨设\n",
    "\n",
    "$u_1 = \\begin{bmatrix} 3 \\\\ 2 \\end{bmatrix}, \n",
    "u_2 = \\begin{bmatrix} 1 \\\\ 1 \\end{bmatrix}$\n",
    "\n",
    "事实上，我们希望做的是在两个坐标系间进行转换。考虑下面**两个问题**：\n",
    "\n",
    "> 1. 给定一个向量$x=(x_1, x_2)^T$，求它在$u_1$和$u_2$下的坐标。\n",
    "\n",
    "> 2. 给定一个向量$c_1 u_1 + c_2 u_2$，求它在$e_1, e_2$下的坐标。\n",
    "\n",
    "下面，我们先求解**任务2**，因为它相对简单。为了将基$[u_1, u_2]$转换为标准基$[e_1, e_2]$，我们必须将原来的基元素$u_1$和$u_2$表示为新的基元素$e_1$和$e_2$。\n",
    "\n",
    "$u_1 = 3e_1 + 2e_2$\n",
    "\n",
    "$u_2 = e_1 + e_2$\n",
    "\n",
    "由此得到：\n",
    "\n",
    "$c_1 u_1 + c_2 u_2 \\\\\n",
    "= (3 c_1 e_1 + 2 c_1 e_2) + (c_2 e_1 + c_2 e_2) \\\\\n",
    "= (3 c_1 + c_2) e_1 + (2 c_1 + c2) e_2$\n",
    "\n",
    "因此$c_1 u_1 + c_2 u_2$相应于$[e_1, e_2]$的坐标向量为：\n",
    "\n",
    "$x = \\begin{bmatrix} 3 c_1 + c_2 \\\\ 2 c_1 + c2 \\end{bmatrix}\n",
    "= \\begin{bmatrix} 3 & 1 \\\\ 2 & 1 \\end{bmatrix} \\begin{bmatrix} c_1 \\\\ c_2 \\end{bmatrix}$\n",
    "\n",
    "如果令：\n",
    "\n",
    "$U = (u_1, u_2) =  \\begin{bmatrix} 3 & 1 \\\\ 2 & 1 \\end{bmatrix}$\n",
    "\n",
    "则给定任何相应于$[u_1, u_2]$的坐标向量$c$，求相应于$[e_1, e_2]$的坐标向量$x$，我们只需要用$U$乘以$c$，就可以得到`转移公式`：\n",
    "\n",
    "$x = Uc$.\n",
    "\n",
    "此时，称$U$为有序基$[u_1, u_2]$到基$[e_1, e_2]$的**转移矩阵(transition matrix)**.\n",
    "\n",
    "为了求解**任务1**，我们需要求从$[e_1, e_2]$到$[u_1, u_2]$的转移矩阵。**任务1**中的矩阵$U$是非奇异的，因此它的列向量$u_1$和$u_2$线性无关。由上面的`转移公式`可以得到\n",
    "\n",
    "$c = U^{-1} x$\n",
    "\n",
    "因此，给定向量 $x = (x_1, x_2)^T = x_1 e_1 + x_2 e_2$\n",
    "\n",
    "我们只需要乘以 $U^{-1}$即可求出在$[u_1, u_2]$下的坐标向量。其中，$U^{-1}$为从$[e_1, e_2]$到$[u_1, u_2]$的转移矩阵。\n",
    "                \n",
    "> **逆矩阵的求解方法**：假设存在矩阵A，我们可以构造一个新的矩阵 $B = [A I]$，然后对B进行初等行变换，目标是将A转换为单位矩阵I。当新的矩阵产生的时候，I的伴随矩阵就是A的逆矩阵$A^{-1}$。即，$C = [I A^{-1}]$.\n",
    "\n",
    "**【例5.5】** 令 $u_1 = (3,2)^T, u_2 = (1,1)^T$及$x=(7,4)^T$。求$x$相应于$u_1$和$u_2$的坐标向量。\n",
    "\n",
    "解：根据前面的思路，从$[e_1, e_2]$到$[u_1, u_2]$的转移矩阵为$U$的逆矩阵，其中: $U = (u_1, u_2) =  \\begin{bmatrix} 3 & 2 \\\\ 1 & 1 \\end{bmatrix}$.\n",
    "\n",
    "因此,\n",
    "\n",
    "$c= U^{-1} x \n",
    "= \\begin{bmatrix} 1 & -1 \\\\ -2 & 3 \\end{bmatrix} \n",
    "\\begin{bmatrix} 7 \\\\ 4 \\end{bmatrix}\n",
    "= \\begin{bmatrix} 3 \\\\ -2 \\end{bmatrix}$\n",
    "\n",
    "即$c$为要求的坐标向量，且 $x=3u_1-2u_2$。\n",
    "\n",
    "上式中，我们可以使用Python来求解转移矩阵$U$的逆矩阵$U^{-1}$和矩阵与向量之间的乘法，表达为:"
   ]
  },
  {
   "cell_type": "code",
   "execution_count": 43,
   "metadata": {},
   "outputs": [
    {
     "name": "stdout",
     "output_type": "stream",
     "text": [
      "U的逆矩阵为: \n",
      " [[ 1. -1.]\n",
      " [-2.  3.]]\n",
      "新坐标c为: \n",
      " [[ 3.]\n",
      " [-2.]]\n"
     ]
    }
   ],
   "source": [
    "import numpy as np\n",
    "from scipy import linalg\n",
    "U = np.array([[3,1],[2,1]])\n",
    "x = np.array([[7],[4]])\n",
    "\n",
    "U1 = linalg.inv(U)\n",
    "c = np.dot(U1, x)\n",
    "\n",
    "print('U的逆矩阵为: \\n {}'.format(U1))\n",
    "print('新坐标c为: \\n {}'.format(c))"
   ]
  },
  {
   "cell_type": "code",
   "execution_count": 44,
   "metadata": {},
   "outputs": [
    {
     "name": "stdout",
     "output_type": "stream",
     "text": [
      "[[ 1. -1.]\n",
      " [-2.  3.]]\n"
     ]
    }
   ],
   "source": [
    "# 求矩阵的逆矩阵更标准的是使用matrix类型.I方法，具体如下：\n",
    "\n",
    "U = np.mat([[3,1],[2,1]]) # 将numpy数组转换为matrix类型\n",
    "U2 = U.I # 使用matrix.I属性获得矩阵的逆矩阵\n",
    "print(U2)\n",
    "\n",
    "#下面使用numpy数组的inv()方法求数组的伪逆数组，该方法也被称为广义逆矩阵。\n",
    "from scipy import linalg\n",
    "U1 = linalg.inv(U)"
   ]
  },
  {
   "cell_type": "markdown",
   "metadata": {},
   "source": [
    "**【例5.6】** 令 $b_1 = (1, -1)^T, b_2 = (-2,3)^T$。求从$[e_1, e_2]$到$[b_1, b_2]$的转移矩阵，并确定$x=(1,2)^T$相应$[b_1, b_2]$的坐标向量。\n",
    "\n",
    "解：从$[e_1, e_2]$到$[b_1, b_2]$的转移矩阵为：\n",
    "\n",
    "$B = (b_1, b_2) =  \\begin{bmatrix} 1 & -2 \\\\ -1 & 3 \\end{bmatrix}$\n",
    "\n",
    "由此，从$[b_1, b_2]$到$[e_1, e_2]$的转移矩阵为：\n",
    "\n",
    "$B^{-1} = \\begin{bmatrix} 3 & 2 \\\\ 1 & 1 \\end{bmatrix}$\n",
    "\n",
    "向量$x$相应于$[b_1, b_2]$的坐标向量为：\n",
    "\n",
    "$c= B^{-1} x \n",
    "= \\begin{bmatrix} 3 & 2 \\\\ 1 & 1 \\end{bmatrix} \n",
    "\\begin{bmatrix} 1 \\\\ 2 \\end{bmatrix}\n",
    "= \\begin{bmatrix} 7 \\\\ 3 \\end{bmatrix}$\n",
    "\n",
    "于是有：$x=7 b_1 + 3 b_2$。\n",
    "\n",
    "与**【例5.5】**相似，求逆矩阵和矩阵乘法的操作，我们同样可以使用Python来实现。"
   ]
  },
  {
   "cell_type": "code",
   "execution_count": 45,
   "metadata": {},
   "outputs": [
    {
     "name": "stdout",
     "output_type": "stream",
     "text": [
      "B的逆矩阵为: \n",
      " [[3. 2.]\n",
      " [1. 1.]]\n",
      "新坐标c为: \n",
      " [[7.]\n",
      " [3.]]\n"
     ]
    }
   ],
   "source": [
    "import numpy as np\n",
    "from scipy import linalg\n",
    "B = np.array([[1,-2],[-1,3]])\n",
    "x = np.array([[1],[2]])\n",
    "\n",
    "B1 = linalg.inv(B)\n",
    "c = np.dot(B1, x)\n",
    "\n",
    "print('B的逆矩阵为: \\n {}'.format(B1))\n",
    "print('新坐标c为: \\n {}'.format(c))"
   ]
  },
  {
   "cell_type": "markdown",
   "metadata": {},
   "source": [
    "### 3.4 从**任意基**开始的基底变换（坐标变换）\n",
    "\n",
    "下面我们讨论一下从一组非标准基$[u_1, u_2]$到另一组非标准基$[v_1, v_2]$的坐标变换问题。假设对给定的向量$x$，它相应于$[v_1, v_2]$的坐标为：$x=c_1 v_1 + c_2 v_2$。\n",
    "\n",
    "现在，我们希望将$x$表示为和基$[u_1, u_2]$对应的坐标$d_1 u_1 + d_2 u_2$。即，求标量$d_1, d_2$，使得：\n",
    "\n",
    "$c_1 v_1 + c_2 v_2 = d_1 u_1 + d_2 u_2$。\n",
    "\n",
    "若令$V=(v_1, v_2)$，且$U=(u_1, u_2)$，则上面的方程可以写成矩阵形式：$Vc = Ud$，由此可以得到：\n",
    "\n",
    "$d=U^{-1} V c$。\n",
    "\n",
    "因此，给定$R^2$中的向量$x$及其对应的有序基$[v_1, v_2]$的坐标向量$c$，要求$x$相应于新基$[u_1, u_2]$的坐标向量，只需将$c$乘以$V$到$U$的转移矩阵$S=U^{-1} V$\n",
    "\n",
    "**【例5.7】** 求从$[v_1, v_2]$到$[u_1, u_2]$的转移矩阵，其中\n",
    "\n",
    "$v_1 = \\begin{bmatrix} 5 \\\\ 2 \\end{bmatrix},\n",
    "v_2 = \\begin{bmatrix} 7 \\\\ 3 \\end{bmatrix}   及   \n",
    "u_1 = \\begin{bmatrix} 3 \\\\ 2 \\end{bmatrix},\n",
    "u_2 = \\begin{bmatrix} 1 \\\\ 1 \\end{bmatrix}$\n",
    "\n",
    "解: 从$[v_1, v_2]$到$[u_1, u_2]$的转移矩阵为：\n",
    "\n",
    "$ S=U^{-1} V = \\begin{bmatrix} 3 & 2 \\\\ 1 & -1 \\end{bmatrix}^{-1}\n",
    "\\begin{bmatrix} 5 & 7 \\\\ 2 & 3 \\end{bmatrix}\n",
    "=\\begin{bmatrix} 3 & 4 \\\\ -4 & -5 \\end{bmatrix}$\n",
    "\n",
    "相似地，矩阵$U$的转移矩阵$U^{-1}$和矩阵乘法，也可以使用Python来完成。"
   ]
  },
  {
   "cell_type": "code",
   "execution_count": 46,
   "metadata": {},
   "outputs": [
    {
     "name": "stdout",
     "output_type": "stream",
     "text": [
      "U的逆矩阵为: \n",
      " [[ 1. -1.]\n",
      " [-2.  3.]]\n",
      "转移矩阵为: \n",
      " [[ 3.  4.]\n",
      " [-4. -5.]]\n"
     ]
    }
   ],
   "source": [
    "import numpy as np\n",
    "from scipy import linalg\n",
    "U = np.array([[3,1],[2,1]])\n",
    "V = np.array([[5,7],[2,3]])\n",
    "\n",
    "U1 = linalg.inv(U)\n",
    "S = np.dot(U1, V)\n",
    "\n",
    "print('U的逆矩阵为: \\n {}'.format(U1))\n",
    "print('转移矩阵为: \\n {}'.format(S))"
   ]
  },
  {
   "cell_type": "markdown",
   "metadata": {},
   "source": [
    "**【结果分析】**\n",
    "\n",
    "从$[v_1, v_2]$到$[u_1, u_2]$的转换可以看成是一个两步的过程。首先从$[v_1, v_2]$转换为标准基$[e_1, e_2]$，然后再从标准基转换为$[u_1, u_2]$。给定向量空间$R^2$中的向量$x$，若$c$为$x$相应于$[v_1, v_2]$的坐标向量，且$d$为$x$相应于$[u_1, u_2]$的坐标向量，则：\n",
    "\n",
    "$c_1 v_1 + c_2 v_2 = x_1 e_1 + x_2 e_2  = d_1 u_1 + d_2 u_2$\n",
    "\n",
    "因为V是从$[v_1, v_2]$到$[e_1, e_2]$的转移矩阵，且$U^{-1}$是从$[e_1, e_2]$到$[u_1, u_2]$的转移矩阵，由此得到：\n",
    "\n",
    "$Vc=x$ 及 $U^{-1}x = d$\n",
    "\n",
    "于是\n",
    "\n",
    "$U^{-1}Vc = U^{-1}x = d$\n",
    "\n",
    "如前所述，我们得到了从$[v_1, v_2]$到$[u_1, u_2]$的转移矩阵为$S=U^{-1} V$。下面给出一个形象化的图示：\n",
    "\n",
    "![Image](http://ouxinyu.cn/Teaching/ComputerMath/Attachments/0504BasisChange.png)\n"
   ]
  },
  {
   "cell_type": "markdown",
   "metadata": {},
   "source": [
    "### 3.5 一般向量空间的基底变换（坐标变换）\n",
    "\n",
    "前面所述的所有结论都可以很容易地推广到任意有限维的向量空间中，我们从定义一个n维向量空间的坐标向量开始讨论。\n",
    "\n",
    "**【定义】** 令V为一向量空间，且令$E=[v_1, v_2,...,v_n]$为V的一组`有序基`。若$v$为$V$中的任意元素，则$v$可写为：\n",
    "\n",
    "$v=c_1 v_1 + c_2 v_2 + ...+c_n v_n$\n",
    "\n",
    "其中$c_1, c_2, ..., c_n$为标量。因此可以将每一个向量$v$唯一对应于$R^n$中的一个向量$c=(c_1, c_2, ..., c_n)^T$。采用这种方式定义的向量$c$称为$v$相应于有序基$E$的坐标向量，并记为$[v]_E$，$c_i$称为$v$相对于$E$的坐标。\n",
    "\n",
    "前面的例子均假设坐标变换在$R^2$中进行，类似的方法也可应用于$R^n$。在$R^n$中，转移矩阵将为n×n矩阵。\n",
    "\n",
    "**【例5.8】** 若$x=3 v_1 + 2 v_2 - v_3$ 及 $y = v_1 - 3v_2 + 2 v_3$，令：\n",
    "\n",
    "$E=[v_1, v_2, v_3]=[(1,1,1)^T, (2,3,2)^T, (1,5,4)^T]$\n",
    "\n",
    "$F=[u_1, u_2, u_3]=[(1,1,0)^T, (1,2,0)^T, (1,2,1)^T]$\n",
    "\n",
    "求：（1）从E到F的转移矩阵；（2）求$x, y$相应于有序基F的坐标。\n",
    "\n",
    "解：（1）E到F的转移矩阵为：\n",
    "\n",
    "$S=U^{-1}V=F^{-1}E \\\\\n",
    "=\\begin{bmatrix} 1 & 1 & 1 \\\\ 1 & 2 & 2 \\\\ 0 & 0 & 1 \\end{bmatrix}^{-1}\n",
    "\\begin{bmatrix} 1 & 2 & 1 \\\\ 1 & 3 & 5 \\\\ 1 & 2 & 4 \\end{bmatrix} \\\\\n",
    "=\\begin{bmatrix} 2 & -1 & 0 \\\\ -1 & 1 & -1 \\\\ 0 & 0 & 1 \\end{bmatrix}\n",
    "\\begin{bmatrix} 1 & 2 & 1 \\\\ 1 & 3 & 5 \\\\ 1 & 2 & 4 \\end{bmatrix} \\\\\n",
    "=\\begin{bmatrix} 1 & 1 & -3 \\\\ -1 & -1 & 0 \\\\ 1 & 2 & 4 \\end{bmatrix}$\n",
    "\n",
    "(2)坐标$x,y$相应于有序基$F$的坐标向量为：\n",
    "\n",
    "$[x]_F\n",
    "=\\begin{bmatrix} 1 & 1 & -3 \\\\ -1 & -1 & 0 \\\\ 1 & 2 & 4 \\end{bmatrix}\n",
    "\\begin{bmatrix} 3 \\\\ 2 \\\\ -1 \\end{bmatrix}\n",
    "=\\begin{bmatrix} 8 \\\\ -5 \\\\ 3 \\end{bmatrix}$\n",
    "\n",
    "$[y]_F\n",
    "=\\begin{bmatrix} 1 & 1 & -3 \\\\ -1 & -1 & 0 \\\\ 1 & 2 & 4 \\end{bmatrix}\n",
    "\\begin{bmatrix} 1 \\\\ -3 \\\\ 2 \\end{bmatrix}\n",
    "=\\begin{bmatrix} -8 \\\\ 2 \\\\ 3 \\end{bmatrix}$\n",
    "\n",
    "**【拓展验证】**：验证基底变换前后的恒等性\n",
    "\n",
    "$8u_1 - 5u_2 + 3u_3 = 3v_1 + 2v_2 - v_3$\n",
    "\n",
    "$-8u_1 + 2u_2 + 3u_3 = v_1 -3v_2 + 2v_3$\n",
    "\n",
    "下面我们使用Python来描述：（1）求转移矩阵；（2）计算$x, y$相应于有序基F的坐标；（3）验证基底变换前后的恒等性。"
   ]
  },
  {
   "cell_type": "code",
   "execution_count": 47,
   "metadata": {},
   "outputs": [
    {
     "name": "stdout",
     "output_type": "stream",
     "text": [
      "S=\n",
      "[[ 1.  1. -3.]\n",
      " [-1. -1.  0.]\n",
      " [ 1.  2.  4.]]\n",
      "xF=\n",
      " [[ 8.]\n",
      " [-5.]\n",
      " [ 3.]], \n",
      " yF=\n",
      " [[-8.]\n",
      " [ 2.]\n",
      " [ 3.]]\n",
      "x的比较结果=True，y的比较结果=True\n"
     ]
    }
   ],
   "source": [
    "# 【例8】 若 𝑥=3𝑣1+2𝑣2−𝑣3  及  𝑦=𝑣1−3𝑣2+2𝑣3 ，令：\n",
    "\n",
    "# 𝐸=[𝑣1,𝑣2,𝑣3]=[(1,1,1)𝑇,(2,3,2)𝑇,(1,5,4)𝑇] \n",
    "# 𝐹=[𝑢1,𝑢2,𝑢3]=[(1,1,0)𝑇,(1,2,0)𝑇,(1,2,1)𝑇]\n",
    "\n",
    "import numpy as np\n",
    "from scipy import linalg\n",
    "from numpy import * \n",
    "\n",
    "E = np.array([[1,2,1],[1,3,5],[1,2,4]])\n",
    "F = np.array([[1,1,1],[1,2,2],[0,0,1]])\n",
    "x = np.array([[3],[2],[-1]])\n",
    "y = np.array([[1],[-3],[2]])\n",
    "\n",
    "# 1. 求转移矩阵S\n",
    "# S = U^-1 V\n",
    "S = np.dot(linalg.inv(F), E)\n",
    "print('S=\\n{}'.format(S))\n",
    "\n",
    "# 2. 计算x,y相应于有序基F的坐标\n",
    "xF = np.dot(S, x)\n",
    "yF = np.dot(S, y)\n",
    "print('xF=\\n {}, \\n yF=\\n {}'.format(xF, yF))\n",
    "\n",
    "# 3. 验证基底变换前后的恒等性\n",
    "print('x的比较结果={}，y的比较结果={}'.format((np.dot(F, xF) == np.dot(E, x)).all(), (np.dot(F, yF) == np.dot(E, y)).all()))\n",
    "\n",
    "# x_left = np.dot(F, xF)\n",
    "# x_right =np.dot(E, x)\n",
    "\n",
    "# y_left = np.dot(F, yF)\n",
    "# y_right = np.dot(E, y)\n",
    "\n",
    "# com_x = (x_left == x_right).all()\n",
    "# com_y = (y_left == y_right).all()\n",
    "\n",
    "# print('x的比较结果={}，y的比较结果={}'.format(com_x, com_y))\n",
    "# print('x_left=\\n {}, \\n x_right=\\n {}'.format(x_left, x_right))\n",
    "# print('y_left=\\n {}, \\n y_right=\\n {}'.format(y_left, y_right))\n"
   ]
  },
  {
   "cell_type": "markdown",
   "metadata": {},
   "source": [
    "### 4. 更多基底变换的例子"
   ]
  },
  {
   "cell_type": "markdown",
   "metadata": {},
   "source": [
    "> 1. 从标准基$[e_1, e_2]$到特定基$[u_1, u_2]$的基底变换（坐标变换）\n",
    "> 2. 从特定基$[u_1, u_2]$到标准基$[e_1, e_2]$的基底变换（坐标变换）\n",
    "> 3. 从特定基$[u_1, u_2]$到特定基$[v_1, v_2]$的基底变换（坐标变换）"
   ]
  },
  {
   "cell_type": "markdown",
   "metadata": {},
   "source": [
    "**【习题5.9】** 对下列问题，求从基$[u_1, u_2]$到$[e_1, e_2]$对应的转移矩阵$U$。\n",
    "\n",
    "1. $u_1 = (1,1)^T, u_2 = (-1,1)^T$\n",
    "\n",
    "2. $u_1 = (1,2)^T, u_2 = (2,5)^T$\n",
    "\n",
    "3. $u_1 = (0,1)^T, u_2 = (1,0)^T$\n",
    "\n",
    "> 问题分析：从特定基$[u_1, u_2]$到标准基$[e_1, e_2]$的基底变换（坐标变换）。此处求转移矩阵，比较简单，只需要将$u$排列成列向量组即可得到特定基向标准基的转移矩阵。\n",
    "\n",
    "解：\n",
    "1. $U_1=[u_1,u_2]=\\begin{bmatrix} 1 & -1 \\\\ 1 & 1 \\end{bmatrix}$\n",
    "2. $U_2=[u_1,u_2]=\\begin{bmatrix} 1 & 2 \\\\ 2 & 5 \\end{bmatrix}$\n",
    "3. $U_3=[u_1,u_2]=\\begin{bmatrix} 0 & 1 \\\\ 1 & 0 \\end{bmatrix}$\n"
   ]
  },
  {
   "cell_type": "markdown",
   "metadata": {},
   "source": [
    "**【习题5.10】** 对下列问题，求从基$[e_1, e_2]$到$[u_1, u_2]$对应的转移矩阵S。\n",
    "\n",
    "1. $u_1 = (1,1)^T, u_2 = (-1,1)^T$\n",
    "\n",
    "2. $u_1 = (1,2)^T, u_2 = (2,5)^T$\n",
    "\n",
    "3. $u_1 = (0,1)^T, u_2 = (1,0)^T$\n",
    "\n",
    "> 问题分析：从标准基$[e_1, e_2]$到特定基$[u_1, u_2]$的基底变换（坐标变换）。根据坐标变换公式，基坐标$x = Uc$，我们可以得到从标准基坐标向特定基坐标的变换公式：$c=U^{-1} x$，其中$U^{-1}$就是标准基$[e_1, e_2]$到特定基$[u_1, u_2]$的转移矩阵。\n",
    "\n",
    "解：\n",
    "1. $U_1^{-1}=[u_1,u_2]^{-1}=\\begin{bmatrix} 1 & -1 \\\\ 1 & 1 \\end{bmatrix}^{-1}$\n",
    "2. $U_2^{-1}=[u_1,u_2]^{-1}=\\begin{bmatrix} 1 & 2 \\\\ 2 & 5 \\end{bmatrix}^{-1}$\n",
    "3. $U_3^{-1}=[u_1,u_2]^{-1}=\\begin{bmatrix} 0 & 1 \\\\ 1 & 0 \\end{bmatrix}^{-1}$\n",
    "\n",
    "下面，我们使用python来求解矩阵的逆矩阵。"
   ]
  },
  {
   "cell_type": "code",
   "execution_count": 48,
   "metadata": {},
   "outputs": [
    {
     "name": "stdout",
     "output_type": "stream",
     "text": [
      "U1_inv=\n",
      "[[ 0.5  0.5]\n",
      " [-0.5  0.5]]\n",
      "U2_inv=\n",
      "[[ 5. -2.]\n",
      " [-2.  1.]]\n",
      "U3_inv=\n",
      "[[-0.  1.]\n",
      " [ 1.  0.]]\n"
     ]
    }
   ],
   "source": [
    "import numpy as np\n",
    "from scipy import linalg\n",
    "\n",
    "U1 = np.array([[1,-1],[1,1]])\n",
    "U2 = np.array([[1,2],[2,5]])\n",
    "U3 = np.array([[0,1],[1,0]])\n",
    "\n",
    "print('U1_inv=\\n{}'.format(linalg.inv(U1)))\n",
    "print('U2_inv=\\n{}'.format(linalg.inv(U2)))\n",
    "print('U3_inv=\\n{}'.format(linalg.inv(U3)))"
   ]
  },
  {
   "cell_type": "markdown",
   "metadata": {},
   "source": [
    "**【习题5.11】** 令$v_1=(3,2)^T, v_2=(4,3)^T$，对应于下列问题中每一组有序基$[u_1, u_2]$，求从$[v_1,v_2]$到$[u_1,u_2]$的转移矩阵。\n",
    "\n",
    "1. $u_1 = (1,1)^T, u_2 = (-1,1)^T$\n",
    "\n",
    "2. $u_1 = (1,2)^T, u_2 = (2,5)^T$\n",
    "\n",
    "3. $u_1 = (0,1)^T, u_2 = (1,0)^T$\n",
    "\n",
    "\n",
    "> 问题分析：从特定基$[u_1, u_2]$到特定基$[v_1, v_2]$的基底变换（坐标变换）。此处，求$[v_1,v_2]$到$[u_1,u_2]$的转移矩阵，可以直接套用公式$S=U^{-1} V$\n",
    "\n",
    "1. $S_1=U^{-1} V = \\begin{bmatrix} 1 & -1 \\\\ 1 & 1 \\end{bmatrix}^{-1} \\begin{bmatrix} 3 & 4 \\\\ 2 & 3 \\end{bmatrix}$\n",
    "2. $S_2=U^{-1} V = \\begin{bmatrix} 1 & 2 \\\\ 2 & 5 \\end{bmatrix}^{-1} \\begin{bmatrix} 3 & 4 \\\\ 2 & 3 \\end{bmatrix}$\n",
    "3. $S_3=U^{-1} V = \\begin{bmatrix} 0 & 1 \\\\ 1 & 0 \\end{bmatrix}^{-1} \\begin{bmatrix} 3 & 4 \\\\ 2 & 3 \\end{bmatrix}$\n",
    "\n",
    "后续的工作，同样交给Python来实现。"
   ]
  },
  {
   "cell_type": "code",
   "execution_count": 49,
   "metadata": {},
   "outputs": [
    {
     "name": "stdout",
     "output_type": "stream",
     "text": [
      "S1=\n",
      "[[ 2.5  3.5]\n",
      " [-0.5 -0.5]]\n",
      "S2=\n",
      "[[11. 14.]\n",
      " [-4. -5.]]\n",
      "S3=\n",
      "[[2. 3.]\n",
      " [3. 4.]]\n"
     ]
    }
   ],
   "source": [
    "import numpy as np\n",
    "from scipy import linalg\n",
    "\n",
    "U1 = np.array([[1,-1],[1,1]])\n",
    "U2 = np.array([[1,2],[2,5]])\n",
    "U3 = np.array([[0,1],[1,0]])\n",
    "\n",
    "V = np.array([[3,4],[2,3]])\n",
    "\n",
    "S1 = np.dot(linalg.inv(U1), V)\n",
    "S2 = np.dot(linalg.inv(U2), V)\n",
    "S3 = np.dot(linalg.inv(U3), V)\n",
    "\n",
    "\n",
    "print('S1=\\n{}'.format(S1))\n",
    "print('S2=\\n{}'.format(S2))\n",
    "print('S3=\\n{}'.format(S3))"
   ]
  },
  {
   "cell_type": "markdown",
   "metadata": {},
   "source": [
    "**【习题5.12】** 令$E=[(5,3)^T, (3,2)^T]$，并令$x=(1,1)^T,y=(1,-1)^T$，且$z=(10,7)^T$。计算$[x]_E, [y]_E$和$[z]_E$。\n",
    "\n",
    "> 问题分析：从标准基$[e_1, e_2]$到特定基$[u_1, u_2]$的基底变换（坐标变换）。根据坐标变换公式，基坐标$x = Uc$，我们可以得到从标准基坐标向特定基坐标的变换公式：$c=U^{-1} x$，其中, $U^{-1}$就是标准基$[e_1, e_2]$到特定基$[u_1, u_2]$的转移矩阵。\n",
    "\n",
    "1. $[x]_E=U^{-1} x = \\begin{bmatrix} 1 \\\\ 1 \\end{bmatrix} \\begin{bmatrix} 5 & 3 \\\\ 3 & 2 \\end{bmatrix}^{-1}$\n",
    "2. $[y]_E=U^{-1} y = \\begin{bmatrix} 1 \\\\ -1 \\end{bmatrix} \\begin{bmatrix} 5 & 3 \\\\ 3 & 2 \\end{bmatrix}^{-1}$\n",
    "3. $[z]_E=U^{-1} z = \\begin{bmatrix} 10 \\\\ 7 \\end{bmatrix} \\begin{bmatrix} 5 & 3 \\\\ 3 & 2 \\end{bmatrix}^{-1}$\n",
    "\n",
    "后续工作交给Python来实现。"
   ]
  },
  {
   "cell_type": "code",
   "execution_count": 50,
   "metadata": {},
   "outputs": [
    {
     "name": "stdout",
     "output_type": "stream",
     "text": [
      "xE=\n",
      "[[-1.]\n",
      " [ 2.]]\n",
      "yE=\n",
      "[[ 5.]\n",
      " [-8.]]\n",
      "zE=\n",
      "[[-1.]\n",
      " [ 5.]]\n"
     ]
    }
   ],
   "source": [
    "import numpy as np\n",
    "from scipy import linalg\n",
    "\n",
    "E = np.array([[5,3],[3,2]])\n",
    "\n",
    "x = np.array([[1],[1]])\n",
    "y = np.array([[1],[-1]])\n",
    "z = np.array([[10],[7]])\n",
    "\n",
    "print('xE=\\n{}'.format(np.dot(linalg.inv(E), x)))\n",
    "print('yE=\\n{}'.format(np.dot(linalg.inv(E), y)))\n",
    "print('zE=\\n{}'.format(np.dot(linalg.inv(E), z)))"
   ]
  },
  {
   "cell_type": "markdown",
   "metadata": {},
   "source": [
    "**【习题5.13】** 令$u_1=(1,1,1)^T, u_2=(1,2,2)^T, u_3=(2,3,4)^T$，求：\n",
    "\n",
    "1) 求基$[e_1, e_2, e_3]$到特定基$[u_1, u_2, u_3]$的转移矩阵。\n",
    "\n",
    "2) 求下列向量在基$[u_1, u_2, u_3]$下的坐标。(i) $A=(3,2,5)^T$, (ii) $B=(1,1,2)^T$, (iii) $C=(2,3,2)^T$ \n",
    "\n",
    "> 问题分析：从标准基$[e_1, e_2, e_3]$到特定基$[u_1, u_2, u_3]$的基底变换（坐标变换）。根据坐标变换公式$c=U^{-1} x$即可求得坐标和转移矩阵。\n",
    "\n",
    "$U^{-1}=\\begin{bmatrix} 1 & 1 & 2\\\\ 1 & 2 & 3 \\\\ 1 & 2 & 4 \\end{bmatrix} ^{-1}$\n",
    "\n",
    "$[A]_u = U^{-1} x = \\begin{bmatrix} 1 & 1 & 2\\\\ 1 & 2 & 3 \\\\ 1 & 2 & 4 \\end{bmatrix} ^{-1} \\begin{bmatrix} 3 \\\\ 2 \\\\ 5 \\end{bmatrix}$\n",
    "\n",
    "$[B]_u = U^{-1} x = \\begin{bmatrix} 1 & 1 & 2\\\\ 1 & 2 & 3 \\\\ 1 & 2 & 4 \\end{bmatrix} ^{-1} \\begin{bmatrix} 1 \\\\ 1 \\\\ 2 \\end{bmatrix}$\n",
    "\n",
    "$[C]_u = U^{-1} x = \\begin{bmatrix} 1 & 1 & 2\\\\ 1 & 2 & 3 \\\\ 1 & 2 & 4 \\end{bmatrix} ^{-1} \\begin{bmatrix} 2 \\\\ 3 \\\\ 2 \\end{bmatrix}$\n",
    "\n",
    "后续工作交给Python来实现。\n"
   ]
  },
  {
   "cell_type": "code",
   "execution_count": 51,
   "metadata": {},
   "outputs": [
    {
     "name": "stdout",
     "output_type": "stream",
     "text": [
      "U_inv=\n",
      " [[ 2.  0. -1.]\n",
      " [-1.  2. -1.]\n",
      " [ 0. -1.  1.]]\n",
      "Au=\n",
      "[[ 1.]\n",
      " [-4.]\n",
      " [ 3.]]\n",
      "Bu=\n",
      "[[ 0.]\n",
      " [-1.]\n",
      " [ 1.]]\n",
      "Cu=\n",
      "[[ 2.]\n",
      " [ 2.]\n",
      " [-1.]]\n"
     ]
    }
   ],
   "source": [
    "import numpy as np\n",
    "from scipy import linalg\n",
    "\n",
    "U = np.array([[1,1,2],[1,2,3],[1,2,4]])\n",
    "A = np.array([[3],[2],[5]])\n",
    "B = np.array([[1],[1],[2]])\n",
    "C = np.array([[2],[3],[2]])\n",
    "\n",
    "U_inv = linalg.inv(U)\n",
    "\n",
    "print('U_inv=\\n {}'.format(U_inv))\n",
    "print('Au=\\n{}'.format(np.dot(U_inv, A)))\n",
    "print('Bu=\\n{}'.format(np.dot(U_inv, B)))\n",
    "print('Cu=\\n{}'.format(np.dot(U_inv, C)))"
   ]
  },
  {
   "cell_type": "markdown",
   "metadata": {},
   "source": [
    "**【习题5.14】** 令$v_1=(4,6,7)^T, v_2=(0,1,1)^T, v_3=(0,1,2)^T$，并令$u_1=(1,1,1)^T, u_2=(1,2,2)^T, u_3=(2,3,4)^T$，求：\n",
    "\n",
    "1) 求从特定基$[v_1, v_2, v_3]$到特定基$[u_1, u_2, u_3]$的转移矩阵。\n",
    "\n",
    "2) 若$x=2v_1 + 3v_2-4v_3$，确定向量$x$相应于$u_1,u_2,u_3$的坐标。\n",
    "\n",
    "> 问题分析：从特定基$[u_1, u_2, u_3]$到特定基$[v_1, v_2, v_3]$的基底变换（坐标变换）。根据坐标变换的通用公式$Vc = Ud$，即可求得坐标和转移矩阵。\n",
    "\n",
    "解：\n",
    "\n",
    "1) 要获得$v$到$u$的转移矩阵，实际上就是将$v$到$e$和$e$到$u$的转移矩阵进行合成，那么可以得到：\n",
    "\n",
    "$S = U^{-1} V = \\begin{bmatrix} 1 & 1 & 2 \\\\ 1 & 2 & 3 \\\\ 1 & 2 & 4 \\end{bmatrix} ^{-1} \\begin{bmatrix} 4 & 0 & 0 \\\\ 6 & 1 & 1 \\\\ 7 & 1 & 2 \\end{bmatrix} $\n",
    "\n",
    "2) 基于$v$的坐标$x$转换为基于$u$的坐标，可以通过通用公式的变形获得，即：\n",
    "\n",
    "$Vc = Ud => d = U^{-1} V c\n",
    "=> x_{new} = U^{-1} V x = S \\begin{bmatrix} 2 \\\\ 3 \\\\ -4 \\end{bmatrix}$\n",
    "\n",
    "接下来的工作，仍然交给Python来实现。"
   ]
  },
  {
   "cell_type": "code",
   "execution_count": 4,
   "metadata": {},
   "outputs": [
    {
     "name": "stdout",
     "output_type": "stream",
     "text": [
      "S=\n",
      " [[ 1. -1. -2.]\n",
      " [ 1.  1.  0.]\n",
      " [ 1.  0.  1.]]\n",
      "xu=\n",
      "[[ 7.]\n",
      " [ 5.]\n",
      " [-2.]]\n"
     ]
    }
   ],
   "source": [
    "import numpy as np\n",
    "from scipy import linalg\n",
    "\n",
    "U = np.array([[1,1,2],[1,2,3],[1,2,4]])\n",
    "V = np.array([[4,0,0],[6,1,1],[7,1,2]])\n",
    "xv = np.array([[2],[3],[-4]])\n",
    "\n",
    "S = np.dot(linalg.inv(U), V)\n",
    "xu = np.dot(S,xv)\n",
    "\n",
    "print('S=\\n {}'.format(S))\n",
    "print('xu=\\n{}'.format(xu))\n"
   ]
  },
  {
   "cell_type": "markdown",
   "metadata": {},
   "source": [
    "**【习题5.15】** 给定$v_1=\\begin{bmatrix} 1 \\\\ 2 \\end{bmatrix}, v_2=\\begin{bmatrix} 2 \\\\ 3 \\end{bmatrix}, S = \\begin{bmatrix} 3 & 5 \\\\ 1 & -2 \\end{bmatrix}$，求：$w_1, w_2$，使得$S$为从$[w_1, w_2]$到$[v_1, v_2]$的转移矩阵。\n",
    "\n",
    "> 问题分析：从特定基$[w_1, w_2]$到特定基$[v_1, v_2]$的基底变换（坐标变换）。由于S是w到v的转移矩阵，所以有$S=V^{-1} W$，由此可以得到$w=VS$\n",
    "\n",
    "解：要求v到w的坐标，即利用公式 $w=Sv(d=Sc)$求解，其中$S$为$v$到$w$的转移矩阵。\n",
    "\n",
    "$W=VS= \\begin{bmatrix} 1 & 2 \\\\ 2 & 3 \\end{bmatrix} \\begin{bmatrix} 3 & 5 \\\\ 1 & -2 \\end{bmatrix}$\n",
    "\n",
    "下面同样采用Python进行实现。"
   ]
  },
  {
   "cell_type": "code",
   "execution_count": 53,
   "metadata": {},
   "outputs": [
    {
     "name": "stdout",
     "output_type": "stream",
     "text": [
      "W=\n",
      " [[5 1]\n",
      " [9 4]]\n"
     ]
    }
   ],
   "source": [
    "import numpy as np\n",
    "from scipy import linalg\n",
    "\n",
    "S = np.array([[3,5],[1,-2]])\n",
    "V = np.array([[1,2],[2,3]])\n",
    "\n",
    "W = np.dot(V,S)\n",
    "\n",
    "print('W=\\n {}'.format(W))"
   ]
  },
  {
   "cell_type": "markdown",
   "metadata": {},
   "source": [
    "**【习题5.16】** 给定$v_1=\\begin{bmatrix} 2 \\\\ 6 \\end{bmatrix}, v_2=\\begin{bmatrix} 1 \\\\ 4 \\end{bmatrix}, S = \\begin{bmatrix} 4 & 1 \\\\ 2 & 1 \\end{bmatrix}$，求：$u_1, u_2$，使得$S$为从$[v_1, v_2]$到$[u_1, u_2]$的转移矩阵。\n",
    "\n",
    "> 问题分析：从特定基$[u_1, u_2]$到特定基$[v_1, v_2]$的基底变换（坐标变换）。由于S是v到u的转移矩阵，所以有$S=U^{-1} V$，由此可以得到$V=US => U=VS^{-1}$\n",
    "\n",
    "解：\n",
    "\n",
    "$U = VS^{-1} = \\begin{bmatrix} 2 & 1 \\\\ 6 & 4 \\end{bmatrix} \\begin{bmatrix} 4 & 1 \\\\ 2 & 1 \\end{bmatrix} ^{-1}$\n",
    "\n",
    "后续计算同样使用Python实现。"
   ]
  },
  {
   "cell_type": "code",
   "execution_count": 54,
   "metadata": {},
   "outputs": [
    {
     "name": "stdout",
     "output_type": "stream",
     "text": [
      "W=\n",
      " [[ 0.  1.]\n",
      " [-1.  5.]]\n"
     ]
    }
   ],
   "source": [
    "import numpy as np\n",
    "from scipy import linalg\n",
    "\n",
    "S = np.array([[4,1],[2,1]])\n",
    "V = np.array([[2,1],[6,4]])\n",
    "\n",
    "W = np.dot(V, linalg.inv(S))\n",
    "\n",
    "print('W=\\n {}'.format(W))"
   ]
  }
 ],
 "metadata": {
  "kernelspec": {
   "display_name": "Python 3",
   "language": "python",
   "name": "python3"
  },
  "language_info": {
   "codemirror_mode": {
    "name": "ipython",
    "version": 3
   },
   "file_extension": ".py",
   "mimetype": "text/x-python",
   "name": "python",
   "nbconvert_exporter": "python",
   "pygments_lexer": "ipython3",
   "version": "3.7.7"
  },
  "toc-showtags": false
 },
 "nbformat": 4,
 "nbformat_minor": 4
}
