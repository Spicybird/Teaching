{
 "cells": [
  {
   "cell_type": "markdown",
   "metadata": {},
   "source": [
    "# 矩阵，让向量动起来"
   ]
  },
  {
   "cell_type": "markdown",
   "metadata": {},
   "source": [
    "<font color=\"blue\">作者：欧新宇（Xinyu OU）</font>\n",
    "\n",
    "<font color=\"red\">本文档所展示的测试结果，均运行于：Intel Core i7-7700K CPU 4.2GHz</font>\n",
    "\n",
    "---"
   ]
  },
  {
   "cell_type": "markdown",
   "metadata": {},
   "source": [
    "在数学中，**矩阵（Matrix）**是一个按照长方阵列排列的复数或实数集合，最早来自于方程组的系数及常数所构成的方阵。这一概念由19世纪英国数学家凯利首先提出。作为解决线性方程的工具，矩阵也有不短的历史。成书最早在东汉前期的《九章算术》中，用分离系数法表示线性方程组，得到了其增广矩阵。在消元过程中，使用的把某行乘以某一非零实数、从某行中减去另一行等运算技巧，相当于矩阵的初等变换。但那时并没有现今理解的矩阵概念，虽然它与现有的矩阵形式上相同，但在当时只是作为线性方程组的标准表示与处理方式。\n",
    "\n",
    "学习线性代数的主要目标就是：**学会利用矩阵来描述系统，并用矩阵软件工具去解决各种问题。**"
   ]
  },
  {
   "cell_type": "markdown",
   "metadata": {
    "toc-hr-collapsed": false
   },
   "source": [
    "### 1. 矩阵的定义和基本描述"
   ]
  },
  {
   "cell_type": "markdown",
   "metadata": {},
   "source": [
    "#### 1.1 矩阵的定义\n",
    "\n",
    "> **定义1**：由 m×n 个数(i=1,2,...,m; j=1,2,...,n) 排成的 m 行 n 列的矩形数表就称为矩阵。如下所示，可以试用***黑体加粗斜体大些英文字母***来表示一个矩阵。\n",
    "\n",
    "$A=\\begin{bmatrix} a_{11} & a_{12} & ... & a_{1n} \\\\\n",
    "a_{21} & a_{22} & ... & a_{2n} \\\\\n",
    "... & ... & ... & ... \\\\\n",
    "a_{m1} & a_{m2} & ... & a_{mn} \\\\\n",
    "\\end{bmatrix}$\n",
    "\n",
    "矩阵A 称为 m 行 n 列矩阵，简称 m×n (阶)矩阵。为表示它是一个整体，总是加一个括弧或者方括号来表示它。矩阵中的 m×n 个数称为矩阵A的元素，其中 $a_{ij}$ 表示矩阵A的第 i 行第 j 列元素。m×n 矩阵也可以被记作 $A_{m×n}$。\n",
    "\n",
    "在python中，一般使用**numpy数组**来表示`矩阵`，实际上对于包括向量、矩阵及张量在内，都习惯使用numpy数组来表示，我们可以使用numpy.array()来实现对数组的定义。\n",
    "\n",
    "下面将给出基于numpy中矩阵（二维数组）的创建和形态的Python代码。"
   ]
  },
  {
   "cell_type": "code",
   "execution_count": 16,
   "metadata": {},
   "outputs": [
    {
     "name": "stdout",
     "output_type": "stream",
     "text": [
      "矩阵A = \n",
      "[[1 2]\n",
      " [3 4]\n",
      " [5 6]\n",
      " [7 8]]\n",
      "矩阵A的形态为：(4, 2)\n"
     ]
    }
   ],
   "source": [
    "import numpy as np\n",
    "A = np.array([\n",
    "    [1, 2],\n",
    "    [3, 4],\n",
    "    [5, 6],\n",
    "    [7, 8]])\n",
    "print(\"矩阵A = \\n{}\".format(A))\n",
    "print(\"矩阵A的形态为：{}\".format(A.shape))"
   ]
  },
  {
   "cell_type": "markdown",
   "metadata": {},
   "source": [
    "**【结果分析】**\n",
    "\n",
    "在对矩阵的形态进行描述和分析的时候，通常使用矩阵的行数和列数进行描述。对应到Python代码，可以使用矩阵的shape属性来表示。.shape属性会以一个二维元组来给出结果，其中第一个值为矩阵的行数，第二个值为矩阵的列数。例如上例中，矩阵A是一个4行2列的矩阵。\n",
    "\n",
    "关于基于numpy数组的更多基本描述可以参考以下链接：\n",
    "\n",
    "<font color=\"blue\">**【知识点】**</font>：[Numpy基础计算库极简使用说明](Knowledgement/Numpy.ipynb)"
   ]
  },
  {
   "cell_type": "markdown",
   "metadata": {},
   "source": [
    "#### 1.2 同型矩阵及矩阵相等\n",
    "\n",
    "如果两个矩阵的行数相等、列数也相等，则称它们为**同型矩阵**。\n",
    "\n",
    "若矩阵$A=a_{ij}$ 与矩阵$B=b_{ij}$ 是同型矩阵，并且所有所有对应位置的元素均相等，即：\n",
    "\n",
    "$a_{ij}=b_{ij}(i=1,2,..,m; j=1,2,...,n)$，\n",
    "\n",
    "那么就称矩阵***A***与矩阵***B***相等，记作：$A=B$。"
   ]
  },
  {
   "cell_type": "code",
   "execution_count": 2,
   "metadata": {},
   "outputs": [
    {
     "name": "stdout",
     "output_type": "stream",
     "text": [
      "A1与A2的形态相同：True，A1与A2相等：True。\n",
      "A1与A3的形态相同：True，A1与A3相等：False。\n"
     ]
    }
   ],
   "source": [
    "import numpy as np\n",
    "A1 = np.array([[1,2,3],[4,5,6]])\n",
    "A2 = np.array([[1,2,3],[4,5,6]])\n",
    "A3 = np.array([[1,1,1],[2,2,2]])\n",
    "A4 = np.array([[1,1,1,1],[2,2,2,4]])\n",
    "print(\"A1与A2的形态相同：{}，A1与A2相等：{}。\".format(A1.shape==A2.shape, (A1==A2).all()))  # = 是赋值，== 是对比逻辑相等\n",
    "print(\"A1与A3的形态相同：{}，A1与A3相等：{}。\".format(A1.shape==A3.shape, (A1==A3).all()))"
   ]
  },
  {
   "cell_type": "markdown",
   "metadata": {},
   "source": [
    "#### 1.4 矩阵的Frobenius范数\n",
    "\n",
    "弗罗贝尼乌斯范数（Frobenius范数）：简称为F范数，是一种定义在矩阵上的范数，用于衡量矩阵的大小。F范数表示矩阵中各元素的平方和开方。矩阵A=(aij)的Frobenius范数为：\n"
   ]
  },
  {
   "cell_type": "code",
   "execution_count": 5,
   "metadata": {
    "execution": {
     "iopub.execute_input": "2020-05-18T01:44:49.117021Z",
     "iopub.status.busy": "2020-05-18T01:44:49.116023Z",
     "iopub.status.idle": "2020-05-18T01:44:49.120012Z",
     "shell.execute_reply": "2020-05-18T01:44:49.120012Z",
     "shell.execute_reply.started": "2020-05-18T01:44:49.117021Z"
    }
   },
   "outputs": [
    {
     "name": "stdout",
     "output_type": "stream",
     "text": [
      "3.0\n"
     ]
    }
   ],
   "source": [
    "import numpy as np\n",
    "\n",
    "A = np.array([[1,1,2],[1,1,1]])\n",
    "print(np.linalg.norm(A))"
   ]
  },
  {
   "cell_type": "markdown",
   "metadata": {},
   "source": [
    "### 2. 特殊形态的矩阵"
   ]
  },
  {
   "cell_type": "markdown",
   "metadata": {},
   "source": [
    "#### 2.1 方阵\n",
    "\n",
    "行数和列数相等的矩阵称为**方阵**，其行数或列数称为它的**阶数**。例如，一个 n 阶矩阵可记为 $A_n$。\n",
    "\n",
    "下面给出一个3阶和一个5阶矩阵的Python代码。"
   ]
  },
  {
   "cell_type": "code",
   "execution_count": 1,
   "metadata": {},
   "outputs": [
    {
     "name": "stdout",
     "output_type": "stream",
     "text": [
      "矩阵A=\n",
      "[[1 2 3]\n",
      " [4 5 6]\n",
      " [7 8 9]], \n",
      " 矩阵B=\n",
      "[[1 1 1 1 1]\n",
      " [2 2 2 2 2]\n",
      " [3 3 3 3 3]\n",
      " [4 4 4 4 4]\n",
      " [5 5 5 5 5]]\n",
      "矩阵A的形态为：(3, 3)，矩阵B的形态为：(5, 5)\n"
     ]
    }
   ],
   "source": [
    "import numpy as np\n",
    "A = np.array([[1,2,3],[4,5,6],[7,8,9]])\n",
    "B = np.array([[1,1,1,1,1],[2,2,2,2,2],[3,3,3,3,3],[4,4,4,4,4],[5,5,5,5,5]])\n",
    "\n",
    "print(\"矩阵A=\\n{}, \\n 矩阵B=\\n{}\".format(A,B))\n",
    "print(\"矩阵A的形态为：{}，矩阵B的形态为：{}\".format(A.shape, B.shape))"
   ]
  },
  {
   "cell_type": "markdown",
   "metadata": {},
   "source": [
    "#### 2.2 对称矩阵\n",
    "\n",
    "给定矩阵 $A_{m×n}$，若其转置矩阵 $A^T$ 与原矩阵相等，则矩阵A称为**对称矩阵**。不难发现，矩阵对称的`前提条件`有两点：\n",
    "1. 矩阵A是一个方阵\n",
    "2. 矩阵A的每一个元素都满足 $A_{ij}=A_{ji}$\n",
    "\n",
    "给定矩阵A，我们可以得到A的对称矩阵B。\n",
    "\n",
    "$A= \\begin{bmatrix} 1&5&6&7 \\\\ 5&2&8&9 \\\\ 6&8&3&0 \\\\ 7&9&0&4 \\end{bmatrix}，\n",
    "B= \\begin{bmatrix} 1&5&6&7 \\\\ 5&2&8&9 \\\\ 6&8&3&0 \\\\ 7&9&0&4 \\end{bmatrix}\n",
    "$"
   ]
  },
  {
   "cell_type": "code",
   "execution_count": 1,
   "metadata": {
    "execution": {
     "iopub.execute_input": "2020-05-17T01:56:02.224530Z",
     "iopub.status.busy": "2020-05-17T01:56:02.224530Z",
     "iopub.status.idle": "2020-05-17T01:56:02.588569Z",
     "shell.execute_reply": "2020-05-17T01:56:02.587571Z",
     "shell.execute_reply.started": "2020-05-17T01:56:02.224530Z"
    }
   },
   "outputs": [
    {
     "name": "stdout",
     "output_type": "stream",
     "text": [
      "矩阵A = \n",
      "[[1 5 6 7]\n",
      " [5 2 8 9]\n",
      " [6 8 3 0]\n",
      " [7 9 0 4]]\n",
      "\n",
      "矩阵A的对称矩阵(转置矩阵) = \n",
      "[[1 5 6 7]\n",
      " [5 2 8 9]\n",
      " [6 8 3 0]\n",
      " [7 9 0 4]]\n",
      "\n"
     ]
    }
   ],
   "source": [
    "import numpy as np\n",
    "A = np.array([[1,5,6,7],[5,2,8,9],[6,8,3,0],[7,9,0,4]])\n",
    "\n",
    "print(\"矩阵A = \\n{}\\n\".format(A))\n",
    "print(\"矩阵A的对称矩阵(转置矩阵) = \\n{}\\n\".format(A.T))"
   ]
  },
  {
   "cell_type": "markdown",
   "metadata": {},
   "source": [
    "#### 2.3 零矩阵\n",
    "\n",
    "顾名思义，所有元素都为0的矩阵称为零矩阵，记作 ***O***。此外还可以通过下标方法标识出零矩阵的形态，例如一个4×5的零矩阵，可以表示为 $O_{4×5}$。\n",
    "\n",
    "值得注意的是，不同型的零矩阵是不同的，例如：$O_{4×5} \\neq O_{2×3}$。\n",
    "\n",
    "零矩阵最重要的作用就是用来初始化矩阵，\n",
    "- 一方面可以使用零矩阵来表示实际存储数据矩阵的规模，达到初始化矩阵和申请内存空间的功能；\n",
    "- 另一方面零矩阵也是占用存储空间最小的矩阵。"
   ]
  },
  {
   "cell_type": "code",
   "execution_count": 21,
   "metadata": {},
   "outputs": [
    {
     "name": "stdout",
     "output_type": "stream",
     "text": [
      "[[0. 0. 0. 0. 0.]\n",
      " [0. 0. 0. 0. 0.]\n",
      " [0. 0. 0. 0. 0.]\n",
      " [0. 0. 0. 0. 0.]]\n"
     ]
    }
   ],
   "source": [
    "import numpy as np\n",
    "A = np.zeros([4,5])\n",
    "print(A)"
   ]
  },
  {
   "cell_type": "code",
   "execution_count": 1,
   "metadata": {
    "execution": {
     "iopub.execute_input": "2020-05-09T02:37:27.802175Z",
     "iopub.status.busy": "2020-05-09T02:37:27.802175Z",
     "iopub.status.idle": "2020-05-09T02:37:27.954768Z",
     "shell.execute_reply": "2020-05-09T02:37:27.954768Z",
     "shell.execute_reply.started": "2020-05-09T02:37:27.802175Z"
    }
   },
   "outputs": [
    {
     "name": "stdout",
     "output_type": "stream",
     "text": [
      "A1 = A2 is False。\n",
      "A1 = A3 is True。\n"
     ]
    },
    {
     "name": "stderr",
     "output_type": "stream",
     "text": [
      "C:\\ProgramData\\Anaconda3\\lib\\site-packages\\ipykernel_launcher.py:5: DeprecationWarning: elementwise comparison failed; this will raise an error in the future.\n",
      "  \"\"\"\n"
     ]
    }
   ],
   "source": [
    "import numpy as np\n",
    "A1 = np.zeros([4,5])\n",
    "A2 = np.zeros([2,3])\n",
    "A3 = np.zeros([4,5])\n",
    "print(\"A1 = A2 is {}。\".format(A1==A2))\n",
    "print(\"A1 = A3 is {}。\".format((A1==A3).any()))"
   ]
  },
  {
   "cell_type": "code",
   "execution_count": 7,
   "metadata": {
    "execution": {
     "iopub.execute_input": "2020-05-09T03:06:45.320349Z",
     "iopub.status.busy": "2020-05-09T03:06:45.319351Z",
     "iopub.status.idle": "2020-05-09T03:06:45.327330Z",
     "shell.execute_reply": "2020-05-09T03:06:45.326333Z",
     "shell.execute_reply.started": "2020-05-09T03:06:45.320349Z"
    }
   },
   "outputs": [
    {
     "name": "stdout",
     "output_type": "stream",
     "text": [
      "True\n"
     ]
    }
   ],
   "source": [
    "if A1.shape == A3.shape:\n",
    "    print((A1 == A3).all())\n",
    "else:\n",
    "    print('两个矩阵形态不同，无法对比')"
   ]
  },
  {
   "cell_type": "markdown",
   "metadata": {},
   "source": [
    "**【结果分析】**\n",
    "\n",
    "值得注意的的是，在上面的代码中，我们一般使用`(A==B).any()`或者`(A==B).all()`来对两个数组进行全匹配，或者使用`(A==B)`对两个数组进行按位匹配。但对于两个形态不同的矩阵，我们无法使用前面的两种方法来进行对比，强行对比可以得到结果，但是同时也会输出一个**警告**。更常用的方法是，先判断两个矩阵的形态是否完全一致，例如:`A.shape==B.shape`。"
   ]
  },
  {
   "cell_type": "markdown",
   "metadata": {},
   "source": [
    "#### 2.4 对角矩阵\n",
    "\n",
    "有一类矩阵，除了对角线外所有的元素都为0，这种矩阵就称为对角矩阵。例如：\n",
    "\n",
    "$A= \\begin{bmatrix} 1&&&& \\\\ &2&&& \\\\ &&3&& \\\\ &&&4& \\\\ &&&&5 \\end{bmatrix}$\n",
    "\n",
    "在对角矩阵中，为0的元素位置可以省去不写。\n"
   ]
  },
  {
   "cell_type": "code",
   "execution_count": 2,
   "metadata": {},
   "outputs": [
    {
     "name": "stdout",
     "output_type": "stream",
     "text": [
      "[[1 0 0 0 0]\n",
      " [0 2 0 0 0]\n",
      " [0 0 3 0 0]\n",
      " [0 0 0 4 0]\n",
      " [0 0 0 0 5]]\n"
     ]
    }
   ],
   "source": [
    "import numpy as np\n",
    "A = np.diag([1,2,3,4,5])\n",
    "print(A)"
   ]
  },
  {
   "cell_type": "markdown",
   "metadata": {},
   "source": [
    "#### 2.5 单位矩阵\n",
    "\n",
    "在对角矩阵中，如果对角线上的元素都为1，则该矩阵称为单位矩阵。n阶单位矩阵记作 $I_n$ （在有些文献中也被记作$E_n$）。例如：\n",
    "\n",
    "$I= \\begin{bmatrix} 1&&& \\\\ &1&& \\\\ &&1& \\\\ &&&1 \\end{bmatrix}$"
   ]
  },
  {
   "cell_type": "code",
   "execution_count": 3,
   "metadata": {},
   "outputs": [
    {
     "name": "stdout",
     "output_type": "stream",
     "text": [
      "[[1. 0. 0. 0.]\n",
      " [0. 1. 0. 0.]\n",
      " [0. 0. 1. 0.]\n",
      " [0. 0. 0. 1.]]\n"
     ]
    }
   ],
   "source": [
    "import numpy as np\n",
    "I = np.eye(4)\n",
    "print(I)"
   ]
  },
  {
   "cell_type": "markdown",
   "metadata": {
    "toc-hr-collapsed": true,
    "toc-nb-collapsed": true
   },
   "source": [
    "### 3. 基于矩阵的向量\n",
    "\n",
    "前面我们已经提到，为了规范和便于计算我们会将所有的量（向量、矩阵、张量）都规范成`张量`，并同时使用`矩阵（张量)`来进行表示，而在程序中，我们统一使用`numpy数组`来表示这种量。\n",
    "\n",
    "此时，一个 1×n 的`行向量` $a^T$ 就表示成一个只有`一行的矩阵`；而一个 n×1 的`列向量` $b$ 则表示成一个只有`一列的矩阵`。\n"
   ]
  },
  {
   "cell_type": "code",
   "execution_count": 9,
   "metadata": {},
   "outputs": [
    {
     "name": "stdout",
     "output_type": "stream",
     "text": [
      "a=[[1 2 3 4]]\n",
      "b=\n",
      "[[1]\n",
      " [2]\n",
      " [3]\n",
      " [4]]\n"
     ]
    }
   ],
   "source": [
    "import numpy as np\n",
    "a = np.array([[1,2,3,4]])\n",
    "print(\"a={}\".format(a))\n",
    "print(\"b=\\n{}\".format(a.T))"
   ]
  },
  {
   "cell_type": "markdown",
   "metadata": {},
   "source": [
    "**【结果分析】**\n",
    "\n",
    "从结果可以看到，我们使用一个二维数组来显示向量（两层中括号），这种方法基本上贯穿于整个计算机领域。其中 ***a*** 用来表示一个四维行向量，***b*** 表示一个四维列向量。"
   ]
  },
  {
   "cell_type": "markdown",
   "metadata": {
    "toc-hr-collapsed": false
   },
   "source": [
    "### 4. 矩阵的四则运算"
   ]
  },
  {
   "cell_type": "markdown",
   "metadata": {},
   "source": [
    "#### 4.1 矩阵的加法运算\n",
    "\n",
    "> **定义2** 设存在两个 m×n 的矩阵$A=a_{ij}, B=b_{ij}$，那么矩阵 ***A***与***B*** 的 ***和*** 记作 ***A***+***B*** ，规定为：\n",
    "\n",
    "$A+B=\\begin{bmatrix} \n",
    "    a_{11} & a_{12} & ... & a_{1n} \\\\ \n",
    "    a_{21} & a_{22} & ... & a_{2n} \\\\ \n",
    "    ... & ... & ... & ... \\\\ \n",
    "    a_{m1} & a_{m2} & ... & a_{mn}\n",
    "\\end{bmatrix}\n",
    "+\\begin{bmatrix} \n",
    "    b_{11} & b_{12} & ... & b_{1n} \\\\ \n",
    "    b_{21} & b_{22} & ... & b_{2n} \\\\ \n",
    "    ... & ... & ... & ... \\\\ \n",
    "    b_{m1} & b_{m2} & ... & b_{mn}\n",
    "\\end{bmatrix}\n",
    "=\\begin{bmatrix} \n",
    "    a_{11}+b_{11} & a_{12}+b_{12} & ... & a_{1n}+b_{1n} \\\\ \n",
    "    a_{21}+b_{21} & a_{22}+b_{22} & ... & a_{2n}+b_{2n} \\\\ \n",
    "    ... & ... & ... & ... \\\\ \n",
    "    a_{m1}+b_{m1} & a_{m2}+b_{m2} & ... & a_{mn}+b_{mn}\n",
    "\\end{bmatrix}$\n",
    "\n",
    "应当注意，只有当两个矩阵是同型矩阵时，这两个矩阵才能进行加法运算。\n",
    "\n",
    "矩阵加法满足下列运算规律（设***A***, ***B***, ***C***都是 m×n 的矩阵）：\n",
    "1. ***A*** + ***B*** = ***B*** + ***A*** \n",
    "2. (***A*** + ***B***) + ***C*** = ***A*** + (***B*** + ***C***)\n",
    "\n",
    "设矩阵 $A=a_{ij}$，记 $-A=-a_{ij}$，$-A$称为矩阵A的**负矩阵**，显然有 \n",
    "\n",
    "***A*** + (***-A***) = ***O***。\n",
    "\n",
    "由此规定矩阵的减法为：***A*** - ***B*** = ***A*** + (-***B***)\n",
    "\n",
    "下面给出矩阵加法的Python代码"
   ]
  },
  {
   "cell_type": "code",
   "execution_count": 1,
   "metadata": {},
   "outputs": [
    {
     "name": "stdout",
     "output_type": "stream",
     "text": [
      "A=\n",
      "[[1 2]\n",
      " [3 4]\n",
      " [5 6]],\n",
      " B=\n",
      "[[10 20]\n",
      " [30 40]\n",
      " [50 60]],\n",
      " A+B=\n",
      "[[11 22]\n",
      " [33 44]\n",
      " [55 66]], \n",
      " B-A=\n",
      "[[ 9 18]\n",
      " [27 36]\n",
      " [45 54]]\n"
     ]
    }
   ],
   "source": [
    "import numpy as np\n",
    "A = np.array([[1,2],[3,4],[5,6]])\n",
    "B = np.array([[10,20],[30,40],[50,60]])\n",
    "print(\"A=\\n{},\\n B=\\n{},\\n A+B=\\n{}, \\n B-A=\\n{}\".format(A,B,A+B,B-A))"
   ]
  },
  {
   "cell_type": "markdown",
   "metadata": {},
   "source": [
    "**【例1】超市年度销售总额** \n",
    "\n",
    "假设有四个超市，它们上半年和下半年的销售清单如下所示，试求这四个超市全年的销售清单。\n",
    "\n",
    "|上半年销售表|大米|面粉|食油||下半年销售表|大米|面粉|食油|\n",
    ":-:|:-:|:-:|:-:||:-:|:-:|:-:|:-:\n",
    "超市一|150|250|50||超市一|180|350|60\n",
    "超市二|250|500|100||超市二|300|550|120\n",
    "超市三|300|700|120||超市三|350|850|150\n",
    "超市四|450|850|80||超市四|500|850|100\n",
    "\n",
    "\n",
    "\n",
    "我们可以将上面的表单写成矩阵形式：\n",
    "\n",
    "$A=\\begin{bmatrix} \n",
    "    150 & 250 & 50 \\\\ \n",
    "    250 & 500 & 100 \\\\ \n",
    "    300 & 700 & 120 \\\\ \n",
    "    450 & 850 & 80\n",
    "\\end{bmatrix}，\n",
    "B=\\begin{bmatrix} \n",
    "    180 & 350 & 60 \\\\ \n",
    "    300 & 550 & 120 \\\\ \n",
    "    350 & 850 & 150 \\\\ \n",
    "    500 & 850 & 100\n",
    "\\end{bmatrix}$\n",
    "\n",
    "则全年的销售情况可以用矩阵的加法来表示：\n",
    "\n",
    "$C=A+B=\\begin{bmatrix} \n",
    "    150+180 & 250+350 & 50+60 \\\\ \n",
    "    250+300 & 500+550 & 100+120 \\\\ \n",
    "    300+350 & 700+850 & 120+150 \\\\ \n",
    "    450+500 & 850+850 & 80+100\n",
    "\\end{bmatrix}$\n",
    "\n",
    "下面给出Python代码的实现方法："
   ]
  },
  {
   "cell_type": "code",
   "execution_count": 40,
   "metadata": {},
   "outputs": [
    {
     "name": "stdout",
     "output_type": "stream",
     "text": [
      "C=\n",
      "[[ 330  600  110]\n",
      " [ 550 1050  220]\n",
      " [ 650 1550  270]\n",
      " [ 950 1700  180]]\n"
     ]
    }
   ],
   "source": [
    "import numpy as np\n",
    "\n",
    "A = np.array([[150,250,50],[250,500,100],[300,700,120],[450,850,80]])\n",
    "B = np.array([[180,350,60],[300,550,120],[350,850,150],[500,850,100]])\n",
    "C = A + B\n",
    "print(\"C=\\n{}\".format(C))"
   ]
  },
  {
   "cell_type": "markdown",
   "metadata": {},
   "source": [
    "**【结果分析】**\n",
    "\n",
    "可见，基于numpy的矩阵加法也是按照按位相加的原理进行加法运算，而且运算过程也非常直观和简单。但需要注意的是numpy加法运算的两个元素也必须具有相同的形态。"
   ]
  },
  {
   "cell_type": "markdown",
   "metadata": {},
   "source": [
    "#### 4.2 矩阵的数量乘法运算\n",
    "\n",
    "> **定义3** 数 $\\lambda$ 与矩阵A的乘积记作 $\\lambda A$ 或 $A \\lambda$，规定为：\n",
    "\n",
    "$\\lambda A = A \\lambda =\n",
    "\\lambda \\begin{bmatrix} \n",
    "a_{11} & a_{12} & ... & a_{1n} \\\\ \n",
    "a_{21} & a_{22} & ... & a_{2n} \\\\ \n",
    "... & ... & ... & ... \\\\ \n",
    "a_{m1} & a_{m2} & ... & a_{mn}\n",
    "\\end{bmatrix}\n",
    "=\\begin{bmatrix} \n",
    "\\lambda a_{11} & \\lambda a_{12} & ... & \\lambda a_{1n} \\\\ \n",
    "\\lambda a_{21} & \\lambda a_{22} & ... & \\lambda a_{2n} \\\\ \n",
    "... & ... & ... & ... \\\\ \n",
    "\\lambda a_{m1} & \\lambda a_{m2} & ... & \\lambda a_{mn}\n",
    "\\end{bmatrix}$。\n",
    "\n",
    "数乘矩阵满足下列运算规律（设 ***A***， ***B*** 为 m×n 矩阵，$\\lambda, \\mu$ 为标量）：\n",
    "- $(\\lambda \\mu) A= \\lambda (\\mu A)$\n",
    "- $(\\lambda + \\mu) A = \\lambda A + \\mu A$\n",
    "- $\\lambda(A + B) = \\lambda A + \\lambda B$\n",
    "\n",
    "`矩阵相加`与`数乘`矩阵合起来，统称为矩阵的**线性运算**。\n",
    "\n",
    "下面给出Python代码的实现方法。"
   ]
  },
  {
   "cell_type": "code",
   "execution_count": 1,
   "metadata": {},
   "outputs": [
    {
     "name": "stdout",
     "output_type": "stream",
     "text": [
      "[[ 2  4]\n",
      " [ 6  8]\n",
      " [10 12]]\n"
     ]
    }
   ],
   "source": [
    "import numpy as np\n",
    "A = np.array([[1,2],[3,4],[5,6]])\n",
    "print(2*A)"
   ]
  },
  {
   "cell_type": "markdown",
   "metadata": {},
   "source": [
    "**【例2】计算期末总成绩**\n",
    "\n",
    "甲、乙、丙三位同学在期末考试中，4门课程的成绩分别由矩阵A给出，而他们的平时成绩则由矩阵B给出，若期末考试成绩占总成绩的90％，而平时成绩占10％，请计算这三名同学的总成绩。\n",
    "\n",
    "$A=\\begin{bmatrix} \n",
    "    85 & 85 & 65 & 98 \\\\ \n",
    "    75 & 95 & 70 & 95 \\\\ \n",
    "    80 & 70 & 76 & 92\n",
    "\\end{bmatrix}，\n",
    "B=\\begin{bmatrix}\n",
    "    90 & 70 & 80 & 92 \\\\ \n",
    "    80 & 90 & 82 & 92 \\\\ \n",
    "    85 & 75 & 90 & 90\n",
    "\\end{bmatrix}$\n",
    "\n",
    "解：矩阵C表示总成绩，显然有：\n",
    "\n",
    "$C = 0.9A + 0.1B = \\begin{bmatrix} \n",
    "    85.5 & 83.5 & 66.5 & 97.4 \\\\ \n",
    "    75.5 & 94.5 & 71.2 & 94.7 \\\\  \n",
    "    80.5 & 70.5 & 77.4 & 91.8 \\\\ \n",
    "\\end{bmatrix}$"
   ]
  },
  {
   "cell_type": "code",
   "execution_count": 2,
   "metadata": {},
   "outputs": [
    {
     "name": "stdout",
     "output_type": "stream",
     "text": [
      "C=\n",
      "[[85.5 83.5 66.5 97.4]\n",
      " [75.5 94.5 71.2 94.7]\n",
      " [80.2 70.5 77.4 91.8]]\n"
     ]
    }
   ],
   "source": [
    "import numpy as np\n",
    "\n",
    "A = np.array([[85,85,65,98],[75,95,70,95],[80,70,76,92]])\n",
    "B = np.array([[90,70,80,92],[80,90,82,92],[82,75,90,90]])\n",
    "C = 0.9*A + 0.1*B\n",
    "print(\"C=\\n{}\".format(C))"
   ]
  },
  {
   "cell_type": "markdown",
   "metadata": {},
   "source": [
    "#### 4.3 矩阵与矩阵的乘法\n",
    "\n",
    "> **【定义4】**设***A***=$(a_{ij})$ 是一个m×s矩阵，***B***=$(b_{ij})$ 是一个s×n矩阵，那么矩阵A与矩阵B的乘积是一个m×n矩阵$C$=$(c_{ij})$，其中 $c_{ij} = a_{i1} b_{1j} + a_{i2} b_{2j} + ... + a_{is} b_{sj} = \\sum^s_{k=1} a_{ik} b_{kj}$\n",
    "$(i = 1, 2, ..., m; j = 1, 2, ..., n)，$并把此乘积记作 $C=AB$。\n",
    "\n",
    "为了更清楚，下面给出一个示例：\n",
    "\n",
    "$C = A × B =\\begin{bmatrix} \n",
    "    a_{11} & a_{12} \\\\\n",
    "    a_{21} & a_{22} \\\\ \n",
    "    a_{31} & a_{32}\n",
    "\\end{bmatrix}\n",
    "\\begin{bmatrix} \n",
    "    b_{11} &  b_{12} &  b_{13} \\\\\n",
    "    b_{21} &  b_{22} &  b_{23} \n",
    "\\end{bmatrix}\n",
    "=\\begin{bmatrix} \n",
    "    a_{11} b_{11} + a_{12} b_{21} & a_{11} b_{12} + a_{12} b_{22} & a_{11} b_{13} + a_{12} b_{23} \\\\ \n",
    "    a_{21} b_{11} + a_{22} b_{21} & a_{21} b_{12} + a_{22} b_{22} & a_{21} b_{13} + a_{22} b_{23} \\\\ \n",
    "    a_{31} b_{11} + a_{32} b_{21} & a_{31} b_{12} + a_{32} b_{22} & a_{31} b_{13} + a_{32} b_{23}\n",
    "\\end{bmatrix}$\n",
    "\n",
    "通过观察上面的计算公式，可以总结出矩阵乘法 `C=AB` 的三个要点：\n",
    "1. AB可乘的条件：A的列数 = B的行数\n",
    "2. AB乘积C的形状：A的行 × B的列\n",
    "3. AB乘积C的元素构成：A的行与B的列的内积\n",
    "\n",
    "下面给出一个例子：\n",
    "\n",
    "**【例3】** 求矩阵 $A = \\begin{bmatrix} \n",
    "1 & 2 & 3 \\\\\n",
    "4 & 5 & 6 \\\\\n",
    "1 & 1 & 1\n",
    "\\end{bmatrix}，\n",
    "B=\\begin{bmatrix} \n",
    "1 & 7 \\\\\n",
    "2 & 8 \\\\\n",
    "3 & 9 \n",
    "\\end{bmatrix}$ 的乘积AB。\n",
    "\n",
    "解：因为A是3×3矩阵，B是3×2矩阵，A的列数等于B的行数，所以矩阵A与B可以相乘，其乘积AB=C是一个3×2矩阵。按定理可得：\n",
    "$C=AB=\\begin{bmatrix} \n",
    "    1 & 2 & 3 \\\\\n",
    "    4 & 5 & 6 \\\\\n",
    "    1 & 1 & 1\n",
    "\\end{bmatrix}\n",
    "\\begin{bmatrix} \n",
    "    1 & 7 \\\\\n",
    "    2 & 8 \\\\\n",
    "    3 & 9 \\\\\n",
    "\\end{bmatrix}\n",
    "=\\begin{bmatrix} \n",
    "    1*1+2*2+3*3 & 1*7+2*8+3*9 \\\\\n",
    "    4*1+5*2+6*3 & 4*7+5*8+6*9 \\\\\n",
    "    1*1+1*2+1*3 & 1*7+1*8+1*9 \n",
    "\\end{bmatrix}\n",
    "=\\begin{bmatrix} \n",
    "    14 & 50 \\\\\n",
    "    32 & 122 \\\\\n",
    "    6 & 24 \\\\\n",
    "\\end{bmatrix}\n",
    "$\n",
    "\n",
    "下面给出该乘积的Python代码。注意我们使用`np.dot(A,B)`实现矩阵乘法。"
   ]
  },
  {
   "cell_type": "code",
   "execution_count": 3,
   "metadata": {},
   "outputs": [
    {
     "name": "stdout",
     "output_type": "stream",
     "text": [
      "C=\n",
      "[[ 14  50]\n",
      " [ 32 122]\n",
      " [  6  24]]\n"
     ]
    }
   ],
   "source": [
    "import numpy as np\n",
    "\n",
    "A = np.array([[1,2,3],[4,5,6],[1,1,1]])\n",
    "B = np.array([[1,7],[2,8],[3,9]])\n",
    "C = np.dot(A,B)\n",
    "print(\"C=\\n{}\".format(C))"
   ]
  },
  {
   "cell_type": "markdown",
   "metadata": {},
   "source": [
    "**【结果分析】**\n",
    "\n",
    "值得注意的是矩阵乘法是不符合交换律的，换句话说，上例中的BA是没有意义的。"
   ]
  },
  {
   "cell_type": "code",
   "execution_count": 19,
   "metadata": {},
   "outputs": [
    {
     "ename": "ValueError",
     "evalue": "shapes (3,2) and (3,3) not aligned: 2 (dim 1) != 3 (dim 0)",
     "output_type": "error",
     "traceback": [
      "\u001b[1;31m---------------------------------------------------------------------------\u001b[0m",
      "\u001b[1;31mValueError\u001b[0m                                Traceback (most recent call last)",
      "\u001b[1;32m<ipython-input-19-4de9c015f434>\u001b[0m in \u001b[0;36m<module>\u001b[1;34m\u001b[0m\n\u001b[0;32m      3\u001b[0m \u001b[0mA\u001b[0m \u001b[1;33m=\u001b[0m \u001b[0mnp\u001b[0m\u001b[1;33m.\u001b[0m\u001b[0marray\u001b[0m\u001b[1;33m(\u001b[0m\u001b[1;33m[\u001b[0m\u001b[1;33m[\u001b[0m\u001b[1;36m1\u001b[0m\u001b[1;33m,\u001b[0m\u001b[1;36m2\u001b[0m\u001b[1;33m,\u001b[0m\u001b[1;36m3\u001b[0m\u001b[1;33m]\u001b[0m\u001b[1;33m,\u001b[0m\u001b[1;33m[\u001b[0m\u001b[1;36m4\u001b[0m\u001b[1;33m,\u001b[0m\u001b[1;36m5\u001b[0m\u001b[1;33m,\u001b[0m\u001b[1;36m6\u001b[0m\u001b[1;33m]\u001b[0m\u001b[1;33m,\u001b[0m\u001b[1;33m[\u001b[0m\u001b[1;36m1\u001b[0m\u001b[1;33m,\u001b[0m\u001b[1;36m1\u001b[0m\u001b[1;33m,\u001b[0m\u001b[1;36m1\u001b[0m\u001b[1;33m]\u001b[0m\u001b[1;33m]\u001b[0m\u001b[1;33m)\u001b[0m\u001b[1;33m\u001b[0m\u001b[1;33m\u001b[0m\u001b[0m\n\u001b[0;32m      4\u001b[0m \u001b[0mB\u001b[0m \u001b[1;33m=\u001b[0m \u001b[0mnp\u001b[0m\u001b[1;33m.\u001b[0m\u001b[0marray\u001b[0m\u001b[1;33m(\u001b[0m\u001b[1;33m[\u001b[0m\u001b[1;33m[\u001b[0m\u001b[1;36m1\u001b[0m\u001b[1;33m,\u001b[0m\u001b[1;36m7\u001b[0m\u001b[1;33m]\u001b[0m\u001b[1;33m,\u001b[0m\u001b[1;33m[\u001b[0m\u001b[1;36m2\u001b[0m\u001b[1;33m,\u001b[0m\u001b[1;36m8\u001b[0m\u001b[1;33m]\u001b[0m\u001b[1;33m,\u001b[0m\u001b[1;33m[\u001b[0m\u001b[1;36m3\u001b[0m\u001b[1;33m,\u001b[0m\u001b[1;36m9\u001b[0m\u001b[1;33m]\u001b[0m\u001b[1;33m]\u001b[0m\u001b[1;33m)\u001b[0m\u001b[1;33m\u001b[0m\u001b[1;33m\u001b[0m\u001b[0m\n\u001b[1;32m----> 5\u001b[1;33m \u001b[0mC\u001b[0m \u001b[1;33m=\u001b[0m \u001b[0mnp\u001b[0m\u001b[1;33m.\u001b[0m\u001b[0mdot\u001b[0m\u001b[1;33m(\u001b[0m\u001b[0mB\u001b[0m\u001b[1;33m,\u001b[0m\u001b[0mA\u001b[0m\u001b[1;33m)\u001b[0m\u001b[1;33m\u001b[0m\u001b[1;33m\u001b[0m\u001b[0m\n\u001b[0m\u001b[0;32m      6\u001b[0m \u001b[0mprint\u001b[0m\u001b[1;33m(\u001b[0m\u001b[1;34m\"C=\\n{}\"\u001b[0m\u001b[1;33m.\u001b[0m\u001b[0mformat\u001b[0m\u001b[1;33m(\u001b[0m\u001b[0mC\u001b[0m\u001b[1;33m)\u001b[0m\u001b[1;33m)\u001b[0m\u001b[1;33m\u001b[0m\u001b[1;33m\u001b[0m\u001b[0m\n",
      "\u001b[1;31mValueError\u001b[0m: shapes (3,2) and (3,3) not aligned: 2 (dim 1) != 3 (dim 0)"
     ]
    }
   ],
   "source": [
    "import numpy as np\n",
    "\n",
    "A = np.array([[1,2,3],[4,5,6],[1,1,1]])\n",
    "B = np.array([[1,7],[2,8],[3,9]])\n",
    "C = np.dot(B,A)\n",
    "print(\"C=\\n{}\".format(C))"
   ]
  },
  {
   "cell_type": "markdown",
   "metadata": {},
   "source": [
    "**【例4】** 下面再给出一个例子：求矩阵 \n",
    "$A = \\begin{bmatrix} \n",
    "    -2 & 4 \\\\\n",
    "    1 & -2 \\\\\n",
    "\\end{bmatrix}，\n",
    "B = \\begin{bmatrix} \n",
    "    2 & 4 \\\\\n",
    "    -3 & -6 \\\\\n",
    "\\end{bmatrix}$ 的乘积AB及BA。\n",
    "\n",
    "解：按定义有\n",
    "\n",
    "$AB= \\begin{bmatrix} \n",
    "    -2 & 4 \\\\\n",
    "    1 & -2 \\\\\n",
    "\\end{bmatrix}\n",
    "\\begin{bmatrix} \n",
    "    2 & 4 \\\\\n",
    "    -3 & -6 \\\\\n",
    "\\end{bmatrix}\n",
    "=\\begin{bmatrix} \n",
    "    -16 & -32 \\\\\n",
    "    8 & 16 \\\\\n",
    "\\end{bmatrix}$\n",
    "\n",
    "$BA= \n",
    "\\begin{bmatrix} \n",
    "    2 & 4 \\\\\n",
    "    -3 & -6 \\\\\n",
    "\\end{bmatrix}\n",
    "\\begin{bmatrix} \n",
    "    -2 & 4 \\\\\n",
    "    1 & -2 \\\\\n",
    "\\end{bmatrix}\n",
    "=\\begin{bmatrix} \n",
    "    0 & 0 \\\\\n",
    "    0 & 0 \\\\\n",
    "\\end{bmatrix}$\n",
    "\n",
    "下面同样给出Python的代码"
   ]
  },
  {
   "cell_type": "code",
   "execution_count": 1,
   "metadata": {},
   "outputs": [
    {
     "name": "stdout",
     "output_type": "stream",
     "text": [
      "AB=\n",
      "[[-16 -32]\n",
      " [  8  16]]\n",
      "BA=\n",
      "[[0 0]\n",
      " [0 0]]\n"
     ]
    }
   ],
   "source": [
    "import numpy as np\n",
    "\n",
    "A = np.array([[-2,4],[1,-2]])\n",
    "B = np.array([[2,4],[-3,-6]])\n",
    "AB = np.dot(A,B)\n",
    "BA = np.dot(B,A)\n",
    "print(\"AB=\\n{}\".format(AB))\n",
    "print(\"BA=\\n{}\".format(BA))"
   ]
  },
  {
   "cell_type": "markdown",
   "metadata": {},
   "source": [
    "**【结果分析】**\n",
    "\n",
    "在 **【例3】** 中$A$是3×3矩阵，$B$是2×3矩阵，乘积$AB$有意义，而$BA$却没有意义。由此可知，在矩阵的乘法中必须注意矩阵相乘的`顺序`。$AB$是$A$`左乘`$B$（$B$被$A$左乘）的乘积，$BA$是$A$`右乘`$B$的乘积，$AB$有意义时，$BA$可以没有意义。\n",
    "\n",
    "又若$A$是 m×n 矩阵，$B$是 n×m 矩阵，则$AB$与$BA$都有意义，但$AB$是m阶方阵，$BA$是n阶方阵，\n",
    "- 当$m \\neq n$时$AB \\neq BA$。\n",
    "- 即使 m=n,即$A、B$是同阶方阵。如 **【例4】** ，$A$与$B$都是2阶方阵，从而$AB$与$BA$也都是2阶方阵，但$AB$与$BA$仍然可以不相等。\n",
    "\n",
    "总之，矩阵乘法不满足交换律，即在一般情况下，$AB \\neq BA$。\n",
    "\n",
    "**【例4】** 还表明，矩阵 $A \\neq O, B \\neq O$，但却有 $BA \\neq O$。因此要特别注意：若有两个矩阵$A、B$满足$AB=O$，不能得出$A=O$或$B=O$的结论；若$A \\neq O$而 $A(X-Y)=O$，也不能得出$X=Y$的结论。\n",
    "\n",
    "矩阵乘法虽然不满足交换律，但仍满足下列结合律和分配率（假设运算时可行的）\n",
    "1. 结合律：$(AB)C = A(BC)$\n",
    "2. $\\lambda (AB) = (\\lambda A)B = A(\\lambda B)$，其中$\\lambda$是标量\n",
    "3. 分配律：$A(B+C) = AB + AC, (B+C)A = BA + CA$\n",
    "\n",
    "对于单位矩阵 ***I***，不难得出结论：$I_m A_{m×n} = A_{m×n}， A_{m×n} I_n = A_{m×n}$，\n",
    "\n",
    "或简写成：$IA=AI=A$，\n",
    "\n",
    "可见单位矩阵 ***I*** 在矩阵乘法中的作用类似于标量 1。"
   ]
  },
  {
   "cell_type": "markdown",
   "metadata": {},
   "source": [
    "下面给出一个关于线性组合的例子：\n",
    "\n",
    "**【例5】服装厂的生产量**\n",
    "\n",
    "有甲、乙、丙、丁4个服装厂，一个月的产量情况由下表给出，若甲厂生产8个月，乙厂生产10个月，丙厂生产5个月，而丁厂生产9个月，则共生产帽子、衣服、裤子各多少？用矩阵来描述。\n",
    "\n",
    "品种|甲|乙|丙|丁\n",
    ":-:|:-:|:-:|:-:|:-:\n",
    "帽|20|4|2|7\n",
    "衣|10|18|5|6\n",
    "裤|5|7|16|3\n",
    "\n",
    "解：上表可以矩阵化为:\n",
    "$A=\\begin{bmatrix} \n",
    "    20 & 4 & 2 & 7 \\\\ \n",
    "    10 & 18 & 5 & 6 \\\\ \n",
    "    5 & 7 & 16 & 3\n",
    "\\end{bmatrix}，\n",
    "b=\\begin{bmatrix}\n",
    "    8 \\\\\n",
    "    10 \\\\ \n",
    "    5 \\\\\n",
    "    9\n",
    "\\end{bmatrix}$\n",
    "\n",
    "则，总产量可以表示为：\n",
    "$C = A × b = \\begin{bmatrix} \n",
    "    8×20 & 10×4 & 5×2 & 9×7 \\\\ \n",
    "    8×10 & 10×18 & 5×5 & 9×6 \\\\ \n",
    "    8×5 & 10×7 & 5×16 & 9×3\n",
    "\\end{bmatrix}\n",
    "= \\begin{bmatrix}\n",
    "    273 \\\\\n",
    "    339 \\\\ \n",
    "    217\n",
    "\\end{bmatrix}$"
   ]
  },
  {
   "cell_type": "code",
   "execution_count": 12,
   "metadata": {},
   "outputs": [
    {
     "name": "stdout",
     "output_type": "stream",
     "text": [
      "C=\n",
      "[[273]\n",
      " [339]\n",
      " [217]]\n"
     ]
    }
   ],
   "source": [
    "import numpy as np\n",
    "\n",
    "A = np.array([[20,4,2,7],[10,18,5,6],[5,7,16,3]])\n",
    "b = np.array([[8],[10],[5],[9]])\n",
    "C = np.dot(A, b)\n",
    "print(\"C=\\n{}\".format(C))"
   ]
  },
  {
   "cell_type": "markdown",
   "metadata": {},
   "source": [
    "#### 4.4 矩阵的幂\n",
    "\n",
    "根据矩阵的乘法法则，可以定义**矩阵的幂**。设A是n阶方阵，定义：\n",
    "\n",
    "$A^1 = A, A^2 = A^1 A^1,..., A^{k+1} = A^k A^1$，\n",
    "\n",
    "其中 $k$ 为正整数。也就是说，$A^k$ 就是 $k$个$A$连乘。显然只有方阵满足条件，**幂**运算才有意义。\n",
    "\n",
    "由于矩阵的乘法适合结合律，所以矩阵的幂满足以下运算规律：\n",
    "\n",
    "$A^k A^l = A^{k+l}, (A^k)^l = A^{kl}$\n",
    "\n",
    "其中 $k、l$为正整数。又因矩阵乘法一般不满组交换律，所以对于两个 n 阶矩阵 $A$与$B$，一般来说 $(AB)^k \\neq A^k B^k$。\n",
    "\n",
    "下面看一个例子：\n",
    "\n",
    "**【例6】四个城市间的单向航线**\n",
    "\n",
    "若四个城市的航向图如下所示：\n",
    "\n",
    "![Image](http://ouxinyu.cn/Teaching/ComputerMath/Attachments/04-Case06-Airline.png)\n",
    "\n",
    "令$a_{ij}=\\left\\{\n",
    "\\begin{aligned}\n",
    "1 &, 从i市到j市有1条单向航线 \\\\\n",
    "0 &, 从i市到j市没有单项航线 \\\\\n",
    "\\end{aligned}\n",
    "\\right.$\n",
    "\n",
    "则上图可以表示为：\n",
    "\n",
    "$A=(a_{ij})=\\begin{bmatrix} \n",
    "    0 & 1 & 1 & 1 \\\\ \n",
    "    1 & 0 & 0 & 0 \\\\ \n",
    "    0 & 1 & 0 & 0 \\\\\n",
    "    1 & 0 & 1 & 0\n",
    "\\end{bmatrix}$，\n",
    "\n",
    "若记 $A^2=b_{ij}$，则 $b_{ij}$ 为从i市经过一次中转到j市的单向航线条数。有：\n",
    "$A=(a_{ij})=\\begin{bmatrix} \n",
    "    0 & 1 & 1 & 1 \\\\ \n",
    "    1 & 0 & 0 & 0 \\\\ \n",
    "    0 & 1 & 0 & 0 \\\\\n",
    "    1 & 0 & 1 & 0\n",
    "\\end{bmatrix}，\n",
    "有A^2=\\begin{bmatrix} \n",
    "    2 & 1 & 1 & 0 \\\\ \n",
    "    0 & 1 & 1 & 1 \\\\ \n",
    "    1 & 0 & 0 & 0 \\\\\n",
    "    0 & 2 & 1 & 1\n",
    "\\end{bmatrix}$.\n",
    "\n",
    "例如：\n",
    "- $b_{23}=1$，显示从(2)经过一次中转后到达(3)市的单项航线有一条：(2)->(1)->(3);\n",
    "- $b_{42}=2$，显示从(4)经过一次中转后到达(2)市的单项航线有2条：(4)->(1)->(2)，(4)->(3)->(2)；\n",
    "- $b_{11}=2$，显示过(1)市的双向航线有2条：(1)->(2)->(1)，(1)->(4)->(1)；\n",
    "- $b_{33}=0$，显示(3)市没有双向航线。\n"
   ]
  },
  {
   "cell_type": "markdown",
   "metadata": {},
   "source": [
    "**【例7】** 假设给定上面的航线矩阵 $A$，试求从(4)市到(2)市，最多经过4次转机，有几种到达方法。下面我们使用Python代码来完成这个例子。"
   ]
  },
  {
   "cell_type": "code",
   "execution_count": 2,
   "metadata": {},
   "outputs": [
    {
     "name": "stdout",
     "output_type": "stream",
     "text": [
      "11\n"
     ]
    }
   ],
   "source": [
    "import numpy as np\n",
    "A = np.array([[0,1,1,1],[1,0,0,0],[0,1,0,0],[1,0,1,0]])\n",
    "A2 = np.dot(A,A)\n",
    "A3 = np.dot(A2,A)\n",
    "A4 = np.dot(A3,A)\n",
    "A5 = np.dot(A4,A)\n",
    "print(A[3,1] + A2[3,1] + A3[3,1] + A4[3,1] + A5[3,1])"
   ]
  },
  {
   "cell_type": "markdown",
   "metadata": {},
   "source": [
    "**【结果分析】**\n",
    "\n",
    "需要注意的是矩阵乘法的代码语法，不能使用 `A*A`(元素乘)，而要使用点乘 `.dot(A,B)`。"
   ]
  },
  {
   "cell_type": "code",
   "execution_count": 7,
   "metadata": {},
   "outputs": [
    {
     "data": {
      "text/plain": [
       "array([[2, 6],\n",
       "       [4, 5]])"
      ]
     },
     "execution_count": 7,
     "metadata": {},
     "output_type": "execute_result"
    }
   ],
   "source": [
    "A=np.array([[1,2],[1,1]])\n",
    "B=np.array([[2,3],[4,5]])\n",
    "A*B"
   ]
  },
  {
   "cell_type": "markdown",
   "metadata": {},
   "source": [
    "### 5. 矩阵的转置\n",
    "\n",
    "> **【定义5】** 给定矩阵 $A_{m×n}$, 若将其行和列的元素进行位置互换，可以得到一个新的矩阵 $B_{n×m}$。那么矩阵B就称为矩阵A的**转置矩阵**，并记作 $B=A^T$。同时，矩阵A也称为矩阵B的**转置矩阵**。行和列的互换操作就称为矩阵的**转置**。\n",
    "\n",
    "下列给出矩阵转置的Python代码。"
   ]
  },
  {
   "cell_type": "code",
   "execution_count": 17,
   "metadata": {},
   "outputs": [
    {
     "name": "stdout",
     "output_type": "stream",
     "text": [
      "矩阵A=\n",
      "[[1 2 3 4]\n",
      " [5 6 7 8]]\n",
      "\n",
      "矩阵A的转置=\n",
      "[[1 5]\n",
      " [2 6]\n",
      " [3 7]\n",
      " [4 8]]\n"
     ]
    }
   ],
   "source": [
    "import numpy as np\n",
    "A = np.array([[1,2,3,4],[5,6,7,8]])\n",
    "\n",
    "print(\"矩阵A=\\n{}\\n\".format(A))\n",
    "print(\"矩阵A的转置=\\n{}\".format(A.T))"
   ]
  },
  {
   "cell_type": "markdown",
   "metadata": {},
   "source": [
    "矩阵的转置也是一种运算，满足下述运算规律（假设运算都是可行的）：\n",
    "1. $(A^T)^T = A$\n",
    "2. $(A + B)^T = A^T + B^T$\n",
    "3. $(\\lambda A)^T = \\lambda A^T$\n",
    "4. $(AB)^T = B^T A^T$\n",
    "\n",
    "**【例8】** 已知 \n",
    "$A = \\begin{bmatrix} \n",
    "    2 & 0 & -1 \\\\\n",
    "    1 & 3 & 2 \\\\\n",
    "\\end{bmatrix}，\n",
    "B = \\begin{bmatrix} \n",
    "    1 & 7 & -1\\\\\n",
    "    4 & 2 & 3 \\\\\n",
    "    2 & 0 & 1 \n",
    "\\end{bmatrix}$，求$(AB)^T$。\n",
    "\n",
    "此处只给出Python代码的实现方法："
   ]
  },
  {
   "cell_type": "code",
   "execution_count": 21,
   "metadata": {},
   "outputs": [
    {
     "name": "stdout",
     "output_type": "stream",
     "text": [
      "[[ 0 17]\n",
      " [14 13]\n",
      " [-3 10]]\n"
     ]
    }
   ],
   "source": [
    "import numpy as np\n",
    "A = np.array([[2,0,-1],[1,3,2]])\n",
    "B = np.array([[1,7,-1],[4,2,3],[2,0,1]])\n",
    "print(np.dot(A,B).T)"
   ]
  },
  {
   "cell_type": "markdown",
   "metadata": {},
   "source": [
    "### 6. 矩阵与向量的乘法的新视角：改变向量在空间中的位置\n",
    "\n",
    "矩阵与向量的乘法通常可以理解成向量 $x$ 到向量 $y$ 的线性变换。\n",
    "\n",
    "> **【定义6】** 对于向量 $y=[y_1, y_2, ..., y_m]^T$，若它能由向量 $x=[x_1, x_2,...,x_n]^T$ 线性表示，即有：\n",
    "\n",
    "$\\left\\{\n",
    "\\begin{aligned}\n",
    "& y_1 = a_{11} x_{1} + a_{12} x_{2} + ... + a_{1n} x_{n} \\\\\n",
    "& y_2 = a_{21} x_{1} + a_{22} x_{2} + ... + a_{2n} x_{n} \\\\\n",
    "& ... \\\\\n",
    "& y_m = a_{m1} x_{1} + a_{m2} x_{2} + ... + a_{mn} x_{n} \\\\\n",
    "\\end{aligned}\n",
    "\\right.$\n",
    "\n",
    "则称此关系式为向量$x$到向量$y$的线性变换，可以写成输出向量 $y$ 等于系数矩阵$A$左乘输入向量$x$：\n",
    "\n",
    "$y=\\begin{bmatrix} \n",
    "    y_1 \\\\ \n",
    "    y_2 \\\\ \n",
    "    ... \\\\ \n",
    "    y_m \\\\\n",
    "\\end{bmatrix}\n",
    "=\\begin{bmatrix} \n",
    "    a_{11} & a_{12} & ... & a_{1n} \\\\ \n",
    "    a_{21} & a_{22} & ... & a_{2n} \\\\ \n",
    "    ... & ... & ... & ... \\\\ \n",
    "    a_{m1} & a_{m2} & ... & a_{mn} \\\\\n",
    "\\end{bmatrix}\n",
    "\\begin{bmatrix} \n",
    "    x_1 \\\\ \n",
    "    x_2 \\\\ \n",
    "    ... \\\\ \n",
    "    x_n \\\\\n",
    "\\end{bmatrix}\n",
    "=\\begin{bmatrix} \n",
    "    a_{11} x_{1} + a_{12} x_{2} + ... + a_{1n} x_{n} \\\\ \n",
    "    a_{21} x_{1} + a_{22} x_{2} + ... + a_{2n} x_{n} \\\\ \n",
    "    ...  \\\\ \n",
    "    a_{m1} x_{1} + a_{m2} x_{2} + ... + a_{mn} x_{n} \\\\\n",
    "\\end{bmatrix}\n",
    "=AX$\n",
    "\n",
    "*注意 m 不一定等于 n.* 一般而言，$y=Ax$ 的形式是便于描述向量x的空间位置在矩阵A的作用下进行变换的过程。此时需要特别注意的是，在进行乘法的时候，**矩阵A在左，列向量x在右**，即Ax的顺序不能变。正如前面所讲，`矩阵与向量`的*乘法*可以看作是`矩阵与矩阵`的*乘法*第一种特征形式，只不过位于后面的矩阵是一个列数为1的特殊矩阵。\n",
    "\n",
    "对照矩阵与矩阵的乘法规则，我们可以总结矩阵与向量的乘法规则：当把列向量看作是一个列数为1的特殊矩阵时，那么运算过程就变得比较简单了。\n",
    "1. 矩阵在左，列向量在右，矩阵的列数和列向量的维数必须相等；\n",
    "2. 矩阵和列向量相乘的结果也是一个列向量；\n",
    "3. 矩阵的行数就是结果向量的维数；\n",
    "4. 乘法运算的实施过程就是矩阵的每行和列向量的对应元素分别相乘后,再进行相加。\n",
    "\n",
    "**【例8】** 给出一个矩阵与向量相乘的例子：$\\begin{bmatrix} \n",
    "    1 & 2  \\\\\n",
    "    4 & 5  \\\\\n",
    "    7 & 8  \\\\  \n",
    "\\end{bmatrix}\n",
    "\\begin{bmatrix} \n",
    "    3 \\\\\n",
    "    4 \\\\ \n",
    "\\end{bmatrix}\n",
    "=\\begin{bmatrix} \n",
    "    1*3+2*4 \\\\\n",
    "    4*3+5*4 \\\\\n",
    "    7*3+8*4 \\\\\n",
    "\\end{bmatrix}\n",
    "=\\begin{bmatrix} \n",
    "    11 \\\\\n",
    "    32 \\\\\n",
    "    53 \\\\\n",
    "\\end{bmatrix}$.\n",
    "\n",
    "下面给出Python描述："
   ]
  },
  {
   "cell_type": "code",
   "execution_count": 2,
   "metadata": {},
   "outputs": [
    {
     "name": "stdout",
     "output_type": "stream",
     "text": [
      "[[11]\n",
      " [32]\n",
      " [53]]\n"
     ]
    }
   ],
   "source": [
    "import numpy as np\n",
    "A = np.array([[1,2],\n",
    "              [4,5],\n",
    "              [7,8]])\n",
    "x = np.array([[3,4]]).T\n",
    "print(np.dot(A,x))"
   ]
  },
  {
   "cell_type": "markdown",
   "metadata": {},
   "source": [
    "**【结果分析】**\n",
    "\n",
    "从程序运行的结果来看，原始向量 $u=\\begin{bmatrix} 3 \\\\ 4 \\end{bmatrix}$ 表示二维平面的一个点，其在二维平面中的坐标为 A(3, 4)，经过与矩阵 $A=\\begin{bmatrix} 1 & 4 & 7 \\\\ 2 & 5 & 8 \\end{bmatrix}$ 的乘法运算后，最终将原始点 A 转换为新的目标点B，其空间坐标为B(11,32,53)。\n",
    "\n",
    "从以上的例子可以总结出矩阵所发挥的重要作用：在指定矩阵的作用下，原始空间中的向量被**映射**转换到了目标空间的新坐标，向量的空间`位置`由此发生了变化，甚至在映射后，目标空间的维数想较于原始空间都有可能发生改变。"
   ]
  },
  {
   "cell_type": "markdown",
   "metadata": {},
   "source": [
    "### 7. 矩阵的应用案例\n",
    "\n",
    "矩阵的应用非常广泛，下面仅举两例。\n",
    "\n",
    "**【例9】** 生产成本核算问题\n",
    "\n",
    "某厂生产三种产品，它的成本分为三类。每一类成本中，给出生产单个产品时估计需要的量。同时给出每季度生产每种产品数量的估计。该公司希望在股东会上用一个表格展示出每一季度三类成本的数量：原料费、工资和管理费。\n",
    "\n",
    "成本（元）|产品A|产品B|产品C||产品|夏|秋|冬|春\n",
    ":-:|:-:|:-:|:-:||:-:|:-:|:-:|:-:|:-:\n",
    "原材料|0.1|0.3|0.15||A|4000|4500|4500|4000\n",
    "劳动|0.3|0.4|0.25||B|2000|2600|2400|2200\n",
    "企业管理费|0.1|0.2|0.15||C|5800|6200|6000|6000\n",
    "\n",
    "解：我们用矩阵的方法来考虑此问题，设产品分类成本矩阵为M，季度产量矩阵为P，则有：\n",
    "\n",
    "$M=\\begin{bmatrix} \n",
    "0.1 & 0.3 & 0.15 \\\\\n",
    "0.3 & 0.4 & 0.25 \\\\\n",
    "0.1 & 0.2 & 0.15 \n",
    "\\end{bmatrix}，P=\\begin{bmatrix} \n",
    "4000 & 4500 & 4500 & 4000 \\\\\n",
    "2000 & 2600 & 2400 & 2200 \\\\\n",
    "5800 & 6200 & 6000 & 6000 \\\\\n",
    "\\end{bmatrix}.$\n",
    "\n",
    "- 如果按 $Q=M*P$ 构造乘积，则MP的第一列表示夏季的成本。\n",
    "    - 原料费：$0.1*4000+0.3*2000+0.15*5800=1870$\n",
    "    - 工资：$0.3*4000+0.4*2000+0.25*5800=3450$\n",
    "    - 管理费和其他：$0.1*4000+0.2*2000+0.15*5800=1670$\n",
    "- MP的第二列表示秋季的成本。\n",
    "    - 原料费：$0.1*4500+0.3*2600+0.15*6200=2100$\n",
    "    - 工资: $0.3*4500+0.4*2600+0.25*6200$\n",
    "    - 管理费和其他: $0.1*4500+0.2*2600+0.15*6200$\n",
    "- MP的第三列和第四列表示冬季和秋季的成本。\n",
    "\n",
    "MP第一行的元素表示四个季度原料的总成本，第二和第三行的元素分别表示四个季度中每一季度工资和管理的成本。每一类成本的年度总成本可由矩阵的每一行元素相加得到。每一列元素相加，即可得到每一季度的总成本。下表汇总了总成本。\n",
    "\n",
    "成本（元）|夏|秋|冬|春|全年\n",
    ":-:|:-:|:-:|:-:|:-:|:-:\n",
    "原材料|1870|2160|2070|1960|8060\n",
    "劳动|3450|3940|3810|3580|14780\n",
    "企业管理费|1670|1900|1830|1740|7140\n",
    "总成本|6990|8000|7710|7280|29980\n",
    "\n",
    "下面给出Python的计算方法。"
   ]
  },
  {
   "cell_type": "code",
   "execution_count": 33,
   "metadata": {},
   "outputs": [
    {
     "data": {
      "text/html": [
       "<div>\n",
       "<style scoped>\n",
       "    .dataframe tbody tr th:only-of-type {\n",
       "        vertical-align: middle;\n",
       "    }\n",
       "\n",
       "    .dataframe tbody tr th {\n",
       "        vertical-align: top;\n",
       "    }\n",
       "\n",
       "    .dataframe thead th {\n",
       "        text-align: right;\n",
       "    }\n",
       "</style>\n",
       "<table border=\"1\" class=\"dataframe\">\n",
       "  <thead>\n",
       "    <tr style=\"text-align: right;\">\n",
       "      <th></th>\n",
       "      <th>夏</th>\n",
       "      <th>秋</th>\n",
       "      <th>东</th>\n",
       "      <th>春</th>\n",
       "      <th>全年</th>\n",
       "    </tr>\n",
       "  </thead>\n",
       "  <tbody>\n",
       "    <tr>\n",
       "      <td>原材料</td>\n",
       "      <td>1870.0</td>\n",
       "      <td>2160.0</td>\n",
       "      <td>2070.0</td>\n",
       "      <td>1960.0</td>\n",
       "      <td>8060.0</td>\n",
       "    </tr>\n",
       "    <tr>\n",
       "      <td>劳动</td>\n",
       "      <td>3450.0</td>\n",
       "      <td>3940.0</td>\n",
       "      <td>3810.0</td>\n",
       "      <td>3580.0</td>\n",
       "      <td>14780.0</td>\n",
       "    </tr>\n",
       "    <tr>\n",
       "      <td>企业管理费</td>\n",
       "      <td>1670.0</td>\n",
       "      <td>1900.0</td>\n",
       "      <td>1830.0</td>\n",
       "      <td>1740.0</td>\n",
       "      <td>7140.0</td>\n",
       "    </tr>\n",
       "    <tr>\n",
       "      <td>总成本</td>\n",
       "      <td>6990.0</td>\n",
       "      <td>8000.0</td>\n",
       "      <td>7710.0</td>\n",
       "      <td>7280.0</td>\n",
       "      <td>29980.0</td>\n",
       "    </tr>\n",
       "  </tbody>\n",
       "</table>\n",
       "</div>"
      ],
      "text/plain": [
       "            夏       秋       东       春       全年\n",
       "原材料    1870.0  2160.0  2070.0  1960.0   8060.0\n",
       "劳动     3450.0  3940.0  3810.0  3580.0  14780.0\n",
       "企业管理费  1670.0  1900.0  1830.0  1740.0   7140.0\n",
       "总成本    6990.0  8000.0  7710.0  7280.0  29980.0"
      ]
     },
     "metadata": {},
     "output_type": "display_data"
    }
   ],
   "source": [
    "import numpy as np\n",
    "import pandas as pd\n",
    "\n",
    "M = np.array([[0.1,0.3,0.15],[0.3,0.4,0.25],[0.1,0.2,0.15]])\n",
    "P = np.array([[4000,4500,4500,4000],[2000,2600,2400,2200],[5800,6200,6000,6000]])\n",
    "Q = np.dot(M,P)\n",
    "\n",
    "# 将numpy数组转换为DataFrame\n",
    "df = pd.DataFrame(Q)\n",
    "# 添加行列的标题\n",
    "df.columns = ['夏','秋','东','春']\n",
    "df.index = ['原材料','劳动','企业管理费']\n",
    "# 计算各列数据总和并作为新列添加到末尾\n",
    "df['全年'] = df.apply(lambda x:x.sum(), axis=1)\n",
    "# 计算各列数据总和并作为新行添加到末尾\n",
    "df.loc['总成本'] = df.apply(lambda x:x.sum())\n",
    "\n",
    "# 输出pandas数据\n",
    "display(df)"
   ]
  },
  {
   "cell_type": "markdown",
   "metadata": {},
   "source": [
    "**【例10】** 婚姻状况计算模型\n",
    "\n",
    "某城镇中，有8000位已婚女性和2000位单身女性，假设每年有30%的已婚女性离婚，20%的单身女性结婚。假设所有女性的总数为一常数，试求1年后有多少已婚女性和单身女性？2年后呢？10年后呢？\n",
    "\n",
    "解：我们可以用如下的思路构建矩阵A。1).矩阵A的第一行元素分别为1年后仍处于婚姻状态的已婚女性和已婚的单身女性百分比;2).第二行元素分别为1年后离婚的已婚女性和未婚的单身女性的百分比。则：\n",
    "\n",
    "$A=\\begin{bmatrix} \n",
    "0.7 & 0.2 \\\\\n",
    "0.3 & 0.8 \\\\ \n",
    "\\end{bmatrix}$\n",
    "\n",
    "若令 $x=\\begin{bmatrix} 8000 \\\\ 2000 \\end{bmatrix}$，则1年后已婚女性和单身女性人数可以用$A$乘以$x$计算. 其中`8000*0.7`表示仍然在婚姻状态的已婚女性，`2000*0.2`为转变为已婚的单身女性，两者相加就是1年后已婚女性的总人数；`8000*0.3`表示1年后离婚的已婚女性，`2000*0.8`表示仍然未婚的未婚女性，两者相加就是1年后未婚女性的总人数。\n",
    "\n",
    "$Ax=\\begin{bmatrix} \n",
    "0.7 & 0.2 \\\\\n",
    "0.3 & 0.8 \\\\ \n",
    "\\end{bmatrix}\n",
    "\\begin{bmatrix} \n",
    "8000 \\\\\n",
    "2000 \\\\ \n",
    "\\end{bmatrix}\n",
    "=\\begin{bmatrix} \n",
    "6000 \\\\\n",
    "4000 \\\\ \n",
    "\\end{bmatrix}$\n",
    "\n",
    "1年后将有6000位已婚女性，4000位单身女性。\n",
    "\n",
    "要求2年后已婚女性和单身女性的数量，计算\n",
    "\n",
    "$A^2 x = A(Ax) =\\begin{bmatrix} \n",
    "0.7 & 0.2 \\\\\n",
    "0.3 & 0.8 \\\\ \n",
    "\\end{bmatrix}\n",
    "\\begin{bmatrix} \n",
    "6000 \\\\\n",
    "4000 \\\\ \n",
    "\\end{bmatrix}\n",
    "=\\begin{bmatrix} \n",
    "5000 \\\\\n",
    "5000 \\\\ \n",
    "\\end{bmatrix}$\n",
    "\n",
    "2年后，一半的女性将为未婚，一般的女性将为单身。\n",
    "\n",
    "一般地，n年后已婚女性和单身女性的数量可由$A^n x$求得。\n",
    "\n",
    "按照以上的分析，我们将使用Python代码实现后续的计算，求解10年后的已婚女性和单身女性的数量。"
   ]
  },
  {
   "cell_type": "code",
   "execution_count": 12,
   "metadata": {},
   "outputs": [
    {
     "name": "stdout",
     "output_type": "stream",
     "text": [
      "[[4015.625]\n",
      " [5984.375]]\n"
     ]
    }
   ],
   "source": [
    "import numpy as np\n",
    "A = np.array([[0.7,0.2],[0.3,0.8]])\n",
    "x = np.array([[8000],[2000]])\n",
    "\n",
    "n = 8 # n=1:A^2; n=2:A^3\n",
    "product = np.dot(A,x)\n",
    "\n",
    "for i in range(n-1):\n",
    "    product = np.dot(A, product)\n",
    "    \n",
    "print(product)"
   ]
  },
  {
   "cell_type": "markdown",
   "metadata": {},
   "source": [
    "**【结果分析】**\n",
    "\n",
    "由程序的输出结果可知，10年后已婚女性和诞生女性的数量分别为：4016人和5984人。\n"
   ]
  }
 ],
 "metadata": {
  "kernelspec": {
   "display_name": "Python 3",
   "language": "python",
   "name": "python3"
  },
  "language_info": {
   "codemirror_mode": {
    "name": "ipython",
    "version": 3
   },
   "file_extension": ".py",
   "mimetype": "text/x-python",
   "name": "python",
   "nbconvert_exporter": "python",
   "pygments_lexer": "ipython3",
   "version": "3.7.7"
  }
 },
 "nbformat": 4,
 "nbformat_minor": 4
}
