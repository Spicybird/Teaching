{
 "cells": [
  {
   "cell_type": "markdown",
   "metadata": {},
   "source": [
    "# **第06讲 矩阵的应用** `扩展练习`"
   ]
  },
  {
   "cell_type": "markdown",
   "metadata": {},
   "source": [
    "<font color=\"blue\">作者：欧新宇（Xinyu OU）</font>\n",
    "\n",
    "<font color=\"red\">本文档所展示的测试结果，均运行于：Intel Core i7-7700K CPU 4.2GHz</font>\n",
    "\n",
    "---"
   ]
  },
  {
   "cell_type": "markdown",
   "metadata": {},
   "source": [
    "#### **1.【计算题】**   \n",
    "**给定矩阵$M=\\begin{bmatrix}\n",
    "1 & 0 & 0 & 0 \\\\\n",
    "0 & 1 & 0 & 0 \\\\\n",
    "0 & 0 & 1 & 0 \\\\\n",
    "\\end{bmatrix}$，分别求它的行空间形式和列空间形式。其中，向量组的系数以$a,b,c,d$进行表示。注意列向量组的顺序。** \n",
    "\n",
    "**解：**  \n",
    "(1) 矩阵M的`行空间`形式为：  \n",
    "```python\n",
    "a(1,0,0,0)+____(1)____(0,1,0,0)+c(0,0,1,0)=(a,b,c,0)\n",
    "```\n",
    "\n",
    "(2) 矩阵M的`列空间`形式为：  \n",
    "$x_1\\begin{bmatrix} 0 \\\\ 0 \\\\ 0 \\end{bmatrix}\n",
    "+\\underline{\\quad(2)\\quad}\\begin{bmatrix} 0 \\\\ 0 \\\\ 1 \\end{bmatrix}\n",
    "+x_3\\begin{bmatrix} 1 \\\\ 0 \\\\ 0 \\end{bmatrix}\n",
    "+x_4\\begin{bmatrix} 0 \\\\ 1 \\\\ 0 \\end{bmatrix}\n",
    "=\\begin{bmatrix} a \\\\ b \\\\ c \\end{bmatrix}$\n"
   ]
  },
  {
   "cell_type": "markdown",
   "metadata": {
    "execution": {
     "iopub.execute_input": "2020-06-04T08:15:25.442806Z",
     "iopub.status.busy": "2020-06-04T08:15:25.442806Z",
     "iopub.status.idle": "2020-06-04T08:15:25.446795Z",
     "shell.execute_reply": "2020-06-04T08:15:25.446795Z",
     "shell.execute_reply.started": "2020-06-04T08:15:25.442806Z"
    }
   },
   "source": [
    "<br/>"
   ]
  },
  {
   "cell_type": "markdown",
   "metadata": {},
   "source": [
    "##### **答案及解析**"
   ]
  },
  {
   "cell_type": "markdown",
   "metadata": {},
   "source": [
    "```python\n",
    "(1) b(0,1,0,0)\n",
    "(2) c\n",
    "```"
   ]
  },
  {
   "cell_type": "markdown",
   "metadata": {},
   "source": [
    "#### **2.【计算题】**   \n",
    "**设存在矩阵\n",
    "$A = \\begin{bmatrix} 1 & 4 \\\\ 2 & 5 \\\\ 3 & 6 \\end{bmatrix}$, 向量\n",
    "$u = \\begin{bmatrix} 10 \\\\ 20 \\end{bmatrix}$。\n",
    "请将乘法$Au$分解成列的视角。**\n",
    "\n",
    "**解：**  \n",
    "$Au=\\underline{\\quad(1)\\quad}\\begin{bmatrix} 1 \\\\ 2 \\\\ 3 \\end{bmatrix}\n",
    "+\\underline{\\quad(2)\\quad}\\begin{bmatrix} 4 \\\\ 5 \\\\ 6 \\end{bmatrix}$"
   ]
  },
  {
   "cell_type": "markdown",
   "metadata": {},
   "source": [
    "##### **答案及解析**"
   ]
  },
  {
   "cell_type": "markdown",
   "metadata": {},
   "source": [
    "```python\n",
    "(1) 10\n",
    "(2) 20\n",
    "```\n",
    "\n",
    "$Au=\\begin{bmatrix} 1 & 4 \\\\ 2 & 5 \\\\ 3 & 6 \\end{bmatrix} \n",
    "\\begin{bmatrix} 10 \\\\ 20 \\end{bmatrix}\n",
    "=10\\begin{bmatrix} 1 \\\\ 2 \\\\ 3 \\end{bmatrix}\n",
    "+20\\begin{bmatrix} 4 \\\\ 5 \\\\ 6 \\end{bmatrix}$"
   ]
  },
  {
   "cell_type": "markdown",
   "metadata": {
    "execution": {
     "iopub.execute_input": "2020-06-04T08:15:25.442806Z",
     "iopub.status.busy": "2020-06-04T08:15:25.442806Z",
     "iopub.status.idle": "2020-06-04T08:15:25.446795Z",
     "shell.execute_reply": "2020-06-04T08:15:25.446795Z",
     "shell.execute_reply.started": "2020-06-04T08:15:25.442806Z"
    }
   },
   "source": [
    "<br/>"
   ]
  },
  {
   "cell_type": "markdown",
   "metadata": {},
   "source": [
    "#### **3.【应用题】冠状病毒感染人员预测**\n",
    "\n",
    "冠状病毒的感染是非常快速的，某城市有50万人，在1月15日有3000人确诊感染了冠状病毒。假设每天新增确诊病例为未感染人口的0.7%，每天的治愈率为确诊人群的8%。假设在没有找到有效的抑制病例增加手段和防感染疫苗的情况下，2天，5天，8天，20天，50天后分别有多少确诊病例。\n",
    "\n",
    "```python\n",
    "import numpy as np\n",
    "A = np.array(____(1)____)\n",
    "x = np.array(____(2)____)\n",
    "n = [2, 5, 8, 20, 50] \n",
    "person = x\n",
    "\n",
    "for i in n:\n",
    "    for j in range(i):\n",
    "        person = ____(3)____\n",
    "\n",
    "    print(\"{:3d}天后，未感染人数为{:.0f}，确诊人数为{:.0f}\".format(i, person[0][0], person[1][0]))\n",
    "```"
   ]
  },
  {
   "cell_type": "markdown",
   "metadata": {},
   "source": [
    "##### **答案及解析**"
   ]
  },
  {
   "cell_type": "markdown",
   "metadata": {
    "execution": {
     "iopub.execute_input": "2020-06-04T05:06:53.494732Z",
     "iopub.status.busy": "2020-06-04T05:06:53.494732Z",
     "iopub.status.idle": "2020-06-04T05:06:53.499718Z",
     "shell.execute_reply": "2020-06-04T05:06:53.499718Z",
     "shell.execute_reply.started": "2020-06-04T05:06:53.494732Z"
    }
   },
   "source": [
    "```python\n",
    "(1) [[0.996, 0.05],[0.004,0.95]]\n",
    "(2) [[7998000],[2000]]\n",
    "(3) np.dot(A, person)\n",
    "```"
   ]
  },
  {
   "cell_type": "markdown",
   "metadata": {},
   "source": [
    "**解**：我们可以用如下思路构建传染矩阵X。\n",
    "1. 矩阵X的第一行第一个元素为一天后仍然没有被感染的人占前一天没有被感染人群的百分比; 第一行第二个元素为前一天被治愈的人群占前一天确诊感染人群的百分比。。\n",
    "2. 矩阵A的第二行第一个元素为一天后被感染确诊的人占前一天没有被感染人群的百分比；第二行第二个元素为前一天确诊的同时没有被治愈的人占前一天确诊人群的百分比。\n",
    "\n",
    "则有:\n",
    "$A=\\begin{bmatrix}\n",
    "99.3/100 & 8/100 \\\\\n",
    "0.7/100 & 92/100 \\\\\n",
    "\\end{bmatrix}$\n",
    "\n",
    "若令 $x=\\begin{bmatrix} 500000-3000 \\\\ 3000 \\end{bmatrix}$，则1天后确诊感染人数和正常人数可以用$A$乘以$x$计算，即$Ax$。其中`(500000-3000)*(99.3/100)`表示原来正常人群中仍然没有被感染的人数，`3000*(8/100)`表示一天后被治愈的人数，两者相加就是1天后正常人群的总数；`(500000-3000)*(0.7/100)`表示新增确诊病例，`3000*(92/100)`表示一天后仍然没有被治愈的确诊人数，两者相加就是1天后处于确诊状态的被感染人群。\n",
    "\n",
    "$Ax=\\begin{bmatrix}\n",
    "99.6/100 & 5/100 \\\\\n",
    "0.4/100 & 95/100 \\\\\n",
    "\\end{bmatrix}$\n",
    "\n",
    "一般地说，n天后，感染冠状病毒的人数和正常人数，可由$A^n x$求得。"
   ]
  },
  {
   "cell_type": "code",
   "execution_count": 1,
   "metadata": {
    "execution": {
     "iopub.execute_input": "2020-06-05T00:40:45.622585Z",
     "iopub.status.busy": "2020-06-05T00:40:45.622089Z",
     "iopub.status.idle": "2020-06-05T00:40:45.918698Z",
     "shell.execute_reply": "2020-06-05T00:40:45.917234Z",
     "shell.execute_reply.started": "2020-06-05T00:40:45.622585Z"
    }
   },
   "outputs": [
    {
     "name": "stdout",
     "output_type": "stream",
     "text": [
      "  2天后，未感染人数为7935938，确诊人数为64062\n",
      "  5天后，未感染人数为7807837，确诊人数为192163\n",
      "  8天后，未感染人数为7664243，确诊人数为335757\n",
      " 20天后，未感染人数为7492028，确诊人数为507972\n",
      " 50天后，未感染人数为7412680，确诊人数为587320\n"
     ]
    }
   ],
   "source": [
    "import numpy as np\n",
    "A = np.array([[0.996, 0.05],[0.004,0.95]])\n",
    "x = np.array([[7998000],[2000]])\n",
    "n = [2, 5, 8, 20, 50] \n",
    "person = x\n",
    "\n",
    "for i in n:\n",
    "    for j in range(i):\n",
    "        person = np.dot(A, person)\n",
    "\n",
    "    print(\"{:3d}天后，未感染人数为{:.0f}，确诊人数为{:.0f}\".format(i, person[0][0], person[1][0]))"
   ]
  }
 ],
 "metadata": {
  "kernelspec": {
   "display_name": "Python 3",
   "language": "python",
   "name": "python3"
  },
  "language_info": {
   "codemirror_mode": {
    "name": "ipython",
    "version": 3
   },
   "file_extension": ".py",
   "mimetype": "text/x-python",
   "name": "python",
   "nbconvert_exporter": "python",
   "pygments_lexer": "ipython3",
   "version": "3.7.7"
  }
 },
 "nbformat": 4,
 "nbformat_minor": 4
}
