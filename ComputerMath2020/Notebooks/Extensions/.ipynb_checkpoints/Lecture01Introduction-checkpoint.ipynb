{
 "cells": [
  {
   "cell_type": "markdown",
   "metadata": {},
   "source": [
    "# **第01讲 线性代数绪论** `扩展练习`"
   ]
  },
  {
   "cell_type": "markdown",
   "metadata": {},
   "source": [
    "<font color=\"blue\">作者：欧新宇（Xinyu OU）</font>\n",
    "\n",
    "<font color=\"red\">本文档所展示的测试结果，均运行于：Intel Core i7-7700K CPU 4.2GHz</font>\n",
    "\n",
    "---"
   ]
  },
  {
   "cell_type": "markdown",
   "metadata": {},
   "source": [
    "1.与数学系的同学不同，计算机系的同学更关心使用线性代数来解决 `高阶` 阶矩阵模型。\n",
    "\n",
    "2.线性代数处理的是 `连续` 数据。\n",
    "\n",
    "3.对以下符号进行分类，以明确用于表达哪一类数据（注意是否所有元素都可分）。\n",
    "\n",
    "选项编号 | A | B | C | D | E | F | G | H | I | J | K\n",
    " :-: | :-: | :-: | :-: | :-: | :-: | :-: | :-: | :-: | :-: | :-: | :-:\n",
    "选项 | *a* | ***A*** | *x* | **u** | B | *v* | w | *AB* | *X* | ***o*** | ***u*** \n",
    "\n",
    "以上符号中，标量是`ACF`，向量是`HJK`，矩阵是`B`。\n",
    "\n",
    "4.向量是 `一` 阶张量，矩阵是 `二` 阶张量，标量是 `零` 阶张量\n"
   ]
  }
 ],
 "metadata": {
  "kernelspec": {
   "display_name": "Python 3",
   "language": "python",
   "name": "python3"
  },
  "language_info": {
   "codemirror_mode": {
    "name": "ipython",
    "version": 3
   },
   "file_extension": ".py",
   "mimetype": "text/x-python",
   "name": "python",
   "nbconvert_exporter": "python",
   "pygments_lexer": "ipython3",
   "version": "3.7.7"
  }
 },
 "nbformat": 4,
 "nbformat_minor": 4
}
