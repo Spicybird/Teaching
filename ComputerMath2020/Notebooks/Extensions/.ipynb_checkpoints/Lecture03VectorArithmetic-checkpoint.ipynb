{
 "cells": [
  {
   "cell_type": "markdown",
   "metadata": {},
   "source": [
    "# **第03讲 向量的四则运算** `扩展练习`"
   ]
  },
  {
   "cell_type": "markdown",
   "metadata": {},
   "source": [
    "<font color=\"blue\">作者：欧新宇（Xinyu OU）</font>\n",
    "\n",
    "<font color=\"red\">本文档所展示的测试结果，均运行于：Intel Core i7-7700K CPU 4.2GHz</font>\n",
    "\n",
    "---"
   ]
  },
  {
   "cell_type": "markdown",
   "metadata": {},
   "source": [
    "#### **1.【计算题】**  \n",
    "设 $v_1=(1,1,0)^T, v_2=(0,1,1)^T, v_3=(3,4,0)^T$, 使用Python实现 $a = v_1-v_2$ 及 $b = 3v_1 + 2v_2 - v_3$的求解。\n",
    "\n",
    "- **Python实现**\n",
    "\n",
    "```python\n",
    "# 0. 载入运算库\n",
    "import numpy as np\n",
    "\n",
    "# 1. 定义已知量\n",
    "v1 = ____(1)____\n",
    "v2 = np.array([[0,1,1]]).T\n",
    "v3 = ____(2)____\n",
    "\n",
    "# 2. 计算和数据处理\n",
    "print('a = {}'.format(v1-v2))\n",
    "print('b = {}'.format(____(3)____))\n",
    "```"
   ]
  },
  {
   "cell_type": "markdown",
   "metadata": {},
   "source": [
    "##### **答案及解析**"
   ]
  },
  {
   "cell_type": "markdown",
   "metadata": {},
   "source": [
    "```python\n",
    "(1) np.array([[1,1,0]]).T\n",
    "(2) np.array([[3,4,0]]).T\n",
    "(3) 3*v1+2*v2-v3\n",
    "```"
   ]
  },
  {
   "cell_type": "code",
   "execution_count": 3,
   "metadata": {
    "execution": {
     "iopub.execute_input": "2020-06-04T01:31:22.135179Z",
     "iopub.status.busy": "2020-06-04T01:31:22.135179Z",
     "iopub.status.idle": "2020-06-04T01:31:22.140164Z",
     "shell.execute_reply": "2020-06-04T01:31:22.140164Z",
     "shell.execute_reply.started": "2020-06-04T01:31:22.135179Z"
    }
   },
   "outputs": [
    {
     "name": "stdout",
     "output_type": "stream",
     "text": [
      "a = [[ 1]\n",
      " [ 0]\n",
      " [-1]]\n",
      "b = [[0]\n",
      " [1]\n",
      " [2]]\n"
     ]
    }
   ],
   "source": [
    "# 0. 载入运算库\n",
    "import numpy as np\n",
    "\n",
    "# 1. 定义已知量\n",
    "v1 = np.array([[1,1,0]]).T\n",
    "v2 = np.array([[0,1,1]]).T\n",
    "v3 = np.array([[3,4,0]]).T\n",
    "\n",
    "# 2. 计算和数据处理\n",
    "print('a = {}'.format(v1-v2))\n",
    "print('b = {}'.format(3*v1+2*v2-v3))"
   ]
  },
  {
   "cell_type": "markdown",
   "metadata": {},
   "source": [
    "#### **2.【计算题】**  "
   ]
  },
  {
   "cell_type": "markdown",
   "metadata": {},
   "source": [
    "设 $3(a_1-a) + 2(a_2 + a) = 5(a_3 + a)$。其中, $a_1=(2,5,1,3)^T, a_2=(10,1,5,10)^T, a_3=(4,1,-1,1)^T$，求$a$。\n",
    "\n",
    "- **基础推导**\n",
    "\n",
    "> &emsp;&nbsp; $3(a_1-a) + 2(a_2 + a) = 5(a_3 + a)$  \n",
    "> => $3a_1 - 3*a + 2a_2 + 2*a = 5a_3 + 5*a$  \n",
    "> => $3a_1 + 2a_2 - 5a_3 = 6*a$  \n",
    "> => $a = \\frac{3}{6} a_1 + \\frac{2}{6} a_2 - \\frac{5}{6} a_3$\n",
    "\n",
    "- **Python实现**\n",
    "\n",
    "```python\n",
    "import numpy as np\n",
    "a1 = np.array([[2,5,1,3]]).T\n",
    "a2 = (____(1)____)\n",
    "a3 = np.array([[4,1,(-1),1]]).T\n",
    "\n",
    "print(____(2)____)\n",
    "```\n",
    "\n"
   ]
  },
  {
   "cell_type": "markdown",
   "metadata": {},
   "source": [
    "##### **答案及解析**"
   ]
  },
  {
   "cell_type": "markdown",
   "metadata": {},
   "source": [
    "```python\n",
    "(1) np.array([[10,1,5,10]]).T\n",
    "(2) 3/6*a1 + 2/6*a2 - 5/6*a3\n",
    "```"
   ]
  },
  {
   "cell_type": "code",
   "execution_count": 4,
   "metadata": {
    "execution": {
     "iopub.execute_input": "2020-06-04T01:51:45.891943Z",
     "iopub.status.busy": "2020-06-04T01:51:45.891943Z",
     "iopub.status.idle": "2020-06-04T01:51:45.905906Z",
     "shell.execute_reply": "2020-06-04T01:51:45.904908Z",
     "shell.execute_reply.started": "2020-06-04T01:51:45.891943Z"
    }
   },
   "outputs": [
    {
     "name": "stdout",
     "output_type": "stream",
     "text": [
      "[[1.]\n",
      " [2.]\n",
      " [3.]\n",
      " [4.]]\n"
     ]
    }
   ],
   "source": [
    "import numpy as np\n",
    "a1=np.array([[2,5,1,3]]).T\n",
    "a2=np.array([[10,1,5,10]]).T\n",
    "a3=np.array([[4,1,(-1),1]]).T\n",
    "\n",
    "print(3/6*a1 + 2/6*a2 - 5/6*a3)"
   ]
  },
  {
   "cell_type": "markdown",
   "metadata": {},
   "source": [
    "#### **3.【计算题】**  \n",
    "\n",
    "$u^T=(3,2,2), v^T=(5,3,1)$， 求 $u$ 和 $v$ 的内积（点乘）和外积（叉乘）。\n",
    "\n",
    "- **Python实现**\n",
    "\n",
    "```python\n",
    "import numpy as np\n",
    "u=np.array([[3,2,2]])\n",
    "v=____(1)____\n",
    "\n",
    "dot = ____(2)____  # 不是数学规则，而是程序的限制，大家只需要记住\n",
    "cross = ____(3)____\n",
    "print('点乘：{}，叉乘：{}'.format(dot, cross))\n",
    "```\n"
   ]
  },
  {
   "cell_type": "markdown",
   "metadata": {},
   "source": [
    "##### **答案及解析**"
   ]
  },
  {
   "cell_type": "markdown",
   "metadata": {},
   "source": [
    "```python\n",
    "(1) np.array([[5,3,1]])\n",
    "(2) np.dot(u, v.T)\n",
    "(3) np.cross(u, v)\n",
    "```"
   ]
  },
  {
   "cell_type": "code",
   "execution_count": 5,
   "metadata": {
    "execution": {
     "iopub.execute_input": "2020-06-04T01:59:02.000674Z",
     "iopub.status.busy": "2020-06-04T01:59:02.000674Z",
     "iopub.status.idle": "2020-06-04T01:59:02.015633Z",
     "shell.execute_reply": "2020-06-04T01:59:02.014653Z",
     "shell.execute_reply.started": "2020-06-04T01:59:02.000674Z"
    }
   },
   "outputs": [
    {
     "name": "stdout",
     "output_type": "stream",
     "text": [
      "点乘：[[23]]，叉乘：[[-4  7 -1]]\n"
     ]
    }
   ],
   "source": [
    "import numpy as np\n",
    "u=np.array([[3,2,2]])\n",
    "v=np.array([[5,3,1]])\n",
    "\n",
    "dot = np.dot(u, v.T)  # 不是数学规则，而是程序的限制，大家只需要记住\n",
    "cross = np.cross(u, v)\n",
    "print('点乘：{}，叉乘：{}'.format(dot, cross))"
   ]
  }
 ],
 "metadata": {
  "kernelspec": {
   "display_name": "Python 3",
   "language": "python",
   "name": "python3"
  },
  "language_info": {
   "codemirror_mode": {
    "name": "ipython",
    "version": 3
   },
   "file_extension": ".py",
   "mimetype": "text/x-python",
   "name": "python",
   "nbconvert_exporter": "python",
   "pygments_lexer": "ipython3",
   "version": "3.7.7"
  }
 },
 "nbformat": 4,
 "nbformat_minor": 4
}
