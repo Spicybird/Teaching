{
 "cells": [
  {
   "cell_type": "markdown",
   "metadata": {},
   "source": [
    "# **第05讲 矩阵操作** `扩展练习`"
   ]
  },
  {
   "cell_type": "markdown",
   "metadata": {},
   "source": [
    "<font color=\"blue\">作者：欧新宇（Xinyu OU）</font>\n",
    "\n",
    "<font color=\"red\">本文档所展示的测试结果，均运行于：Intel Core i7-7700K CPU 4.2GHz</font>\n",
    "\n",
    "---"
   ]
  },
  {
   "cell_type": "markdown",
   "metadata": {},
   "source": [
    "#### **1.【计算题】**   \n",
    "**已知 $A=[6,-3,2], B=[1,2,-4]^T$，求$AB$和$BA$。**\n",
    "\n",
    "- **Python实现**\n",
    "\n",
    "```python\n",
    "import numpy as np\n",
    "A = np.array([[6,-3,2]])\n",
    "B = ____(1)____\n",
    "\n",
    "print(\"AB=\\n {}\".format(np.dot(A,B)))\n",
    "print(\"BA=\\n {}\".format(____(2)____))\n",
    "```"
   ]
  },
  {
   "cell_type": "markdown",
   "metadata": {},
   "source": [
    "##### **答案及解析**"
   ]
  },
  {
   "cell_type": "markdown",
   "metadata": {},
   "source": [
    "```python\n",
    "(1) np.array([[1],[2],[-4]])\n",
    "(2) np.dot(B,A)\n",
    "```"
   ]
  },
  {
   "cell_type": "code",
   "execution_count": 3,
   "metadata": {
    "execution": {
     "iopub.execute_input": "2020-06-04T03:23:40.433661Z",
     "iopub.status.busy": "2020-06-04T03:23:40.432663Z",
     "iopub.status.idle": "2020-06-04T03:23:40.449616Z",
     "shell.execute_reply": "2020-06-04T03:23:40.448618Z",
     "shell.execute_reply.started": "2020-06-04T03:23:40.433661Z"
    }
   },
   "outputs": [
    {
     "name": "stdout",
     "output_type": "stream",
     "text": [
      "AB=\n",
      " [[-8]]\n",
      "BA=\n",
      " [[  6  -3   2]\n",
      " [ 12  -6   4]\n",
      " [-24  12  -8]]\n"
     ]
    }
   ],
   "source": [
    "import numpy as np\n",
    "A = np.array([[6,-3,2]])\n",
    "B = np.array([[1],[2],[-4]])\n",
    "\n",
    "print(\"AB=\\n {}\".format(np.dot(A,B)))\n",
    "print(\"BA=\\n {}\".format(np.dot(B,A)))"
   ]
  },
  {
   "cell_type": "markdown",
   "metadata": {},
   "source": [
    "<br/>"
   ]
  },
  {
   "cell_type": "markdown",
   "metadata": {
    "execution": {
     "iopub.execute_input": "2020-05-13T00:58:26.086103Z",
     "iopub.status.busy": "2020-05-13T00:58:26.086103Z",
     "iopub.status.idle": "2020-05-13T00:58:26.091090Z",
     "shell.execute_reply": "2020-05-13T00:58:26.091090Z",
     "shell.execute_reply.started": "2020-05-13T00:58:26.086103Z"
    }
   },
   "source": [
    "#### **2.【计算题】**   \n",
    "**求矩阵 $S = \\begin{bmatrix}\n",
    "2 & -1 & -6 & 0 \\\\\n",
    "1 & -1 & 2 & -4 \\\\\n",
    "\\end{bmatrix}\n",
    "\\begin{bmatrix}\n",
    "1 & 2 \\\\\n",
    "0 & -1 \\\\\n",
    "-1 & -3 \\\\\n",
    "4 & 2 \\\\\n",
    "\\end{bmatrix}$ 的乘积。**\n",
    "\n",
    "- **Python实现**\n",
    "\n",
    "```python\n",
    "import numpy as np\n",
    "A = ____(1)____\n",
    "B = np.array([[1,2],[0,-1],[-1,-3],[4,2]])\n",
    "\n",
    "S = ____(2)____\n",
    "print(\"A×B=\\n {}\".format(S))\n",
    "```\n"
   ]
  },
  {
   "cell_type": "markdown",
   "metadata": {},
   "source": [
    "##### **答案及解析**"
   ]
  },
  {
   "cell_type": "markdown",
   "metadata": {},
   "source": [
    "```python\n",
    "(1) np.array([[2,-1,-6,0],[1,-1,2,-4]])\n",
    "(2) np.dot(A,B)\n",
    "```"
   ]
  },
  {
   "cell_type": "code",
   "execution_count": 5,
   "metadata": {
    "execution": {
     "iopub.execute_input": "2020-06-04T03:33:31.414453Z",
     "iopub.status.busy": "2020-06-04T03:33:31.414453Z",
     "iopub.status.idle": "2020-06-04T03:33:31.423428Z",
     "shell.execute_reply": "2020-06-04T03:33:31.422431Z",
     "shell.execute_reply.started": "2020-06-04T03:33:31.414453Z"
    }
   },
   "outputs": [
    {
     "name": "stdout",
     "output_type": "stream",
     "text": [
      "A×B=\n",
      " [[ -2  -7]\n",
      " [-17 -11]]\n"
     ]
    }
   ],
   "source": [
    "import numpy as np\n",
    "A = np.array([[2,-1,-6,0],[1,-1,2,-4]])\n",
    "B = np.array([[1,2],[0,-1],[-1,-3],[4,2]])\n",
    "\n",
    "S = np.dot(A,B)\n",
    "print(\"A×B=\\n {}\".format(S))"
   ]
  },
  {
   "cell_type": "markdown",
   "metadata": {},
   "source": [
    "<br/>"
   ]
  },
  {
   "cell_type": "markdown",
   "metadata": {
    "execution": {
     "iopub.execute_input": "2020-05-13T00:58:26.086103Z",
     "iopub.status.busy": "2020-05-13T00:58:26.086103Z",
     "iopub.status.idle": "2020-05-13T00:58:26.091090Z",
     "shell.execute_reply": "2020-05-13T00:58:26.091090Z",
     "shell.execute_reply.started": "2020-05-13T00:58:26.086103Z"
    }
   },
   "source": [
    "#### **3.【计算题】**   \n",
    "**设$A = \\begin{bmatrix}\n",
    "1 & -2 & 1 \\\\\n",
    "4 & 1 & 0 \\\\\n",
    "3 & -2 & 2\n",
    "\\end{bmatrix}$，\n",
    "$B = \\begin{bmatrix}\n",
    "3 & 4 & 1 \\\\\n",
    "3 & -1 & 2 \\\\\n",
    "1 & 2 & 4\n",
    "\\end{bmatrix}$，求$M = 2A^2 + 5AB - 4BA+ 6B^2 + (AB)^T$。**\n",
    "\n",
    "- **Python实现**\n",
    "\n",
    "```python\n",
    "import numpy as np\n",
    "A = np.array([[1,2,1,0],[2,1,0,1],[3,-2,2,1],[1,2,4,3]])\n",
    "B = np.array([[3,4,1,-2],[2,1,2,2],[2,-2,2,1],[1,2,-4,3]])\n",
    "\n",
    "M = 2*np.dot(A,A)-5*np.dot(A,B)+4*np.dot(B,A)____(1)____\n",
    "print(\"Result = \\n {}\".format(M))\n",
    "```\n"
   ]
  },
  {
   "cell_type": "markdown",
   "metadata": {},
   "source": [
    "##### **答案及解析**"
   ]
  },
  {
   "cell_type": "markdown",
   "metadata": {},
   "source": [
    "```python\n",
    "(1) -6*np.dot(B,B)+(np.dot(A,B).T)\n",
    "```"
   ]
  },
  {
   "cell_type": "code",
   "execution_count": 7,
   "metadata": {
    "execution": {
     "iopub.execute_input": "2020-06-04T03:42:38.947143Z",
     "iopub.status.busy": "2020-06-04T03:42:38.946145Z",
     "iopub.status.idle": "2020-06-04T03:42:38.953126Z",
     "shell.execute_reply": "2020-06-04T03:42:38.953126Z",
     "shell.execute_reply.started": "2020-06-04T03:42:38.947143Z"
    }
   },
   "outputs": [
    {
     "name": "stdout",
     "output_type": "stream",
     "text": [
      "Result = \n",
      " [[124  77 189  25]\n",
      " [ 95 114 -36  17]\n",
      " [ 91  68 -36 -48]\n",
      " [161  73 -68 134]]\n"
     ]
    }
   ],
   "source": [
    "import numpy as np\n",
    "A = np.array([[1,2,1,0],[2,1,0,1],[3,-2,2,1],[1,2,4,3]])\n",
    "B = np.array([[3,4,1,-2],[2,1,2,2],[2,-2,2,1],[1,2,-4,3]])\n",
    "\n",
    "M = 2*np.dot(A,A)+5*np.dot(A,B)-4*np.dot(B,A)+6*np.dot(B,B)+(np.dot(A,B).T)\n",
    "print(\"Result = \\n {}\".format(M))"
   ]
  },
  {
   "cell_type": "markdown",
   "metadata": {},
   "source": [
    "<br/>"
   ]
  },
  {
   "cell_type": "markdown",
   "metadata": {
    "execution": {
     "iopub.execute_input": "2020-05-13T00:58:26.086103Z",
     "iopub.status.busy": "2020-05-13T00:58:26.086103Z",
     "iopub.status.idle": "2020-05-13T00:58:26.091090Z",
     "shell.execute_reply": "2020-05-13T00:58:26.091090Z",
     "shell.execute_reply.started": "2020-05-13T00:58:26.086103Z"
    }
   },
   "source": [
    "#### **4.【计算题】**   \n",
    "**矩阵的加法：设存在矩阵$A = \\begin{bmatrix} -1.2 & 3.4 & -5.6 \\\\ 7.8 & -9.1 & 0.7 \\end{bmatrix}$, 和向量$u = [30, 50]^T$。试求$(4A+2b)-(2A-3b)$。**\n",
    "\n",
    "- **Python实现**\n",
    "\n",
    "```python\n",
    "import numpy as np\n",
    "A = np.array([[-1.2,3.4,-5.6],[7.8,-9.1,0.7]])\n",
    "u = ____(1)____\n",
    "\n",
    "print(____(2)____)\n",
    "```\n"
   ]
  },
  {
   "cell_type": "markdown",
   "metadata": {},
   "source": [
    "##### **答案及解析**"
   ]
  },
  {
   "cell_type": "markdown",
   "metadata": {},
   "source": [
    "```python\n",
    "(1) np.array([[30,50]]).T\n",
    "(2) (4*A+2*u)-(2*A-3*u)\n",
    "```"
   ]
  },
  {
   "cell_type": "code",
   "execution_count": 9,
   "metadata": {
    "execution": {
     "iopub.execute_input": "2020-06-04T03:48:31.323832Z",
     "iopub.status.busy": "2020-06-04T03:48:31.322836Z",
     "iopub.status.idle": "2020-06-04T03:48:31.332807Z",
     "shell.execute_reply": "2020-06-04T03:48:31.331811Z",
     "shell.execute_reply.started": "2020-06-04T03:48:31.323832Z"
    }
   },
   "outputs": [
    {
     "name": "stdout",
     "output_type": "stream",
     "text": [
      "[[147.6 156.8 138.8]\n",
      " [265.6 231.8 251.4]]\n"
     ]
    }
   ],
   "source": [
    "import numpy as np\n",
    "A = np.array([[-1.2,3.4,-5.6],[7.8,-9.1,0.7]])\n",
    "u = np.array([[30,50]]).T\n",
    "\n",
    "print((4*A+2*u)-(2*A-3*u))"
   ]
  }
 ],
 "metadata": {
  "kernelspec": {
   "display_name": "Python 3",
   "language": "python",
   "name": "python3"
  },
  "language_info": {
   "codemirror_mode": {
    "name": "ipython",
    "version": 3
   },
   "file_extension": ".py",
   "mimetype": "text/x-python",
   "name": "python",
   "nbconvert_exporter": "python",
   "pygments_lexer": "ipython3",
   "version": "3.7.7"
  }
 },
 "nbformat": 4,
 "nbformat_minor": 4
}
