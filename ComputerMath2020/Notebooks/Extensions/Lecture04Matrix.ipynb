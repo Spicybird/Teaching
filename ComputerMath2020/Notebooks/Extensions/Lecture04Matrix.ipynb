{
 "cells": [
  {
   "cell_type": "markdown",
   "metadata": {},
   "source": [
    "# **第04讲 矩阵的基础知识** `扩展练习`"
   ]
  },
  {
   "cell_type": "markdown",
   "metadata": {},
   "source": [
    "<font color=\"blue\">作者：欧新宇（Xinyu OU）</font>\n",
    "\n",
    "<font color=\"red\">本文档所展示的测试结果，均运行于：Intel Core i7-7700K CPU 4.2GHz</font>\n",
    "\n",
    "---"
   ]
  },
  {
   "cell_type": "markdown",
   "metadata": {},
   "source": [
    "#### **1.【计算题】**  \n",
    "编写Python代码，实现以下矩阵的创建，并显示（打印）到屏幕。\n",
    "\n",
    "$A=\\begin{bmatrix}\n",
    "1 & 3 & 5 & 7\\\\\n",
    "-2 & -4 & -6 & -8 \\\\\n",
    "\\end{bmatrix}$\n",
    "\n",
    "\n",
    "- **Python实现**\n",
    "\n",
    "```python\n",
    "import numpy as np\n",
    "A = ____(1)____([[1,3,5,7],____(2)____])\n",
    "\n",
    "print('A= \\n{}'.format(A))\n",
    "```"
   ]
  },
  {
   "cell_type": "markdown",
   "metadata": {},
   "source": [
    "##### **答案及解析**"
   ]
  },
  {
   "cell_type": "markdown",
   "metadata": {},
   "source": [
    "```python\n",
    "(1) np.array\n",
    "(2) [-2,-4,-6,-8]\n",
    "```"
   ]
  },
  {
   "cell_type": "code",
   "execution_count": 2,
   "metadata": {
    "execution": {
     "iopub.execute_input": "2020-06-04T02:32:38.260569Z",
     "iopub.status.busy": "2020-06-04T02:32:38.260569Z",
     "iopub.status.idle": "2020-06-04T02:32:38.265556Z",
     "shell.execute_reply": "2020-06-04T02:32:38.265556Z",
     "shell.execute_reply.started": "2020-06-04T02:32:38.260569Z"
    }
   },
   "outputs": [
    {
     "name": "stdout",
     "output_type": "stream",
     "text": [
      "A= \n",
      "[[ 1  3  5  7]\n",
      " [-2 -4 -6 -8]]\n"
     ]
    }
   ],
   "source": [
    "import numpy as np\n",
    "A = np.array([[1,3,5,7],[-2,-4,-6,-8]])\n",
    "\n",
    "print('A= \\n{}'.format(A))"
   ]
  },
  {
   "cell_type": "markdown",
   "metadata": {},
   "source": [
    "#### **2.【计算题】**  \n",
    "给定以下两个矩阵A和B，试求线性组合S=1.1A+2.2B，并将结果显示（打印）到屏幕。\n",
    "\n",
    "$A=\\begin{bmatrix}\n",
    "1.2 & -0.5 & 3.4 \\\\\n",
    "2.4 & -1.7 & -2.1 \\\\\n",
    "\\end{bmatrix},\n",
    "B=\\begin{bmatrix}\n",
    "1.2 & -2 & 0 \\\\\n",
    "0 & -1.8 & -2.3 \\\\\n",
    "\\end{bmatrix}$\n",
    "\n",
    "- **Python实现**\n",
    "\n",
    "```python\n",
    "import numpy as np\n",
    "A = np.array([[1.2,-0.5,3.4],[2.4,-1.7,-2.1]])\n",
    "B = ____(1)____\n",
    "\n",
    "S = ____(2)____\n",
    "\n",
    "print('S = \\n{}'.format(S))\n",
    "```"
   ]
  },
  {
   "cell_type": "markdown",
   "metadata": {},
   "source": [
    "##### **答案及解析**"
   ]
  },
  {
   "cell_type": "markdown",
   "metadata": {},
   "source": [
    "```python\n",
    "(1) np.array([[1.2,-2,0],[0,-1.8,-2.3]])\n",
    "(2) 1.1*A + 2.2*B\n",
    "```"
   ]
  },
  {
   "cell_type": "code",
   "execution_count": 5,
   "metadata": {
    "execution": {
     "iopub.execute_input": "2020-06-04T03:11:00.714356Z",
     "iopub.status.busy": "2020-06-04T03:11:00.714356Z",
     "iopub.status.idle": "2020-06-04T03:11:00.719342Z",
     "shell.execute_reply": "2020-06-04T03:11:00.719342Z",
     "shell.execute_reply.started": "2020-06-04T03:11:00.714356Z"
    }
   },
   "outputs": [
    {
     "name": "stdout",
     "output_type": "stream",
     "text": [
      "S = \n",
      "[[ 3.96 -4.95  3.74]\n",
      " [ 2.64 -5.83 -7.37]]\n"
     ]
    }
   ],
   "source": [
    "import numpy as np\n",
    "A = np.array([[1.2,-0.5,3.4],[2.4,-1.7,-2.1]])\n",
    "B = np.array([[1.2,-2,0],[0,-1.8,-2.3]])\n",
    "\n",
    "S = 1.1*A+2.2*B\n",
    "\n",
    "print('S = \\n{}'.format(S))"
   ]
  }
 ],
 "metadata": {
  "kernelspec": {
   "display_name": "Python 3",
   "language": "python",
   "name": "python3"
  },
  "language_info": {
   "codemirror_mode": {
    "name": "ipython",
    "version": 3
   },
   "file_extension": ".py",
   "mimetype": "text/x-python",
   "name": "python",
   "nbconvert_exporter": "python",
   "pygments_lexer": "ipython3",
   "version": "3.7.7"
  }
 },
 "nbformat": 4,
 "nbformat_minor": 4
}
