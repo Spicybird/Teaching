{
 "cells": [
  {
   "cell_type": "markdown",
   "metadata": {},
   "source": [
    "# **第09讲 基底变换** `扩展练习`"
   ]
  },
  {
   "cell_type": "markdown",
   "metadata": {},
   "source": [
    "<font color=\"blue\">作者：欧新宇（Xinyu OU）</font>\n",
    "\n",
    "<font color=\"red\">本文档所展示的测试结果，均运行于：Intel Core i7-7700K CPU 4.2GHz</font>\n",
    "\n",
    "---"
   ]
  },
  {
   "cell_type": "markdown",
   "metadata": {},
   "source": [
    "#### **1.【计算题】任意基的转移矩阵** \n",
    "**令$v_1=(3,3)^T, v_2=(3,5)^T$ 对有序基 $u_1=(2,2)^T, u_2=(-2,3)^T$，求从$[v_1,v_2]$到$[u_1,u_2]$的转移矩阵。**\n",
    "\n",
    "- **Python实现**\n",
    "\n",
    "```python\n",
    "import numpy as np\n",
    "from scipy import linalg\n",
    "\n",
    "V = np.array(____(1)____)\n",
    "U = np.array([[2,-2],[2,3]])\n",
    "S = ____(2)____\n",
    "\n",
    "np.set_printoptions(precision=3, suppress=True)  # 设置输出矩阵保留三位小数\n",
    "print('S=\\n{}'.format(S))\n",
    "```"
   ]
  },
  {
   "cell_type": "markdown",
   "metadata": {},
   "source": [
    "##### **答案及解析**"
   ]
  },
  {
   "cell_type": "markdown",
   "metadata": {},
   "source": [
    "```python\n",
    "(1) [[3,3],[3,5]]\n",
    "(2) np.dot(linalg.inv(U), V)\n",
    "```\n",
    "\n",
    "**问题分析**：从特定基$[u_1, u_2]$到特定基$[v_1, v_2]$的基底变换（坐标变换）。此处，求$[v_1,v_2]$到$[u_1,u_2]$的转移矩阵，可以直接套用公式$S=U^{-1} V$\n",
    "\n",
    "$S_1=U^{-1} V = \\begin{bmatrix} 2 & -2 \\\\ 2 & 3 \\end{bmatrix}^{-1} \\begin{bmatrix} 3 & 3 \\\\ 3 & 5 \\end{bmatrix}$"
   ]
  },
  {
   "cell_type": "code",
   "execution_count": 1,
   "metadata": {
    "execution": {
     "iopub.execute_input": "2020-06-04T08:03:03.746686Z",
     "iopub.status.busy": "2020-06-04T08:03:03.745689Z",
     "iopub.status.idle": "2020-06-04T08:03:04.442344Z",
     "shell.execute_reply": "2020-06-04T08:03:04.441347Z",
     "shell.execute_reply.started": "2020-06-04T08:03:03.746686Z"
    }
   },
   "outputs": [
    {
     "name": "stdout",
     "output_type": "stream",
     "text": [
      "S=\n",
      "[[1.5 1.9]\n",
      " [0.  0.4]]\n"
     ]
    }
   ],
   "source": [
    "import numpy as np\n",
    "from scipy import linalg\n",
    "\n",
    "V = np.array([[3,3],[3,5]])\n",
    "U = np.array([[2,-2],[2,3]])\n",
    "S = np.dot(linalg.inv(U), V)\n",
    "\n",
    "np.set_printoptions(precision=3, suppress=True)  # 设置保留三位小数\n",
    "print('S=\\n{}'.format(S))"
   ]
  },
  {
   "cell_type": "markdown",
   "metadata": {
    "execution": {
     "iopub.execute_input": "2020-06-04T08:15:25.442806Z",
     "iopub.status.busy": "2020-06-04T08:15:25.442806Z",
     "iopub.status.idle": "2020-06-04T08:15:25.446795Z",
     "shell.execute_reply": "2020-06-04T08:15:25.446795Z",
     "shell.execute_reply.started": "2020-06-04T08:15:25.442806Z"
    }
   },
   "source": [
    "<br/>"
   ]
  },
  {
   "cell_type": "markdown",
   "metadata": {},
   "source": [
    "#### **2.【计算题】任意基间的转换** \n",
    "**令$E=[(2,4)^T, (3,4)^T]$，并令$u=(5,4)^T,v=(2,3)^T$。计算$[u]_E, [v]_E$。**\n",
    "\n",
    "- **Python实现**\n",
    "\n",
    "```python\n",
    "import numpy as np\n",
    "from scipy import linalg\n",
    "\n",
    "E = np.array(____(1)____)\n",
    "u = np.array([[5],[4]])\n",
    "v = np.array([[2],[3]])\n",
    "\n",
    "np.set_printoptions(precision=3, suppress=True)  # 设置保留三位小数\n",
    "print('uE=\\n{}'.format(____(2)____)\n",
    "print('vE=\\n{}'.format(____(3)____)\n",
    "```"
   ]
  },
  {
   "cell_type": "markdown",
   "metadata": {},
   "source": [
    "##### **答案及解析**"
   ]
  },
  {
   "cell_type": "markdown",
   "metadata": {},
   "source": [
    "```python\n",
    "(1) [[2,3],[4,4]]\n",
    "(2) np.dot(linalg.inv(E), u)\n",
    "(2) np.dot(linalg.inv(E), v)\n",
    "```\n",
    "\n",
    "**问题分析**：从标准基$[e_1, e_2]$到特定基$[u_1, u_2]$的基底变换（坐标变换）。根据坐标变换公式，基坐标$x = Uc$，我们可以得到从标准基坐标向特定基坐标的变换公式：$c=U^{-1} x$，其中, $U^{-1}$就是标准基$[e_1, e_2]$到特定基$[u_1, u_2]$的转移矩阵。\n",
    "\n",
    "1). $[u]_E=E^{-1} u = \\begin{bmatrix} 2 & 3 \\\\ 4 & 4 \\end{bmatrix}^{-1} \\begin{bmatrix} 5 \\\\ 4 \\end{bmatrix}$\n",
    "\n",
    "2). $[v]_E=E^{-1} v = \\begin{bmatrix} 2 & 3 \\\\ 4 & 4 \\end{bmatrix}^{-1} \\begin{bmatrix} 2 \\\\ 3 \\end{bmatrix}$"
   ]
  },
  {
   "cell_type": "code",
   "execution_count": 5,
   "metadata": {
    "execution": {
     "iopub.execute_input": "2020-06-04T09:12:22.064639Z",
     "iopub.status.busy": "2020-06-04T09:12:22.063642Z",
     "iopub.status.idle": "2020-06-04T09:12:22.074611Z",
     "shell.execute_reply": "2020-06-04T09:12:22.074611Z",
     "shell.execute_reply.started": "2020-06-04T09:12:22.064639Z"
    }
   },
   "outputs": [
    {
     "name": "stdout",
     "output_type": "stream",
     "text": [
      "uE=\n",
      "[[-2.]\n",
      " [ 3.]]\n",
      "vE=\n",
      "[[0.25]\n",
      " [0.5 ]]\n"
     ]
    }
   ],
   "source": [
    "import numpy as np\n",
    "from scipy import linalg\n",
    "\n",
    "E = np.array([[2,3],[4,4]])\n",
    "u = np.array([[5],[4]])\n",
    "v = np.array([[2],[3]])\n",
    "\n",
    "np.set_printoptions(precision=3, suppress=True)  # 设置保留三位小数\n",
    "print('uE=\\n{}'.format(np.dot(linalg.inv(E), u)))\n",
    "print('vE=\\n{}'.format(np.dot(linalg.inv(E), v)))"
   ]
  },
  {
   "cell_type": "markdown",
   "metadata": {
    "execution": {
     "iopub.execute_input": "2020-06-04T08:15:25.442806Z",
     "iopub.status.busy": "2020-06-04T08:15:25.442806Z",
     "iopub.status.idle": "2020-06-04T08:15:25.446795Z",
     "shell.execute_reply": "2020-06-04T08:15:25.446795Z",
     "shell.execute_reply.started": "2020-06-04T08:15:25.442806Z"
    }
   },
   "source": [
    "<br/>"
   ]
  },
  {
   "cell_type": "markdown",
   "metadata": {},
   "source": [
    "#### **3.【计算题】任意基间的基底变换** \n",
    "**令$v_1=(1,3,5)^T, v_2=(2,4,6)^T, v_3=(2,5,3)^T$，并令$u_1=(9,-7,6)^T, u_2=(8,6,-3)^T, u_3=(-2,4,6)^T$，求：   \n",
    "(1). 求从有序基$[v_1, v_2, v_3]$到有序基$[u_1, u_2, u_3]$的转移矩阵。  \n",
    "(2). 若$x=3v_1 + 2v_2 - 4v_3$，确定向量$x$相应于$u_1,u_2,u_3$的坐标。**  \n",
    "\n",
    "- **Python实现**\n",
    "\n",
    "```python\n",
    "import numpy as np\n",
    "from scipy import linalg\n",
    "\n",
    "U = np.array([[9,8,-2],[-7,6,4],[6,-3,6]])\n",
    "V = np.array([[1,2,2],[3,4,5],[5,6,3]])\n",
    "xv = np.array(____(1)____)\n",
    "\n",
    "S = ____(2)____\n",
    "xu = ____(3)____\n",
    "\n",
    "np.set_printoptions(precision=3, suppress=True)  # 设置保留三位小数\n",
    "print('S=\\n {}'.format(S))\n",
    "print('xu=\\n{}'.format(xu))\n",
    "```"
   ]
  },
  {
   "cell_type": "markdown",
   "metadata": {},
   "source": [
    "##### **答案及解析**"
   ]
  },
  {
   "cell_type": "markdown",
   "metadata": {},
   "source": [
    "```python\n",
    "(1) [[3],[2],[-4]]\n",
    "(2) np.dot(linalg.inv(U),V)\n",
    "(2) np.dot(S,xv)\n",
    "```\n",
    "\n",
    "**问题分析**：从有序基$[v_1, v_2, v_3]$到有序基$[u_1, u_2, u_3]$的基底变换（坐标变换）。根据坐标变换的通用公式$Vc = Ud$，即可求得坐标和转移矩阵。\n",
    "\n",
    "(1). 要获得$v$到$u$的转移矩阵，实际上就是将$v$到$e$和$e$到$u$的转移矩阵进行合成，那么可以得到：\n",
    "\n",
    "$S = U^{-1} V = \\begin{bmatrix} 9 & 8 & -2 \\\\ -7 & 6 & 4 \\\\ 6 & -3 & 6 \\end{bmatrix} ^{-1} \\begin{bmatrix} 1 & 2 & 2 \\\\ 3 & 4 & 5 \\\\ 5 & 6 & 3 \\end{bmatrix} $\n",
    "\n",
    "(2). 基于$v$的坐标$x$转换为基于$u$的坐标，可以通过通用公式的变形获得，即：\n",
    "\n",
    "$Vc = Ud => d = U^{-1} V c\n",
    "=> x_{new} = U^{-1} V x = Sx = S \\begin{bmatrix} 3 \\\\ 2 \\\\ -4 \\end{bmatrix}$"
   ]
  },
  {
   "cell_type": "code",
   "execution_count": 1,
   "metadata": {
    "execution": {
     "iopub.execute_input": "2020-06-04T15:02:30.083408Z",
     "iopub.status.busy": "2020-06-04T15:02:30.082912Z",
     "iopub.status.idle": "2020-06-04T15:02:30.555602Z",
     "shell.execute_reply": "2020-06-04T15:02:30.554609Z",
     "shell.execute_reply.started": "2020-06-04T15:02:30.083408Z"
    }
   },
   "outputs": [
    {
     "name": "stdout",
     "output_type": "stream",
     "text": [
      "S=\n",
      " [[0.143 0.194 0.018]\n",
      " [0.156 0.267 0.4  ]\n",
      " [0.768 0.939 0.682]]\n",
      "xu=\n",
      "[[ 0.745]\n",
      " [-0.6  ]\n",
      " [ 1.455]]\n"
     ]
    }
   ],
   "source": [
    "import numpy as np\n",
    "from scipy import linalg\n",
    "\n",
    "U = np.array([[9,8,-2],[-7,6,4],[6,-3,6]])\n",
    "V = np.array([[1,2,2],[3,4,5],[5,6,3]])\n",
    "xv = np.array([[3],[2],[-4]])\n",
    "\n",
    "S = np.dot(linalg.inv(U),V)\n",
    "xu = np.dot(S,xv)\n",
    "\n",
    "np.set_printoptions(precision=3, suppress=True)  # 设置保留三位小数\n",
    "print('S=\\n {}'.format(S))\n",
    "print('xu=\\n{}'.format(xu))"
   ]
  },
  {
   "cell_type": "markdown",
   "metadata": {
    "execution": {
     "iopub.execute_input": "2020-06-04T08:15:25.442806Z",
     "iopub.status.busy": "2020-06-04T08:15:25.442806Z",
     "iopub.status.idle": "2020-06-04T08:15:25.446795Z",
     "shell.execute_reply": "2020-06-04T08:15:25.446795Z",
     "shell.execute_reply.started": "2020-06-04T08:15:25.442806Z"
    }
   },
   "source": [
    "<br/>"
   ]
  },
  {
   "cell_type": "markdown",
   "metadata": {},
   "source": [
    "#### **4.【计算题】任意基间的转移矩阵** \n",
    "**给定$v_1=\\begin{bmatrix} 3 \\\\ 5 \\end{bmatrix}, v_2=\\begin{bmatrix} -3 \\\\ -4 \\end{bmatrix}, S = \\begin{bmatrix} 2 & -2 \\\\ 3 & 5 \\end{bmatrix}$，求：$u_1, u_2$，使得$S$为从$[v_1, v_2]$到$[u_1, u_2]$的转移矩阵。**  \n",
    "\n",
    "- **Python实现**\n",
    "\n",
    "```python\n",
    "import numpy as np\n",
    "from scipy import linalg\n",
    "\n",
    "S =  ____(1)____\n",
    "V = np.array([[3,-3],[5,-4]])\n",
    "U =  ____(2)____\n",
    "\n",
    "np.set_printoptions(precision=3, suppress=True)  # 设置保留三位小数\n",
    "print('U1=\\n {}'.format(U[:,0]))\n",
    "print('U2=\\n {}'.format(U[:,1]))\n",
    "```"
   ]
  },
  {
   "cell_type": "markdown",
   "metadata": {},
   "source": [
    "##### **答案及解析**"
   ]
  },
  {
   "cell_type": "markdown",
   "metadata": {},
   "source": [
    "```python\n",
    "(1) np.array([[2,-2],[3,5]])\n",
    "(2) np.dot(V, linalg.inv(S))\n",
    "```\n",
    "\n",
    "**问题分析**：从特定基$[u_1, u_2]$到特定基$[v_1, v_2]$的基底变换（坐标变换）。由于S是v到u的转移矩阵，所以有$S=U^{-1} V$，由此可以得到$V=US => U=VS^{-1}$\n",
    "\n",
    "$U = VS^{-1} = \\begin{bmatrix} 3 & -3 \\\\ 5 & -4 \\end{bmatrix} \\begin{bmatrix} 2 & -2 \\\\ 3 & 5 \\end{bmatrix} ^{-1}$\n"
   ]
  },
  {
   "cell_type": "code",
   "execution_count": 12,
   "metadata": {
    "execution": {
     "iopub.execute_input": "2020-06-04T15:22:57.328876Z",
     "iopub.status.busy": "2020-06-04T15:22:57.328876Z",
     "iopub.status.idle": "2020-06-04T15:22:57.335820Z",
     "shell.execute_reply": "2020-06-04T15:22:57.335323Z",
     "shell.execute_reply.started": "2020-06-04T15:22:57.328876Z"
    }
   },
   "outputs": [
    {
     "name": "stdout",
     "output_type": "stream",
     "text": [
      "U1=\n",
      " [1.5   2.312]\n",
      "U2=\n",
      " [0.    0.125]\n"
     ]
    }
   ],
   "source": [
    "import numpy as np\n",
    "from scipy import linalg\n",
    "\n",
    "S = np.array([[2,-2],[3,5]])\n",
    "V = np.array([[3,-3],[5,-4]])\n",
    "U = np.dot(V, linalg.inv(S))\n",
    "\n",
    "np.set_printoptions(precision=3, suppress=True)  # 设置保留三位小数\n",
    "print('U1=\\n {}'.format(U[:,0]))\n",
    "print('U2=\\n {}'.format(U[:,1]))"
   ]
  }
 ],
 "metadata": {
  "kernelspec": {
   "display_name": "Python 3",
   "language": "python",
   "name": "python3"
  },
  "language_info": {
   "codemirror_mode": {
    "name": "ipython",
    "version": 3
   },
   "file_extension": ".py",
   "mimetype": "text/x-python",
   "name": "python",
   "nbconvert_exporter": "python",
   "pygments_lexer": "ipython3",
   "version": "3.7.7"
  }
 },
 "nbformat": 4,
 "nbformat_minor": 4
}
