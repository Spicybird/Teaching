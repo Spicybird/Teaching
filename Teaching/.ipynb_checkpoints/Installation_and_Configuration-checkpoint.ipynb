{
 "cells": [
  {
   "cell_type": "markdown",
   "metadata": {},
   "source": [
    "# Python机器学习环境的安装和配置"
   ]
  },
  {
   "cell_type": "markdown",
   "metadata": {},
   "source": [
    "## **一、安装和配置Python环境**\n",
    "### **1. 极简Python环境安装和配置**\n",
    "&emsp;&emsp;该安装配置模式适用于仅需要完成《程序设计基础（Python）》课程的同学，对于需要学习其他Python和AI相关课程的同学，建议参看 **“2.标准Python环境安装和配置”**。\n",
    "### 1.1 安装Python环境\n",
    "a. 访问Python官网并下载最新版Python，URL: https://www.python.org/\n",
    "\n",
    "b. 双击并运行安装，勾选【Add Python 3.8 to PATH】\n",
    "### 1.2 测试Python环境\n",
    "方法一：打开IDLE交互环境，并执行下列指令进行测试\n",
    "\n",
    "方法二：打开IDLE文件编辑器，并输入下列代码并运行"
   ]
  },
  {
   "cell_type": "code",
   "execution_count": 1,
   "metadata": {},
   "outputs": [
    {
     "name": "stdout",
     "output_type": "stream",
     "text": [
      "Hello World!\n"
     ]
    }
   ],
   "source": [
    "print(\"Hello World!\")"
   ]
  },
  {
   "cell_type": "markdown",
   "metadata": {},
   "source": [
    "### 1.3 安装课程所需要的其他库文件\n",
    "- **安装jieba库**"
   ]
  },
  {
   "cell_type": "markdown",
   "metadata": {},
   "source": [
    "`>> pip install jieba`"
   ]
  },
  {
   "cell_type": "markdown",
   "metadata": {},
   "source": [
    "- **安装wordcloud词云库**"
   ]
  },
  {
   "cell_type": "markdown",
   "metadata": {},
   "source": [
    "`>> pip install wordcloud`"
   ]
  },
  {
   "cell_type": "markdown",
   "metadata": {},
   "source": [
    "## **2. 标准Python环境安装和配置**\n",
    "### 2.1 Python环境的安装与配置\n",
    "- 推荐安装Anaconda，因为Anaconda包含了大量的Python库函数，为了方便后续的使用，建议使用Anaconda封装版的Python。\n",
    "- URL：https://www.anaconda.com/\n",
    "- 安装过程较为简单，但后续需要安装各种库时，均需要打开【Anaconda Prompt (Anaconda3)】命令提示行进行安装。\n",
    "\n",
    "### 2.2 Visual Studio Code (VSCode) 编程环境的安装与配置\n",
    "#### 2.2.1 VSCode的安装\n",
    "- VSCode是当今最流行的集成开发环境，不仅适用于Python，也同样适用于Html+CSS和Javascript的开发。\n",
    "- 最新版本1.39，URL：https://code.visualstudio.com/\n",
    "\n",
    "#### 2.2.2 VSCode的配置 (可选)\n",
    "&emsp;&emsp;VSCode的强大之处来源于各种插件，下面将推荐一些常用及好用的插件。安装时，首先打开左边的【Extensions】标签，或按快捷键【Ctrl+Shift+X】打开插件管理界面。输入插件名称，并点击插件旁的【Install】按钮。\n",
    "\n",
    "- **自动同步配置**\n",
    "    - 插件名：【Settings Sync】   \n",
    "    - 使用方法：【Alt+Shift+U/D】（上传/下载）    \n",
    "    - Settings Sync插件的使用，需要配合Github使用，此处不再累赘介绍该插件的安装方法，各位可以自行【百度】。    \n",
    "    - 配置好【Settings Sync】后，后续的所有安装和配置，基本上就只需要执行一次，将来可以直接使用【Settings Sync】进行同步。同时该插件也可以实现多台计算机配置（及所有插件）的同步。\n",
    "\n",
    "\n",
    "- **中文界面**\n",
    "    - 使用快捷键【Ctrl+Shift+P】打开搜索按钮\n",
    "    - 搜索【Configure Display Language】，选择安装简体中文或直接搜索插件【Chinese (Simplified) Language Pack for Visual Studio Code】\n",
    "    - 安装完成后按照提示重启VSCode，或手动重启VSCode以激活简体中文语言包\n",
    "    \n",
    "    \n",
    "- **启用Flake8代码检测**\n",
    "    - 点击左下角【Setting】按钮，并搜索【Flake】\n",
    "    - 勾选【Python › Linting: Flake8 Enabled】\n",
    "\n",
    "\n",
    "- **有用的插件**\n",
    "    - Python开发包：Python (Microsoft)\n",
    "    - 突出显示成对的括号：Bracket Pair Colorizer 2+++\n",
    "    - 突出显示缩进：indent-rainbow、 Guides\n",
    "    - 丰富的文件夹工具包：vscode-icons\n",
    "    - 安装方法：点击左侧【Extensions】\n",
    "    \n",
    "    \n",
    "- **有用的命令**\n",
    "    - 自动格式化代码：【Alt+Shift+F】\n",
    "    \n",
    "    \n",
    "- **其他问题**\n",
    "    - 在Python调用第三方库时，pylint无法完成语法检测。\n",
    "    - 解决方法是：打开设置，搜索并编辑【settings.json】；在大括号里增加：【\"python.linting.pylintArgs\":[\"--generate-members\"]】\n",
    "\n",
    "\n",
    "### 2.3 JupyterLab 编程环境的安装与配置\n",
    "#### 2.3.1 JupyterLab的安装\n",
    "- 打开【Anaconda Prompt (Anaconda3)】并执行以下语句\n",
    "\n",
    "`>> conda install jupyterlab`\n",
    "\n",
    "- 更新JupyterLab内核\n",
    "\n",
    "`>> conda update jupyter_core jupyter_client`\n",
    "\n",
    "#### 2.3.2 JupyterLab的配置 (可选)\n",
    "- 修改JupyterLab的默认路径\n",
    "    - 生成配置文件\n",
    "    \n",
    "    `>> jupyter notebook --generate-config`\n",
    "    \n",
    "    - 编辑配置文件    \n",
    "        - 打开【C:\\Users\\计算机的用户名\\.jupyter\\jupyter_notebook_config.py】\n",
    "        - 修改字段【c.NotebookApp.notebook_dir】为指定路径\n",
    "        - 其中【C:\\Users\\计算机的用户名】为Anaconda的默认路径，可以通过启动【Anaconda Prompt (Anaconda3)】查看默认地址。\n",
    "\n",
    "\n",
    "- 设置快捷打开JupyterLab \n",
    "\n",
    "&emsp;&emsp;默认情况下，打开JupyterLab，需要先打开【Anaconda Prompt (Anaconda3)】，然后在命令行中输入【jupyter lab】，此处提供几种基于批处理(*.bat)的快速打开JupyterLab的方法。\n",
    "\n",
    "a. 右键点击【Anaconda Prompt (Anaconda3)】的属性，查看【目标】字段，拷贝“/K” 后面的内容。\n",
    "\n",
    "b. 新建一个文本文件，输入以下字段\n",
    "    \n",
    "```shell\n",
    "C:\\ProgramData\\Anaconda3\\Scripts\\jupyter-lab.exe  D:\\CloudStation\\MyWebsites\\Teaching\\\n",
    "```\n",
    "\n",
    "以上JupyterLab的路径也可能会存在于User文件夹下，请根据本机的配置和路径，参照修改。\n",
    "\n",
    "```shell\n",
    "C:\\Users\\oxy\\Anaconda3\\Scripts\\jupyter-lab.exe  D:\\CloudStation\\MyWebsites\\Teaching\n",
    "```\n",
    "\n",
    "c. 另存为JupyterLab.bat\n",
    "\n",
    "d. 使用时，只需要双击该批处理(*.bat)文件即可\n",
    "    "
   ]
  },
  {
   "cell_type": "markdown",
   "metadata": {},
   "source": [
    "## **二、 机器学习必需库的安装和测试**\n",
    "&emsp;&emsp;基于Anaconda开发包安装的Python，下列的5个库都不需要进行额外安装，基于官方版的Python需要额外进行安装，请各位自行查阅安装方法。"
   ]
  },
  {
   "cell_type": "markdown",
   "metadata": {},
   "source": [
    "### **1. Numpy 基础科学计算库**\n",
    "&emsp;&emsp;Numpy是Python中最基础的科学计算库，它的功能主要包括高位数组（Array）计算、线性代数计算、傅里叶变换以及产生伪随机数等。Numpy是机器学习库scikit-learn的重要组成部分，因为机器学习库scikit-learn主要依赖于数组形式的数据来进行处理。\n",
    "\n",
    "更多信息请参考：RUNOOB站的Numpy栏目：https://www.runoob.com/numpy/numpy-tutorial.html\n",
    "\n",
    "&emsp;&emsp;以下代码用于测试和生成一个数组。"
   ]
  },
  {
   "cell_type": "code",
   "execution_count": 2,
   "metadata": {},
   "outputs": [],
   "source": [
    "# 使用import关键字引入numpy库，为了简便使用缩写 “np”来表示numpy库。\n",
    "import numpy as np\n",
    "# 定义一个变量 i, 用于保存数组\n",
    "i = np.array([[12,34,56],[78,90,11]])"
   ]
  },
  {
   "cell_type": "code",
   "execution_count": 3,
   "metadata": {},
   "outputs": [
    {
     "name": "stdout",
     "output_type": "stream",
     "text": [
      "i = \n",
      "[[12 34 56]\n",
      " [78 90 11]]\n"
     ]
    }
   ],
   "source": [
    "# 输出变量 i\n",
    "print(\"i = \\n{}\".format(i))"
   ]
  },
  {
   "cell_type": "markdown",
   "metadata": {},
   "source": [
    "### **2. Scipy 科学计算工具集**\n",
    "&emsp;&emsp;Scipy是Python中用于进行科学计算的工具集，它可以实现计算机统计学分布、信号处理、线性代数方程等功能。在机器学习中，稀疏矩阵的使用非常频繁，Scipy库中的sparse函数可以用来生成这种稀疏矩阵。稀疏矩阵用于存储那些大部分数值为0的np数组。以下代码用使用sparse()函数生成和测试稀疏矩阵。"
   ]
  },
  {
   "cell_type": "code",
   "execution_count": 4,
   "metadata": {},
   "outputs": [],
   "source": [
    "# 使用 from载入scipy库，如果直接使用 import来载入scipy库，则载入sparse函数时需要先引用scipy：scipy.sparse.csr_matrix()\n",
    "import numpy as np\n",
    "from scipy import sparse\n",
    "\n",
    "# 使用numpy的eye()函数生成一个6行6列的对角矩阵\n",
    "# 矩阵中对角线上的元素值为 1，其余元素为 0\n",
    "matrix = np.eye(6)\n",
    "\n",
    "# 将np数组转化为 CSR格式的Scipy稀疏矩阵 (sparse matrix)\n",
    "sparse_matrix = sparse.csr_matrix(matrix)"
   ]
  },
  {
   "cell_type": "code",
   "execution_count": 5,
   "metadata": {},
   "outputs": [
    {
     "name": "stdout",
     "output_type": "stream",
     "text": [
      "对角矩阵：\n",
      "[[1. 0. 0. 0. 0. 0.]\n",
      " [0. 1. 0. 0. 0. 0.]\n",
      " [0. 0. 1. 0. 0. 0.]\n",
      " [0. 0. 0. 1. 0. 0.]\n",
      " [0. 0. 0. 0. 1. 0.]\n",
      " [0. 0. 0. 0. 0. 1.]]\n"
     ]
    }
   ],
   "source": [
    "# 输出对角矩阵\n",
    "print(\"对角矩阵：\\n{}\".format(matrix))"
   ]
  },
  {
   "cell_type": "code",
   "execution_count": 6,
   "metadata": {},
   "outputs": [
    {
     "name": "stdout",
     "output_type": "stream",
     "text": [
      "CSR格式的稀疏矩阵：\n",
      "  (0, 0)\t1.0\n",
      "  (1, 1)\t1.0\n",
      "  (2, 2)\t1.0\n",
      "  (3, 3)\t1.0\n",
      "  (4, 4)\t1.0\n",
      "  (5, 5)\t1.0\n"
     ]
    }
   ],
   "source": [
    "# 输出CSR格式的稀疏矩阵\n",
    "print(\"CSR格式的稀疏矩阵：\\n{}\".format(sparse_matrix))"
   ]
  },
  {
   "cell_type": "markdown",
   "metadata": {},
   "source": [
    "### **3. Pandas 数据分析工具**\n",
    "&emsp;&emsp;Pandas是Python中进行数据分析的库，它具有以下功能\n",
    "- 生成类似Excel表格式的数据表，并对数据进行修改操作；\n",
    "- 从不同的数据源中获取数据，例如：SQL Server, Excel表格, CSV文件, Oracle等；\n",
    "- 在不同的列中使用不同的数据类型，例如：整型，浮点型，字符串型等。\n",
    "- 更多信息请参考“Pandas中文网”，URL：https://www.pypandas.cn/"
   ]
  },
  {
   "cell_type": "code",
   "execution_count": 7,
   "metadata": {},
   "outputs": [
    {
     "data": {
      "text/html": [
       "<div>\n",
       "<style scoped>\n",
       "    .dataframe tbody tr th:only-of-type {\n",
       "        vertical-align: middle;\n",
       "    }\n",
       "\n",
       "    .dataframe tbody tr th {\n",
       "        vertical-align: top;\n",
       "    }\n",
       "\n",
       "    .dataframe thead th {\n",
       "        text-align: right;\n",
       "    }\n",
       "</style>\n",
       "<table border=\"1\" class=\"dataframe\">\n",
       "  <thead>\n",
       "    <tr style=\"text-align: right;\">\n",
       "      <th></th>\n",
       "      <th>姓名</th>\n",
       "      <th>归属国</th>\n",
       "      <th>年龄</th>\n",
       "      <th>武力值</th>\n",
       "    </tr>\n",
       "  </thead>\n",
       "  <tbody>\n",
       "    <tr>\n",
       "      <td>0</td>\n",
       "      <td>张飞</td>\n",
       "      <td>蜀国</td>\n",
       "      <td>33</td>\n",
       "      <td>98</td>\n",
       "    </tr>\n",
       "    <tr>\n",
       "      <td>1</td>\n",
       "      <td>赵云</td>\n",
       "      <td>蜀国</td>\n",
       "      <td>28</td>\n",
       "      <td>97</td>\n",
       "    </tr>\n",
       "    <tr>\n",
       "      <td>2</td>\n",
       "      <td>夏侯惇</td>\n",
       "      <td>魏国</td>\n",
       "      <td>32</td>\n",
       "      <td>94</td>\n",
       "    </tr>\n",
       "    <tr>\n",
       "      <td>3</td>\n",
       "      <td>太史慈</td>\n",
       "      <td>吴国</td>\n",
       "      <td>30</td>\n",
       "      <td>92</td>\n",
       "    </tr>\n",
       "  </tbody>\n",
       "</table>\n",
       "</div>"
      ],
      "text/plain": [
       "    姓名 归属国  年龄 武力值\n",
       "0   张飞  蜀国  33  98\n",
       "1   赵云  蜀国  28  97\n",
       "2  夏侯惇  魏国  32  94\n",
       "3  太史慈  吴国  30  92"
      ]
     },
     "metadata": {},
     "output_type": "display_data"
    }
   ],
   "source": [
    "# 使用import关键字引入pandas库，为了简便使用缩写 “pd”来表示pandas库。\n",
    "import pandas as pd\n",
    "\n",
    "# 使用字典数据类型创建一个数据表，并用pandas库的DataFrame数据结构进行显示\n",
    "data = {\"姓名\":[\"张飞\",\"赵云\",\"夏侯惇\",\"太史慈\"],\n",
    "        \"归属国\":[\"蜀国\",\"蜀国\",\"魏国\",\"吴国\"],\n",
    "        \"年龄\":[\"33\",\"28\",\"32\",\"30\"],\n",
    "        \"武力值\":[\"98\",\"97\",\"94\",\"92\"] \n",
    "}\n",
    "data_frame = pd.DataFrame(data)\n",
    "display(data_frame)"
   ]
  },
  {
   "cell_type": "markdown",
   "metadata": {},
   "source": [
    "如果想要把一些数据段进行排除，可以使用查询语句来实现。例如，不显示“魏国”的武将信息。"
   ]
  },
  {
   "cell_type": "code",
   "execution_count": 8,
   "metadata": {},
   "outputs": [
    {
     "data": {
      "text/html": [
       "<div>\n",
       "<style scoped>\n",
       "    .dataframe tbody tr th:only-of-type {\n",
       "        vertical-align: middle;\n",
       "    }\n",
       "\n",
       "    .dataframe tbody tr th {\n",
       "        vertical-align: top;\n",
       "    }\n",
       "\n",
       "    .dataframe thead th {\n",
       "        text-align: right;\n",
       "    }\n",
       "</style>\n",
       "<table border=\"1\" class=\"dataframe\">\n",
       "  <thead>\n",
       "    <tr style=\"text-align: right;\">\n",
       "      <th></th>\n",
       "      <th>姓名</th>\n",
       "      <th>归属国</th>\n",
       "      <th>年龄</th>\n",
       "      <th>武力值</th>\n",
       "    </tr>\n",
       "  </thead>\n",
       "  <tbody>\n",
       "    <tr>\n",
       "      <td>0</td>\n",
       "      <td>张飞</td>\n",
       "      <td>蜀国</td>\n",
       "      <td>33</td>\n",
       "      <td>98</td>\n",
       "    </tr>\n",
       "    <tr>\n",
       "      <td>1</td>\n",
       "      <td>赵云</td>\n",
       "      <td>蜀国</td>\n",
       "      <td>28</td>\n",
       "      <td>97</td>\n",
       "    </tr>\n",
       "    <tr>\n",
       "      <td>3</td>\n",
       "      <td>太史慈</td>\n",
       "      <td>吴国</td>\n",
       "      <td>30</td>\n",
       "      <td>92</td>\n",
       "    </tr>\n",
       "  </tbody>\n",
       "</table>\n",
       "</div>"
      ],
      "text/plain": [
       "    姓名 归属国  年龄 武力值\n",
       "0   张飞  蜀国  33  98\n",
       "1   赵云  蜀国  28  97\n",
       "3  太史慈  吴国  30  92"
      ]
     },
     "metadata": {},
     "output_type": "display_data"
    }
   ],
   "source": [
    "# 使用 “不等于 !=” 操作符排除字段中包含特定值的数据\n",
    "display(data_frame[data_frame.归属国 != \"魏国\"])"
   ]
  },
  {
   "cell_type": "markdown",
   "metadata": {},
   "source": [
    "### **4. Matplotlib 绘图库**\n",
    "&emsp;&emsp;matplotlib是Python中最重要的绘图库，它可以生成出版质量级别的图形，包括折线图、散点图、直方图等。\n",
    "- 具体信息可以参考RUNOOB的matplotlib板块：https://www.runoob.com/w3cnote/matplotlib-tutorial.html\n",
    "- 英语不错的同学，可以直接访问matplotlib项目页：http://matplotlib.org\n",
    "\n",
    "以下代码用于生成一个表达式为：$y=x^3+2x^2+6x+5$ 的曲线图。"
   ]
  },
  {
   "cell_type": "code",
   "execution_count": 9,
   "metadata": {},
   "outputs": [
    {
     "data": {
      "text/plain": [
       "[<matplotlib.lines.Line2D at 0x1f484c4dc48>]"
      ]
     },
     "execution_count": 9,
     "metadata": {},
     "output_type": "execute_result"
    },
    {
     "data": {
      "image/png": "[encoded data removed]",
      "text/plain": [
       "<Figure size 432x288 with 1 Axes>"
      ]
     },
     "metadata": {
      "needs_background": "light"
     },
     "output_type": "display_data"
    }
   ],
   "source": [
    "# 通过inline指令，实现在Jupyter中的实时绘图功能\n",
    "%matplotlib inline\n",
    "\n",
    "# 使用import关键字引入matplotlib库，为了简便使用缩写 “plt”来表示matplotlib库。\n",
    "import matplotlib.pyplot as plt\n",
    "\n",
    "# 使用linspace()函数生成一个-20到20，元素个数为10的等差数列。\n",
    "# 令数列中的值为 x, 并根据表达式计算对应的 y值。\n",
    "x = np.linspace(-20, 20, 10)\n",
    "y = x**3 + 2*x**2 + 6*x + 5\n",
    "\n",
    "#使用plot()函数绘制出曲线图\n",
    "plt.plot(x, y, marker = \"o\")"
   ]
  },
  {
   "cell_type": "markdown",
   "metadata": {},
   "source": [
    "以下代码为使用Matplotlib函数生成直方图"
   ]
  },
  {
   "cell_type": "code",
   "execution_count": 10,
   "metadata": {},
   "outputs": [
    {
     "data": {
      "image/png": "[encoded data removed]",
      "text/plain": [
       "<Figure size 432x288 with 1 Axes>"
      ]
     },
     "metadata": {
      "needs_background": "light"
     },
     "output_type": "display_data"
    }
   ],
   "source": [
    "# 通过inline指令，实现在Jupyter中的实时绘图功能\n",
    "%matplotlib inline\n",
    "import matplotlib.pyplot as plt\n",
    "\n",
    "plt.figure(1)\n",
    "x_index = np.arange(5)   #柱的索引\n",
    "x_data = ('A', 'B', 'C', 'D', 'E')\n",
    "y1_data = (20, 35, 30, 35, 27)\n",
    "y2_data = (25, 32, 34, 20, 25)\n",
    "bar_width = 0.3   #定义一个数字代表每个独立柱的宽度\n",
    "\n",
    "# 使用 bar()函数定义柱状图的各个参数，依次包括：左偏移、高度、柱宽、透明度、颜色、图例\n",
    "# 关于左偏移，不用关心每根柱的中心不中心，因为只要把刻度线设置在柱的中间就可以了\n",
    "rects1 = plt.bar(x_index, y1_data, width=bar_width,alpha=0.4, color='b',label='legend1')          \n",
    "rects2 = plt.bar(x_index + bar_width, y2_data, width=bar_width,alpha=0.5,color='r',label='legend2') \n",
    "\n",
    "# 使用 xticks() 函数设置x轴的刻度线\n",
    "plt.xticks(x_index + bar_width/2, x_data)\n",
    "plt.legend() #显示图例\n",
    "plt.show()"
   ]
  },
  {
   "cell_type": "markdown",
   "metadata": {},
   "source": [
    "### **5. scikit-learn 机器学习库**\n",
    "&emsp;&emsp;scikit-learn是Python中最重要的机器学习模块之一。它基于Scipy库，在不同的领域中已经发展出大量基于Scipy的工具包，它们被统一称为Scikits，其中最著名的一个分支就是scikit-learn。它包含众多的机器学习算法，主要分为六大类：分类、回归、聚类、数据降维、模型选择和数据预处理。下列给出一个使用scikit-learn进行分类的简单例子。在下例中会随机生成包含300个具有两种属性数据的数据集，然后利用简单的SVM分类器实现分类。"
   ]
  },
  {
   "cell_type": "markdown",
   "metadata": {},
   "source": [
    "1. 加载分类模型和可视化模块所需要的库文件"
   ]
  },
  {
   "cell_type": "code",
   "execution_count": 11,
   "metadata": {},
   "outputs": [],
   "source": [
    "# 载入基础科学计算库 numpy\n",
    "import numpy as np\n",
    "# 载入可视化数据的模块 matplotlib\n",
    "import matplotlib.pyplot as plt \n",
    "\n",
    "# 从scikit-learn 库中载入预处理模块, 数据生成模块, 数据分割模块(划分为训练集和测试集)和 支持向量机SVM的Support Vector Classifier分类模块\n",
    "from sklearn.datasets.samples_generator import make_classification \n",
    "from sklearn import preprocessing \n",
    "from sklearn.model_selection import train_test_split\n",
    "from sklearn.svm import SVC"
   ]
  },
  {
   "cell_type": "markdown",
   "metadata": {},
   "source": [
    "2. 生成数据集"
   ]
  },
  {
   "cell_type": "code",
   "execution_count": 12,
   "metadata": {},
   "outputs": [],
   "source": [
    "# 生成300个具有2种属性的数据\n",
    "X, y = make_classification(n_samples=300, n_features=2, \n",
    "                           n_redundant=0, n_informative=2, \n",
    "                           random_state=22, n_clusters_per_class=1, \n",
    "                           scale=100)"
   ]
  },
  {
   "cell_type": "markdown",
   "metadata": {},
   "source": [
    "3. 可视化数据并计算分类精度"
   ]
  },
  {
   "cell_type": "code",
   "execution_count": 13,
   "metadata": {},
   "outputs": [
    {
     "data": {
      "image/png": "[encoded data removed]",
      "text/plain": [
       "<Figure size 432x288 with 1 Axes>"
      ]
     },
     "metadata": {
      "needs_background": "light"
     },
     "output_type": "display_data"
    },
    {
     "name": "stdout",
     "output_type": "stream",
     "text": [
      "0.9666666666666667\n"
     ]
    }
   ],
   "source": [
    "#可视化数据\n",
    "plt.scatter(X[:, 0], X[:, 1], c=y)\n",
    "plt.show()\n",
    "\n",
    "# 实现数据的正则化，可以有效提高分类精度\n",
    "X = preprocessing.scale(X)\n",
    "\n",
    "# 使用 train_test_split() 函数，将样本分割为 train训练集和 test测试集，其中测试集数量为 30%\n",
    "X_train, X_test, y_train, y_test = train_test_split(X, y, test_size=0.3)\n",
    "\n",
    "# 定义SVC的核函数\n",
    "clf = SVC(gamma = \"auto\")\n",
    "\n",
    "# 使用fit()函数对模型进行训练\n",
    "clf.fit(X_train, y_train)\n",
    "\n",
    "# 使用 test测试集输出测试准确率\n",
    "print(clf.score(X_test, y_test))"
   ]
  }
 ],
 "metadata": {
  "kernelspec": {
   "display_name": "Python 3",
   "language": "python",
   "name": "python3"
  },
  "language_info": {
   "codemirror_mode": {
    "name": "ipython",
    "version": 3
   },
   "file_extension": ".py",
   "mimetype": "text/x-python",
   "name": "python",
   "nbconvert_exporter": "python",
   "pygments_lexer": "ipython3",
   "version": "3.7.4"
  }
 },
 "nbformat": 4,
 "nbformat_minor": 4
}
