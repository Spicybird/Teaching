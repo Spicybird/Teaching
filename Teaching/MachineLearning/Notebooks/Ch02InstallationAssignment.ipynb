{
 "cells": [
  {
   "cell_type": "markdown",
   "metadata": {},
   "source": [
    "# 课后作业：Python机器学习环境的安装和配置\n",
    "\n",
    "**【作业提交】**\n",
    "\n",
    "将分类结果保存到文本文档进行提交，同时提交源代码。\n",
    "1. 测试结果命名为: ex01-结果图01-你的学号-你的姓名.png, ex01-结果图02-你的学号-你的姓名.png\n",
    "2. 源代码命名为: ex01-01-你的学号-你的姓名.py, ex01-02-你的学号-你的姓名.py, ex01-03-你的学号-你的姓名.py\n",
    "\n",
    "<font color=\"red\">*结果文件，要求每小题标注题号，两题之间要求空一行*</font>\n",
    "___\n",
    "\n",
    "要求完成以下几个作业：\n",
    "- 利用pandas库和字典完成以下习题（ex01-01）\n",
    "- 利用matplotlib库绘制如下图（1）使用代码生成一个表达式为：$y=2x^2-3x^4+6x-3$ 的曲线图。（ex01-02,  ex01-结果图01）\n",
    "- 利用matplotlib库绘制如下图（2）生成直方图（ex01-03,  ex01-结果图02）\n",
    "\n",
    "#### **一. 利用pandas库和字典完成以下习题**\n",
    "\n",
    "##### 1. 生成如下表格"
   ]
  },
  {
   "cell_type": "markdown",
   "metadata": {},
   "source": [
    "<font style=\"float:left;\">\n",
    "    \n",
    "||姓名|国家|学号|语文|数学|英语|科学|历史\n",
    ":-:|:-:|:-:|:-:|:-:|:-:|:-:|:-:|:-:\n",
    "0|拿破仑|地球联盟|2019001|33|98|33|98|94\n",
    "1|哥德巴赫|黑暗祭祀|2019002|28|97|28|97|57\n",
    "2|秦始皇|地球联盟|2019003|32|94|32|94|96\n",
    "3|凯撒|黑暗祭祀|2019004|30|92|30|92|98\n",
    "4|耶稣|地球联盟|2019005|99|100|97|98|91\n",
    "    \n",
    "</font>\n"
   ]
  },
  {
   "cell_type": "markdown",
   "metadata": {},
   "source": [
    "##### 2. 通过对表格的操作，获得以下几个结果\n",
    "\n",
    " (1) 获取国家不等于“地球联盟”的数据\n",
    "\n",
    " (2) 获取学号等于2019003的数据\n",
    "\n",
    " (3)获取数学成绩大于95的同学的数据\n",
    "\n",
    " (4) 获取历史成绩大于60，同时属于“黑暗祭祀”的同学的信息\n",
    "\n",
    "\n",
    "#### **二. 利用matplotlib库绘制如下图**\n",
    "\n",
    "##### 1. 使用代码生成一个表达式为：$y=2x^2-3x^4+6x-3$ 的曲线图。\n",
    "\n",
    "自变量x的取值范围为：(-20, 20, 10)\n",
    "\n",
    "##### 2. 生成直方图\n",
    "\n",
    "直方图应包含6个序列，每个序列3种类型的特征，取值如下：\n",
    "\n",
    "```python\n",
    "x_data = ('China', 'America', 'Japan', 'Germany', 'France', 'Italy')\n",
    "y1_data = (120, 325, 310, 235, 227, 256)\n",
    "y2_data = (225, 312, 314, 221, 253, 341)\n",
    "y3_data = (232, 332, 222, 241, 190, 299)\n",
    "```"
   ]
  },
  {
   "cell_type": "code",
   "execution_count": null,
   "metadata": {},
   "outputs": [],
   "source": []
  }
 ],
 "metadata": {
  "kernelspec": {
   "display_name": "Python 3",
   "language": "python",
   "name": "python3"
  },
  "language_info": {
   "codemirror_mode": {
    "name": "ipython",
    "version": 3
   },
   "file_extension": ".py",
   "mimetype": "text/x-python",
   "name": "python",
   "nbconvert_exporter": "python",
   "pygments_lexer": "ipython3",
   "version": "3.7.4"
  },
  "toc-autonumbering": false
 },
 "nbformat": 4,
 "nbformat_minor": 4
}
