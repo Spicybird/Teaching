{
 "cells": [
  {
   "cell_type": "markdown",
   "metadata": {},
   "source": [
    "## learning_curve() 函数"
   ]
  },
  {
   "cell_type": "markdown",
   "metadata": {},
   "source": [
    "learning_curve()函数是sklearn机器学习包中的一个函数"
   ]
  },
  {
   "cell_type": "code",
   "execution_count": 3,
   "metadata": {},
   "outputs": [],
   "source": [
    "from sklearn.model_selection import learning_curve, KFold"
   ]
  },
  {
   "cell_type": "markdown",
   "metadata": {},
   "source": [
    "函数的调用格式："
   ]
  },
  {
   "cell_type": "raw",
   "metadata": {},
   "source": [
    "training_set_size, train_scores, test_scores = learning_curve(estimator, \n",
    "            X, \n",
    "            y, \n",
    "            train_sizes = array([ 0.1  ,  0.325,  0.55 ,  0.775,  1.   ]), \n",
    "            cv = None, \n",
    "            scoring = None, \n",
    "            exploit_incremental_learning = False, \n",
    "            n_jobs = 1, \n",
    "            pre_dispatch = 'all', \n",
    "            verbose = 0)"
   ]
  },
  {
   "cell_type": "markdown",
   "metadata": {},
   "source": [
    "#### 参数解释：\n",
    "\n",
    "- **estimator**：所使用的分类器\n",
    "\n",
    "- **X**: array-like, shape (n_samples, n_features)  训练向量，n_samples是样本的数量，n_features是特征的数量\n",
    "\n",
    "- **y**: array-like, shape (n_samples) or (n_samples, n_features), optional。 目标相对于X分类或者回归\n",
    "\n",
    "- **train_sizes**: array-like, shape (n_ticks,), dtype float or int。 训练样本的相对的或绝对的数字，这些量的样本将会生成learning curve。如果dtype是float，他将会被视为最大数量训练集的一部分（这个由所选择的验证方法所决定）。否则，他将会被视为训练集的绝对尺寸。要注意的是，对于分类而言，样本的大小必须要充分大，达到对于每一个分类都至少包含一个样本的情况。\n",
    "\n",
    "- **cv**: int, cross-validation generator or an iterable, optional。 确定交叉验证的分离策略\n",
    "    - None，使用默认的3-fold cross-validation；\n",
    "    - integer,确定是几折交叉验证；\n",
    "    - 一个作为交叉验证生成器的对象；\n",
    "    - 一个被应用于训练/测试分离的迭代器\n",
    "\n",
    "- **verbose** : integer, optional。控制冗余：越高，有越多的信息"
   ]
  },
  {
   "cell_type": "markdown",
   "metadata": {},
   "source": [
    "#### 返回值：\n",
    "\n",
    "- **train_sizes_abs**: array, shape = (n_unique_ticks,), dtype int。用于生成learning curve的训练集的样本数。由于重复的输入将会被删除，所以ticks可能会少于n_ticks.\n",
    "\n",
    "- **train_scores**: array, shape (n_ticks, n_cv_folds)。在训练集上的分数\n",
    "\n",
    "- **test_scores**: array, shape (n_ticks, n_cv_folds)。 在测试集上的分数"
   ]
  }
 ],
 "metadata": {
  "kernelspec": {
   "display_name": "Python 3",
   "language": "python",
   "name": "python3"
  },
  "language_info": {
   "codemirror_mode": {
    "name": "ipython",
    "version": 3
   },
   "file_extension": ".py",
   "mimetype": "text/x-python",
   "name": "python",
   "nbconvert_exporter": "python",
   "pygments_lexer": "ipython3",
   "version": "3.7.4"
  }
 },
 "nbformat": 4,
 "nbformat_minor": 4
}
