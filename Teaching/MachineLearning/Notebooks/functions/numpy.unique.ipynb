{
 "cells": [
  {
   "cell_type": "markdown",
   "metadata": {},
   "source": [
    "## numpy.unique()"
   ]
  },
  {
   "cell_type": "markdown",
   "metadata": {},
   "source": [
    "*numpy.unique(A)* 函数可以实现去除数组A（元组或列表）中的重复元素，并按照从大到小的数据返回一个新的列表"
   ]
  },
  {
   "cell_type": "code",
   "execution_count": 1,
   "metadata": {},
   "outputs": [
    {
     "name": "stdout",
     "output_type": "stream",
     "text": [
      "[1 2 3 4]\n",
      "[1 2 3 4]\n",
      "['中华人民共和国' '中国' '中国北京' '美国']\n",
      "['1' '2' '中国']\n"
     ]
    }
   ],
   "source": [
    "import numpy as np\n",
    "\n",
    "A1 = [1, 2, 3, 3, 2, 1, 4]\n",
    "A2 = (1, 2, 3, 3, 2, 1, 4)\n",
    "uniA1 = np.unique(A1)\n",
    "uniA2 = np.unique(A2)\n",
    "\n",
    "B = [\"中国\", \"中国北京\", \"美国\", \"中国\", \"中华人民共和国\"]\n",
    "uniB = np.unique(B)\n",
    "\n",
    "C = [[1, 2], [2, 1], [\"中国\", 2]]\n",
    "uniC = np.unique(C)\n",
    "\n",
    "print(uniA1)\n",
    "print(uniA2)\n",
    "print(uniB)\n",
    "print(uniC)"
   ]
  }
 ],
 "metadata": {
  "kernelspec": {
   "display_name": "Python 3",
   "language": "python",
   "name": "python3"
  },
  "language_info": {
   "codemirror_mode": {
    "name": "ipython",
    "version": 3
   },
   "file_extension": ".py",
   "mimetype": "text/x-python",
   "name": "python",
   "nbconvert_exporter": "python",
   "pygments_lexer": "ipython3",
   "version": "3.7.4"
  }
 },
 "nbformat": 4,
 "nbformat_minor": 4
}
