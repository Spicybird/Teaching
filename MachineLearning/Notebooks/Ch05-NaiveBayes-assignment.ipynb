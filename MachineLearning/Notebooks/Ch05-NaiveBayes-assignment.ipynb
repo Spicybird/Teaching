{
 "cells": [
  {
   "cell_type": "markdown",
   "metadata": {},
   "source": [
    "# 课后作业：NaiveBayes "
   ]
  },
  {
   "cell_type": "markdown",
   "metadata": {},
   "source": [
    "<font color=\"blue\">作者：欧新宇（Xinyu OU）</font>"
   ]
  },
  {
   "cell_type": "raw",
   "metadata": {},
   "source": [
    "【作业提交】\n",
    "将分类结果保存到文本文档进行提交(写上每一题的题号和题目，然后再贴答案)，同时提交源代码。\n",
    "1. 测试结果命名为:ex05-结果-你的学号-你的姓名.txt\n",
    "2. 源代码命名为：ex05-源代码1-你的学号-你的姓名.py, ex05-源代码2-你的学号-你的姓名.py, ex05-源代码3-你的学号-你的姓名.py "
   ]
  },
  {
   "cell_type": "markdown",
   "metadata": {},
   "source": [
    "要求在 “糖尿病预测” 数据集上使用高斯 (Gaussian) 朴素贝叶斯完成以下任务，要求如下：\n",
    "1. 要求训练集和测试集的分割比例为80%:20%, 给出KNN在训练集和测试集上的分类精度\n",
    "2. 对于第79个测试样本，输出对于该样本的类别预测值，以及每个类别的预测概率\n",
    "2. 给定新样本，给出该样本的类别，以及每个类别的预测概率。\n",
    "\n",
    "样本中各个参数的值为：\n",
    "- Pregnancies: 【学号//6】\n",
    "- Glucose：【学号*3】\n",
    "- BloodPressure：【学号*2】\n",
    "- SkinThickness：【学号】\n",
    "- Insulin：【学号*4】\n",
    "- BMI：30+【学号/7】\n",
    "- DiabetesPedigreeFunction：【学号/6】\n",
    "- Age：【学号】\n",
    "\n",
    "【学号】 = 你的学号的后两位\n",
    "\n",
    "<font color=blue>提示：由于糖尿病数据集时通过pandas进行输入的，所以在进行数据操作和处理的时候，需要转换为numpy数据组，实现方法参考如下：</blue>\n",
    "\n",
    "```\n",
    "X_test = np.array(X_test)[data_id]\n",
    "```"
   ]
  }
 ],
 "metadata": {
  "kernelspec": {
   "display_name": "Python 3",
   "language": "python",
   "name": "python3"
  },
  "language_info": {
   "codemirror_mode": {
    "name": "ipython",
    "version": 3
   },
   "file_extension": ".py",
   "mimetype": "text/x-python",
   "name": "python",
   "nbconvert_exporter": "python",
   "pygments_lexer": "ipython3",
   "version": "3.7.4"
  },
  "toc-autonumbering": false
 },
 "nbformat": 4,
 "nbformat_minor": 4
}
