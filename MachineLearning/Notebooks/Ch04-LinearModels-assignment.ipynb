{
 "cells": [
  {
   "cell_type": "markdown",
   "metadata": {},
   "source": [
    "# 课后作业：广义线性模型"
   ]
  },
  {
   "cell_type": "markdown",
   "metadata": {},
   "source": [
    "<font color=\"blue\">作者：欧新宇（Xinyu OU）</font>\n"
   ]
  },
  {
   "cell_type": "raw",
   "metadata": {},
   "source": [
    "【作业提交】\n",
    "将测试结果Excel电子表格形式进行提交，同时提交源代码。\n",
    "1. 测试结果命名为:ex04-结果-你的学号-你的姓名.xls(.xlsx)\n",
    "2. 源代码命名为：ex04-源代码-你的学号-你的姓名.py"
   ]
  },
  {
   "cell_type": "markdown",
   "metadata": {},
   "source": [
    "分别使用线性回归、岭回归及套索回归对\"波士顿房价\"数据集进行回归分析，要求：\n",
    "1. 在进行数据集划分的时候，训练集占70%，测试集占30%\n",
    "2. 分别测试岭回归 $alpha = [0, 0.1, 2, 5]$ 时的准确率\n",
    "3. 分别测试套索回归 $alpha = [0.001, 0.2, 1]$ 时的准确率\n",
    "4. 分别给出训练集和测试机的得分，要求结果保留4位小数"
   ]
  },
  {
   "cell_type": "markdown",
   "metadata": {},
   "source": [
    "提示：可以编写代码输出如下结果，然后讲结果复制到Excel中，进行提交"
   ]
  },
  {
   "cell_type": "markdown",
   "metadata": {},
   "source": [
    "- 输出结果"
   ]
  },
  {
   "cell_type": "raw",
   "metadata": {},
   "source": [
    "线性回归：训练集得分: 0.7469，测试集得分: 0.7129\n",
    "岭回归(alpha=0)：训练集得分: xxxx，测试集得分: xxxx\n",
    "岭回归(alpha=0.1)：训练集得分: xxxx，测试集得分: xxxx\n",
    "岭回归(alpha=2)：训练集得分: xxxx，测试集得分: xxxx\n",
    "岭回归(alpha=5)：训练集得分: xxxx，测试集得分: xxxx\n",
    "套索回归(alpha=0.001)：训练集得分: xxxx，测试集得分: xxxx\n",
    "套索回归(alpha=0.2)：训练集得分: xxxx，测试集得分: xxxx\n",
    "套索回归(alpha=1)：训练集得分: xxxx，测试集得分: xxxx"
   ]
  },
  {
   "cell_type": "markdown",
   "metadata": {},
   "source": [
    "- 电子表格"
   ]
  },
  {
   "cell_type": "markdown",
   "metadata": {},
   "source": [
    "- | 训练集 | 测试集 \n",
    "- | - | -\n",
    "线性回归 | 0.7469 | xxxx |\n",
    "岭回归(alpha=0) | xxxx | xxxx |\n",
    "岭回归(alpha=0) | xxxx | xxxx |\n",
    "岭回归(alpha=0) | xxxx | xxxx |\n",
    "岭回归(alpha=0) | xxxx | xxxx |\n",
    "套索回归(alpha=0.001) | xxxx | xxxx |\n",
    "套索回归(alpha=0.2) | xxxx | xxxx |\n",
    "套索回归(alpha=1) | xxxx | xxxx |"
   ]
  }
 ],
 "metadata": {
  "kernelspec": {
   "display_name": "Python 3",
   "language": "python",
   "name": "python3"
  },
  "language_info": {
   "codemirror_mode": {
    "name": "ipython",
    "version": 3
   },
   "file_extension": ".py",
   "mimetype": "text/x-python",
   "name": "python",
   "nbconvert_exporter": "python",
   "pygments_lexer": "ipython3",
   "version": "3.7.4"
  },
  "toc-autonumbering": false
 },
 "nbformat": 4,
 "nbformat_minor": 4
}
