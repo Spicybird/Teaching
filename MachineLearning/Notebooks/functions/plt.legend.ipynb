{
 "cells": [
  {
   "cell_type": "markdown",
   "metadata": {},
   "source": [
    "## plt.legend()"
   ]
  },
  {
   "cell_type": "code",
   "execution_count": 1,
   "metadata": {},
   "outputs": [
    {
     "name": "stderr",
     "output_type": "stream",
     "text": [
      "No handles with labels found to put in legend.\n"
     ]
    },
    {
     "data": {
      "text/plain": [
       "<matplotlib.legend.Legend at 0x13b0721aac8>"
      ]
     },
     "execution_count": 1,
     "metadata": {},
     "output_type": "execute_result"
    }
   ],
   "source": [
    "import matplotlib.pyplot as plt\n",
    "\n",
    "# 配置参数使 matplotlib绘图工具可以显示中文\n",
    "plt.rcParams['font.sans-serif'] = [u'Microsoft YaHei']\n",
    "\n",
    "#显示图例\n",
    "# box = ax.get_position()\n",
    "# ax.set_position([box.x0, box.y0, box.width*0.8 , box.height]) #若是将图例画在坐标外边，如果放在右边，一般要给width*0.8左右的值，在上边，要给height*0.8左右的值\n",
    "plt.legend(loc='lower right', fontsize=12, frameon=True, fancybox=True, framealpha=0.2, borderpad=0.3,\n",
    "           ncol=1, markerfirst=True, markerscale=1, numpoints=1, handlelength=3.5)"
   ]
  },
  {
   "cell_type": "markdown",
   "metadata": {},
   "source": [
    "- loc:图例位置，可取(‘best’, ‘upper right’, ‘upper left’, ‘lower left’, ‘lower right’, ‘right’, ‘center left’, ‘center , right’, ‘lower center’, ‘upper center’, ‘center’) ；若是使用了bbox_to_anchor，则这项就无效了\n",
    "- fontsize： int或float或{‘xx-small’, ‘x-small’, ‘small’, ‘medium’, ‘large’, ‘x-large’, ‘xx-large’}，字体大小；\n",
    "- frameon： 是否显示图例边框，\n",
    "- ncol： 图例的列的数量，默认为1,\n",
    "- title: 为图例添加标题\n",
    "- shadow: 是否为图例边框添加阴影,\n",
    "- markerfirst: True表示图例标签在句柄右侧，false反之，\n",
    "- markerscale： 图例标记为原图标记中的多少倍大小，\n",
    "- numpoints: 表示图例中的句柄上的标记点的个数，一般设为1,\n",
    "- fancybox: 是否将图例框的边角设为圆形\n",
    "- framealpha: 控制图例框的透明度\n",
    "- borderpad: 图例框内边距\n",
    "- labelspacing: 图例中条目之间的距离\n",
    "- handlelength: 图例句柄的长度\n",
    "- bbox_to_anchor: (横向看右，纵向看下),如果要自定义图例位置或者将图例画在坐标外边，用它，比如bbox_to_anchor=(1.4,0.8)，这个一般配合着ax.get_position()，set_position([box.x0, box.y0, box.width*0.8 , box.height])使用用不到的参数可以直接去掉,有的参数没写进去，用得到的话加进去 , bbox_to_anchor=(1.11,0)"
   ]
  }
 ],
 "metadata": {
  "kernelspec": {
   "display_name": "Python 3",
   "language": "python",
   "name": "python3"
  },
  "language_info": {
   "codemirror_mode": {
    "name": "ipython",
    "version": 3
   },
   "file_extension": ".py",
   "mimetype": "text/x-python",
   "name": "python",
   "nbconvert_exporter": "python",
   "pygments_lexer": "ipython3",
   "version": "3.7.4"
  }
 },
 "nbformat": 4,
 "nbformat_minor": 4
}
