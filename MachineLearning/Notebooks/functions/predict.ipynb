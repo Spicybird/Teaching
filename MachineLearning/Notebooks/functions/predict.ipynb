{
 "cells": [
  {
   "cell_type": "markdown",
   "metadata": {},
   "source": [
    "## predict()函数和predict_proba()函数"
   ]
  },
  {
   "cell_type": "markdown",
   "metadata": {},
   "source": [
    "- 载入威斯康星乳腺肿瘤数据集，并适合用Gaussian朴素贝叶斯进行建模"
   ]
  },
  {
   "cell_type": "code",
   "execution_count": 16,
   "metadata": {},
   "outputs": [
    {
     "data": {
      "text/plain": [
       "BernoulliNB(alpha=1.0, binarize=0.0, class_prior=None, fit_prior=True)"
      ]
     },
     "execution_count": 16,
     "metadata": {},
     "output_type": "execute_result"
    }
   ],
   "source": [
    "from sklearn.datasets import load_breast_cancer\n",
    "from sklearn.model_selection import train_test_split\n",
    "from sklearn.naive_bayes import BernoulliNB \n",
    "\n",
    "cancer = load_breast_cancer()\n",
    "\n",
    "X, y = cancer.data, cancer.target\n",
    "X_train, X_test, y_train, y_test = train_test_split(X, y)\n",
    "\n",
    "bnb = BernoulliNB()\n",
    "bnb.fit(X_train, y_train)"
   ]
  },
  {
   "cell_type": "markdown",
   "metadata": {},
   "source": [
    "- 给定一个样本："
   ]
  },
  {
   "cell_type": "code",
   "execution_count": 17,
   "metadata": {},
   "outputs": [
    {
     "name": "stdout",
     "output_type": "stream",
     "text": [
      "样本的正确分类为: 0\n",
      "GaussianNB模型预测的分类是: 1\n",
      "+ 属于分类0的概率值是：0.37786\n",
      "+ 属于分类1的概率值是：0.62214\n"
     ]
    }
   ],
   "source": [
    "data_id = 142\n",
    "data_x = [X_test[data_id]]\n",
    "data_y = y_test[data_id]\n",
    "\n",
    "print(\"样本的正确分类为: {}\".format(data_y))\n",
    "\n",
    "print(\"GaussianNB模型预测的分类是: {}\".format(bnb.predict(data_x)[0]))\n",
    "print(\"+ 属于分类0的概率值是：{:.5f}\".format(bnb.predict_proba(data_x)[0][0]))\n",
    "print(\"+ 属于分类1的概率值是：{:.5f}\".format(bnb.predict_proba(data_x)[0][1]))"
   ]
  },
  {
   "cell_type": "markdown",
   "metadata": {},
   "source": [
    "此处，\n",
    "1. predict()函数，给出的是对样本 data_x 的预测结果，即每个类别概率最高的那个类的id\n",
    "2. predict_proba()函数，给出的是每一类的预测概率。即，对于样本 142 来说，分为类别【0】的概率为0.04742，分为类别【1】的概率为0.95258. predict_proba()给出的**每个类别的预测概率之后等于1**.\n",
    "\n",
    "**<font color=red>如果有数据包含n个类别，则predict()输出的仍然是概率最高的那个类别的id，而predict_proba()输出的将是这n个类别，每一个类别的预测概率。</font>**"
   ]
  }
 ],
 "metadata": {
  "kernelspec": {
   "display_name": "Python 3",
   "language": "python",
   "name": "python3"
  },
  "language_info": {
   "codemirror_mode": {
    "name": "ipython",
    "version": 3
   },
   "file_extension": ".py",
   "mimetype": "text/x-python",
   "name": "python",
   "nbconvert_exporter": "python",
   "pygments_lexer": "ipython3",
   "version": "3.7.4"
  }
 },
 "nbformat": 4,
 "nbformat_minor": 4
}
