{
 "cells": [
  {
   "cell_type": "markdown",
   "metadata": {},
   "source": [
    "## 函数说明： sklearn.datasets.make_regression"
   ]
  },
  {
   "cell_type": "markdown",
   "metadata": {},
   "source": [
    "## - 函数细节"
   ]
  },
  {
   "cell_type": "markdown",
   "metadata": {},
   "source": [
    "```python\n",
    "sklearn.datasets.make_regression(\n",
    "    n_samples=100, \n",
    "    n_features=100, \n",
    "    n_informative=10, \n",
    "    n_targets=1, \n",
    "    bias=0.0, \n",
    "    effective_rank=None,\n",
    "    tail_strength=0.5, \n",
    "    noise=0.0, \n",
    "    shuffle=True, \n",
    "    coef=False, \n",
    "    random_state=None)\n",
    "```"
   ]
  },
  {
   "cell_type": "markdown",
   "metadata": {},
   "source": [
    "## - 参数解释"
   ]
  },
  {
   "cell_type": "markdown",
   "metadata": {},
   "source": [
    "```python\n",
    "\n",
    "n_samples : int, optional (default=100)\n",
    "样本数 \n",
    "\n",
    "n_features : int, optional (default=100)\n",
    "特征数\n",
    "\n",
    "n_informative : int, optional (default=10)\n",
    "The number of informative features, i.e., the number of features used to build the linear model used to generate the output.（有信息的特征数量，也就是用来构造线性模型，生成输出的特征数量）\n",
    "\n",
    "n_targets : int, optional (default=1)\n",
    "The number of regression targets, i.e., the dimension of the y output vector associated with a sample. By default, the output is a scalar.（回归目标的数量，也就是对应于一个样本输出向量y的维度。默认输出是标量）\n",
    "\n",
    "bias : float, optional (default=0.0)\n",
    "The bias term in the underlying linear model. \n",
    "\n",
    "effective_rank : int or None, optional (default=None)\n",
    "if not None:\n",
    "\n",
    "The approximate number of singular vectors required to explain most of the input data by linear combinations. Using this kind of singular spectrum in the input allows the generator to reproduce the correlations often observed in practice.\n",
    "if None:\n",
    "The input set is well conditioned, centered and gaussian with unit variance.\n",
    "\n",
    "tail_strength : float between 0.0 and 1.0, optional (default=0.5)\n",
    "The relative importance of the fat noisy tail of the singular values profile if effective_rank is not None.\n",
    "\n",
    "noise : float, optional (default=0.0)\n",
    "The standard deviation of the gaussian noise applied to the output.\n",
    "\n",
    "shuffle : boolean, optional (default=True)\n",
    "Shuffle the samples and the features.\n",
    "\n",
    "coef : boolean, optional (default=False)\n",
    "If True, the coefficients of the underlying linear model are returned.\n",
    "\n",
    "random_state : int, RandomState instance or None (default)\n",
    "Determines random number generation for dataset creation. Pass an int for reproducible output across multiple function calls. See Glossary.\n",
    "\n",
    "```"
   ]
  },
  {
   "cell_type": "markdown",
   "metadata": {},
   "source": [
    "## - 返回值"
   ]
  },
  {
   "cell_type": "markdown",
   "metadata": {},
   "source": [
    "```python\n",
    "\n",
    "X : array of shape [n_samples, n_features]\n",
    "The input samples.\n",
    "\n",
    "y : array of shape [n_samples] or [n_samples, n_targets]\n",
    "The output values.\n",
    "\n",
    "coef : array of shape [n_features] or [n_features, n_targets], optional\n",
    "The coefficient of the underlying linear model. It is returned only if coef is True.\n",
    "```"
   ]
  },
  {
   "cell_type": "code",
   "execution_count": null,
   "metadata": {},
   "outputs": [],
   "source": []
  }
 ],
 "metadata": {
  "kernelspec": {
   "display_name": "Python 3",
   "language": "python",
   "name": "python3"
  },
  "language_info": {
   "codemirror_mode": {
    "name": "ipython",
    "version": 3
   },
   "file_extension": ".py",
   "mimetype": "text/x-python",
   "name": "python",
   "nbconvert_exporter": "python",
   "pygments_lexer": "ipython3",
   "version": "3.7.4"
  }
 },
 "nbformat": 4,
 "nbformat_minor": 4
}
