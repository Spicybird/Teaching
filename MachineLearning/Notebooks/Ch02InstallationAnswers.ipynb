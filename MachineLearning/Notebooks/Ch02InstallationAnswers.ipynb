{
 "cells": [
  {
   "cell_type": "markdown",
   "metadata": {},
   "source": [
    "# 课后作业：Python机器学习环境的安装和配置"
   ]
  },
  {
   "cell_type": "markdown",
   "metadata": {},
   "source": [
    "**【作业提交】**\n",
    "\n",
    "将分类结果保存到文本文档进行提交，同时提交源代码。\n",
    "1. 测试结果命名为: ex01-结果图01-你的学号-你的姓名.png, ex01-结果图02-你的学号-你的姓名.png\n",
    "2. 源代码命名为: ex01-01-你的学号-你的姓名.py, ex01-02-你的学号-你的姓名.py, ex01-03-你的学号-你的姓名.py\n",
    "\n",
    "<font color=\"red\">*结果文件，要求每小题标注题号，两题之间要求空一行*</font>\n",
    "___\n",
    "\n",
    "要求完成以下几个作业：\n",
    "- 利用pandas库和字典完成以下习题（ex01-01）\n",
    "- 利用matplotlib库绘制如下图（1）使用代码生成一个表达式为：$y=2x^2-3x^4+6x-3$ 的曲线图。（ex01-02）\n",
    "- 利用matplotlib库绘制如下图（2）生成直方图（ex01-03）"
   ]
  },
  {
   "cell_type": "markdown",
   "metadata": {},
   "source": [
    "#### 一. 利用pandas库和字典完成以下习题\n",
    "\n",
    "1. 生成如下表格"
   ]
  },
  {
   "cell_type": "code",
   "execution_count": 1,
   "metadata": {},
   "outputs": [
    {
     "data": {
      "text/html": [
       "<div>\n",
       "<style scoped>\n",
       "    .dataframe tbody tr th:only-of-type {\n",
       "        vertical-align: middle;\n",
       "    }\n",
       "\n",
       "    .dataframe tbody tr th {\n",
       "        vertical-align: top;\n",
       "    }\n",
       "\n",
       "    .dataframe thead th {\n",
       "        text-align: right;\n",
       "    }\n",
       "</style>\n",
       "<table border=\"1\" class=\"dataframe\">\n",
       "  <thead>\n",
       "    <tr style=\"text-align: right;\">\n",
       "      <th></th>\n",
       "      <th>姓名</th>\n",
       "      <th>国家</th>\n",
       "      <th>学号</th>\n",
       "      <th>语文</th>\n",
       "      <th>数学</th>\n",
       "      <th>英语</th>\n",
       "      <th>科学</th>\n",
       "      <th>历史</th>\n",
       "    </tr>\n",
       "  </thead>\n",
       "  <tbody>\n",
       "    <tr>\n",
       "      <td>0</td>\n",
       "      <td>拿破仑</td>\n",
       "      <td>地球联盟</td>\n",
       "      <td>2019001</td>\n",
       "      <td>33</td>\n",
       "      <td>98</td>\n",
       "      <td>33</td>\n",
       "      <td>98</td>\n",
       "      <td>94</td>\n",
       "    </tr>\n",
       "    <tr>\n",
       "      <td>1</td>\n",
       "      <td>哥德巴赫</td>\n",
       "      <td>黑暗祭祀</td>\n",
       "      <td>2019002</td>\n",
       "      <td>28</td>\n",
       "      <td>97</td>\n",
       "      <td>28</td>\n",
       "      <td>97</td>\n",
       "      <td>57</td>\n",
       "    </tr>\n",
       "    <tr>\n",
       "      <td>2</td>\n",
       "      <td>秦始皇</td>\n",
       "      <td>地球联盟</td>\n",
       "      <td>2019003</td>\n",
       "      <td>32</td>\n",
       "      <td>94</td>\n",
       "      <td>32</td>\n",
       "      <td>94</td>\n",
       "      <td>96</td>\n",
       "    </tr>\n",
       "    <tr>\n",
       "      <td>3</td>\n",
       "      <td>凯撒</td>\n",
       "      <td>黑暗祭祀</td>\n",
       "      <td>2019004</td>\n",
       "      <td>30</td>\n",
       "      <td>92</td>\n",
       "      <td>30</td>\n",
       "      <td>92</td>\n",
       "      <td>98</td>\n",
       "    </tr>\n",
       "    <tr>\n",
       "      <td>4</td>\n",
       "      <td>耶稣</td>\n",
       "      <td>地球联盟</td>\n",
       "      <td>2019005</td>\n",
       "      <td>99</td>\n",
       "      <td>100</td>\n",
       "      <td>97</td>\n",
       "      <td>98</td>\n",
       "      <td>91</td>\n",
       "    </tr>\n",
       "  </tbody>\n",
       "</table>\n",
       "</div>"
      ],
      "text/plain": [
       "     姓名    国家       学号  语文   数学  英语  科学  历史\n",
       "0   拿破仑  地球联盟  2019001  33   98  33  98  94\n",
       "1  哥德巴赫  黑暗祭祀  2019002  28   97  28  97  57\n",
       "2   秦始皇  地球联盟  2019003  32   94  32  94  96\n",
       "3    凯撒  黑暗祭祀  2019004  30   92  30  92  98\n",
       "4    耶稣  地球联盟  2019005  99  100  97  98  91"
      ]
     },
     "metadata": {},
     "output_type": "display_data"
    }
   ],
   "source": [
    "# 使用import关键字引入pandas库，为了简便使用缩写 “pd”来表示pandas库。\n",
    "import pandas as pd\n",
    "\n",
    "# 使用字典数据类型创建一个数据表，并用pandas库的DataFrame数据结构进行显示\n",
    "data = {\"姓名\":[\"拿破仑\",\"哥德巴赫\",\"秦始皇\",\"凯撒\",\"耶稣\"],\n",
    "        \"国家\":[\"地球联盟\",\"黑暗祭祀\",\"地球联盟\",\"黑暗祭祀\",\"地球联盟\"],\n",
    "        \"学号\":[\"2019001\",\"2019002\",\"2019003\",\"2019004\",\"2019005\"],\n",
    "        \"语文\":[33,28,32,30,99],\n",
    "        \"数学\":[98,97,94,92,100] ,\n",
    "        \"英语\":[33,28,32,30,97],\n",
    "        \"科学\":[98,97,94,92,98],\n",
    "        \"历史\":[94,57,96,98,91]  \n",
    "}\n",
    "data_frame = pd.DataFrame(data)\n",
    "display(data_frame)"
   ]
  },
  {
   "cell_type": "markdown",
   "metadata": {},
   "source": [
    "2. 通过对表格的操作，获得以下几个结果\n",
    "\n",
    "(1) 获取国家不等于“地球联盟”的数据"
   ]
  },
  {
   "cell_type": "code",
   "execution_count": 2,
   "metadata": {},
   "outputs": [
    {
     "data": {
      "text/html": [
       "<div>\n",
       "<style scoped>\n",
       "    .dataframe tbody tr th:only-of-type {\n",
       "        vertical-align: middle;\n",
       "    }\n",
       "\n",
       "    .dataframe tbody tr th {\n",
       "        vertical-align: top;\n",
       "    }\n",
       "\n",
       "    .dataframe thead th {\n",
       "        text-align: right;\n",
       "    }\n",
       "</style>\n",
       "<table border=\"1\" class=\"dataframe\">\n",
       "  <thead>\n",
       "    <tr style=\"text-align: right;\">\n",
       "      <th></th>\n",
       "      <th>姓名</th>\n",
       "      <th>国家</th>\n",
       "      <th>学号</th>\n",
       "      <th>语文</th>\n",
       "      <th>数学</th>\n",
       "      <th>英语</th>\n",
       "      <th>科学</th>\n",
       "      <th>历史</th>\n",
       "    </tr>\n",
       "  </thead>\n",
       "  <tbody>\n",
       "    <tr>\n",
       "      <td>1</td>\n",
       "      <td>哥德巴赫</td>\n",
       "      <td>黑暗祭祀</td>\n",
       "      <td>2019002</td>\n",
       "      <td>28</td>\n",
       "      <td>97</td>\n",
       "      <td>28</td>\n",
       "      <td>97</td>\n",
       "      <td>57</td>\n",
       "    </tr>\n",
       "    <tr>\n",
       "      <td>3</td>\n",
       "      <td>凯撒</td>\n",
       "      <td>黑暗祭祀</td>\n",
       "      <td>2019004</td>\n",
       "      <td>30</td>\n",
       "      <td>92</td>\n",
       "      <td>30</td>\n",
       "      <td>92</td>\n",
       "      <td>98</td>\n",
       "    </tr>\n",
       "  </tbody>\n",
       "</table>\n",
       "</div>"
      ],
      "text/plain": [
       "     姓名    国家       学号  语文  数学  英语  科学  历史\n",
       "1  哥德巴赫  黑暗祭祀  2019002  28  97  28  97  57\n",
       "3    凯撒  黑暗祭祀  2019004  30  92  30  92  98"
      ]
     },
     "metadata": {},
     "output_type": "display_data"
    }
   ],
   "source": [
    "# 使用 “不等于 !=” 操作符排除字段中包含特定值的数据\n",
    "display(data_frame[data_frame.国家 != \"地球联盟\"])"
   ]
  },
  {
   "cell_type": "markdown",
   "metadata": {},
   "source": [
    "(2) 获取学号等于2019003的数据"
   ]
  },
  {
   "cell_type": "code",
   "execution_count": 3,
   "metadata": {},
   "outputs": [
    {
     "data": {
      "text/html": [
       "<div>\n",
       "<style scoped>\n",
       "    .dataframe tbody tr th:only-of-type {\n",
       "        vertical-align: middle;\n",
       "    }\n",
       "\n",
       "    .dataframe tbody tr th {\n",
       "        vertical-align: top;\n",
       "    }\n",
       "\n",
       "    .dataframe thead th {\n",
       "        text-align: right;\n",
       "    }\n",
       "</style>\n",
       "<table border=\"1\" class=\"dataframe\">\n",
       "  <thead>\n",
       "    <tr style=\"text-align: right;\">\n",
       "      <th></th>\n",
       "      <th>姓名</th>\n",
       "      <th>国家</th>\n",
       "      <th>学号</th>\n",
       "      <th>语文</th>\n",
       "      <th>数学</th>\n",
       "      <th>英语</th>\n",
       "      <th>科学</th>\n",
       "      <th>历史</th>\n",
       "    </tr>\n",
       "  </thead>\n",
       "  <tbody>\n",
       "    <tr>\n",
       "      <td>2</td>\n",
       "      <td>秦始皇</td>\n",
       "      <td>地球联盟</td>\n",
       "      <td>2019003</td>\n",
       "      <td>32</td>\n",
       "      <td>94</td>\n",
       "      <td>32</td>\n",
       "      <td>94</td>\n",
       "      <td>96</td>\n",
       "    </tr>\n",
       "  </tbody>\n",
       "</table>\n",
       "</div>"
      ],
      "text/plain": [
       "    姓名    国家       学号  语文  数学  英语  科学  历史\n",
       "2  秦始皇  地球联盟  2019003  32  94  32  94  96"
      ]
     },
     "metadata": {},
     "output_type": "display_data"
    }
   ],
   "source": [
    "display(data_frame[data_frame.学号 == \"2019003\"])"
   ]
  },
  {
   "cell_type": "markdown",
   "metadata": {},
   "source": [
    "(3)获取数学成绩大于95的同学的数据"
   ]
  },
  {
   "cell_type": "code",
   "execution_count": 5,
   "metadata": {},
   "outputs": [
    {
     "data": {
      "text/html": [
       "<div>\n",
       "<style scoped>\n",
       "    .dataframe tbody tr th:only-of-type {\n",
       "        vertical-align: middle;\n",
       "    }\n",
       "\n",
       "    .dataframe tbody tr th {\n",
       "        vertical-align: top;\n",
       "    }\n",
       "\n",
       "    .dataframe thead th {\n",
       "        text-align: right;\n",
       "    }\n",
       "</style>\n",
       "<table border=\"1\" class=\"dataframe\">\n",
       "  <thead>\n",
       "    <tr style=\"text-align: right;\">\n",
       "      <th></th>\n",
       "      <th>姓名</th>\n",
       "      <th>国家</th>\n",
       "      <th>学号</th>\n",
       "      <th>语文</th>\n",
       "      <th>数学</th>\n",
       "      <th>英语</th>\n",
       "      <th>科学</th>\n",
       "      <th>历史</th>\n",
       "    </tr>\n",
       "  </thead>\n",
       "  <tbody>\n",
       "    <tr>\n",
       "      <td>0</td>\n",
       "      <td>拿破仑</td>\n",
       "      <td>地球联盟</td>\n",
       "      <td>2019001</td>\n",
       "      <td>33</td>\n",
       "      <td>98</td>\n",
       "      <td>33</td>\n",
       "      <td>98</td>\n",
       "      <td>94</td>\n",
       "    </tr>\n",
       "    <tr>\n",
       "      <td>1</td>\n",
       "      <td>哥德巴赫</td>\n",
       "      <td>黑暗祭祀</td>\n",
       "      <td>2019002</td>\n",
       "      <td>28</td>\n",
       "      <td>97</td>\n",
       "      <td>28</td>\n",
       "      <td>97</td>\n",
       "      <td>57</td>\n",
       "    </tr>\n",
       "    <tr>\n",
       "      <td>4</td>\n",
       "      <td>耶稣</td>\n",
       "      <td>地球联盟</td>\n",
       "      <td>2019005</td>\n",
       "      <td>99</td>\n",
       "      <td>100</td>\n",
       "      <td>97</td>\n",
       "      <td>98</td>\n",
       "      <td>91</td>\n",
       "    </tr>\n",
       "  </tbody>\n",
       "</table>\n",
       "</div>"
      ],
      "text/plain": [
       "     姓名    国家       学号  语文   数学  英语  科学  历史\n",
       "0   拿破仑  地球联盟  2019001  33   98  33  98  94\n",
       "1  哥德巴赫  黑暗祭祀  2019002  28   97  28  97  57\n",
       "4    耶稣  地球联盟  2019005  99  100  97  98  91"
      ]
     },
     "metadata": {},
     "output_type": "display_data"
    }
   ],
   "source": [
    "display(data_frame[data_frame.数学 > 95])"
   ]
  },
  {
   "cell_type": "markdown",
   "metadata": {},
   "source": [
    "(4) 获取历史成绩大于60，同时属于“黑暗祭祀”的同学的信息"
   ]
  },
  {
   "cell_type": "code",
   "execution_count": 6,
   "metadata": {},
   "outputs": [
    {
     "data": {
      "text/html": [
       "<div>\n",
       "<style scoped>\n",
       "    .dataframe tbody tr th:only-of-type {\n",
       "        vertical-align: middle;\n",
       "    }\n",
       "\n",
       "    .dataframe tbody tr th {\n",
       "        vertical-align: top;\n",
       "    }\n",
       "\n",
       "    .dataframe thead th {\n",
       "        text-align: right;\n",
       "    }\n",
       "</style>\n",
       "<table border=\"1\" class=\"dataframe\">\n",
       "  <thead>\n",
       "    <tr style=\"text-align: right;\">\n",
       "      <th></th>\n",
       "      <th>姓名</th>\n",
       "      <th>国家</th>\n",
       "      <th>学号</th>\n",
       "      <th>语文</th>\n",
       "      <th>数学</th>\n",
       "      <th>英语</th>\n",
       "      <th>科学</th>\n",
       "      <th>历史</th>\n",
       "    </tr>\n",
       "  </thead>\n",
       "  <tbody>\n",
       "    <tr>\n",
       "      <td>3</td>\n",
       "      <td>凯撒</td>\n",
       "      <td>黑暗祭祀</td>\n",
       "      <td>2019004</td>\n",
       "      <td>30</td>\n",
       "      <td>92</td>\n",
       "      <td>30</td>\n",
       "      <td>92</td>\n",
       "      <td>98</td>\n",
       "    </tr>\n",
       "  </tbody>\n",
       "</table>\n",
       "</div>"
      ],
      "text/plain": [
       "   姓名    国家       学号  语文  数学  英语  科学  历史\n",
       "3  凯撒  黑暗祭祀  2019004  30  92  30  92  98"
      ]
     },
     "metadata": {},
     "output_type": "display_data"
    }
   ],
   "source": [
    "display(data_frame[(data_frame.历史 > 60) & (data_frame.国家 == \"黑暗祭祀\")])"
   ]
  },
  {
   "cell_type": "code",
   "execution_count": 2,
   "metadata": {},
   "outputs": [
    {
     "data": {
      "text/plain": [
       "0    False\n",
       "1    False\n",
       "2    False\n",
       "3     True\n",
       "4    False\n",
       "dtype: bool"
      ]
     },
     "execution_count": 2,
     "metadata": {},
     "output_type": "execute_result"
    }
   ],
   "source": [
    "(data_frame.历史 > 60) & (data_frame.国家 == \"黑暗祭祀\")"
   ]
  },
  {
   "cell_type": "markdown",
   "metadata": {},
   "source": [
    "#### 二. 利用matplotlib库绘制如下图\n",
    "\n",
    "1. 使用代码生成一个表达式为：$y=2x^2-3x^4+6x-3$ 的曲线图。\n",
    "\n",
    "自变量x的取值范围为：(-20, 20, 10)\n",
    "\n",
    "对于取值范围有两种理解：\n",
    "- np.arange(-20, 20, 10) 起点-20，终点20，步长为10\n",
    "- np.linspace(-20, 20 ,10) 起点-20，终点20，生成10个元素的等差数列"
   ]
  },
  {
   "cell_type": "code",
   "execution_count": 5,
   "metadata": {},
   "outputs": [
    {
     "data": {
      "image/png": "[encoded data removed]",
      "text/plain": [
       "<Figure size 432x288 with 1 Axes>"
      ]
     },
     "metadata": {
      "needs_background": "light"
     },
     "output_type": "display_data"
    }
   ],
   "source": [
    "# 通过inline指令，实现在Jupyter中的实时绘图功能\n",
    "%matplotlib inline\n",
    "\n",
    "# 1. 引入库\n",
    "# 使用import关键字引入matplotlib库，为了简便使用缩写 “plt”来表示matplotlib库。\n",
    "import matplotlib.pyplot as plt\n",
    "import numpy as np\n",
    "\n",
    "# 2. 指定坐标轴（x,y值）\n",
    "# 使用linspace()函数生成一个-20到20，元素个数为10的等差数列。\n",
    "# 令数列中的值为 x, 并根据表达式计算对应的 y值。\n",
    "x = np.linspace(-20, 20, 10)\n",
    "y = 2*x**2 - 3*x**4 + 6*x - 3\n",
    "\n",
    "# 3. 把x,y的关系画到坐标轴上 plot(横坐标，纵坐标，标记，颜色。。。。)\n",
    "#使用plot()函数绘制出曲线图\n",
    "plt.plot(x, y, marker = \"o\")\n",
    "plt.show()\n"
   ]
  },
  {
   "cell_type": "markdown",
   "metadata": {},
   "source": [
    "2. 生成直方图\n",
    "\n",
    "直方图应包含6个序列，每个序列3种类型的特征，取值如下：\n",
    "\n",
    "```python\n",
    "x_data = ('China', 'America', 'Japan', 'Germany', 'France', 'Italy')\n",
    "y1_data = (120, 325, 310, 235, 227, 256)\n",
    "y2_data = (225, 312, 314, 221, 253, 341)\n",
    "y3_data = (232, 332, 222, 241, 190, 299)\n",
    "```"
   ]
  },
  {
   "cell_type": "code",
   "execution_count": 7,
   "metadata": {},
   "outputs": [
    {
     "data": {
      "image/png": "[encoded data removed]",
      "text/plain": [
       "<Figure size 432x288 with 1 Axes>"
      ]
     },
     "metadata": {
      "needs_background": "light"
     },
     "output_type": "display_data"
    }
   ],
   "source": [
    "# 通过inline指令，实现在Jupyter中的实时绘图功能\n",
    "%matplotlib inline\n",
    "import matplotlib.pyplot as plt\n",
    "import numpy as np\n",
    "\n",
    "plt.figure(1)\n",
    "x_index = np.arange(6)   #柱的索引\n",
    "x_data = ('China', 'America', 'Japan', 'Germany', 'France', 'Italy')\n",
    "y1_data = (120, 325, 310, 235, 227, 256)\n",
    "y2_data = (225, 312, 314, 221, 253, 341)\n",
    "y3_data = (232, 332, 222, 241, 190, 299)\n",
    "bar_width = 0.2  #定义一个数字代表每个独立柱的宽度\n",
    "\n",
    "# 使用 bar()函数定义柱状图的各个参数，依次包括：左偏移、高度、柱宽、透明度、颜色、图例\n",
    "# 关于左偏移，不用关心每根柱的中心不中心，因为只要把刻度线设置在柱的中间就可以了\n",
    "rects1 = plt.bar(x_index, y1_data, width=bar_width,alpha=0.4, color='b',label='legend1')          \n",
    "rects2 = plt.bar(x_index + bar_width, y2_data, width=bar_width,alpha=0.5,color='r',label='legend2') \n",
    "rects3 = plt.bar(x_index + bar_width + bar_width, y3_data, width=bar_width,alpha=0.5,color='c',label='legend3') \n",
    "\n",
    "# 使用 xticks() 函数设置x轴的刻度线\n",
    "plt.xticks(x_index + bar_width/2, x_data)\n",
    "plt.legend() #显示图例\n",
    "plt.show()"
   ]
  }
 ],
 "metadata": {
  "kernelspec": {
   "display_name": "Python 3",
   "language": "python",
   "name": "python3"
  },
  "language_info": {
   "codemirror_mode": {
    "name": "ipython",
    "version": 3
   },
   "file_extension": ".py",
   "mimetype": "text/x-python",
   "name": "python",
   "nbconvert_exporter": "python",
   "pygments_lexer": "ipython3",
   "version": "3.7.4"
  },
  "toc-autonumbering": false
 },
 "nbformat": 4,
 "nbformat_minor": 4
}
