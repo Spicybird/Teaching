{
 "cells": [
  {
   "cell_type": "markdown",
   "metadata": {},
   "source": [
    "# 课后作业：支持向量机(Support Vector Machine)"
   ]
  },
  {
   "cell_type": "markdown",
   "metadata": {},
   "source": [
    "<font color=\"blue\">作者：欧新宇（Xinyu OU）</font>\n",
    "\n",
    "<font color=\"red\">本文档所展示的测试结果，均运行于：Intel Core i7-7700K CPU 4.2GHz</font>"
   ]
  },
  {
   "cell_type": "markdown",
   "metadata": {},
   "source": [
    "**【作业提交】**\n",
    "\n",
    "将分类结果保存到文本文档进行提交(写上每一题的题号和题目，然后再贴答案)，同时提交源代码。\n",
    "1. 测试结果命名为: ex07-结果-你的学号-你的姓名.txt\n",
    "2. 输出图片命名为: ex07-性能对比图-你的学号-你的姓名.png (.jpg)\n",
    "3. 源代码命名为: ex07-01-你的学号-你的姓名.py, ex07-02-你的学号-你的姓名.py\n",
    "\n",
    "<font color=\"red\">*结果文件，要求每小题标注题号，两题之间要求空一行*</font>\n",
    "___"
   ]
  },
  {
   "cell_type": "markdown",
   "metadata": {},
   "source": [
    "要求在 “鸢尾花” 数据集上完成以下任务，要求如下：\n",
    "1. 要求训练集和测试集的分割比例为60% : 40%\n",
    "2. 分别使用LinearSVC, linear核、RBF核、sigmoid核、多项式核的支持向量机完成准确率的测试，要求同时输出训练集和测试集的准确率评分结果。（ex07-01）\n",
    "3. 使用RBF核的SVM模型在不同Gamma值下进行建模，并输出性能对比图，同时输出训练集和测试集。（ex07-02, ex07-性能对比图）\n",
    "    - Gamma取值范围：$array([ 0.1,  0.2,  0.3,  0.4,  0.5,  0.6,  0.7,  0.8,  0.9,  1.0])$\n",
    "    - 尽量使用 np.linspace() 函数实现数列的生成"
   ]
  },
  {
   "cell_type": "markdown",
   "metadata": {},
   "source": [
    "**数据集载入方法**\n",
    "\n",
    "```python\n",
    "from sklearn import datasets\n",
    "iris = datasets.load_iris()\n",
    "\n",
    "```\n",
    "\n",
    "---"
   ]
  }
 ],
 "metadata": {
  "kernelspec": {
   "display_name": "Python 3",
   "language": "python",
   "name": "python3"
  },
  "language_info": {
   "codemirror_mode": {
    "name": "ipython",
    "version": 3
   },
   "file_extension": ".py",
   "mimetype": "text/x-python",
   "name": "python",
   "nbconvert_exporter": "python",
   "pygments_lexer": "ipython3",
   "version": "3.7.4"
  }
 },
 "nbformat": 4,
 "nbformat_minor": 4
}
