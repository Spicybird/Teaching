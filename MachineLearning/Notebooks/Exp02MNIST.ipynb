{
 "cells": [
  {
   "cell_type": "markdown",
   "metadata": {
    "execution": {
     "iopub.execute_input": "2020-04-30T13:34:33.159919Z",
     "iopub.status.busy": "2020-04-30T13:34:33.159422Z",
     "iopub.status.idle": "2020-04-30T13:34:33.163389Z",
     "shell.execute_reply": "2020-04-30T13:34:33.162893Z",
     "shell.execute_reply.started": "2020-04-30T13:34:33.159919Z"
    }
   },
   "source": [
    "# 机器学习实训：手写数字识别"
   ]
  },
  {
   "cell_type": "markdown",
   "metadata": {},
   "source": [
    "<font color=\"blue\">作者：欧新宇（Xinyu OU）</font>\n",
    "\n",
    "<font color=\"red\">本文档所展示的测试结果，均运行于：Intel Core i7-7700K CPU 4.2GHz</font>"
   ]
  },
  {
   "cell_type": "markdown",
   "metadata": {},
   "source": [
    "## 任务说明"
   ]
  },
  {
   "cell_type": "markdown",
   "metadata": {},
   "source": [
    "### 1. 任务说明\n",
    "---\n",
    "构建一个模型，对给定的数字样本进行分类识别。\n",
    "\n",
    "![](https://ai-studio-static-online.cdn.bcebos.com/ba26eac845334208851e72c7a2dfef5e1eec566894ba430aba7492e72c49cacd)\n",
    "\n",
    "具体任务包括：\n",
    "1. 任务一：训练模型并对模型进行评估\n",
    "2. 任务二：单图片预测\n",
    "3. 完成任务一、二的所有代码，并保留运行结果\n",
    "4. 完善Notebook并输出为PDF格式（需要经过html进行中转），作为课程实训报告的正文部分。首页模板请在课程网站“教学文件”中进行下载。\n",
    "5. 最终的实训报告，要求在Notebook中添加必要的文字说明，不能只提交代码。可以从模型的描述，模型的选择，多个模型的实验结果对比等多个角度进行撰写。\n",
    "6. 将完整代码和运行结果在AIStudio平台进行提交"
   ]
  },
  {
   "cell_type": "markdown",
   "metadata": {},
   "source": [
    "### 2. 数据集说明\n",
    "---\n",
    "MNIST数据集包含70000个样本，其中训练集60000个，测试集10000个。每个样本都分为图片和标签，图片是28\\*28的像素矩阵，标签是0~9的10个数字。\n",
    "![](https://ai-studio-static-online.cdn.bcebos.com/fc73217ae57f451a89badc801a903bb742e42eabd9434ecc8089efe19a66c076)\n"
   ]
  },
  {
   "cell_type": "markdown",
   "metadata": {},
   "source": [
    "### 3. 必要依赖库\n",
    "\n",
    "1. **numpy**: Python第三方库计算库，用于进行科学计算\n",
    "2. **PIL**: Python第三方图像处理库，用于图像数据的读取和处理\n",
    "3. **matplotlib**: Python第三方绘图库，用于实现数据可视化\n",
    "4. **sklearn**: Python机器学习库，其中封装了大量机器学习算法，例如：SVM、KMeans、NLP、决策树、KNN等。\n"
   ]
  },
  {
   "cell_type": "markdown",
   "metadata": {},
   "source": [
    "### 4. 基本要求\n",
    "\n",
    "将数据集的划分严格按照原始数据集的规则60000:10000，同时在进行训练的时候只使用20%的样本，测试的时候仍然使用完整的10000个样本。\n"
   ]
  },
  {
   "cell_type": "markdown",
   "metadata": {},
   "source": [
    "### 5. 保存数据集中的图片\n",
    "\n",
    "该方法仅用于保存数据集的图片，并进行测试使用，不做考评"
   ]
  },
  {
   "cell_type": "code",
   "execution_count": 1,
   "metadata": {
    "execution": {
     "iopub.execute_input": "2020-05-06T16:04:30.998595Z",
     "iopub.status.busy": "2020-05-06T16:04:30.998595Z",
     "iopub.status.idle": "2020-05-06T16:04:31.991466Z",
     "shell.execute_reply": "2020-05-06T16:04:31.991466Z",
     "shell.execute_reply.started": "2020-05-06T16:04:30.998595Z"
    }
   },
   "outputs": [
    {
     "name": "stdout",
     "output_type": "stream",
     "text": [
      "开始载入MNIST手写数字数据集：\n",
      " 测试集图片大小: 28*28, 已载入10000/10000.\n",
      "测试集标签数量: 10000...已完成。\n"
     ]
    }
   ],
   "source": [
    "import os\n",
    "import sys\n",
    "import numpy as np  \n",
    "import matplotlib.pyplot as plt\n",
    "from PIL import Image\n",
    "sys.path.append(os.path.join(os.getcwd(), '..', 'Modules'))\n",
    "import load_MNIST\n",
    "\n",
    "X_test = load_MNIST.load_test_images()\n",
    "y_test = load_MNIST.load_test_labels()\n",
    "\n",
    "image_id = 9999  # 设置要保存的样本ID X_test[0:9999]\n",
    "\n",
    "# 将numpy数组转换为PIL图像\n",
    "img = Image.fromarray(np.uint8(X_test[image_id]))\n",
    "\n",
    "# 显示要保存的图片\n",
    "# plt.imshow(img)\n",
    "\n",
    "# 保存PIL图像到磁盘指定路径\n",
    "filename = 'mnist' + str(image_id) + '.png'\n",
    "img.save(os.path.join(os.getcwd(), 'tmp', filename))"
   ]
  },
  {
   "cell_type": "markdown",
   "metadata": {},
   "source": [
    "## <font style=\"color:blue; font-weight:bold;\">示例代码</font>"
   ]
  },
  {
   "cell_type": "markdown",
   "metadata": {},
   "source": [
    "### **任务一：训练模型并对模型进行评估**"
   ]
  },
  {
   "cell_type": "markdown",
   "metadata": {},
   "source": [
    "#### **Step0: 导入依赖库**"
   ]
  },
  {
   "cell_type": "code",
   "execution_count": 2,
   "metadata": {
    "execution": {
     "iopub.execute_input": "2020-05-06T16:04:31.992464Z",
     "iopub.status.busy": "2020-05-06T16:04:31.992464Z",
     "iopub.status.idle": "2020-05-06T16:04:32.751444Z",
     "shell.execute_reply": "2020-05-06T16:04:32.751444Z",
     "shell.execute_reply.started": "2020-05-06T16:04:31.992464Z"
    }
   },
   "outputs": [],
   "source": [
    "import sys\n",
    "import os\n",
    "sys.path.append(os.path.join(os.getcwd(), '..', 'Modules'))\n",
    "import load_MNIST\n",
    "import joblib                       # 载入保存和载入模型的库工具\n",
    "\n",
    "import numpy as np                  # Python第三方科学计算库\n",
    "import matplotlib.pyplot as plt     # Python第三方绘图库\n",
    "from PIL import Image               # Python第三方图像处理库\n",
    "import time                         # 获取当前的时间戳\n",
    "                     \n",
    "from sklearn import naive_bayes     # 导入朴素贝叶斯包\n",
    "from sklearn import svm             # 导入SVM支持向量机包\n",
    "from sklearn import neural_network  # 导入MLP神经网络包"
   ]
  },
  {
   "cell_type": "markdown",
   "metadata": {},
   "source": [
    "#### **Step1: 数据准备**\n",
    "\n",
    "基本步骤如下:\n",
    "1. 下载mnist数据集，并保存到根目录 `/Datasets/mnist/` 文件夹中。下载地址：http://ouxinyu.cn/Teaching/MachineLearning/Datasets/mnist.rar\n",
    "2. 下载mnist数据库载入程序，并保存到根目录 `/Modules/load_MNIST.py` 文件中。下载地址：http://ouxinyu.cn/Teaching/MachineLearning/Modules/load_MNIST.py\n",
    "3. 使用load_MNIST载入数据\n",
    "4. 对载入数据进行预处理\n",
    "5. 为了简化训练，截取20\\%的的训练数据训练模型。"
   ]
  },
  {
   "cell_type": "code",
   "execution_count": 3,
   "metadata": {
    "execution": {
     "iopub.execute_input": "2020-05-06T16:04:32.752442Z",
     "iopub.status.busy": "2020-05-06T16:04:32.752442Z",
     "iopub.status.idle": "2020-05-06T16:04:32.759424Z",
     "shell.execute_reply": "2020-05-06T16:04:32.759424Z",
     "shell.execute_reply.started": "2020-05-06T16:04:32.752442Z"
    }
   },
   "outputs": [],
   "source": [
    "# 1. 载入数据\n",
    "def load_datasets(show_examples = False):\n",
    "    X_train = load_MNIST.load_train_images()\n",
    "    y_train = load_MNIST.load_train_labels()\n",
    "    X_test = load_MNIST.load_test_images()\n",
    "    y_test = load_MNIST.load_test_labels()\n",
    "    \n",
    "    if show_examples == True:\n",
    "        sample = X_train[1,:,:]\n",
    "        plt.imshow(sample)\n",
    "        print('样例的矩阵形式为:\\n {}'.format(sample))\n",
    "    \n",
    "    return X_train, X_test, y_train, y_test \n",
    "\n",
    "# 2. 对数据进行预处理\n",
    "def preprocessing(im):\n",
    "    num = im.shape[0]\n",
    "    im = im.reshape(num, imgSize*imgSize)\n",
    "    im = im/255\n",
    "#     im = im*2 - 1\n",
    "\n",
    "    return im\n",
    "\n",
    "# 3. 提取部分训练集数据\n",
    "# 为了提高训练速度，我们只提取部分样本进行演示\n",
    "# rate:提取的样本占总训练集的比率；\n",
    "# show_examples:是否显示样例图片,默认值为False\n",
    "def get_lite(rate, X_train, y_train, show_examples = False):\n",
    "    num_train = int(rate * X_train.shape[0])\n",
    "    \n",
    "    X_train_lite = X_train[0:num_train-1,:]\n",
    "    y_train_lite = y_train[0:num_train-1]   \n",
    "    \n",
    "    if show_examples == True:\n",
    "        sample = X_train_lite[1,:]\n",
    "        sample = sample.reshape(imgSize, imgSize)\n",
    "        plt.imshow(sample)\n",
    "        plt.show()\n",
    "        print('样例(lite)的矩阵形式为:\\n {}'.format(sample))\n",
    "    \n",
    "    return X_train_lite, y_train_lite"
   ]
  },
  {
   "cell_type": "code",
   "execution_count": 4,
   "metadata": {
    "execution": {
     "iopub.execute_input": "2020-05-06T16:04:32.761419Z",
     "iopub.status.busy": "2020-05-06T16:04:32.760422Z",
     "iopub.status.idle": "2020-05-06T16:04:32.764410Z",
     "shell.execute_reply": "2020-05-06T16:04:32.764410Z",
     "shell.execute_reply.started": "2020-05-06T16:04:32.761419Z"
    }
   },
   "outputs": [],
   "source": [
    "# X_train, X_test, y_train, y_test = load_datasets(show_examples = False)\n",
    "\n",
    "# 数据预处理只需要针对样本，而不需要针对样本的标签\n",
    "# X_train = preprocessing(X_train)\n",
    "# X_test = preprocessing(X_test)\n",
    "\n",
    "# X_train, y_train = get_lite(rate, X_train, y_train, show_examples = True)"
   ]
  },
  {
   "cell_type": "markdown",
   "metadata": {},
   "source": [
    "#### **Step2：创建模型**"
   ]
  },
  {
   "cell_type": "markdown",
   "metadata": {},
   "source": [
    "##### - 朴素贝叶斯"
   ]
  },
  {
   "cell_type": "code",
   "execution_count": 5,
   "metadata": {
    "execution": {
     "iopub.execute_input": "2020-05-06T16:04:32.765408Z",
     "iopub.status.busy": "2020-05-06T16:04:32.765408Z",
     "iopub.status.idle": "2020-05-06T16:04:32.769397Z",
     "shell.execute_reply": "2020-05-06T16:04:32.769397Z",
     "shell.execute_reply.started": "2020-05-06T16:04:32.765408Z"
    }
   },
   "outputs": [],
   "source": [
    "def Bayes():\n",
    "    model = naive_bayes.GaussianNB()\n",
    "    \n",
    "    return model"
   ]
  },
  {
   "cell_type": "markdown",
   "metadata": {},
   "source": [
    "##### - SVM支持向量机"
   ]
  },
  {
   "cell_type": "code",
   "execution_count": 6,
   "metadata": {
    "execution": {
     "iopub.execute_input": "2020-05-06T16:04:32.770394Z",
     "iopub.status.busy": "2020-05-06T16:04:32.770394Z",
     "iopub.status.idle": "2020-05-06T16:04:32.774383Z",
     "shell.execute_reply": "2020-05-06T16:04:32.774383Z",
     "shell.execute_reply.started": "2020-05-06T16:04:32.770394Z"
    }
   },
   "outputs": [],
   "source": [
    "def SVM():\n",
    "    model = svm.SVC(C=0.5,                           #误差项惩罚系数, 默认值是1\n",
    "                    kernel='rbf',                    #kernel= {线性核: 'linear', 高斯核: kenrel=\"rbf\"}\n",
    "                    decision_function_shape='ovr',   #决策函数 decision_function_shape={'ovr','ovo'}\n",
    "                    gamma='auto')\n",
    "    \n",
    "    return model"
   ]
  },
  {
   "cell_type": "markdown",
   "metadata": {
    "execution": {
     "iopub.execute_input": "2020-05-01T14:50:16.559428Z",
     "iopub.status.busy": "2020-05-01T14:50:16.558398Z",
     "iopub.status.idle": "2020-05-01T14:50:16.576345Z",
     "shell.execute_reply": "2020-05-01T14:50:16.575345Z",
     "shell.execute_reply.started": "2020-05-01T14:50:16.558398Z"
    }
   },
   "source": [
    "##### - 多层感知机"
   ]
  },
  {
   "cell_type": "code",
   "execution_count": 7,
   "metadata": {
    "execution": {
     "iopub.execute_input": "2020-05-06T16:04:32.775381Z",
     "iopub.status.busy": "2020-05-06T16:04:32.775381Z",
     "iopub.status.idle": "2020-05-06T16:04:32.779370Z",
     "shell.execute_reply": "2020-05-06T16:04:32.779370Z",
     "shell.execute_reply.started": "2020-05-06T16:04:32.775381Z"
    }
   },
   "outputs": [],
   "source": [
    "def MLP():\n",
    "    model = neural_network.MLPClassifier(\n",
    "        solver='lbfgs',                      # 优化器solver={'lbfgs', 'sgd', 'adam'}\n",
    "        hidden_layer_sizes=[100,100],        # 隐层单元\n",
    "        activation='relu',                   # 激活函数activation={'identity', 'logistic', 'tanh', 'relu'}\n",
    "        alpha=1e-5,                          # 正则化参数\n",
    "        max_iter=400)                        # 最大迭代次数  \n",
    "#        learning_rate='constant',           # 学习率={'constant', 'invscaling', 'adaptive'}\n",
    "#        momentum=0.9)                       # 动量，默认值0.9, 一般是在SGD算法中使用\n",
    "    \n",
    "    return model"
   ]
  },
  {
   "cell_type": "markdown",
   "metadata": {},
   "source": [
    "#### **Step3: 模型训练**"
   ]
  },
  {
   "cell_type": "code",
   "execution_count": 8,
   "metadata": {
    "execution": {
     "iopub.execute_input": "2020-05-06T16:04:32.781366Z",
     "iopub.status.busy": "2020-05-06T16:04:32.780368Z",
     "iopub.status.idle": "2020-05-06T16:04:32.785354Z",
     "shell.execute_reply": "2020-05-06T16:04:32.785354Z",
     "shell.execute_reply.started": "2020-05-06T16:04:32.781366Z"
    }
   },
   "outputs": [],
   "source": [
    "def train(model, x_train,y_train):\n",
    "    model.fit(X_train,               #训练集特征向量\n",
    "              y_train.ravel())       #训练集目标值"
   ]
  },
  {
   "cell_type": "code",
   "execution_count": 9,
   "metadata": {
    "execution": {
     "iopub.execute_input": "2020-05-06T16:04:32.787349Z",
     "iopub.status.busy": "2020-05-06T16:04:32.787349Z",
     "iopub.status.idle": "2020-05-06T16:04:32.790341Z",
     "shell.execute_reply": "2020-05-06T16:04:32.790341Z",
     "shell.execute_reply.started": "2020-05-06T16:04:32.787349Z"
    }
   },
   "outputs": [],
   "source": [
    "# train(model, X_train, y_train)"
   ]
  },
  {
   "cell_type": "markdown",
   "metadata": {},
   "source": [
    "#### **Step4: 保存模型**"
   ]
  },
  {
   "cell_type": "code",
   "execution_count": 10,
   "metadata": {
    "execution": {
     "iopub.execute_input": "2020-05-06T16:04:32.791338Z",
     "iopub.status.busy": "2020-05-06T16:04:32.791338Z",
     "iopub.status.idle": "2020-05-06T16:04:32.795327Z",
     "shell.execute_reply": "2020-05-06T16:04:32.795327Z",
     "shell.execute_reply.started": "2020-05-06T16:04:32.791338Z"
    }
   },
   "outputs": [],
   "source": [
    "# 将训练好的模型保存到指定文件夹\n",
    "def save_model(model, model_path):\n",
    "    joblib.dump(model, model_path)"
   ]
  },
  {
   "cell_type": "markdown",
   "metadata": {},
   "source": [
    "#### **Step5: 模型评估**"
   ]
  },
  {
   "cell_type": "code",
   "execution_count": 11,
   "metadata": {
    "execution": {
     "iopub.execute_input": "2020-05-06T16:04:32.796325Z",
     "iopub.status.busy": "2020-05-06T16:04:32.796325Z",
     "iopub.status.idle": "2020-05-06T16:04:32.800314Z",
     "shell.execute_reply": "2020-05-06T16:04:32.800314Z",
     "shell.execute_reply.started": "2020-05-06T16:04:32.796325Z"
    }
   },
   "outputs": [],
   "source": [
    "def print_results(model, model_name, X_train, y_train, X_test, y_test):\n",
    "    print('{}模型:'.format(model_name))\n",
    "    \n",
    "    # 分别打印训练集和测试集的准确率  score(X_train,y_train):输出X_train,X_test在模型上的准确率\n",
    "    print('训练集评分: {:.3f}'.format(model.score(X_train, y_train)))\n",
    "    print('测试集评分: {:.3f}'.format(model.score(X_test, y_test)))\n",
    "    \n",
    "    # 计算决策函数的值，表示x到各分割平面的距离(该函数只支持SVM)\n",
    "#     print('decision_function:\\n', model.decision_function(X_train))"
   ]
  },
  {
   "cell_type": "code",
   "execution_count": 12,
   "metadata": {
    "execution": {
     "iopub.execute_input": "2020-05-06T16:04:32.801312Z",
     "iopub.status.busy": "2020-05-06T16:04:32.801312Z",
     "iopub.status.idle": "2020-05-06T16:04:32.806298Z",
     "shell.execute_reply": "2020-05-06T16:04:32.806298Z",
     "shell.execute_reply.started": "2020-05-06T16:04:32.801312Z"
    }
   },
   "outputs": [],
   "source": [
    "#  print_results(model,X_train,y_train,X_test,y_test)"
   ]
  },
  {
   "cell_type": "markdown",
   "metadata": {},
   "source": [
    "#### **Step6: 执行主函数Main**\n",
    "\n",
    "在Python中，定义好的函数必须要经过调用才能被执行。我们通常使用一个主函数`__main__`来实现其他函数的调用和执行。"
   ]
  },
  {
   "cell_type": "code",
   "execution_count": 14,
   "metadata": {
    "execution": {
     "iopub.execute_input": "2020-05-06T16:04:54.205842Z",
     "iopub.status.busy": "2020-05-06T16:04:54.205842Z",
     "iopub.status.idle": "2020-05-06T16:04:59.449445Z",
     "shell.execute_reply": "2020-05-06T16:04:59.449445Z",
     "shell.execute_reply.started": "2020-05-06T16:04:54.205842Z"
    }
   },
   "outputs": [
    {
     "name": "stdout",
     "output_type": "stream",
     "text": [
      " 训练集图片大小: 28*28, 已载入60000/60000.\n",
      "训练集标签数量: 60000...已完成。\n",
      " 测试集图片大小: 28*28, 已载入10000/10000.\n",
      "测试集标签数量: 10000...已完成。\n",
      "Bayes模型:\n",
      "训练集评分: 0.606\n",
      "测试集评分: 0.562\n"
     ]
    }
   ],
   "source": [
    "if __name__ == '__main__':\n",
    "# 0. 全局超参数配置\n",
    "    rate        = 0.2       # 抽取一定比例的样本作为测试\n",
    "    imgSize     = 28         # 图片尺寸\n",
    "    model_name  = 'Bayes'      # 定义模型名称：{'0':'Bayes','1':'SVM','2':'MLP'} \n",
    "    nowtime     = time.strftime('%Y%m%d%H%M%S',time.localtime(time.time()))   # 获取当前时间\n",
    "    modelPath   = 'model/Exp02MNIST_' + model_name + nowtime + '.pkl'         # 获取模型保存路径     \n",
    "\n",
    "# 1. 准备数据集\n",
    "    X_train, X_test, y_train, y_test = load_datasets(show_examples = False)\n",
    "\n",
    "    X_train = preprocessing(X_train)\n",
    "    X_test = preprocessing(X_test)\n",
    "    \n",
    "    # 压缩训练集的数据量\n",
    "#     X_train, y_train = get_lite(rate, X_train, y_train, show_examples = True) \n",
    "    X_train, y_train = get_lite(rate, X_train, y_train)    \n",
    "        \n",
    "    \n",
    "# 2. 定义模型：SVM模型定义\n",
    "    if model_name is 'Bayes':\n",
    "        model = Bayes()\n",
    "    if model_name is 'SVM':\n",
    "        model = SVM()\n",
    "    if model_name is 'MLP':\n",
    "        model = MLP()\n",
    "            \n",
    "# 3. 启动训练过程\n",
    "    train(model, X_train, y_train)\n",
    "                    \n",
    "# 4. 保存模型\n",
    "    joblib.dump(model, modelPath) \n",
    "\n",
    "# 5. 模型评估\n",
    "    print_results(model, model_name, X_train, y_train, X_test, y_test)"
   ]
  },
  {
   "cell_type": "code",
   "execution_count": 15,
   "metadata": {
    "execution": {
     "iopub.execute_input": "2020-05-06T16:06:51.344587Z",
     "iopub.status.busy": "2020-05-06T16:06:51.343589Z",
     "iopub.status.idle": "2020-05-06T16:06:51.347095Z",
     "shell.execute_reply": "2020-05-06T16:06:51.347095Z",
     "shell.execute_reply.started": "2020-05-06T16:06:51.344587Z"
    }
   },
   "outputs": [],
   "source": [
    "###################以下显示实例代码中三个模型的运行结果#############\n",
    "# SVM模型运行结果\n",
    "# Last executed at 2020-05-05 14:57:15 in 2m 5.04s\n",
    "# SVM模型:\n",
    "# 训练集评分: 0.952\n",
    "# 测试集评分: 0.939\n",
    "    \n",
    "#MLP模型运行结果\n",
    "# Last executed at 2020-05-05 15:02:08 in 36.52s    \n",
    "# MLP模型:\n",
    "# 训练集评分: 1.000\n",
    "# 测试集评分: 0.946"
   ]
  },
  {
   "cell_type": "markdown",
   "metadata": {},
   "source": [
    "### **任务二：单图片预测**"
   ]
  },
  {
   "cell_type": "markdown",
   "metadata": {},
   "source": [
    "#### **Step1. 载入图片**"
   ]
  },
  {
   "cell_type": "code",
   "execution_count": 17,
   "metadata": {
    "execution": {
     "iopub.execute_input": "2020-05-06T16:09:12.866595Z",
     "iopub.status.busy": "2020-05-06T16:09:12.866595Z",
     "iopub.status.idle": "2020-05-06T16:09:12.879561Z",
     "shell.execute_reply": "2020-05-06T16:09:12.878564Z",
     "shell.execute_reply.started": "2020-05-06T16:09:12.866595Z"
    }
   },
   "outputs": [],
   "source": [
    "def load_image(file_path, show_examples = False):\n",
    "    im = Image.open(file_path).convert('L')  # 使用PIL将载入图像文件，并转换为灰度模式，L表示灰度图像模式\n",
    "    im = np.array(im).astype(np.float32)     # 将plt图像转换为numpy数组\n",
    "        \n",
    "    if show_examples == True:                # 根据超参数决定是否显示图像\n",
    "        plt.imshow(im)\n",
    "    \n",
    "    im = im.reshape(1,imgSize,imgSize)       # 将数组转换成[Channel, Height, Width]形式\n",
    "\n",
    "    return im"
   ]
  },
  {
   "cell_type": "code",
   "execution_count": 18,
   "metadata": {
    "execution": {
     "iopub.execute_input": "2020-05-06T16:09:13.304450Z",
     "iopub.status.busy": "2020-05-06T16:09:13.303453Z",
     "iopub.status.idle": "2020-05-06T16:09:13.311430Z",
     "shell.execute_reply": "2020-05-06T16:09:13.310432Z",
     "shell.execute_reply.started": "2020-05-06T16:09:13.304450Z"
    }
   },
   "outputs": [],
   "source": [
    "# file_path = 'tmp/mnist34.png'\n",
    "# im = load_image(file_path, show_examples = True)"
   ]
  },
  {
   "cell_type": "markdown",
   "metadata": {},
   "source": [
    "#### **Step2. 图像预处理**\n",
    "\n",
    "可共用训练模型时所使用的预处理函数`preprocessing()`，**而且通常也应该使用同一个函数，以保证预处理的一致性。**"
   ]
  },
  {
   "cell_type": "code",
   "execution_count": 19,
   "metadata": {
    "execution": {
     "iopub.execute_input": "2020-05-06T16:09:13.684443Z",
     "iopub.status.busy": "2020-05-06T16:09:13.684443Z",
     "iopub.status.idle": "2020-05-06T16:09:13.687435Z",
     "shell.execute_reply": "2020-05-06T16:09:13.687435Z",
     "shell.execute_reply.started": "2020-05-06T16:09:13.684443Z"
    }
   },
   "outputs": [],
   "source": [
    "# im = preprocessing(im)"
   ]
  },
  {
   "cell_type": "markdown",
   "metadata": {},
   "source": [
    "#### **Step3: 载入模型**"
   ]
  },
  {
   "cell_type": "code",
   "execution_count": 20,
   "metadata": {
    "execution": {
     "iopub.execute_input": "2020-05-06T16:09:14.213030Z",
     "iopub.status.busy": "2020-05-06T16:09:14.212033Z",
     "iopub.status.idle": "2020-05-06T16:09:14.216022Z",
     "shell.execute_reply": "2020-05-06T16:09:14.216022Z",
     "shell.execute_reply.started": "2020-05-06T16:09:14.213030Z"
    }
   },
   "outputs": [],
   "source": [
    "def load_model(model_path):\n",
    "    model = joblib.load(model_path)\n",
    "    return model"
   ]
  },
  {
   "cell_type": "code",
   "execution_count": 21,
   "metadata": {
    "execution": {
     "iopub.execute_input": "2020-05-06T16:09:14.454890Z",
     "iopub.status.busy": "2020-05-06T16:09:14.454890Z",
     "iopub.status.idle": "2020-05-06T16:09:14.457882Z",
     "shell.execute_reply": "2020-05-06T16:09:14.457882Z",
     "shell.execute_reply.started": "2020-05-06T16:09:14.454890Z"
    }
   },
   "outputs": [],
   "source": [
    "# model = load_model(model_path)"
   ]
  },
  {
   "cell_type": "markdown",
   "metadata": {},
   "source": [
    "#### **Step4. 预测图像**"
   ]
  },
  {
   "cell_type": "code",
   "execution_count": 22,
   "metadata": {
    "execution": {
     "iopub.execute_input": "2020-05-06T16:09:16.211770Z",
     "iopub.status.busy": "2020-05-06T16:09:16.211770Z",
     "iopub.status.idle": "2020-05-06T16:09:16.218751Z",
     "shell.execute_reply": "2020-05-06T16:09:16.217754Z",
     "shell.execute_reply.started": "2020-05-06T16:09:16.211770Z"
    }
   },
   "outputs": [],
   "source": [
    "def predict(model, im):\n",
    "    print('待预测样本的标签是:{:.0f}'.format(model.predict(im)[0]))"
   ]
  },
  {
   "cell_type": "markdown",
   "metadata": {},
   "source": [
    "#### **Step5. 执行主函数**"
   ]
  },
  {
   "cell_type": "code",
   "execution_count": 23,
   "metadata": {
    "execution": {
     "iopub.execute_input": "2020-05-06T16:09:17.107911Z",
     "iopub.status.busy": "2020-05-06T16:09:17.107911Z",
     "iopub.status.idle": "2020-05-06T16:09:17.265489Z",
     "shell.execute_reply": "2020-05-06T16:09:17.265489Z",
     "shell.execute_reply.started": "2020-05-06T16:09:17.107911Z"
    }
   },
   "outputs": [
    {
     "name": "stdout",
     "output_type": "stream",
     "text": [
      "待预测样本的标签是:6\n"
     ]
    },
    {
     "data": {
      "image/png": "[encoded data removed]",
      "text/plain": [
       "<Figure size 432x288 with 1 Axes>"
      ]
     },
     "metadata": {
      "needs_background": "light"
     },
     "output_type": "display_data"
    }
   ],
   "source": [
    "if __name__ == '__main__':\n",
    "# Step0. 全局超参数配置\n",
    "    imgSize    = 28     # 图片尺寸\n",
    "    image_id   = 9999   # 设置测试集中的图片ID                        \n",
    "    file_path  = os.path.join('tmp', 'mnist' + str(image_id) + '.png')                         # 待预测图片路径\n",
    "    model_path = 'model/Exp02MNIST_MLP20200506132544.pkl'    # 模型保存路径，附带上当前时间戳\n",
    "    \n",
    "# Step1. 载入图片\n",
    "#    im = load_image(filePath)\n",
    "    im = load_image(file_path, show_examples = True)\n",
    "    \n",
    "# Step2. 图像预处理\n",
    "    im = preprocessing(im)\n",
    "\n",
    "# Step3. 载入模型\n",
    "    model = load_model(model_path)\n",
    "    \n",
    "# Step4. 预测图像\n",
    "    predict(model, im)\n"
   ]
  }
 ],
 "metadata": {
  "kernelspec": {
   "display_name": "Python 3",
   "language": "python",
   "name": "python3"
  },
  "language_info": {
   "codemirror_mode": {
    "name": "ipython",
    "version": 3
   },
   "file_extension": ".py",
   "mimetype": "text/x-python",
   "name": "python",
   "nbconvert_exporter": "python",
   "pygments_lexer": "ipython3",
   "version": "3.7.7"
  }
 },
 "nbformat": 4,
 "nbformat_minor": 4
}
