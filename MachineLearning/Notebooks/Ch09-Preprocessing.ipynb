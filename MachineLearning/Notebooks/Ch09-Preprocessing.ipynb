{
 "cells": [
  {
   "cell_type": "markdown",
   "metadata": {},
   "source": [
    "# 数据预处理、降维、特征提取及聚类"
   ]
  },
  {
   "cell_type": "markdown",
   "metadata": {},
   "source": [
    "<font color=\"blue\">作者：欧新宇（Xinyu OU）</font>\n",
    "\n",
    "<font color=\"red\">本文档所展示的测试结果，均运行于：Intel Core i7-7700K CPU 4.2GHz</font>"
   ]
  },
  {
   "cell_type": "markdown",
   "metadata": {},
   "source": [
    "## 1. 数据预处理\n",
    "### 1.1 使用StandardScaler进行数据预处理\n",
    "### 1.2 使用MinMaxScaler进行数据预处理\n",
    "### 1.3 使用RobustScaler进行数据预处理\n",
    "### 1.4 使用Normalizer进行数据预处理\n",
    "### 1.5 通过数据预处理提高模型准确率"
   ]
  },
  {
   "cell_type": "markdown",
   "metadata": {},
   "source": [
    "## 2. 数据降维\n",
    "### 2.1 PCA主成分分析\n",
    "### 2.2 对数据将为以便于进行可视化\n",
    "### 2.3 原始特征与PCA主成分之间的关系"
   ]
  },
  {
   "cell_type": "markdown",
   "metadata": {},
   "source": [
    "## 3. 特征提取\n",
    "### 3.1 基于PCA的特征提取\n",
    "### 3.2 基于非负矩阵分解的特征提取\n"
   ]
  },
  {
   "cell_type": "markdown",
   "metadata": {},
   "source": [
    "## 4. 聚类算法\n",
    "### 4.1 K均值聚类算法（K-Means）\n",
    "### 4.2 凝聚聚类算法\n",
    "### 4.3 DBSCAN算法"
   ]
  },
  {
   "cell_type": "code",
   "execution_count": null,
   "metadata": {},
   "outputs": [],
   "source": []
  }
 ],
 "metadata": {
  "kernelspec": {
   "display_name": "Python 3",
   "language": "python",
   "name": "python3"
  },
  "language_info": {
   "codemirror_mode": {
    "name": "ipython",
    "version": 3
   },
   "file_extension": ".py",
   "mimetype": "text/x-python",
   "name": "python",
   "nbconvert_exporter": "python",
   "pygments_lexer": "ipython3",
   "version": "3.7.4"
  }
 },
 "nbformat": 4,
 "nbformat_minor": 4
}
