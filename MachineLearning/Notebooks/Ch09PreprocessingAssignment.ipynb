{
 "cells": [
  {
   "cell_type": "markdown",
   "metadata": {},
   "source": [
    "# 课后作业：数据预处理、降维、特征提取及聚类"
   ]
  },
  {
   "cell_type": "markdown",
   "metadata": {},
   "source": [
    "<font color=\"blue\">作者：欧新宇（Xinyu OU）</font>\n",
    "\n",
    "<font color=\"red\">本文档所展示的测试结果，均运行于：Intel Core i7-7700K CPU 4.2GHz</font>"
   ]
  },
  {
   "cell_type": "markdown",
   "metadata": {},
   "source": [
    "**【作业提交】**\n",
    "\n",
    "将分类结果保存到文本文档进行提交(写上每一题的题号和题目，然后再贴答案)，同时提交源代码。\n",
    "1. 测试结果命名为: ex09-结果-你的学号-你的姓名.txt\n",
    "2. 输出图片命名为: ex09-性能对比图-你的学号-你的姓名.png (.jpg)\n",
    "3. 源代码命名为: \n",
    "- ex09-01Ori-你的学号-你的姓名.py\n",
    "- ex09-02Preprocessing-你的学号-你的姓名.py\n",
    "- ex09-03PCA-你的学号-你的姓名.py\n",
    "\n",
    "<font color=\"red\">*结果文件，要求每小题标注题号，两题之间要求空一行*</font>\n",
    "___"
   ]
  },
  {
   "cell_type": "markdown",
   "metadata": {},
   "source": [
    "要求在 \"MNIST人脸识别\" 数据集上完成以下任务，要求如下：\n",
    "1. 要求使用原始数据集的10%完成以下习题。（已给出载入数据集和数据预处理 I部分的代码）\n",
    "2. 使用MLP模型进行训练和测试，基本参数设置为：\n",
    "\n",
    "```python\n",
    "solver='lbfgs', hidden_layer_sizes=[100, 100], activation='relu', alpha=1e-5, random_state=62,\n",
    "```\n",
    "3. 使用原始数据进行预测（ex09-01Ori）\n",
    "4. 测试六种预处理方向对性能的影响（ex09-02Preprocessing）\n",
    "\n",
    "```python\n",
    "methods = ['StandardScaler', 'MinMaxScaler', 'MaxAbsScaler',  'RobustScaler', 'Normalizer', 'Binarizer']\n",
    "```\n",
    "> 在完成了六种预处理方法的性能输出后，对比预处理结果和原始数据的结果，从7种结果中选出性能最好的一种方法完成后续的实验。\n",
    "\n",
    "5. 使用PCA进行降维，并测试性能，要求测试PCA的参数范围为n_components = [0.4:0.99]，可以使用以下代码设置pca的参数范围（ex09-03PCA，ex09-性能对比图）\n",
    "\n",
    "```python\n",
    "num=20\n",
    "scores = np.zeros([3,num]) \n",
    "scores[0,:] = np.linspace(0.40, 0.99, num)\n",
    "```\n",
    "\n",
    "6. 可视化出PCA的性能曲线（ex09-03PCA，ex09-性能对比图）\n",
    "7. 可视化出PCA曲线中最大值的点，以及未进行PCA降维的性能值点（ex09-03PCA，ex09-性能对比图）"
   ]
  },
  {
   "cell_type": "markdown",
   "metadata": {},
   "source": [
    "### 1. 载入MNIST数据集"
   ]
  },
  {
   "cell_type": "code",
   "execution_count": 1,
   "metadata": {},
   "outputs": [
    {
     "name": "stdout",
     "output_type": "stream",
     "text": [
      "开始载入MNIST手写数字数据集：\n",
      " 训练集图片大小: 28*28, 已载入60000/60000.\n",
      "训练集标签数量: 60000...已完成。\n",
      " 测试集图片大小: 28*28, 已载入10000/10000.\n",
      "测试集标签数量: 10000...已完成。\n",
      "载入数据集共耗时: 2.788s\n"
     ]
    }
   ],
   "source": [
    "import sys\n",
    "import os\n",
    "sys.path.append(os.path.join(os.getcwd(), '..', 'Modules'))\n",
    "import load_MNIST\n",
    "\n",
    "import time\n",
    "start = time.time()\n",
    "\n",
    "train_images = load_MNIST.load_train_images()\n",
    "train_labels = load_MNIST.load_train_labels()\n",
    "test_images = load_MNIST.load_test_images()\n",
    "test_labels = load_MNIST.load_test_labels()\n",
    "\n",
    "print(\"载入数据集共耗时: {:.3f}s\".format(time.time() - start))"
   ]
  },
  {
   "cell_type": "markdown",
   "metadata": {},
   "source": [
    "### 2. 数据预处理 I\n",
    "1. 将图像数据转换成二维矩阵，并归一化到 $0-1$ 之间"
   ]
  },
  {
   "cell_type": "code",
   "execution_count": 2,
   "metadata": {},
   "outputs": [],
   "source": [
    "# 标准调整形态的方法\n",
    "# X_train = train_images.reshape(train_images.shape[0], train_images.shape[1]*train_images.shape[2])/255\n",
    "# 此处，因为我们已经知道的样本的形态，所以可以直接书写值\n",
    "\n",
    "X_train = train_images.reshape(60000, 28*28)/255\n",
    "y_train = train_labels\n",
    "X_test = test_images.reshape(10000, 28*28)/255\n",
    "y_test = test_labels"
   ]
  },
  {
   "cell_type": "markdown",
   "metadata": {},
   "source": [
    "2. 为了加速运算，将样本缩减到10%的比例进行处理"
   ]
  },
  {
   "cell_type": "code",
   "execution_count": 3,
   "metadata": {},
   "outputs": [],
   "source": [
    "# 为了提高训练速度，我们只提取10%的样本进行演示\n",
    "X_train_lite = X_train[0:5999,:]\n",
    "y_train_lite = y_train[0:5999]\n",
    "X_test_lite = X_test[0:999,:]\n",
    "y_test_lite = y_test[0:999]"
   ]
  },
  {
   "cell_type": "markdown",
   "metadata": {},
   "source": [
    "### 3. 使用原始数据进行预测"
   ]
  },
  {
   "cell_type": "markdown",
   "metadata": {},
   "source": [
    "### 4. 测试预处理对性能的影响"
   ]
  },
  {
   "cell_type": "markdown",
   "metadata": {},
   "source": [
    "### 5. 使用PCA进行降维，并测试性能"
   ]
  },
  {
   "cell_type": "markdown",
   "metadata": {},
   "source": [
    "### 6. 按要求计算范围内的PCA降维后的性能"
   ]
  },
  {
   "cell_type": "markdown",
   "metadata": {},
   "source": [
    "### 7.可视化性能"
   ]
  }
 ],
 "metadata": {
  "kernelspec": {
   "display_name": "Python 3",
   "language": "python",
   "name": "python3"
  },
  "language_info": {
   "codemirror_mode": {
    "name": "ipython",
    "version": 3
   },
   "file_extension": ".py",
   "mimetype": "text/x-python",
   "name": "python",
   "nbconvert_exporter": "python",
   "pygments_lexer": "ipython3",
   "version": "3.7.4"
  }
 },
 "nbformat": 4,
 "nbformat_minor": 4
}
