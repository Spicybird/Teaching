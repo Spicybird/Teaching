{
 "cells": [
  {
   "cell_type": "markdown",
   "metadata": {},
   "source": [
    "# 课后作业：神经网络(Neural Networks)"
   ]
  },
  {
   "cell_type": "markdown",
   "metadata": {},
   "source": [
    "<font color=\"blue\">作者：欧新宇（Xinyu OU）</font>\n",
    "\n",
    "<font color=\"red\">本文档所展示的测试结果，均运行于：Intel Core i7-7700K CPU 4.2GHz</font>"
   ]
  },
  {
   "cell_type": "markdown",
   "metadata": {},
   "source": [
    "**【作业提交】**\n",
    "\n",
    "将分类结果保存到文本文档进行提交(写上每一题的题号和题目，然后再贴答案)，同时提交源代码。\n",
    "1. 测试结果命名为: ex08-结果-你的学号-你的姓名.txt\n",
    "2. 输出图片命名为: ex08-性能对比图-你的学号-你的姓名.png (.jpg)\n",
    "3. 源代码命名为: \n",
    "- ex08-01Baseline-你的学号-你的姓名.py\n",
    "- ex08-02Single-你的学号-你的姓名.py\n",
    "- ex08-03Multi-你的学号-你的姓名.py\n",
    "- ex08-04Logistic-你的学号-你的姓名.py\n",
    "- ex08-05Tanh-你的学号-你的姓名.py\n",
    "- ex08-06ReLU-你的学号-你的姓名.py\n",
    "- ex08-07All-你的学号-你的姓名.py\n",
    "\n",
    "<font color=\"red\">*结果文件，要求每小题标注题号，两题之间要求空一行*</font>\n",
    "___"
   ]
  },
  {
   "cell_type": "markdown",
   "metadata": {},
   "source": [
    "要求在 \"鸢尾花\" 数据集上完成以下任务，要求如下：\n",
    "1. 要求训练集和测试集的分割比例为: 1:9\n",
    "2. 先构建一个基于默认参数的Baseline模型（ex08-01Baseline），分别在Baseline的基础上设置单隐层模型(增加/减少神经元)（ex08-02Single）、多隐层模型（ex08-03Multi），并输出评分结果。【注意：该题可能需要多次运行，并选择一个出一个较好的结果，提供给第3题使用。】\n",
    "3. 选择一个较好的模型，在此基础上测试三种不同的激活函数 {'logistic', 'tanh', 'relu'}，并输出评分结果。分别命名为：ex08-04Logistic,ex08-05Tanh,ex08-06ReLU。\n",
    "4. 对以上六个模型 {'Baseline', 'Single', 'Multi', 'Logistic', 'Tanh', 'ReLU'}, 绘制测试集性能曲线图.（ex08-07All, ex08-性能对比图）\n",
    "5. 所有模型性能评分，都写入文件（ex08-结果），格式为：\n",
    "\n",
    "```\n",
    "01Baseline: 训练集准确率: 1.0000, 测试集准确率: 0.9704.\n",
    "02Single: 训练集准确率: 1.0000, 测试集准确率: 0.9630.\n",
    "...\n",
    "06ReLU: 训练集准确率: 1.0000, 测试集准确率: 0.9778.\n",
    "```\n"
   ]
  },
  {
   "cell_type": "markdown",
   "metadata": {},
   "source": [
    "**数据集载入方法**\n",
    "\n",
    "```python\n",
    "from sklearn import datasets\n",
    "iris = datasets.load_iris()\n",
    "\n",
    "统一设置：random_state=10\n",
    "\n",
    "```\n",
    "\n",
    "---"
   ]
  },
  {
   "cell_type": "markdown",
   "metadata": {},
   "source": [
    "### Baseline"
   ]
  },
  {
   "cell_type": "code",
   "execution_count": 1,
   "metadata": {},
   "outputs": [
    {
     "name": "stdout",
     "output_type": "stream",
     "text": [
      "训练集准确率: 1.0000, 测试集准确率: 0.9704.\n"
     ]
    }
   ],
   "source": [
    "# TODO: 1. 导入必须库 以及 定义必要的函数\n",
    "# 导入数据集工具包\n",
    "from sklearn import datasets\n",
    "from sklearn.model_selection import train_test_split\n",
    "# 导入MLP神经网络包\n",
    "from sklearn.neural_network import MLPClassifier\n",
    "\n",
    "# TODO: 2. 创建/导入数据\n",
    "iris = datasets.load_iris()\n",
    "\n",
    "# TODO: 3. 数据预处理，包括训练集、测试集划分，数据正则化，数据清洗等\n",
    "X = iris.data\n",
    "y = iris.target\n",
    "X_train, X_test, y_train, y_test = train_test_split(X, y, train_size=0.1, random_state=10)\n",
    "\n",
    "# TODO: 4. 构建模型，并进行模型训练（或称为拟合数据）\n",
    "mlp_Baseline = MLPClassifier(solver='lbfgs', random_state=10)\n",
    "mlp_Baseline.fit(X_train, y_train)\n",
    "\n",
    "# TODO: 5. 输出预测结果\n",
    "score_train = mlp_Baseline.score(X_train, y_train)\n",
    "score_test = mlp_Baseline.score(X_test, y_test)\n",
    "print(\"训练集准确率: {0:.4f}, 测试集准确率: {1:.4f}.\".format(score_train, score_test))\n"
   ]
  },
  {
   "cell_type": "markdown",
   "metadata": {},
   "source": [
    "### Single"
   ]
  },
  {
   "cell_type": "code",
   "execution_count": 2,
   "metadata": {},
   "outputs": [
    {
     "name": "stdout",
     "output_type": "stream",
     "text": [
      "训练集准确率: 1.0000, 测试集准确率: 0.9630.\n"
     ]
    }
   ],
   "source": [
    "# TODO: 1. 导入必须库 以及 定义必要的函数\n",
    "# 导入数据集工具包\n",
    "from sklearn import datasets\n",
    "from sklearn.model_selection import train_test_split\n",
    "# 导入MLP神经网络包\n",
    "from sklearn.neural_network import MLPClassifier\n",
    "\n",
    "# TODO: 2. 创建/导入数据\n",
    "iris = datasets.load_iris()\n",
    "\n",
    "# TODO: 3. 数据预处理，包括训练集、测试集划分，数据正则化，数据清洗等\n",
    "X = iris.data\n",
    "y = iris.target\n",
    "X_train, X_test, y_train, y_test = train_test_split(X, y, train_size=0.1, random_state=10)\n",
    "\n",
    "# TODO: 4. 构建模型，并进行模型训练（或称为拟合数据）\n",
    "mlp_Single = MLPClassifier(solver='lbfgs', random_state=10, \n",
    "                             hidden_layer_sizes=[10])\n",
    "mlp_Single.fit(X_train, y_train)\n",
    "\n",
    "# TODO: 5. 输出预测结果\n",
    "score_train = mlp_Single.score(X_train, y_train)\n",
    "score_test = mlp_Single.score(X_test, y_test)\n",
    "print(\"训练集准确率: {0:.4f}, 测试集准确率: {1:.4f}.\".format(score_train, score_test))\n"
   ]
  },
  {
   "cell_type": "markdown",
   "metadata": {},
   "source": [
    "### Multi"
   ]
  },
  {
   "cell_type": "code",
   "execution_count": 3,
   "metadata": {},
   "outputs": [
    {
     "name": "stdout",
     "output_type": "stream",
     "text": [
      "训练集准确率: 1.0000, 测试集准确率: 0.9778.\n"
     ]
    }
   ],
   "source": [
    "# TODO: 1. 导入必须库 以及 定义必要的函数\n",
    "# 导入数据集工具包\n",
    "from sklearn import datasets\n",
    "from sklearn.model_selection import train_test_split\n",
    "# 导入MLP神经网络包\n",
    "from sklearn.neural_network import MLPClassifier\n",
    "\n",
    "# TODO: 2. 创建/导入数据\n",
    "iris = datasets.load_iris()\n",
    "\n",
    "# TODO: 3. 数据预处理，包括训练集、测试集划分，数据正则化，数据清洗等\n",
    "X = iris.data\n",
    "y = iris.target\n",
    "X_train, X_test, y_train, y_test = train_test_split(X, y, train_size=0.1, random_state=10)\n",
    "\n",
    "# TODO: 4. 构建模型，并进行模型训练（或称为拟合数据）\n",
    "mlp_Multi = MLPClassifier(solver='lbfgs', random_state=10, \n",
    "                             hidden_layer_sizes=[32, 128, 128] )\n",
    "mlp_Multi.fit(X_train, y_train)\n",
    "\n",
    "# TODO: 5. 输出预测结果\n",
    "score_train = mlp_Multi.score(X_train, y_train)\n",
    "score_test = mlp_Multi.score(X_test, y_test)\n",
    "print(\"训练集准确率: {0:.4f}, 测试集准确率: {1:.4f}.\".format(score_train, score_test))\n"
   ]
  },
  {
   "cell_type": "markdown",
   "metadata": {},
   "source": [
    "### Logistic"
   ]
  },
  {
   "cell_type": "code",
   "execution_count": 4,
   "metadata": {},
   "outputs": [
    {
     "name": "stdout",
     "output_type": "stream",
     "text": [
      "训练集准确率: 1.0000, 测试集准确率: 0.9556.\n"
     ]
    }
   ],
   "source": [
    "# TODO: 1. 导入必须库 以及 定义必要的函数\n",
    "# 导入数据集工具包\n",
    "from sklearn import datasets\n",
    "from sklearn.model_selection import train_test_split\n",
    "# 导入MLP神经网络包\n",
    "from sklearn.neural_network import MLPClassifier\n",
    "\n",
    "# TODO: 2. 创建/导入数据\n",
    "iris = datasets.load_iris()\n",
    "\n",
    "# TODO: 3. 数据预处理，包括训练集、测试集划分，数据正则化，数据清洗等\n",
    "X = iris.data\n",
    "y = iris.target\n",
    "X_train, X_test, y_train, y_test = train_test_split(X, y, train_size=0.1, random_state=10)\n",
    "\n",
    "# TODO: 4. 构建模型，并进行模型训练（或称为拟合数据）\n",
    "mlp_Logistic = MLPClassifier(solver='lbfgs', random_state=10, activation='logistic', \n",
    "                             hidden_layer_sizes=[32, 128, 128] )\n",
    "mlp_Logistic.fit(X_train, y_train)\n",
    "\n",
    "# TODO: 5. 输出预测结果\n",
    "score_train = mlp_Logistic.score(X_train, y_train)\n",
    "score_test = mlp_Logistic.score(X_test, y_test)\n",
    "print(\"训练集准确率: {0:.4f}, 测试集准确率: {1:.4f}.\".format(score_train, score_test))\n"
   ]
  },
  {
   "cell_type": "markdown",
   "metadata": {},
   "source": [
    "### Tanh"
   ]
  },
  {
   "cell_type": "code",
   "execution_count": 5,
   "metadata": {},
   "outputs": [
    {
     "name": "stdout",
     "output_type": "stream",
     "text": [
      "训练集准确率: 1.0000, 测试集准确率: 0.9556.\n"
     ]
    }
   ],
   "source": [
    "# TODO: 1. 导入必须库 以及 定义必要的函数\n",
    "# 导入数据集工具包\n",
    "from sklearn import datasets\n",
    "from sklearn.model_selection import train_test_split\n",
    "# 导入MLP神经网络包\n",
    "from sklearn.neural_network import MLPClassifier\n",
    "\n",
    "# TODO: 2. 创建/导入数据\n",
    "iris = datasets.load_iris()\n",
    "\n",
    "# TODO: 3. 数据预处理，包括训练集、测试集划分，数据正则化，数据清洗等\n",
    "X = iris.data\n",
    "y = iris.target\n",
    "X_train, X_test, y_train, y_test = train_test_split(X, y, train_size=0.1, random_state=10)\n",
    "\n",
    "# TODO: 4. 构建模型，并进行模型训练（或称为拟合数据）\n",
    "mlp_Tanh = MLPClassifier(solver='lbfgs', random_state=10, activation='tanh', \n",
    "                             hidden_layer_sizes=[32, 128, 128] )\n",
    "mlp_Tanh.fit(X_train, y_train)\n",
    "\n",
    "# TODO: 5. 输出预测结果\n",
    "score_train = mlp_Tanh.score(X_train, y_train)\n",
    "score_test = mlp_Tanh.score(X_test, y_test)\n",
    "print(\"训练集准确率: {0:.4f}, 测试集准确率: {1:.4f}.\".format(score_train, score_test))\n"
   ]
  },
  {
   "cell_type": "markdown",
   "metadata": {},
   "source": [
    "### ReLU"
   ]
  },
  {
   "cell_type": "code",
   "execution_count": 6,
   "metadata": {},
   "outputs": [
    {
     "name": "stdout",
     "output_type": "stream",
     "text": [
      "训练集准确率: 1.0000, 测试集准确率: 0.9778.\n"
     ]
    }
   ],
   "source": [
    "# TODO: 1. 导入必须库 以及 定义必要的函数\n",
    "# 导入数据集工具包\n",
    "from sklearn import datasets\n",
    "from sklearn.model_selection import train_test_split\n",
    "# 导入MLP神经网络包\n",
    "from sklearn.neural_network import MLPClassifier\n",
    "\n",
    "# TODO: 2. 创建/导入数据\n",
    "iris = datasets.load_iris()\n",
    "\n",
    "# TODO: 3. 数据预处理，包括训练集、测试集划分，数据正则化，数据清洗等\n",
    "X = iris.data\n",
    "y = iris.target\n",
    "X_train, X_test, y_train, y_test = train_test_split(X, y, train_size=0.1, random_state=10)\n",
    "\n",
    "# TODO: 4. 构建模型，并进行模型训练（或称为拟合数据）\n",
    "mlp_ReLU = MLPClassifier(solver='lbfgs', random_state=10, activation='relu', \n",
    "                             hidden_layer_sizes=[32, 128, 128] )\n",
    "mlp_ReLU.fit(X_train, y_train)\n",
    "\n",
    "# TODO: 5. 输出预测结果\n",
    "score_train = mlp_ReLU.score(X_train, y_train)\n",
    "score_test = mlp_ReLU.score(X_test, y_test)\n",
    "print(\"训练集准确率: {0:.4f}, 测试集准确率: {1:.4f}.\".format(score_train, score_test))\n"
   ]
  },
  {
   "cell_type": "markdown",
   "metadata": {},
   "source": [
    "### 所有方法对比"
   ]
  },
  {
   "cell_type": "code",
   "execution_count": 8,
   "metadata": {},
   "outputs": [
    {
     "data": {
      "image/png": "[encoded data removed]",
      "text/plain": [
       "<Figure size 600x400 with 1 Axes>"
      ]
     },
     "metadata": {
      "needs_background": "light"
     },
     "output_type": "display_data"
    }
   ],
   "source": [
    "# TODO: 1. 导入必须库 以及 定义必要的函数\n",
    "import numpy as np\n",
    "import matplotlib.pyplot as plt\n",
    "# 导入数据集工具包\n",
    "from sklearn import datasets\n",
    "from sklearn.model_selection import train_test_split\n",
    "# 导入MLP神经网络包\n",
    "from sklearn.neural_network import MLPClassifier\n",
    "\n",
    "# TODO: 2. 创建/导入数据\n",
    "iris = datasets.load_iris()\n",
    "\n",
    "# TODO: 3. 数据预处理，包括训练集、测试集划分，数据正则化，数据清洗等\n",
    "X = iris.data\n",
    "y = iris.target\n",
    "X_train, X_test, y_train, y_test = train_test_split(X, y, train_size=0.1, random_state=10)\n",
    "\n",
    "xticks = ['Baseline', 'Single', 'Multi', 'Logistic', 'Tanh', 'ReLU']\n",
    "num = len(xticks)\n",
    "scores_test = np.zeros([1, num])\n",
    "\n",
    "# TODO: 4. 构建模型，并进行模型训练（或称为拟合数据）\n",
    "mlp_Baseline = MLPClassifier(solver='lbfgs', random_state=10)\n",
    "mlp_Baseline.fit(X_train, y_train)\n",
    "scores_test[0, 0] = mlp_Baseline.score(X_test, y_test)\n",
    "\n",
    "mlp_Single = MLPClassifier(solver='lbfgs', random_state=10, hidden_layer_sizes=[10])\n",
    "mlp_Single.fit(X_train, y_train)\n",
    "scores_test[0, 1] = mlp_Single.score(X_test, y_test)\n",
    "\n",
    "mlp_Multi = MLPClassifier(solver='lbfgs', random_state=10, hidden_layer_sizes=[32, 128, 128] )\n",
    "mlp_Multi.fit(X_train, y_train)\n",
    "scores_test[0, 2] = mlp_Multi.score(X_test, y_test)\n",
    "\n",
    "\n",
    "mlp_Logistic = MLPClassifier(solver='lbfgs', random_state=10, activation='logistic', hidden_layer_sizes=[32, 128, 128] )\n",
    "mlp_Logistic.fit(X_train, y_train)\n",
    "scores_test[0, 3] = mlp_Logistic.score(X_test, y_test)\n",
    "\n",
    "\n",
    "mlp_Tanh = MLPClassifier(solver='lbfgs', random_state=10, activation='tanh', hidden_layer_sizes=[32, 128, 128] )\n",
    "mlp_Tanh.fit(X_train, y_train)\n",
    "scores_test[0, 4] = mlp_Tanh.score(X_test, y_test)\n",
    "\n",
    "\n",
    "mlp_ReLU = MLPClassifier(solver='lbfgs', random_state=10, activation='relu', hidden_layer_sizes=[32, 128, 128] )\n",
    "mlp_ReLU.fit(X_train, y_train)\n",
    "scores_test[0, 5] = mlp_ReLU.score(X_test, y_test)\n",
    "\n",
    "plt.figure(dpi=100)\n",
    "plt.plot(scores_test[0, :], label='Test')\n",
    "plt.legend(loc='best')\n",
    "plt.savefig('results/Ch08Hw01NN.png', dpi=150)\n",
    "plt.show()"
   ]
  }
 ],
 "metadata": {
  "kernelspec": {
   "display_name": "Python 3",
   "language": "python",
   "name": "python3"
  },
  "language_info": {
   "codemirror_mode": {
    "name": "ipython",
    "version": 3
   },
   "file_extension": ".py",
   "mimetype": "text/x-python",
   "name": "python",
   "nbconvert_exporter": "python",
   "pygments_lexer": "ipython3",
   "version": "3.7.4"
  }
 },
 "nbformat": 4,
 "nbformat_minor": 4
}
