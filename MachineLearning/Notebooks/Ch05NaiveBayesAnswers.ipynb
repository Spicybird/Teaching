{
 "cells": [
  {
   "cell_type": "markdown",
   "metadata": {},
   "source": [
    "# 课后作业：NaiveBayes "
   ]
  },
  {
   "cell_type": "markdown",
   "metadata": {},
   "source": [
    "<font color=\"blue\">作者：欧新宇（Xinyu OU）</font>"
   ]
  },
  {
   "cell_type": "markdown",
   "metadata": {},
   "source": [
    "**【作业提交】**\n",
    "\n",
    "将分类结果保存到文本文档进行提交(写上每一题的题号和题目，然后再贴答案)，同时提交源代码。\n",
    "1. 测试结果命名为: ex05-结果-你的学号-你的姓名.txt\n",
    "2. 源代码命名: ex05-01-你的学号-你的姓名.py, ex05-02-你的学号-你的姓名.py, ex05-03-你的学号-你的姓名.py \n",
    "\n",
    "<font color=\"red\">*结果文件，要求每小题标注题号，两题之间要求空一行*</font>\n",
    "___"
   ]
  },
  {
   "cell_type": "markdown",
   "metadata": {},
   "source": [
    "要求在 “糖尿病预测” 数据集上使用高斯 (Gaussian) 朴素贝叶斯完成以下任务，要求如下：\n",
    "1. 要求训练集和测试集的分割比例为80%:20%, 给出KNN在训练集和测试集上的分类精度（ex05-01, ex05-结果）\n",
    "2. 对于第79个测试样本，输出对于该样本的类别预测值，以及每个类别的预测概率（ex05-02, ex05-结果）\n",
    "3. 给定新样本，给出该样本的类别，以及每个类别的预测概率。（ex05-03, ex05-结果）\n",
    "\n",
    "样本中各个参数的值为：\n",
    "- Pregnancies: 【学号//6】\n",
    "- Glucose：【学号*3】\n",
    "- BloodPressure：【学号*2】\n",
    "- SkinThickness：【学号】\n",
    "- Insulin：【学号*4】\n",
    "- BMI：30+【学号/7】\n",
    "- DiabetesPedigreeFunction：【学号/6】\n",
    "- Age：【学号】\n",
    "\n",
    "【学号】 = 你的学号的后两位\n",
    "\n",
    "<font color=blue>提示：由于糖尿病数据集时通过pandas进行输入的，所以在进行数据操作和处理的时候，需要转换为numpy数据组，实现方法参考如下：</blue>\n",
    "\n",
    "```\n",
    "X_test = np.array(X_test)[data_id]\n",
    "```"
   ]
  },
  {
   "cell_type": "markdown",
   "metadata": {},
   "source": [
    "参考代码"
   ]
  },
  {
   "cell_type": "code",
   "execution_count": 83,
   "metadata": {},
   "outputs": [
    {
     "name": "stdout",
     "output_type": "stream",
     "text": [
      "训练集评分:0.76；测试集评分:0.75\n"
     ]
    }
   ],
   "source": [
    "# 加载 pandas库，并使用read_csv()函数读取糖尿病预测数据集diabetes\n",
    "import pandas as pd\n",
    "data = pd.read_csv('datasets/diabetes.csv')\n",
    "\n",
    "# 将数据中的特征和标签进行分离，其中第0位位索引号，第1-8位位特征，第9位为标签\n",
    "X = data.iloc[:, 0:8]\n",
    "y = data.iloc[:, 8]\n",
    "\n",
    "# 以 70%:30%的比例对训练集和测试集进行拆分\n",
    "from sklearn.model_selection import train_test_split\n",
    "X_train, X_test, y_train, y_test = train_test_split(X, y, test_size = 0.2)\n",
    "\n",
    "# 引入KNN分类模型, 并配置KNN分类器，设置近邻数 = 2\n",
    "from sklearn.naive_bayes import GaussianNB\n",
    "gnb = GaussianNB()\n",
    "gnb.fit(X_train, y_train)\n",
    "\n",
    "train_score = gnb.score(X_train, y_train)\n",
    "test_score = gnb.score(X_test, y_test)\n",
    "\n",
    "print(\"训练集评分:{0:.2f}；测试集评分:{1:.2f}\".format(train_score, test_score))\n",
    "\n"
   ]
  },
  {
   "cell_type": "code",
   "execution_count": 84,
   "metadata": {},
   "outputs": [
    {
     "name": "stdout",
     "output_type": "stream",
     "text": [
      "样本的正确分类为: 0\n",
      "GaussianNB模型预测的分类是: 0\n",
      "+ 属于分类0的概率值是：0.84583\n",
      "+ 属于分类1的概率值是：0.15417\n"
     ]
    }
   ],
   "source": [
    "data_id = 39\n",
    "data_x = [np.array(X_test)[data_id]]\n",
    "data_y = np.array(y_test)[data_id]\n",
    "\n",
    "print(\"样本的正确分类为: {}\".format(data_y))\n",
    "\n",
    "print(\"GaussianNB模型预测的分类是: {}\".format(gnb.predict(data_x)[0]))\n",
    "print(\"+ 属于分类0的概率值是：{:.5f}\".format(gnb.predict_proba(data_x)[0][0]))\n",
    "print(\"+ 属于分类1的概率值是：{:.5f}\".format(gnb.predict_proba(data_x)[0][1]))"
   ]
  },
  {
   "cell_type": "code",
   "execution_count": 85,
   "metadata": {},
   "outputs": [
    {
     "name": "stdout",
     "output_type": "stream",
     "text": [
      "新样本的预测分类为：[0]\n",
      "+ 属于分类0的概率值是：0.69533\n",
      "+ 属于分类1的概率值是：0.30467\n"
     ]
    }
   ],
   "source": [
    "import numpy as np\n",
    "noStudent = 12\n",
    "X_new = np.array([[noStudent//6, noStudent*3, \n",
    "                   noStudent*2, noStudent, noStudent*4, \n",
    "                   noStudent/7, noStudent/6, noStudent]])\n",
    "\n",
    "prediction = gnb.predict(X_new)\n",
    "prediction_prob = gnb.predict_proba(X_new)\n",
    "print(\"新样本的预测分类为：{}\".format(prediction))\n",
    "print(\"+ 属于分类0的概率值是：{:.5f}\".format(prediction_prob[0][0]))\n",
    "print(\"+ 属于分类1的概率值是：{:.5f}\".format(prediction_prob[0][1]))\n",
    "\n"
   ]
  }
 ],
 "metadata": {
  "kernelspec": {
   "display_name": "Python 3",
   "language": "python",
   "name": "python3"
  },
  "language_info": {
   "codemirror_mode": {
    "name": "ipython",
    "version": 3
   },
   "file_extension": ".py",
   "mimetype": "text/x-python",
   "name": "python",
   "nbconvert_exporter": "python",
   "pygments_lexer": "ipython3",
   "version": "3.7.4"
  },
  "toc-autonumbering": false
 },
 "nbformat": 4,
 "nbformat_minor": 4
}
