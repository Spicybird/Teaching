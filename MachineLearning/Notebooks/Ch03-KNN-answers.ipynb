{
 "cells": [
  {
   "cell_type": "markdown",
   "metadata": {},
   "source": [
    "# 课后作业：KNN (K最近邻算法/K近邻算法)"
   ]
  },
  {
   "cell_type": "markdown",
   "metadata": {},
   "source": [
    "<font color=\"blue\">作者：欧新宇（Xinyu OU）</font>"
   ]
  },
  {
   "cell_type": "raw",
   "metadata": {},
   "source": [
    "【作业提交】\n",
    "将分类结果保存到文本文档进行提交，同时提交源代码。\n",
    "1. 测试结果命名为:ex03-结果-你的学号-你的姓名.xls(.xlsx)\n",
    "2. 源代码命名为：ex03-源代码-你的学号-你的姓名.py"
   ]
  },
  {
   "cell_type": "markdown",
   "metadata": {},
   "source": [
    "使用 “糖尿病预测” 数据集完成以下任务，要求如下：\n",
    "1. 要求训练集和测试集的分割比例为70%:30%, 给出KNN在训练集和测试集上的分类精度\n",
    "2. 给定新样本，给出该样本的类别。\n",
    "\n",
    "样本中各个参数的值为：\n",
    "- Pregnancies: 【学号//6】\n",
    "- Glucose：【学号*3】\n",
    "- BloodPressure：【学号*2】\n",
    "- SkinThickness：【学号】\n",
    "- Insulin：【学号*4】\n",
    "- BMI：30+【学号/7】\n",
    "- DiabetesPedigreeFunction：【学号/6】\n",
    "- Age：【学号】\n",
    "\n"
   ]
  },
  {
   "cell_type": "markdown",
   "metadata": {},
   "source": [
    "参考代码"
   ]
  },
  {
   "cell_type": "code",
   "execution_count": 2,
   "metadata": {},
   "outputs": [
    {
     "name": "stdout",
     "output_type": "stream",
     "text": [
      "训练集评分:0.83；测试集评分:0.72\n"
     ]
    }
   ],
   "source": [
    "# 加载 pandas库，并使用read_csv()函数读取糖尿病预测数据集diabetes\n",
    "import pandas as pd\n",
    "data = pd.read_csv('datasets/diabetes.csv')\n",
    "\n",
    "# 将数据中的特征和标签进行分离，其中第0位位索引号，第1-8位位特征，第9位为标签\n",
    "X = data.iloc[:, 0:8]\n",
    "y = data.iloc[:, 8]\n",
    "\n",
    "# 以 70%:30%的比例对训练集和测试集进行拆分\n",
    "from sklearn.model_selection import train_test_split\n",
    "X_train, X_test, y_train, y_test = train_test_split(X, y, test_size = 0.3)\n",
    "\n",
    "# 引入KNN分类模型, 并配置KNN分类器，设置近邻数 = 2\n",
    "from sklearn.neighbors import KNeighborsClassifier\n",
    "knn = KNeighborsClassifier(n_neighbors = 2)\n",
    "knn.fit(X_train, y_train)\n",
    "\n",
    "train_score = knn.score(X_train, y_train)\n",
    "test_score = knn.score(X_test, y_test)\n",
    "\n",
    "print(\"训练集评分:{0:.2f}；测试集评分:{1:.2f}\".format(train_score, test_score))\n",
    "\n"
   ]
  },
  {
   "cell_type": "code",
   "execution_count": 3,
   "metadata": {},
   "outputs": [
    {
     "name": "stdout",
     "output_type": "stream",
     "text": [
      "新样本的分类为：[1]\n"
     ]
    }
   ],
   "source": [
    "import numpy as np\n",
    "noStudent = 131\n",
    "X_new = np.array([[noStudent//6, noStudent*3, \n",
    "                   noStudent*2, noStudent, noStudent*4, \n",
    "                   noStudent/7, noStudent/6, noStudent]])\n",
    "prediction = knn.predict(X_new)\n",
    "print(\"新样本的分类为：{}\".format(prediction))"
   ]
  },
  {
   "cell_type": "code",
   "execution_count": null,
   "metadata": {},
   "outputs": [],
   "source": []
  }
 ],
 "metadata": {
  "kernelspec": {
   "display_name": "Python 3",
   "language": "python",
   "name": "python3"
  },
  "language_info": {
   "codemirror_mode": {
    "name": "ipython",
    "version": 3
   },
   "file_extension": ".py",
   "mimetype": "text/x-python",
   "name": "python",
   "nbconvert_exporter": "python",
   "pygments_lexer": "ipython3",
   "version": "3.7.4"
  },
  "toc-autonumbering": false
 },
 "nbformat": 4,
 "nbformat_minor": 4
}
