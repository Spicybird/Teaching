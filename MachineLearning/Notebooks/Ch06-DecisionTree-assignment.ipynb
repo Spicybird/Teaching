{
 "cells": [
  {
   "cell_type": "markdown",
   "metadata": {},
   "source": [
    "# 课后作业：决策树(Decision Tree)与随机森林(Random Forests)"
   ]
  },
  {
   "cell_type": "markdown",
   "metadata": {},
   "source": [
    "<font color=\"blue\">作者：欧新宇（Xinyu OU）</font>\n",
    "\n",
    "<font color=\"red\">本文档所展示的测试结果，均运行于：Intel Core i7-7700K CPU 4.2GHz</font>"
   ]
  },
  {
   "cell_type": "markdown",
   "metadata": {},
   "source": [
    "**【作业提交】**\n",
    "\n",
    "将分类结果保存到文本文档进行提交(写上每一题的题号和题目，然后再贴答案)，同时提交源代码。\n",
    "1. 测试结果命名为: ex06-结果-你的学号-你的姓名.txt\n",
    "2. 输出图片命名为: ex06-性能对比图-你的学号-你的姓名.png (.jpg)\n",
    "3. 源代码命名为: ex06-01-你的学号-你的姓名.py, ex06-02-你的学号-你的姓名.py, ex06-03-你的学号-你的姓名.py\n",
    "\n",
    "<font color=\"red\">*结果文件，要求每小题标注题号，两题之间要求空一行*</font>\n",
    "___"
   ]
  },
  {
   "cell_type": "markdown",
   "metadata": {},
   "source": [
    "要求在 “糖尿病预测” 数据集上分别使用决策树与随机森林完成以下任务，要求如下：\n",
    "1. 要求训练集和测试集的分割比例为75%:25%\n",
    "2. 使用**决策树**模型输出树的深度分别为3和5的得分，要求同时输出训练集和测试集上的评分结果。（ex06-01）\n",
    "3. 使用**随机森林**模型输出森林中树的个数分别为4和6的得分，随机数种子=8，要求同时输出训练集和测试集上的评分结果。（ex06-02）\n",
    "4. 同时使用**决策树**(树深度={1:20})和**随机森林**(树的棵树={1:20})进行建模，并输出性能对比图。（ex06-03, ex06-性能对比图）"
   ]
  }
 ],
 "metadata": {
  "kernelspec": {
   "display_name": "Python 3",
   "language": "python",
   "name": "python3"
  },
  "language_info": {
   "codemirror_mode": {
    "name": "ipython",
    "version": 3
   },
   "file_extension": ".py",
   "mimetype": "text/x-python",
   "name": "python",
   "nbconvert_exporter": "python",
   "pygments_lexer": "ipython3",
   "version": "3.7.4"
  }
 },
 "nbformat": 4,
 "nbformat_minor": 4
}
