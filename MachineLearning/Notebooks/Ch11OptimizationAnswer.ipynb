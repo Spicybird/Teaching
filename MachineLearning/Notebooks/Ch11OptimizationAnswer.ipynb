{
 "cells": [
  {
   "cell_type": "markdown",
   "metadata": {},
   "source": [
    "# 课后作业：模型评估与优化"
   ]
  },
  {
   "cell_type": "markdown",
   "metadata": {},
   "source": [
    "<font color=\"blue\">作者：欧新宇（Xinyu OU）</font>\n",
    "\n",
    "<font color=\"red\">本文档所展示的测试结果，均运行于：Intel Core i7-7700K CPU 4.2GHz</font>"
   ]
  },
  {
   "cell_type": "markdown",
   "metadata": {},
   "source": [
    "**【作业提交】**\n",
    "\n",
    "将分类结果保存到文本文档进行提交(写上每一题的题号和题目，然后再贴答案)，同时提交源代码。\n",
    "1. 测试结果命名为: ex11-结果-你的学号-你的姓名.txt\n",
    "2. 源代码命名为:  ex1101-你的学号-你的姓名.py\n",
    "\n",
    "<font color=\"red\">*结果文件，要求每小题标注题号，两题之间要求空一行*</font>\n",
    "___"
   ]
  },
  {
   "cell_type": "markdown",
   "metadata": {},
   "source": [
    "- 要求在 \"鸢尾花\" 数据集上完成以下任务，要求如下：\n",
    "    1. 要求`训练集`、`验证集`的分割比例为：<font color=\"blue\">70% :  30%</font>\n",
    "    2. 使用`MLP`模型进行训练和测试，MLP优化函数为lbfgs，激活函数为relu\n",
    "    3. 使用`StratifiedKFold`算法进行**分层5折交叉验证** \n",
    "    4. 所有算法的`随机参数` random_state=62\n",
    "    5. 结果保留4位小数\n",
    "    6. 输出测试集结果的时候，可以使用基于网格搜索的三种输出中的任意一种\n",
    "\n",
    "\n",
    "- MLP需要搜索的参数列表为：\n",
    "    - alpha: [5e-4, 1e-4, 5e-3, 1e-3, 5e-2, 1e-2],\n",
    "    - hidden_layer_sizes: [[10], [20], [50], [100], [150], [10, 10],[20, 20],[50, 50]]}\n",
    "\n",
    "> **提示**：\n",
    "> 1. 在训练集上训练MLP模型，并使用`交叉验证`和`网格搜索`获取**最优参数** \n",
    "> 2. 将最优参数应用到MLP模型，并在训练验证集上进行训练 \n",
    "> 3. 输出训练验证集上的评分和测试集上的评分 "
   ]
  },
  {
   "cell_type": "markdown",
   "metadata": {},
   "source": [
    "### 1. 载入MNIST数据集"
   ]
  },
  {
   "cell_type": "code",
   "execution_count": 1,
   "metadata": {},
   "outputs": [],
   "source": [
    "# TODO: 1. 导入必须库 以及 定义必要的函数\n",
    "# 导入机器学习数据集处理工具\n",
    "from sklearn import datasets\n",
    "from sklearn.model_selection import train_test_split\n",
    "\n",
    "# TODO: 2. 创建/导入数据\n",
    "iris = datasets.load_iris()\n",
    "\n",
    "# TODO: 3. 数据预处理，包括训练集、测试集划分，数据正则化，数据清洗等\n",
    "X = iris.data\n",
    "y = iris.target\n",
    "X_trainval, X_test, y_trainval, y_test = train_test_split(X, y, train_size=0.7, random_state=16)\n",
    "# X_train, X_val, y_train, y_val = train_test_split(X_trainval, y_trainval, train_size=0.7)"
   ]
  },
  {
   "cell_type": "markdown",
   "metadata": {},
   "source": [
    "### 2. 使用分层*K*折交叉验证"
   ]
  },
  {
   "cell_type": "code",
   "execution_count": 2,
   "metadata": {},
   "outputs": [
    {
     "name": "stdout",
     "output_type": "stream",
     "text": [
      "执行时间:9.97s\n",
      "最优参数：{'alpha': 0.0005, 'hidden_layer_sizes': [150]}\n",
      "最佳得分（验证集）：0.9723\n",
      "最优模型：MLPClassifier(activation='relu', alpha=0.0005, batch_size='auto', beta_1=0.9,\n",
      "              beta_2=0.999, early_stopping=False, epsilon=1e-08,\n",
      "              hidden_layer_sizes=[150], learning_rate='constant',\n",
      "              learning_rate_init=0.001, max_iter=200, momentum=0.9,\n",
      "              n_iter_no_change=10, nesterovs_momentum=True, power_t=0.5,\n",
      "              random_state=16, shuffle=True, solver='lbfgs', tol=0.0001,\n",
      "              validation_fraction=0.1, verbose=False, warm_start=False)\n"
     ]
    }
   ],
   "source": [
    "from sklearn.model_selection import StratifiedKFold\n",
    "from sklearn.model_selection import GridSearchCV\n",
    "from sklearn.neural_network import MLPClassifier\n",
    "import time\n",
    "\n",
    "start = time.time()\n",
    "\n",
    "SKF = StratifiedKFold(n_splits=5, random_state=16, shuffle=False)\n",
    "mlp = MLPClassifier(solver='lbfgs', activation='relu', random_state=16)\n",
    "\n",
    "params = {'alpha':[5e-4, 1e-4, 5e-3, 1e-3, 5e-2, 1e-2],\n",
    "          'hidden_layer_sizes':[[10], [20], [50], [100], [150], [10, 10],[20, 20],[50, 50]]}\n",
    "\n",
    "# params = {'alpha':[1e-6, 5e-5, 1e-5, 5e-4, 1e-4, 5e-3, 1e-3, 5e-2, 1e-2],\n",
    "#           'hidden_layer_sizes':[[10], [20], [50], [100], [150], [200], [10, 10],[20, 20],[50, 50],[100, 100],[150, 150],[200, 200]]}\n",
    "\n",
    "grid_search = GridSearchCV(mlp, params, cv=SKF, iid=False)\n",
    "grid_search.fit(X_trainval, y_trainval)\n",
    "print(\"执行时间:{:.2f}s\".format(time.time()-start))\n",
    "print('最优参数：{}'.format(grid_search.best_params_))\n",
    "print('最佳得分（验证集）：{:.4f}'.format(grid_search.best_score_))\n",
    "print('最优模型：{}'.format(grid_search.best_estimator_))"
   ]
  },
  {
   "cell_type": "markdown",
   "metadata": {},
   "source": [
    "### 3. 保持参数不变，在训练验证集上重新训练，并输出结果"
   ]
  },
  {
   "cell_type": "markdown",
   "metadata": {},
   "source": [
    "- 直接使用grid_search.score()进行输出"
   ]
  },
  {
   "cell_type": "code",
   "execution_count": 3,
   "metadata": {},
   "outputs": [
    {
     "name": "stdout",
     "output_type": "stream",
     "text": [
      "基于GridSearch方法的输出，训练集得分: 0.9714, 测试集得分: 0.9333\n"
     ]
    }
   ],
   "source": [
    "score_trainval = grid_search.score(X_trainval, y_trainval)\n",
    "score_test = grid_search.score(X_test, y_test)\n",
    "\n",
    "print('基于GridSearch方法的输出，训练集得分: {:.4f}, 测试集得分: {:.4f}'.format(score_trainval, score_test))"
   ]
  },
  {
   "cell_type": "markdown",
   "metadata": {},
   "source": [
    "- 使用最优参数进行输出"
   ]
  },
  {
   "cell_type": "code",
   "execution_count": 4,
   "metadata": {},
   "outputs": [
    {
     "name": "stdout",
     "output_type": "stream",
     "text": [
      "基于最优参数的输出，训练集得分: 0.9714, 测试集得分: 0.9333\n"
     ]
    }
   ],
   "source": [
    "best_params = grid_search.best_params_\n",
    "mlp = MLPClassifier(solver='lbfgs', activation='relu', random_state=16, **best_params)\n",
    "mlp.fit(X_trainval, y_trainval)\n",
    "\n",
    "score_trainval = mlp.score(X_trainval, y_trainval)\n",
    "score_test = mlp.score(X_test, y_test)\n",
    "\n",
    "print('基于最优参数的输出，训练集得分: {:.4f}, 测试集得分: {:.4f}'.format(score_trainval, score_test))"
   ]
  },
  {
   "cell_type": "markdown",
   "metadata": {},
   "source": [
    "- 使用最优模型进行输出"
   ]
  },
  {
   "cell_type": "code",
   "execution_count": 5,
   "metadata": {},
   "outputs": [
    {
     "name": "stdout",
     "output_type": "stream",
     "text": [
      "基于最优模型的输出，训练集得分: 0.9714, 测试集得分: 0.9333\n"
     ]
    }
   ],
   "source": [
    "model = grid_search.best_estimator_\n",
    "score_trainval = model.score(X_trainval, y_trainval)\n",
    "score_test = model.score(X_test, y_test)\n",
    "\n",
    "print('基于最优模型的输出，训练集得分: {:.4f}, 测试集得分: {:.4f}'.format(score_trainval, score_test))"
   ]
  }
 ],
 "metadata": {
  "kernelspec": {
   "display_name": "Python 3",
   "language": "python",
   "name": "python3"
  },
  "language_info": {
   "codemirror_mode": {
    "name": "ipython",
    "version": 3
   },
   "file_extension": ".py",
   "mimetype": "text/x-python",
   "name": "python",
   "nbconvert_exporter": "python",
   "pygments_lexer": "ipython3",
   "version": "3.7.4"
  }
 },
 "nbformat": 4,
 "nbformat_minor": 4
}
