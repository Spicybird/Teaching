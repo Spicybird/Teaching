{
 "cells": [
  {
   "cell_type": "markdown",
   "metadata": {},
   "source": [
    "# 课后作业：数据预处理、降维、特征提取及聚类"
   ]
  },
  {
   "cell_type": "markdown",
   "metadata": {},
   "source": [
    "<font color=\"blue\">作者：欧新宇（Xinyu OU）</font>\n",
    "\n",
    "<font color=\"red\">本文档所展示的测试结果，均运行于：Intel Core i7-7700K CPU 4.2GHz</font>"
   ]
  },
  {
   "cell_type": "markdown",
   "metadata": {},
   "source": [
    "**【作业提交】**\n",
    "\n",
    "将分类结果保存到文本文档进行提交(写上每一题的题号和题目，然后再贴答案)，同时提交源代码。\n",
    "1. 测试结果命名为: ex09-结果-你的学号-你的姓名.txt\n",
    "2. 输出图片命名为: ex09-性能对比图-你的学号-你的姓名.png (.jpg)\n",
    "3. 源代码命名为: \n",
    "- ex09-01Ori-你的学号-你的姓名.py\n",
    "- ex09-02Preprocessing-你的学号-你的姓名.py\n",
    "- ex09-03PCA-你的学号-你的姓名.py\n",
    "\n",
    "<font color=\"red\">*结果文件，要求每小题标注题号，两题之间要求空一行*</font>\n",
    "___"
   ]
  },
  {
   "cell_type": "markdown",
   "metadata": {},
   "source": [
    "要求在 \"MNIST人脸识别\" 数据集上完成以下任务，要求如下：\n",
    "1. 要求使用原始数据集的10%完成以下习题。（已给出载入数据集和数据预处理 I部分的代码）\n",
    "2. 使用MLP模型进行训练和测试，基本参数设置为：\n",
    "\n",
    "```python\n",
    "solver='lbfgs', hidden_layer_sizes=[100, 100], activation='relu', alpha=1e-5, random_state=62,\n",
    "```\n",
    "3. 使用原始数据进行预测（ex09-01Ori）\n",
    "4. 测试六种预处理方向对性能的影响（ex09-02Preprocessing）\n",
    "\n",
    "```python\n",
    "methods = ['StandardScaler', 'MinMaxScaler', 'MaxAbsScaler',  'RobustScaler', 'Normalizer', 'Binarizer']\n",
    "```\n",
    "\n",
    "> 在完成了六种预处理方法的性能输出后，对比预处理结果和原始数据的结果，从7种结果中选出性能最好的一种方法完成后续的实验。\n",
    "\n",
    "5. 使用PCA进行降维，并测试性能，要求测试PCA的参数范围为n_components = [0.4:0.99]，可以使用以下代码设置pca的参数范围（ex09-03PCA，ex09-性能对比图）\n",
    "\n",
    "```python\n",
    "num=20\n",
    "scores = np.zeros([3,num]) \n",
    "scores[0,:] = np.linspace(0.40, 0.99, num)\n",
    "```\n",
    "\n",
    "6. 可视化出PCA的性能曲线（ex09-03PCA，ex09-性能对比图）\n",
    "7. （选做）可视化出PCA曲线中最大值的点，以及未进行PCA降维的性能值点（ex09-03PCA，ex09-性能对比图）"
   ]
  },
  {
   "cell_type": "markdown",
   "metadata": {},
   "source": [
    "### 1. 载入MNIST数据集"
   ]
  },
  {
   "cell_type": "code",
   "execution_count": 1,
   "metadata": {},
   "outputs": [
    {
     "name": "stdout",
     "output_type": "stream",
     "text": [
      "开始载入MNIST手写数字数据集：\n",
      " 训练集图片大小: 28*28, 已载入60000/60000.\n",
      "训练集标签数量: 60000...已完成。\n",
      " 测试集图片大小: 28*28, 已载入10000/10000.\n",
      "测试集标签数量: 10000...已完成。\n",
      "载入数据集共耗时: 2.788s\n"
     ]
    }
   ],
   "source": [
    "import sys\n",
    "import os\n",
    "sys.path.append(os.path.join(os.getcwd(), '..', 'Modules'))\n",
    "import load_MNIST\n",
    "\n",
    "import time\n",
    "start = time.time()\n",
    "\n",
    "train_images = load_MNIST.load_train_images()\n",
    "train_labels = load_MNIST.load_train_labels()\n",
    "test_images = load_MNIST.load_test_images()\n",
    "test_labels = load_MNIST.load_test_labels()\n",
    "\n",
    "print(\"载入数据集共耗时: {:.3f}s\".format(time.time() - start))"
   ]
  },
  {
   "cell_type": "markdown",
   "metadata": {},
   "source": [
    "### 2. 数据预处理 I\n",
    "1. 将图像数据转换成二维矩阵，并归一化到 $0-1$ 之间"
   ]
  },
  {
   "cell_type": "code",
   "execution_count": 2,
   "metadata": {},
   "outputs": [],
   "source": [
    "# 标准调整形态的方法\n",
    "# X_train = train_images.reshape(train_images.shape[0], train_images.shape[1]*train_images.shape[2])/255\n",
    "# 此处，因为我们已经知道的样本的形态，所以可以直接书写值\n",
    "\n",
    "X_train = train_images.reshape(60000, 28*28)/255\n",
    "y_train = train_labels\n",
    "X_test = test_images.reshape(10000, 28*28)/255\n",
    "y_test = test_labels"
   ]
  },
  {
   "cell_type": "markdown",
   "metadata": {},
   "source": [
    "2. 为了加速运算，将样本缩减到10%的比例进行处理"
   ]
  },
  {
   "cell_type": "code",
   "execution_count": 3,
   "metadata": {},
   "outputs": [],
   "source": [
    "# 为了提高训练速度，我们只提取10%的样本进行演示\n",
    "X_train_lite = X_train[0:5999,:]\n",
    "y_train_lite = y_train[0:5999]\n",
    "X_test_lite = X_test[0:999,:]\n",
    "y_test_lite = y_test[0:999]"
   ]
  },
  {
   "cell_type": "markdown",
   "metadata": {},
   "source": [
    "### 3. 使用原始数据进行预测"
   ]
  },
  {
   "cell_type": "code",
   "execution_count": 4,
   "metadata": {},
   "outputs": [
    {
     "name": "stdout",
     "output_type": "stream",
     "text": [
      "训练结束，用时5.72s.\n",
      "训练集得分: 1.0000, 测试集得分: 0.9239\n"
     ]
    }
   ],
   "source": [
    "# 导入多层感知机MLP神经网络\n",
    "from sklearn.neural_network import MLPClassifier\n",
    "import time\n",
    "\n",
    "start = time.time()\n",
    "\n",
    "mlp = MLPClassifier(solver='lbfgs', hidden_layer_sizes=[100, 100], activation='relu', alpha=1e-5, random_state=62, verbose=2)\n",
    "mlp.fit(X_train_lite, y_train_lite)\n",
    "\n",
    "score_ori_train = mlp.score(X_train_lite, y_train_lite)\n",
    "score_ori_test = mlp.score(X_test_lite, y_test_lite)\n",
    "\n",
    "print('训练结束，用时{:.2f}s.'.format(time.time() - start))\n",
    "print('训练集得分: {:.4f}, 测试集得分: {:.4f}'.format(mlp.score(X_train_lite, y_train_lite), mlp.score(X_test_lite, y_test_lite)))"
   ]
  },
  {
   "cell_type": "markdown",
   "metadata": {},
   "source": [
    "### 4. 测试预处理对性能的影响"
   ]
  },
  {
   "cell_type": "code",
   "execution_count": 5,
   "metadata": {},
   "outputs": [
    {
     "name": "stdout",
     "output_type": "stream",
     "text": [
      "预处理方法: StandardScaler, 测试集得分: 0.9199\n",
      "预处理方法: MinMaxScaler, 测试集得分: 0.9219\n",
      "预处理方法: MaxAbsScaler, 测试集得分: 0.9219\n",
      "预处理方法: RobustScaler, 测试集得分: 0.9059\n",
      "预处理方法: Normalizer, 测试集得分: 0.9239\n",
      "预处理方法: Binarizer, 测试集得分: 0.9139\n"
     ]
    }
   ],
   "source": [
    "# 导入preprocessing预处理器\n",
    "from sklearn import preprocessing\n",
    "\n",
    "methods = ['StandardScaler', 'MinMaxScaler', 'MaxAbsScaler', \n",
    "           'RobustScaler', 'Normalizer', 'Binarizer']\n",
    "\n",
    "for str in methods:\n",
    "    scaler = eval('preprocessing.' + str + '().fit(X_train_lite)')\n",
    "    X_train_scaled = scaler.transform(X_train_lite)\n",
    "    X_test_scaled = scaler.transform(X_test_lite)\n",
    "    mlp.fit(X_train_scaled, y_train_lite)\n",
    "    print('预处理方法: {}, 测试集得分: {:.4f}'\n",
    "          .format(str, mlp.score(X_test_scaled,y_test_lite)))"
   ]
  },
  {
   "cell_type": "markdown",
   "metadata": {},
   "source": [
    "**【小结】**\n",
    "\n",
    "从以上结果来看，六种预处理方法都不如未经过预处理的结果。因此，后续的实验我们将继续采用未经过预处理数据完成。"
   ]
  },
  {
   "cell_type": "markdown",
   "metadata": {},
   "source": [
    "### 5. 使用PCA进行降维，并测试性能"
   ]
  },
  {
   "cell_type": "code",
   "execution_count": 6,
   "metadata": {},
   "outputs": [
    {
     "name": "stdout",
     "output_type": "stream",
     "text": [
      "(5999, 784) (999, 784)\n",
      "(5999, 84) (999, 84)\n"
     ]
    }
   ],
   "source": [
    "from sklearn.decomposition import PCA# 导入多层感知机MLP神经网络\n",
    "\n",
    "#设置主成分数量为2以便我们进行可视化\n",
    "pca = PCA(n_components=0.9)\n",
    "pca.fit(X_train_lite)\n",
    "X_train_pca = pca.transform(X_train_lite)\n",
    "X_test_pca = pca.transform(X_test_lite)\n",
    "print(X_train_lite.shape, X_test_lite.shape)\n",
    "print(X_train_pca.shape, X_test_pca.shape)"
   ]
  },
  {
   "cell_type": "code",
   "execution_count": 7,
   "metadata": {},
   "outputs": [
    {
     "name": "stdout",
     "output_type": "stream",
     "text": [
      "训练结束，用时1.39s.\n",
      "训练集得分: 1.0000, 测试集得分: 0.9309\n"
     ]
    }
   ],
   "source": [
    "from sklearn.neural_network import MLPClassifier\n",
    "import time\n",
    "\n",
    "start = time.time()\n",
    "\n",
    "mlp = MLPClassifier(solver='lbfgs', hidden_layer_sizes=[100, 100], activation='relu', alpha=1e-5, random_state=62, verbose=2)\n",
    "mlp.fit(X_train_pca, y_train_lite)\n",
    "\n",
    "score_train = mlp.score(X_train_pca, y_train_lite)\n",
    "score_test = mlp.score(X_test_pca, y_test_lite)\n",
    "\n",
    "print('训练结束，用时{:.2f}s.'.format(time.time() - start))\n",
    "print('训练集得分: {:.4f}, 测试集得分: {:.4f}'.format(score_train, score_test))"
   ]
  },
  {
   "cell_type": "markdown",
   "metadata": {},
   "source": [
    "### 6. 按要求计算范围内的PCA降维后的性能"
   ]
  },
  {
   "cell_type": "code",
   "execution_count": 8,
   "metadata": {},
   "outputs": [
    {
     "name": "stdout",
     "output_type": "stream",
     "text": [
      "n_components=0.40: 训练集得分 0.9948，测试集得分 0.8368，t = 7.12\n",
      "n_components=0.43: 训练集得分 1.0000，测试集得分 0.8519，t = 13.99\n",
      "n_components=0.46: 训练集得分 1.0000，测试集得分 0.8689，t = 20.57\n",
      "n_components=0.49: 训练集得分 1.0000，测试集得分 0.8899，t = 26.59\n",
      "n_components=0.52: 训练集得分 1.0000，测试集得分 0.8989，t = 30.50\n",
      "n_components=0.56: 训练集得分 1.0000，测试集得分 0.9119，t = 33.75\n",
      "n_components=0.59: 训练集得分 1.0000，测试集得分 0.9109，t = 36.63\n",
      "n_components=0.62: 训练集得分 1.0000，测试集得分 0.9219，t = 39.38\n",
      "n_components=0.65: 训练集得分 1.0000，测试集得分 0.9269，t = 41.85\n",
      "n_components=0.68: 训练集得分 1.0000，测试集得分 0.9229，t = 44.80\n",
      "n_components=0.71: 训练集得分 1.0000，测试集得分 0.9389，t = 47.59\n",
      "n_components=0.74: 训练集得分 1.0000，测试集得分 0.9269，t = 49.92\n",
      "n_components=0.77: 训练集得分 1.0000，测试集得分 0.9359，t = 52.23\n",
      "n_components=0.80: 训练集得分 1.0000，测试集得分 0.9289，t = 54.58\n",
      "n_components=0.83: 训练集得分 1.0000，测试集得分 0.9309，t = 56.64\n",
      "n_components=0.87: 训练集得分 1.0000，测试集得分 0.9259，t = 58.68\n",
      "n_components=0.90: 训练集得分 1.0000，测试集得分 0.9269，t = 60.74\n",
      "n_components=0.93: 训练集得分 1.0000，测试集得分 0.9259，t = 62.83\n",
      "n_components=0.96: 训练集得分 1.0000，测试集得分 0.9279，t = 65.00\n",
      "n_components=0.99: 训练集得分 1.0000，测试集得分 0.9209，t = 67.34\n"
     ]
    }
   ],
   "source": [
    "from sklearn.neural_network import MLPClassifier\n",
    "import numpy as np\n",
    "import time\n",
    "\n",
    "num=20\n",
    "scores = np.zeros([3,num]) \n",
    "scores[0,:] = np.linspace(0.40, 0.99, num)\n",
    "\n",
    "start = time.time()\n",
    "\n",
    "# 基于信息量百分比\n",
    "n = 0    \n",
    "for i in scores[0,:]:\n",
    "# TODO: 3. 进行PCA降维\n",
    "    pca = PCA(n_components = i)\n",
    "    pca.fit(X_train_lite)\n",
    "    X_train_pca = pca.transform(X_train_lite)\n",
    "    X_test_pca = pca.transform(X_test_lite)\n",
    "\n",
    "    # TODO: 4.训练MLP模型\n",
    "    mlp = MLPClassifier(solver='lbfgs', hidden_layer_sizes=[100, 100], activation='relu', alpha=1e-5, random_state=62, verbose=2)\n",
    "    mlp.fit(X_train_pca, y_train_lite)\n",
    "    \n",
    "    score_train = mlp.score(X_train_pca, y_train_lite)\n",
    "    score_test = mlp.score(X_test_pca, y_test_lite)\n",
    "    scores[1, n] = score_train\n",
    "    scores[2, n] = score_test\n",
    "    \n",
    "    t = time.time() - start\n",
    "    print(\"n_components={0:.2f}: 训练集得分 {1:.4f}，测试集得分 {2:.4f}，t = {3:.2f}\".format(i, score_train, score_test, t))\n",
    "\n",
    "    n = n + 1\n"
   ]
  },
  {
   "cell_type": "markdown",
   "metadata": {},
   "source": [
    "### 7.可视化性能"
   ]
  },
  {
   "cell_type": "code",
   "execution_count": 16,
   "metadata": {},
   "outputs": [
    {
     "data": {
      "text/plain": [
       "Text(1.01, 0.9239, '0.9239')"
      ]
     },
     "execution_count": 16,
     "metadata": {},
     "output_type": "execute_result"
    },
    {
     "data": {
      "image/png": "[encoded data removed]",
      "text/plain": [
       "<Figure size 432x288 with 1 Axes>"
      ]
     },
     "metadata": {
      "needs_background": "light"
     },
     "output_type": "display_data"
    }
   ],
   "source": [
    "import matplotlib.pyplot as plt\n",
    "\n",
    "plt.rcParams['font.sans-serif'] = [u'Microsoft YaHei']\n",
    "\n",
    "plt.plot(scores[0,:], scores[1,:], 'g--^', label='训练集（信息量）')\n",
    "plt.plot(scores[0,:], scores[2,:], 'b--o', label='测试集（信息量）')\n",
    "plt.legend(['训练集', '测试集'], loc='best')\n",
    "plt.title('基于信息量百分比的性能对比图')\n",
    "\n",
    "max_y = np.round(np.max(scores[2,:]), 4)\n",
    "max_index = np.where(scores[2,:]==np.max(scores[2,:]))\n",
    "max_x = scores[0, max_index]\n",
    "\n",
    "score_ori_test_y = np.round(score_ori_test, 4)\n",
    "score_ori_text_x = 1\n",
    "\n",
    "plt.plot(max_x, max_y, 'ks')\n",
    "plt.annotate(max_y, \n",
    "             xy = (max_x, max_y), \n",
    "             xytext = (max_x+0.01, max_y))\n",
    "plt.plot(score_ori_text_x, score_ori_test_y, 'ks')\n",
    "plt.annotate(score_ori_test_y, \n",
    "             xy = (score_ori_text_x, score_ori_test_y), \n",
    "             xytext = (score_ori_text_x+0.01, score_ori_test_y))\n",
    "plt.show()"
   ]
  }
 ],
 "metadata": {
  "kernelspec": {
   "display_name": "Python 3",
   "language": "python",
   "name": "python3"
  },
  "language_info": {
   "codemirror_mode": {
    "name": "ipython",
    "version": 3
   },
   "file_extension": ".py",
   "mimetype": "text/x-python",
   "name": "python",
   "nbconvert_exporter": "python",
   "pygments_lexer": "ipython3",
   "version": "3.7.4"
  }
 },
 "nbformat": 4,
 "nbformat_minor": 4
}
