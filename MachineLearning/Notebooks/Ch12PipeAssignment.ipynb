{
 "cells": [
  {
   "cell_type": "markdown",
   "metadata": {},
   "source": [
    "# 课后作业：建立算法的管道模型"
   ]
  },
  {
   "cell_type": "markdown",
   "metadata": {},
   "source": [
    "<font color=\"blue\">作者：欧新宇（Xinyu OU）</font>\n",
    "\n",
    "<font color=\"red\">本文档所展示的测试结果，均运行于：Intel Core i7-7700K CPU 4.2GHz</font>"
   ]
  },
  {
   "cell_type": "markdown",
   "metadata": {},
   "source": [
    "**【作业提交】**\n",
    "\n",
    "将分类结果保存到文本文档进行提交(写上每一题的题号和题目，然后再贴答案)，同时提交源代码。\n",
    "1. 测试结果命名为: ex11-结果-你的学号-你的姓名.txt\n",
    "2. 源代码命名为:  ex1101-你的学号-你的姓名.py\n",
    "\n",
    "<font color=\"red\">*结果文件，要求每小题标注题号，两题之间要求空一行*</font>\n",
    "___"
   ]
  },
  {
   "cell_type": "markdown",
   "metadata": {},
   "source": [
    "- 要求在 \"乳腺癌\" 数据集(breast_cancer)上完成以下任务，要求如下：\n",
    "    1. 要求`训练集`、`验证集`的分割比例为：<font color=\"blue\">70%:30%</font>\n",
    "    2. 使用`StratifiedKFold`算法进行**分层3折交叉验证** \n",
    "    3. 所有算法的`随机参数` random_state=8\n",
    "    4. 结果保留3位小数\n",
    "    5. 输出训练集和测试集的预测结果\n",
    "    6. 要求在网格搜索中测试两种预处理算法：StandardScaler(), MinMaxScaler()\n",
    "    7. 要求在网格搜索中测试两种分类算法：神经网络MLPClassifier和高斯贝叶斯GaussianNB。两种算法要求测试以下参数：\n",
    "        - MLP需要搜索的参数列表为：\n",
    "            - alpha: [1e-6, 5e-5, 1e-5, 5e-4, 1e-4, 5e-3, 1e-3, 5e-2, 1e-2],\n",
    "            - hidden_layer_sizes: [[20], [50], [100], [150], [200], [10, 10],[20, 20],[50, 50]]}\n",
    "        - 高斯贝叶斯需要搜索的参数列表为：\n",
    "            - var_smoothing: np.logspace(-15,10,26)\n",
    "\n",
    "> **提示**：\n",
    "> 1. 在训练集上训练模型，并使用`交叉验证`和`网格搜索`获取**最优参数** \n",
    "> 2. 使用最优模型（或最优参数）在训练验证集上重新进行训练生成最终模型 \n",
    "> 3. 输出训练验证集上的评分和测试集上的评分 \n",
    "\n",
    "对于乳腺癌数据集有如下操作提示：\n",
    "- 可以使用 `print(cancer.keys())` 查看肿瘤数据集包含哪些字段\n",
    "- 使用 `print(cancer['字段'])` 观察该字段的内容，例如使用 `print(cancer['data'])` 查看数据的信息\n"
   ]
  },
  {
   "cell_type": "markdown",
   "metadata": {},
   "source": [
    "### 1. 载入MNIST数据集"
   ]
  },
  {
   "cell_type": "markdown",
   "metadata": {},
   "source": [
    "### 2. 使用管道模型和网格搜索选择最优模型"
   ]
  },
  {
   "cell_type": "markdown",
   "metadata": {},
   "source": [
    "### 3. 保持参数不变，在训练验证集上重新训练，并输出结果"
   ]
  }
 ],
 "metadata": {
  "kernelspec": {
   "display_name": "Python 3",
   "language": "python",
   "name": "python3"
  },
  "language_info": {
   "codemirror_mode": {
    "name": "ipython",
    "version": 3
   },
   "file_extension": ".py",
   "mimetype": "text/x-python",
   "name": "python",
   "nbconvert_exporter": "python",
   "pygments_lexer": "ipython3",
   "version": "3.7.4"
  }
 },
 "nbformat": 4,
 "nbformat_minor": 4
}
