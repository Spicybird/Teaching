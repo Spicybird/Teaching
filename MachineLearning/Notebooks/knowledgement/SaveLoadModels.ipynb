{
 "cells": [
  {
   "cell_type": "markdown",
   "metadata": {},
   "source": [
    "# Save_Load_Models"
   ]
  },
  {
   "cell_type": "markdown",
   "metadata": {},
   "source": [
    "<font color=\"blue\">作者：欧新宇（Xinyu OU）</font>\n",
    "\n",
    "<font color=\"red\">本文档所展示的测试结果，均运行于：Intel Core i7-7700K CPU 4.2GHz</font>"
   ]
  },
  {
   "cell_type": "markdown",
   "metadata": {},
   "source": [
    "保存和读取模型在实际应用中具有非常重要的意义，主要体现在以下两个方面：\n",
    "1. 对于复杂的大型的模型，特别是那些需要花费很长时间来进行训练的模型，我们不可能每次都进行训练\n",
    "2. 对于用于来说，它们的需求是应用模型，而不是训练模型\n",
    "\n",
    "基于以上两个原因，我们希望训练和应用部署模型是分开的。sklearn提供了这种策略。"
   ]
  },
  {
   "cell_type": "markdown",
   "metadata": {},
   "source": [
    "### 1. 载入数据及数据初始化"
   ]
  },
  {
   "cell_type": "code",
   "execution_count": 20,
   "metadata": {},
   "outputs": [
    {
     "name": "stdout",
     "output_type": "stream",
     "text": [
      " 训练集图片大小: 28*28, 已载入60000/60000.\n",
      "训练集标签数量: 60000...已完成。\n",
      " 测试集图片大小: 28*28, 已载入10000/10000.\n",
      "测试集标签数量: 10000...已完成。\n",
      "载入数据集共耗时: 2.769s\n"
     ]
    }
   ],
   "source": [
    "import sys\n",
    "import os\n",
    "import time\n",
    "import numpy as np\n",
    "# 导入多层感知机MLP神经网络\n",
    "from sklearn.neural_network import MLPClassifier\n",
    "from PIL import Image\n",
    "import joblib\n",
    "import load_MNIST\n",
    "\n",
    "# TODO: 1: 载入数据集\n",
    "start = time.time()\n",
    "\n",
    "train_images = load_MNIST.load_train_images()\n",
    "train_labels = load_MNIST.load_train_labels()\n",
    "test_images = load_MNIST.load_test_images()\n",
    "test_labels = load_MNIST.load_test_labels()\n",
    "\n",
    "print(\"载入数据集共耗时: {:.3f}s\".format(time.time() - start))\n",
    "\n",
    "\n",
    "# TODO: 2. 数据预处理\n",
    "# 标准调整形态的方法\n",
    "# X_train = train_images.reshape(train_images.shape[0], train_images.shape[1]*train_images.shape[2])/255\n",
    "# 此处，因为我们已经知道的样本的形态，所以可以直接书写值\n",
    "\n",
    "X_train = train_images.reshape(60000, 28*28)/255\n",
    "y_train = train_labels\n",
    "X_test = test_images.reshape(10000, 28*28)/255\n",
    "y_test = test_labels\n",
    "\n",
    "# 为了提高训练速度，我们只提取10%的样本进行演示\n",
    "X_train_lite = X_train[0:5999, :]\n",
    "y_train_lite = y_train[0:5999]\n",
    "X_test_lite = X_test[0:999, :]\n",
    "y_test_lite = y_test[0:999]\n",
    "\n"
   ]
  },
  {
   "cell_type": "markdown",
   "metadata": {},
   "source": [
    "### 2. 训练模型"
   ]
  },
  {
   "cell_type": "code",
   "execution_count": 21,
   "metadata": {},
   "outputs": [
    {
     "name": "stdout",
     "output_type": "stream",
     "text": [
      "开始训练模型，请稍等...训练结束，用时5.26s.\n"
     ]
    }
   ],
   "source": [
    "# TODO: 3.训练MLP神经网络并输出预测结果\n",
    "start = time.time()\n",
    "\n",
    "print('开始训练模型，请稍等...', end='')\n",
    "\n",
    "mlp = MLPClassifier(solver='lbfgs', hidden_layer_sizes=[\n",
    "                    100, 100], activation='relu', alpha=1e-5, random_state=62)\n",
    "mlp.fit(X_train_lite, y_train_lite)\n",
    "\n",
    "print('训练结束，用时{:.2f}s.'.format(time.time() - start))"
   ]
  },
  {
   "cell_type": "markdown",
   "metadata": {},
   "source": [
    "### 3. 保存模型"
   ]
  },
  {
   "cell_type": "code",
   "execution_count": 22,
   "metadata": {},
   "outputs": [
    {
     "name": "stdout",
     "output_type": "stream",
     "text": [
      "训练集得分: 0.9355, 测试集得分: 0.9295\n"
     ]
    }
   ],
   "source": [
    "# 保存mlp神经网络模型\n",
    "ModelPath = os.path.join(os.getcwd(), 'tmp', 'Ch08MNIST_lbfgs.pkl')\n",
    "joblib.dump(mlp, ModelPath)\n",
    "\n",
    "print('训练集得分: {:.4f}, 测试集得分: {:.4f}'.format(\n",
    "    mlp.score(X_train, y_train), mlp.score(X_test, y_test)))"
   ]
  },
  {
   "cell_type": "markdown",
   "metadata": {},
   "source": [
    "### 4. 载入模型"
   ]
  },
  {
   "cell_type": "code",
   "execution_count": 23,
   "metadata": {},
   "outputs": [
    {
     "name": "stdout",
     "output_type": "stream",
     "text": [
      "载入模型共耗时: 0.001s\n"
     ]
    }
   ],
   "source": [
    "# TODO: 1: 载入模型\n",
    "start = time.time()\n",
    "\n",
    "ModelPath = os.path.join(os.getcwd(), 'tmp', 'Ch08MNIST_lbfgs.pkl')\n",
    "model = joblib.load(ModelPath)\n",
    "\n",
    "print(\"载入模型共耗时: {:.3f}s\".format(time.time() - start))"
   ]
  },
  {
   "cell_type": "code",
   "execution_count": 24,
   "metadata": {},
   "outputs": [
    {
     "name": "stdout",
     "output_type": "stream",
     "text": [
      "MLPClassifier(activation='relu', alpha=1e-05, batch_size='auto', beta_1=0.9,\n",
      "              beta_2=0.999, early_stopping=False, epsilon=1e-08,\n",
      "              hidden_layer_sizes=[100, 100], learning_rate='constant',\n",
      "              learning_rate_init=0.001, max_iter=200, momentum=0.9,\n",
      "              n_iter_no_change=10, nesterovs_momentum=True, power_t=0.5,\n",
      "              random_state=62, shuffle=True, solver='lbfgs', tol=0.0001,\n",
      "              validation_fraction=0.1, verbose=False, warm_start=False)\n"
     ]
    }
   ],
   "source": [
    "print(model)"
   ]
  },
  {
   "cell_type": "markdown",
   "metadata": {},
   "source": [
    "### 5. 应用模型"
   ]
  },
  {
   "cell_type": "code",
   "execution_count": 25,
   "metadata": {},
   "outputs": [
    {
     "name": "stdout",
     "output_type": "stream",
     "text": [
      "预测结果是:7\n"
     ]
    }
   ],
   "source": [
    "# TODO: 2. 预测给定图像\n",
    "# 此处我们属于自己的手写字体进行测试\n",
    "\n",
    "filename = 'digital.png'\n",
    "filepath = os.path.join(os.getcwd(), 'tmp', filename)\n",
    "image = Image.open(filepath).convert('F')\n",
    "image = image.resize((28, 28))\n",
    "\n",
    "\n",
    "# 将PIL的Image图像转换为numpy的数组\n",
    "img = np.asarray(image)\n",
    "# 将二维矩阵转换为一维向量以便于预测\n",
    "im = img.reshape(1, 28*28)\n",
    "\n",
    "# 输出预测结果\n",
    "pred = model.predict(im)[0]\n",
    "print('预测结果是:{:.0f}'.format(pred))\n",
    "\n",
    "# 显示图像\n",
    "image.show()"
   ]
  }
 ],
 "metadata": {
  "kernelspec": {
   "display_name": "Python 3",
   "language": "python",
   "name": "python3"
  },
  "language_info": {
   "codemirror_mode": {
    "name": "ipython",
    "version": 3
   },
   "file_extension": ".py",
   "mimetype": "text/x-python",
   "name": "python",
   "nbconvert_exporter": "python",
   "pygments_lexer": "ipython3",
   "version": "3.7.4"
  }
 },
 "nbformat": 4,
 "nbformat_minor": 4
}
