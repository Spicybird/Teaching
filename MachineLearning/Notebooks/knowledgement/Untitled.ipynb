{
 "cells": [
  {
   "cell_type": "markdown",
   "metadata": {},
   "source": [
    "# 把图片存入markdown文件"
   ]
  },
  {
   "cell_type": "markdown",
   "metadata": {},
   "source": [
    "用base64转码工具把图片转成一段字符串，然后把字符串填到基础格式中链接的那个位置。"
   ]
  },
  {
   "cell_type": "markdown",
   "metadata": {},
   "source": [
    "- 基础用法："
   ]
  },
  {
   "cell_type": "code",
   "execution_count": 1,
   "metadata": {},
   "outputs": [
    {
     "name": "stderr",
     "output_type": "stream",
     "text": [
      "'[avatar]' 不是内部或外部命令，也不是可运行的程序\n",
      "或批处理文件。\n"
     ]
    }
   ],
   "source": [
    "![avatar](data:image/png;base64,iVBORw0......)"
   ]
  },
  {
   "cell_type": "raw",
   "metadata": {},
   "source": [
    "这个时候会发现插入的这一长串字符串会把整个文章分割开，非常影响编写文章时的体验。如果能够把大段的base64字符串放在文章末尾，然后在文章中通过一个id来调用，文章就不会被分割的这么乱了。"
   ]
  },
  {
   "cell_type": "markdown",
   "metadata": {},
   "source": [
    "- 高级用法:"
   ]
  },
  {
   "cell_type": "markdown",
   "metadata": {},
   "source": [
    "![avatar][base64str]\n",
    "[base64str]:data:image/png;base64,iVBORw0......"
   ]
  },
  {
   "cell_type": "markdown",
   "metadata": {},
   "source": [
    "# 基于Python的图片base64编码"
   ]
  },
  {
   "cell_type": "markdown",
   "metadata": {},
   "source": [
    "1. 使用python将图片转化为base64字符串"
   ]
  },
  {
   "cell_type": "raw",
   "metadata": {},
   "source": [
    "import base64\n",
    "f=open('723.png','rb') #二进制方式打开图文件\n",
    "ls_f=base64.b64encode(f.read()) #读取文件内容，转换为base64编码\n",
    "f.close()\n",
    "print(ls_f)"
   ]
  },
  {
   "cell_type": "markdown",
   "metadata": {},
   "source": [
    "2. base64字符串转化为图片"
   ]
  },
  {
   "cell_type": "raw",
   "metadata": {},
   "source": [
    "import base64\n",
    "bs='iVBORw0KGgoAAAANSUhEUg....' # 太长了省略\n",
    "imgdata=base64.b64decode(bs)\n",
    "file=open('2.jpg','wb')\n",
    "file.write(imgdata)\n",
    "file.close()"
   ]
  }
 ],
 "metadata": {
  "kernelspec": {
   "display_name": "Python 3",
   "language": "python",
   "name": "python3"
  },
  "language_info": {
   "codemirror_mode": {
    "name": "ipython",
    "version": 3
   },
   "file_extension": ".py",
   "mimetype": "text/x-python",
   "name": "python",
   "nbconvert_exporter": "python",
   "pygments_lexer": "ipython3",
   "version": "3.7.4"
  }
 },
 "nbformat": 4,
 "nbformat_minor": 4
}
