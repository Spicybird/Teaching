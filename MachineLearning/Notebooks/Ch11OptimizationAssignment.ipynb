{
 "cells": [
  {
   "cell_type": "markdown",
   "metadata": {},
   "source": [
    "# 课后作业：模型评估与优化"
   ]
  },
  {
   "cell_type": "markdown",
   "metadata": {},
   "source": [
    "<font color=\"blue\">作者：欧新宇（Xinyu OU）</font>\n",
    "\n",
    "<font color=\"red\">本文档所展示的测试结果，均运行于：Intel Core i7-7700K CPU 4.2GHz</font>"
   ]
  },
  {
   "cell_type": "markdown",
   "metadata": {},
   "source": [
    "**【作业提交】**\n",
    "\n",
    "将分类结果保存到文本文档进行提交(写上每一题的题号和题目，然后再贴答案)，同时提交源代码。\n",
    "1. 测试结果命名为: ex11-结果-你的学号-你的姓名.txt\n",
    "2. 源代码命名为:  ex1101-你的学号-你的姓名.py\n",
    "\n",
    "<font color=\"red\">*结果文件，要求每小题标注题号，两题之间要求空一行*</font>\n",
    "___"
   ]
  },
  {
   "cell_type": "markdown",
   "metadata": {},
   "source": [
    "- 要求在 \"鸢尾花\" 数据集上完成以下任务，要求如下：\n",
    "    1. 要求`训练集`、`验证集`的分割比例为：<font color=\"blue\">70% :  30%</font>\n",
    "    2. 使用`MLP`模型进行训练和测试，MLP优化函数为lbfgs，激活函数为relu\n",
    "    3. 使用`StratifiedKFold`算法进行**分层5折交叉验证** \n",
    "    4. 所有算法的`随机参数` random_state=62\n",
    "    5. 结果保留4位小数\n",
    "    6. 输出测试集结果的时候，可以使用基于网格搜索的三种输出中的任意一种\n",
    "\n",
    "\n",
    "- MLP需要搜索的参数列表为：\n",
    "    - alpha: [5e-4, 1e-4, 5e-3, 1e-3, 5e-2, 1e-2],\n",
    "    - hidden_layer_sizes: [[10], [20], [50], [100], [150], [10, 10],[20, 20],[50, 50]]}\n",
    "\n",
    "> **提示**：\n",
    "> 1. 在训练集上训练MLP模型，并使用`交叉验证`和`网格搜索`获取**最优参数** \n",
    "> 2. 将最优参数应用到MLP模型，并在训练验证集上进行训练 \n",
    "> 3. 输出训练验证集上的评分和测试集上的评分 "
   ]
  },
  {
   "cell_type": "markdown",
   "metadata": {},
   "source": [
    "### 1. 载入MNIST数据集"
   ]
  },
  {
   "cell_type": "markdown",
   "metadata": {},
   "source": [
    "### 2. 使用分层*K*折交叉验证"
   ]
  },
  {
   "cell_type": "markdown",
   "metadata": {},
   "source": [
    "### 3. 保持参数不变，在训练验证集上重新训练，并输出结果"
   ]
  },
  {
   "cell_type": "markdown",
   "metadata": {},
   "source": [
    "- 直接使用grid_search.score()进行输出"
   ]
  },
  {
   "cell_type": "markdown",
   "metadata": {},
   "source": [
    "- 使用最优参数进行输出"
   ]
  },
  {
   "cell_type": "markdown",
   "metadata": {},
   "source": [
    "- 使用最优模型进行输出"
   ]
  }
 ],
 "metadata": {
  "kernelspec": {
   "display_name": "Python 3",
   "language": "python",
   "name": "python3"
  },
  "language_info": {
   "codemirror_mode": {
    "name": "ipython",
    "version": 3
   },
   "file_extension": ".py",
   "mimetype": "text/x-python",
   "name": "python",
   "nbconvert_exporter": "python",
   "pygments_lexer": "ipython3",
   "version": "3.7.4"
  }
 },
 "nbformat": 4,
 "nbformat_minor": 4
}
