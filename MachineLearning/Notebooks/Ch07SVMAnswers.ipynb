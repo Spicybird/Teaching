{
 "cells": [
  {
   "cell_type": "markdown",
   "metadata": {},
   "source": [
    "# 课后作业：支持向量机(Support Vector Machine)"
   ]
  },
  {
   "cell_type": "markdown",
   "metadata": {},
   "source": [
    "<font color=\"blue\">作者：欧新宇（Xinyu OU）</font>\n",
    "\n",
    "<font color=\"red\">本文档所展示的测试结果，均运行于：Intel Core i7-7700K CPU 4.2GHz</font>"
   ]
  },
  {
   "cell_type": "markdown",
   "metadata": {},
   "source": [
    "**【作业提交】**\n",
    "\n",
    "将分类结果保存到文本文档进行提交(写上每一题的题号和题目，然后再贴答案)，同时提交源代码。\n",
    "1. 测试结果命名为: ex07-结果-你的学号-你的姓名.txt\n",
    "2. 输出图片命名为: ex07-性能对比图-你的学号-你的姓名.png (.jpg)\n",
    "3. 源代码命名为: ex07-01-你的学号-你的姓名.py, ex07-02-你的学号-你的姓名.py\n",
    "\n",
    "<font color=\"red\">*结果文件，要求每小题标注题号，两题之间要求空一行*</font>\n",
    "___"
   ]
  },
  {
   "cell_type": "markdown",
   "metadata": {},
   "source": [
    "要求在 “鸢尾花” 数据集上完成以下任务，要求如下：\n",
    "1. 要求训练集和测试集的分割比例为60% : 40%\n",
    "2. 分别使用LinearSVC, linear核、RBF核、sigmoid核、多项式核的支持向量机完成准确率的测试，要求同时输出训练集和测试集的准确率评分结果。（ex07-01）\n",
    "3. 使用RBF核的SVM模型在不同Gamma值下进行建模，并输出性能对比图，同时输出训练集和测试集。（ex07-02, ex07-性能对比图）\n",
    "    - Gamma取值范围：$array([ 0.1,  0.2,  0.3,  0.4,  0.5,  0.6,  0.7,  0.8,  0.9,  1.0])$\n",
    "    - 尽量使用 np.linspace() 函数实现数列的生成"
   ]
  },
  {
   "cell_type": "markdown",
   "metadata": {},
   "source": [
    "**数据集载入方法**\n",
    "\n",
    "```python\n",
    "from sklearn import datasets\n",
    "iris = datasets.load_iris()\n",
    "\n",
    "```\n",
    "\n",
    "---"
   ]
  },
  {
   "cell_type": "markdown",
   "metadata": {},
   "source": [
    "- **输出模型准确率**"
   ]
  },
  {
   "cell_type": "code",
   "execution_count": 1,
   "metadata": {},
   "outputs": [
    {
     "name": "stdout",
     "output_type": "stream",
     "text": [
      "LinearSVC (linear kernel), 训练集准确率: 0.956, 测试集准确率: 0.933\n",
      "SVC with linear kernel, 训练集准确率: 0.978, 测试集准确率: 0.983\n",
      "SVC with RBF kernel, 训练集准确率: 0.978, 测试集准确率: 0.967\n",
      "SVC with sigmoid kernel, 训练集准确率: 0.356, 测试集准确率: 0.300\n",
      "SVC with ploy(degree=3) kernel, 训练集准确率: 0.978, 测试集准确率: 0.967\n"
     ]
    }
   ],
   "source": [
    "# TODO: 1. 导入必须库 以及 定义必要的函数\n",
    "# 导入机器学习数据集处理工具\n",
    "from sklearn import datasets\n",
    "from sklearn.model_selection import train_test_split\n",
    "# 导入支持向量机SVM\n",
    "from sklearn import svm\n",
    "\n",
    "# TODO: 2. 创建/导入数据\n",
    "iris = datasets.load_iris()\n",
    "\n",
    "# TODO: 3. 数据预处理，包括训练集、测试集划分，数据正则化，数据清洗等\n",
    "X = iris.data\n",
    "y = iris.target\n",
    "X_train, X_test, y_train, y_test = train_test_split(X, y, train_size=0.6)\n",
    "\n",
    "\n",
    "# TODO: 4. 构建模型，并进行模型训练（或称为拟合数据）\n",
    "C = 1.0\n",
    "models = (svm.LinearSVC(C=C, max_iter=5000),\n",
    "          svm.SVC(kernel='linear', C=C, gamma='auto'),\n",
    "          svm.SVC(kernel='rbf', gamma=0.7, C=C),\n",
    "          svm.SVC(kernel='sigmoid', C=C, gamma='auto'),\n",
    "          svm.SVC(kernel='poly', degree=3, C=C, gamma='auto'))\n",
    "# TODO:考虑输出变量models\n",
    "models = (clf.fit(X_train, y_train) for clf in models)\n",
    "\n",
    "titles = ('LinearSVC (linear kernel)',\n",
    "          'SVC with linear kernel',\n",
    "          'SVC with RBF kernel',\n",
    "          'SVC with sigmoid kernel',\n",
    "          'SVC with ploy(degree=3) kernel')\n",
    "\n",
    "\n",
    "# TODO: 5. 输出模型准确率\n",
    "for model, title in zip(models, titles):\n",
    "    print(\"{0}, 训练集准确率: {1:.3f}, 测试集准确率: {2:.3f}\".format(\n",
    "        title, model.score(X_train, y_train), model.score(X_test, y_test)))\n"
   ]
  },
  {
   "cell_type": "markdown",
   "metadata": {},
   "source": [
    "- **输出不同Gamma下RBF的准确率**"
   ]
  },
  {
   "cell_type": "code",
   "execution_count": 4,
   "metadata": {},
   "outputs": [
    {
     "data": {
      "image/png": "[encoded data removed]",
      "text/plain": [
       "<Figure size 600x400 with 1 Axes>"
      ]
     },
     "metadata": {
      "needs_background": "light"
     },
     "output_type": "display_data"
    }
   ],
   "source": [
    "'''\n",
    "@Author: Xin-Yu Ou (欧新宇)\n",
    "@Description: 鸢尾花数据集上RBF-SVM的超参数Gamma对比\n",
    "@LastEditorTime: 2020-01-26\n",
    "'''\n",
    "# TODO: 1. 导入必须库 以及 定义必要的函数\n",
    "import numpy as np\n",
    "import matplotlib.pyplot as plt\n",
    "# 导入机器学习数据集处理工具\n",
    "from sklearn import datasets\n",
    "from sklearn.model_selection import train_test_split\n",
    "# 导入支持向量机SVM\n",
    "from sklearn import svm\n",
    "\n",
    "# TODO: 2. 创建/导入数据\n",
    "iris = datasets.load_iris()\n",
    "\n",
    "# TODO: 3. 数据预处理，包括训练集、测试集划分，数据正则化，数据清洗等\n",
    "X = iris.data\n",
    "y = iris.target\n",
    "X_train, X_test, y_train, y_test = train_test_split(X, y, train_size=0.6)\n",
    "\n",
    "\n",
    "# TODO: 4. 构建模型，并进行模型训练（或称为拟合数据）\n",
    "C = 1.0\n",
    "# gamma = np.concatenate((np.linspace(0.1, 1, 10), np.linspace(2, 10, 9)), axis=0)\n",
    "gamma = np.linspace(0.1, 1, 10)\n",
    "num = gamma.shape[0]\n",
    "scores = np.zeros([2, num])  # 第1-4列分别为：score_train_rbf,score_test_rbf\n",
    "\n",
    "for i in range(num):\n",
    "    n = i + 1\n",
    "    model = svm.SVC(kernel='rbf', gamma=gamma[i], C=C)\n",
    "    model.fit(X_train, y_train)\n",
    "\n",
    "    scores[0, i] = model.score(X_train, y_train)\n",
    "    scores[1, i] = model.score(X_test, y_test)\n",
    "\n",
    "plt.figure(dpi=100)\n",
    "plt.plot(gamma, scores[0, :], label=\"Train\")\n",
    "plt.plot(gamma, scores[1, :], label=\"Test\")\n",
    "plt.xticks(gamma)\n",
    "\n",
    "plt.legend(loc='best')\n",
    "plt.savefig('results/Ch07Hw01SVM.png', dpi=150)\n",
    "plt.show()\n"
   ]
  }
 ],
 "metadata": {
  "kernelspec": {
   "display_name": "Python 3",
   "language": "python",
   "name": "python3"
  },
  "language_info": {
   "codemirror_mode": {
    "name": "ipython",
    "version": 3
   },
   "file_extension": ".py",
   "mimetype": "text/x-python",
   "name": "python",
   "nbconvert_exporter": "python",
   "pygments_lexer": "ipython3",
   "version": "3.7.4"
  }
 },
 "nbformat": 4,
 "nbformat_minor": 4
}
