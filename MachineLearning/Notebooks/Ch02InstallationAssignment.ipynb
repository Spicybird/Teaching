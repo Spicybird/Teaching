{
 "cells": [
  {
   "cell_type": "markdown",
   "metadata": {},
   "source": [
    "# 课后作业：Python机器学习环境的安装和配置\n",
    "\n",
    "**【作业提交】**\n",
    "\n",
    "将分类结果保存到文本文档进行提交，同时提交源代码。\n",
    "1. 测试结果命名为: ex01-结果图01-你的学号-你的姓名.png, ex01-结果图02-你的学号-你的姓名.png\n",
    "2. 源代码命名为: ex01-01-你的学号-你的姓名.py, ex01-02-你的学号-你的姓名.py, ex01-03-你的学号-你的姓名.py\n",
    "\n",
    "<font color=\"red\">*结果文件，要求每小题标注题号，两题之间要求空一行*</font>\n",
    "___\n",
    "\n",
    "要求完成以下几个作业：\n",
    "- 利用pandas库和字典完成以下习题（ex01-01）\n",
    "- 利用matplotlib库绘制如下图（1）使用代码生成一个表达式为：$y=2x^2-3x^4+6x-3$ 的曲线图。（ex01-02,  ex01-结果图01）\n",
    "- 利用matplotlib库绘制如下图（2）生成直方图（ex01-03,  ex01-结果图02）\n",
    "\n",
    "#### **一. 利用pandas库和字典完成以下习题**\n",
    "\n",
    "##### 1. 生成如下表格"
   ]
  },
  {
   "cell_type": "markdown",
   "metadata": {},
   "source": [
    "|序号|姓名|国家|学号|语文|数学|英语|科学|历史\n",
    ":-:|:-:|:-:|:-:|:-:|:-:|:-:|:-:|:-:\n",
    "0|拿破仑|地球联盟|2019001|33|98|33|98|94\n",
    "1|哥德巴赫|黑暗祭祀|2019002|28|97|28|97|57\n",
    "2|秦始皇|地球联盟|2019003|32|94|32|94|96\n",
    "3|凯撒|黑暗祭祀|2019004|30|92|30|92|98\n",
    "4|耶稣|地球联盟|2019005|99|100|97|98|91"
   ]
  },
  {
   "cell_type": "code",
   "execution_count": 18,
   "metadata": {},
   "outputs": [
    {
     "data": {
      "text/plain": [
       "{'姓名': ['拿破仑', '哥德巴赫', '秦始皇', '凯撒', '耶稣'],\n",
       " '国家': ['地球联盟', '黑暗祭祀', '地球联盟', '黑暗祭祀', '地球联盟'],\n",
       " '学号': ['2019001', '2019002', '2019003', '2019004', '2019005'],\n",
       " '数学': [98, 97, 94, 92, 100],\n",
       " '历史': [94, 57, 96, 98, 91]}"
      ]
     },
     "metadata": {},
     "output_type": "display_data"
    },
    {
     "data": {
      "text/html": [
       "<div>\n",
       "<style scoped>\n",
       "    .dataframe tbody tr th:only-of-type {\n",
       "        vertical-align: middle;\n",
       "    }\n",
       "\n",
       "    .dataframe tbody tr th {\n",
       "        vertical-align: top;\n",
       "    }\n",
       "\n",
       "    .dataframe thead th {\n",
       "        text-align: right;\n",
       "    }\n",
       "</style>\n",
       "<table border=\"1\" class=\"dataframe\">\n",
       "  <thead>\n",
       "    <tr style=\"text-align: right;\">\n",
       "      <th></th>\n",
       "      <th>姓名</th>\n",
       "      <th>国家</th>\n",
       "      <th>学号</th>\n",
       "      <th>数学</th>\n",
       "      <th>历史</th>\n",
       "    </tr>\n",
       "  </thead>\n",
       "  <tbody>\n",
       "    <tr>\n",
       "      <td>0</td>\n",
       "      <td>拿破仑</td>\n",
       "      <td>地球联盟</td>\n",
       "      <td>2019001</td>\n",
       "      <td>98</td>\n",
       "      <td>94</td>\n",
       "    </tr>\n",
       "    <tr>\n",
       "      <td>1</td>\n",
       "      <td>哥德巴赫</td>\n",
       "      <td>黑暗祭祀</td>\n",
       "      <td>2019002</td>\n",
       "      <td>97</td>\n",
       "      <td>57</td>\n",
       "    </tr>\n",
       "    <tr>\n",
       "      <td>2</td>\n",
       "      <td>秦始皇</td>\n",
       "      <td>地球联盟</td>\n",
       "      <td>2019003</td>\n",
       "      <td>94</td>\n",
       "      <td>96</td>\n",
       "    </tr>\n",
       "    <tr>\n",
       "      <td>3</td>\n",
       "      <td>凯撒</td>\n",
       "      <td>黑暗祭祀</td>\n",
       "      <td>2019004</td>\n",
       "      <td>92</td>\n",
       "      <td>98</td>\n",
       "    </tr>\n",
       "    <tr>\n",
       "      <td>4</td>\n",
       "      <td>耶稣</td>\n",
       "      <td>地球联盟</td>\n",
       "      <td>2019005</td>\n",
       "      <td>100</td>\n",
       "      <td>91</td>\n",
       "    </tr>\n",
       "  </tbody>\n",
       "</table>\n",
       "</div>"
      ],
      "text/plain": [
       "     姓名    国家       学号   数学  历史\n",
       "0   拿破仑  地球联盟  2019001   98  94\n",
       "1  哥德巴赫  黑暗祭祀  2019002   97  57\n",
       "2   秦始皇  地球联盟  2019003   94  96\n",
       "3    凯撒  黑暗祭祀  2019004   92  98\n",
       "4    耶稣  地球联盟  2019005  100  91"
      ]
     },
     "metadata": {},
     "output_type": "display_data"
    }
   ],
   "source": [
    "# 0.载入pandas\n",
    "import pandas as pd\n",
    "\n",
    "# 1.创建数据 \n",
    "# 1).字典 -> DataFrame\n",
    "# 定义数据时候，尽量使用最贴合原始数据的数据格式来进行数据定义\n",
    "data = {\n",
    "    \"姓名\": [\"拿破仑\", \"哥德巴赫\", \"秦始皇\", \"凯撒\", \"耶稣\"],\n",
    "    \"国家\": [\"地球联盟\",\"黑暗祭祀\",\"地球联盟\",\"黑暗祭祀\",\"地球联盟\"],\n",
    "    \"学号\": [\"2019001\",\"2019002\",\"2019003\",\"2019004\",\"2019005\"],\n",
    "    \"数学\": [98,97,94,92,100],\n",
    "    \"历史\": [94,57,96,98,91]\n",
    "}\n",
    "\n",
    "\n",
    "# 2). 字典 -> DataFrame\n",
    "df = pd.DataFrame(data)\n",
    "\n",
    "# 2.显示数据\n",
    "display(data)\n",
    "display(df)"
   ]
  },
  {
   "cell_type": "markdown",
   "metadata": {},
   "source": [
    "##### 2. 通过对表格的操作，获得以下几个结果\n",
    "\n",
    " (1) 获取国家不等于“地球联盟”的数据\n",
    "\n",
    " (2) 获取学号等于2019003的数据\n",
    "\n",
    " (3)获取数学成绩大于95的同学的数据\n",
    "\n",
    " (4) 获取历史成绩大于60，同时属于“黑暗祭祀”的同学的信息\n",
    "\n"
   ]
  },
  {
   "cell_type": "code",
   "execution_count": 25,
   "metadata": {},
   "outputs": [
    {
     "data": {
      "text/html": [
       "<div>\n",
       "<style scoped>\n",
       "    .dataframe tbody tr th:only-of-type {\n",
       "        vertical-align: middle;\n",
       "    }\n",
       "\n",
       "    .dataframe tbody tr th {\n",
       "        vertical-align: top;\n",
       "    }\n",
       "\n",
       "    .dataframe thead th {\n",
       "        text-align: right;\n",
       "    }\n",
       "</style>\n",
       "<table border=\"1\" class=\"dataframe\">\n",
       "  <thead>\n",
       "    <tr style=\"text-align: right;\">\n",
       "      <th></th>\n",
       "      <th>姓名</th>\n",
       "      <th>国家</th>\n",
       "      <th>学号</th>\n",
       "      <th>数学</th>\n",
       "      <th>历史</th>\n",
       "    </tr>\n",
       "  </thead>\n",
       "  <tbody>\n",
       "    <tr>\n",
       "      <td>3</td>\n",
       "      <td>凯撒</td>\n",
       "      <td>黑暗祭祀</td>\n",
       "      <td>2019004</td>\n",
       "      <td>92</td>\n",
       "      <td>98</td>\n",
       "    </tr>\n",
       "  </tbody>\n",
       "</table>\n",
       "</div>"
      ],
      "text/plain": [
       "   姓名    国家       学号  数学  历史\n",
       "3  凯撒  黑暗祭祀  2019004  92  98"
      ]
     },
     "execution_count": 25,
     "metadata": {},
     "output_type": "execute_result"
    }
   ],
   "source": [
    "# (1) 获取国家不等于“地球联盟”的数据\n",
    "# 把真假的部分作为一个键索引传送给原来的data_frame表格\n",
    "# df[df.国家 != \"地球联盟\"]\n",
    "\n",
    "# (2) 获取学号等于2019003的数据  =:赋值  ==：判断相等\n",
    "# df[df.学号 == \"2019003\"]\n",
    "\n",
    "# (3)获取数学成绩大于95的同学的数据\n",
    "# \"95\" 变成字符串类型, 字符串类型对比，先转换unicode再进行对比大小，两位数和三位数转换出来的格式是不同的。\n",
    "# df[df.数学 > 95]\n",
    "\n",
    "# (4) 获取历史成绩大于60，同时属于“黑暗祭祀”的同学的信息\n",
    "df[(df.历史 > 60) & (df.国家 == '黑暗祭祀')]    #强制调整优先级"
   ]
  },
  {
   "cell_type": "markdown",
   "metadata": {},
   "source": [
    "#### **二. 利用matplotlib库绘制如下图**\n",
    "\n",
    "##### 1. 使用代码生成一个表达式为：$y=2x^2-3x^4+6x-3$ 的曲线图。\n",
    "\n",
    "自变量x的取值范围为：(-20, 20, 10)\n",
    "1. -20~20 间隔为10\n",
    "2. 等差数列 -20~20,生成10个数"
   ]
  },
  {
   "cell_type": "code",
   "execution_count": 31,
   "metadata": {},
   "outputs": [
    {
     "data": {
      "image/png": "[encoded data removed]",
      "text/plain": [
       "<Figure size 432x288 with 1 Axes>"
      ]
     },
     "metadata": {
      "needs_background": "light"
     },
     "output_type": "display_data"
    }
   ],
   "source": [
    "# 0. 引入库\n",
    "import numpy as np\n",
    "import matplotlib.pyplot as plt\n",
    "\n",
    "# 1. 指定坐标轴(x,y)\n",
    "x = np.linspace(-20,20,10)\n",
    "y = 2*x**2 - 3*x**4 + 6*x - 3 \n",
    "\n",
    "# 2. 显示、绘图\n",
    "plt.plot(x,y,marker=\"o\")\n",
    "\n",
    "plt.show()"
   ]
  },
  {
   "cell_type": "markdown",
   "metadata": {},
   "source": [
    "\n",
    "##### 2. 生成直方图\n",
    "\n",
    "直方图应包含6个序列，每个序列3种类型的特征，取值如下：\n",
    "\n",
    "```python\n",
    "x_data = ('China', 'America', 'Japan', 'Germany', 'France', 'Italy')\n",
    "y1_data = (120, 325, 310, 235, 227, 256)\n",
    "y2_data = (225, 312, 314, 221, 253, 341)\n",
    "y3_data = (232, 332, 222, 241, 190, 299)\n",
    "```"
   ]
  },
  {
   "cell_type": "code",
   "execution_count": null,
   "metadata": {},
   "outputs": [],
   "source": [
    "# 注释的快捷键 ctrl + /"
   ]
  }
 ],
 "metadata": {
  "kernelspec": {
   "display_name": "Python 3",
   "language": "python",
   "name": "python3"
  },
  "language_info": {
   "codemirror_mode": {
    "name": "ipython",
    "version": 3
   },
   "file_extension": ".py",
   "mimetype": "text/x-python",
   "name": "python",
   "nbconvert_exporter": "python",
   "pygments_lexer": "ipython3",
   "version": "3.7.4"
  },
  "toc-autonumbering": false
 },
 "nbformat": 4,
 "nbformat_minor": 4
}
