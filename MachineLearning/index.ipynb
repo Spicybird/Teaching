{
 "cells": [
  {
   "cell_type": "markdown",
   "metadata": {},
   "source": [
    "## 课程目录"
   ]
  },
  {
   "cell_type": "markdown",
   "metadata": {},
   "source": [
    "- [第2章 安装和配置](MachineLearning/Ch02-安装和配置.ipynb)\n",
    "- [第3章 K最近邻算法](MachineLearning/Ch03-K最近邻算法.ipynb)\n",
    "    - [课后习题](MachineLearning/Ex03-K最近邻算法.ipynb)\n",
    "- [第4章 广义线性模型](MachineLearning/Ch04-广义线性模型.ipynb)\n",
    "    - [课后习题](MachineLearning/Ex04-广义线性模型.ipynb)"
   ]
  },
  {
   "cell_type": "code",
   "execution_count": null,
   "metadata": {},
   "outputs": [],
   "source": []
  }
 ],
 "metadata": {
  "kernelspec": {
   "display_name": "Python 3",
   "language": "python",
   "name": "python3"
  },
  "language_info": {
   "codemirror_mode": {
    "name": "ipython",
    "version": 3
   },
   "file_extension": ".py",
   "mimetype": "text/x-python",
   "name": "python",
   "nbconvert_exporter": "python",
   "pygments_lexer": "ipython3",
   "version": "3.7.4"
  }
 },
 "nbformat": 4,
 "nbformat_minor": 4
}
