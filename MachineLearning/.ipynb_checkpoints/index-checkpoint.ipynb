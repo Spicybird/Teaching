{
 "cells": [
  {
   "cell_type": "markdown",
   "metadata": {},
   "source": [
    "## 课程目录"
   ]
  },
  {
   "cell_type": "markdown",
   "metadata": {},
   "source": [
    "- [第2章 安装和配置](Ch02-安装和配置.ipynb) [[PDF]](PDF/Ch02-安装和配置.PDF) \n",
    "- [第3章 K最近邻算法](Ch03-K最近邻算法.ipynb) [[PDF]](PDF/Ch03-K最近邻算法.PDF) \n",
    "    - [课后习题](Ex03-K最近邻算法.ipynb)\n",
    "    - [sklearn.datasets.make_regression](functions/sklearn.datasets.make_regression.ipynb)\n",
    "- [第4章 广义线性模型](Ch04-广义线性模型.ipynb) [[PDF]](PDF/Ch04-广义线性模型.PDF) \n",
    "    - [课后习题](Ex04-广义线性模型.ipynb)\n",
    "- [第5章 朴素贝叶斯](Ch05-朴素贝叶斯.ipynb) [[PDF]](PDF/Ch05-朴素贝叶斯.PDF) \n",
    "    - [课后习题](Ex05-朴素贝叶斯.ipynb)\n",
    "- [第6章 决策树与随机森林型](Ch06-决策树与随机森林型.ipynb) [[PDF]](PDF/Ch06-决策树与随机森林型.PDF) \n",
    "    - [课后习题](Ex06-决策树与随机森林型.ipynb)\n",
    "- [第7章 支持向量机SVM](Ch07-支持向量机SVM.ipynb) [[PDF]](PDF/Ch07-支持向量机SVM.PDF) \n",
    "    - [课后习题](Ex07-支持向量机SVM.ipynb)\n",
    "- [第8章 神经网络](Ch08-神经网络.ipynb) [[PDF]](PDF/Ch08-神经网络.PDF) \n",
    "    - [课后习题](Ex08-神经网络.ipynb)\n",
    "- [第9章 数据预处理、降维、特征提取及聚类](Ch09-数据预处理、降维、特征提取及聚类.ipynb) [[PDF]](PDF/Ch09-数据预处理、降维、特征提取及聚类.PDF) \n",
    "    - [课后习题](Ex09-数据预处理、降维、特征提取及聚类.ipynb)\n",
    "- [第10章 数据表达与特征工程](Ch10-数据表达与特征工程.ipynb) [[PDF]](PDF/Ch10-数据表达与特征工程.PDF) \n",
    "    - [课后习题](Ex10-数据表达与特征工程.ipynb)\n",
    "- [第11章 模型评估与优化](Ch11-模型评估与优化.ipynb) [[PDF]](PDF/Ch11-模型评估与优化.PDF) \n",
    "    - [课后习题](Ex11-模型评估与优化.ipynb)\n",
    "- [第12章 建立算法的管道模型](Ch12-建立算法的管道模型.ipynb) [[PDF]](PDF/Ch12-建立算法的管道模型.PDF) \n",
    "    - [课后习题](Ex12-建立算法的管道模型.ipynb)\n",
    "- [第13章 文本数据处理型](Ch13-文本数据处理型.ipynb) [[PDF]](PDF/Ch13-文本数据处理型.PDF) \n",
    "    - [课后习题](Ex13-文本数据处理型.ipynb)\n",
    "- [第14章 从数据获取到话题提取](Ch14-从数据获取到话题提取.ipynb) [[PDF]](PDF/Ch14-从数据获取到话题提取.PDF) \n",
    "    - [课后习题](Ex14-从数据获取到话题提取.ipynb)"
   ]
  },
  {
   "cell_type": "code",
   "execution_count": null,
   "metadata": {},
   "outputs": [],
   "source": []
  }
 ],
 "metadata": {
  "kernelspec": {
   "display_name": "Python 3",
   "language": "python",
   "name": "python3"
  },
  "language_info": {
   "codemirror_mode": {
    "name": "ipython",
    "version": 3
   },
   "file_extension": ".py",
   "mimetype": "text/x-python",
   "name": "python",
   "nbconvert_exporter": "python",
   "pygments_lexer": "ipython3",
   "version": "3.7.4"
  }
 },
 "nbformat": 4,
 "nbformat_minor": 4
}
