{
 "cells": [
  {
   "cell_type": "markdown",
   "metadata": {},
   "source": [
    "# The Menu of MyCodes"
   ]
  },
  {
   "cell_type": "markdown",
   "metadata": {},
   "source": [
    "## CaffeMaster"
   ]
  },
  {
   "cell_type": "markdown",
   "metadata": {},
   "source": [
    "<ul>\n",
    "    <li style=\"line-height:30px;\"><a href=\"http://nbviewer.ipython.org/github/ouxinyu/ouxinyu.github.io/blob/master/MyCodes/caffe-master/classification.ipynb\">Classifying ImageNet: the instant Caffe way</a></li>\n",
    "    <li style=\"line-height:20px;color:gray;list-style-type:none;\">使用预训练的ImageNet模型来分类图片with Python interface</li>\n",
    "    <li style=\"line-height:30px;\"><a href=\"http://nbviewer.ipython.org/github/ouxinyu/ouxinyu.github.io/blob/master/MyCodes/caffe-master/filter_visualization.ipynb\">Filter visualization</a></li>\n",
    "    <li style=\"line-height:20px;color:gray;list-style-type:none;\">使用example image抽取每一层的特征并进行可视化</li>\n",
    "    <li style=\"line-height:30px;\"><a href=\"http://nbviewer.ipython.org/github/ouxinyu/ouxinyu.github.io/blob/master/MyCodes/caffe-master/detection.ipynb\">R-CNN detection</a></li>\n",
    "    <li style=\"line-height:20px;color:gray;list-style-type:none;\">使用预训练模型实现RCNN</li>\n",
    "    <li style=\"line-height:30px;\"><a href=\"http://nbviewer.ipython.org/github/ouxinyu/ouxinyu.github.io/blob/master/MyCodes/caffe-master/hdf5_classification.ipynb\">Off-the-shelf SGD for classification</a></li>\n",
    "    <li style=\"line-height:20px;color:gray;list-style-type:none;\">使用Caffe训练和预测一个基于HDF5数据的 logistic regression 模型</li>\n",
    "    <li style=\"line-height:30px;\"><a href=\"http://nbviewer.ipython.org/github/ouxinyu/ouxinyu.github.io/blob/master/MyCodes/caffe-master/net_surgery.ipynb\">Editing model parameters</a></li>\n",
    "    <li style=\"line-height:20px;color:gray;list-style-type:none;\">How to do net surgery and manually change model parameters, making a fully-convolutional classifier for dense feature extraction.</li>\n",
    "    <li style=\"line-height:30px;\"><a href=\"http://nbviewer.ipython.org/github/ouxinyu/ouxinyu.github.io/blob/master/MyCodes/caffe-master/mnist_siamese.ipynb\">Siamese network embedding</a></li>\n",
    "    <li style=\"line-height:20px;color:gray;list-style-type:none;\">使用Siamese network进行特征提取和Plotting.</li>\n",
    "</ul>"
   ]
  }
 ],
 "metadata": {
  "kernelspec": {
   "display_name": "Python 3",
   "language": "python",
   "name": "python3"
  },
  "language_info": {
   "codemirror_mode": {
    "name": "ipython",
    "version": 3
   },
   "file_extension": ".py",
   "mimetype": "text/x-python",
   "name": "python",
   "nbconvert_exporter": "python",
   "pygments_lexer": "ipython3",
   "version": "3.7.4"
  }
 },
 "nbformat": 4,
 "nbformat_minor": 4
}
