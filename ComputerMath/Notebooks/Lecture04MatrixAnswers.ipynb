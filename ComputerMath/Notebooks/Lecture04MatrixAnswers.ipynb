{
 "cells": [
  {
   "cell_type": "markdown",
   "metadata": {},
   "source": [
    "# 课后作业答案：矩阵"
   ]
  },
  {
   "cell_type": "markdown",
   "metadata": {},
   "source": [
    "<font color=\"blue\">作者：欧新宇（Xinyu OU）</font>\n",
    "\n",
    "<font color=\"red\">本文档所展示的测试结果，均运行于：Intel Core i7-7700K CPU 4.2GHz</font>\n",
    "\n",
    "---"
   ]
  },
  {
   "cell_type": "markdown",
   "metadata": {},
   "source": [
    "<font style=\"color:red;font-weight:bold;\">以下作业尽量使用Python实现。</font>"
   ]
  },
  {
   "cell_type": "markdown",
   "metadata": {},
   "source": [
    "**1. 编写Python代码，实现以下矩阵的创建，并显示（打印）到屏幕。**\n",
    "\n",
    "$(1). A=\\begin{bmatrix}\n",
    "2 & 1 & 4 & 0 \\\\\n",
    "1 & -1 & 3 & 4 \\\\\n",
    "\\end{bmatrix}$\n",
    "\n",
    "$(2). B=\\begin{bmatrix}\n",
    "1 & 3 & 1 \\\\\n",
    "0 & -1 & 2 \\\\\n",
    "1 & -3 & 1 \\\\\n",
    "4 & 0 & -2 \\\\\n",
    "\\end{bmatrix}$\n"
   ]
  },
  {
   "cell_type": "markdown",
   "metadata": {},
   "source": [
    "解："
   ]
  },
  {
   "cell_type": "code",
   "execution_count": 3,
   "metadata": {},
   "outputs": [
    {
     "name": "stdout",
     "output_type": "stream",
     "text": [
      "A= \n",
      "[[ 2  1  4  0]\n",
      " [ 1 -1  3  4]]\n",
      "B= \n",
      "[[ 1  3  1]\n",
      " [ 0 -1  2]\n",
      " [ 1 -3  1]\n",
      " [ 4  0 -2]]\n"
     ]
    }
   ],
   "source": [
    "import numpy as np\n",
    "A = np.array([[2,1,4,0],[1,-1,3,4]])\n",
    "B = np.array([[1,3,1],[0,-1,2],[1,-3,1],[4,0,-2]])\n",
    "\n",
    "print('A= \\n{}'.format(A))\n",
    "print('B= \\n{}'.format(B))"
   ]
  },
  {
   "cell_type": "markdown",
   "metadata": {},
   "source": [
    "**2. 【计算题】给定以下两个矩阵A和B，试求线性组合S=2.4A+1.7B，并将结果显示（打印）到屏幕。**\n",
    "\n",
    "$A=\\begin{bmatrix}\n",
    "2.2 & 1.5 & 4.4 \\\\\n",
    "1.4 & -1.1 & 3.1 \\\\\n",
    "\\end{bmatrix}, \n",
    "B=\\begin{bmatrix}\n",
    "1.2 & 3 & 1.6 \\\\\n",
    "0 & -1.8 & 2.3 \\\\\n",
    "\\end{bmatrix}$"
   ]
  },
  {
   "cell_type": "markdown",
   "metadata": {},
   "source": [
    "解："
   ]
  },
  {
   "cell_type": "code",
   "execution_count": 4,
   "metadata": {},
   "outputs": [
    {
     "name": "stdout",
     "output_type": "stream",
     "text": [
      "S = \n",
      "[[ 7.32  8.7  13.28]\n",
      " [ 3.36 -5.7  11.35]]\n"
     ]
    }
   ],
   "source": [
    "import numpy as np\n",
    "A = np.array([[2.2,1.5,4.4],[1.4,-1.1,3.1]])\n",
    "B = np.array([[1.2,3,1.6],[0,-1.8,2.3]])\n",
    "\n",
    "S = 2.4 * A + 1.7 * B\n",
    "\n",
    "print('S = \\n{}'.format(S))"
   ]
  },
  {
   "cell_type": "markdown",
   "metadata": {},
   "source": [
    "**3. 【计算题】使用Python代码，求解以下矩阵运算**\n",
    "\n",
    "(1) 求矩阵的乘积：$S = \\begin{bmatrix}\n",
    "2 & 1 & 4 & 0 \\\\\n",
    "1 & -1 & 3 & 4 \\\\\n",
    "\\end{bmatrix}\n",
    "\\begin{bmatrix}\n",
    "1 & 3 & 1 \\\\\n",
    "0 & -1 & 2 \\\\\n",
    "1 & -3 & 1 \\\\\n",
    "4 & 0 & -2 \\\\\n",
    "\\end{bmatrix}$\n",
    "\n",
    "(2) 设$A = \\begin{bmatrix}\n",
    "1 & 2 & 1 & 0 \\\\\n",
    "2 & 1 & 0 & 1 \\\\\n",
    "3 & -2 & 2 & 1 \\\\\n",
    "1 & 2 & 4 & 3 \\\\\n",
    "\\end{bmatrix}$，\n",
    "$B = \\begin{bmatrix}\n",
    "3 & 4 & 1 & -2 \\\\\n",
    "2 & 1 & 2 & 2 \\\\\n",
    "2 & -2 & 2 & 1 \\\\\n",
    "1 & 2 & -4 & 3 \\\\\n",
    "\\end{bmatrix}$，求$M = 4A^2 + 3AB - 2BA+ 5B^2 + (AB)^T$。\n"
   ]
  },
  {
   "cell_type": "markdown",
   "metadata": {},
   "source": [
    "- 解(1)"
   ]
  },
  {
   "cell_type": "code",
   "execution_count": 87,
   "metadata": {},
   "outputs": [
    {
     "name": "stdout",
     "output_type": "stream",
     "text": [
      "A×B=\n",
      " [[ 6 -7  8]\n",
      " [20 -5 -6]]\n"
     ]
    }
   ],
   "source": [
    "import numpy as np\n",
    "A = np.array([[2,1,4,0],[1,-1,3,4]])\n",
    "B = np.array([[1,3,1],[0,-1,2],[1,-3,1],[4,0,-2]])\n",
    "\n",
    "S = np.dot(A,B)\n",
    "print(\"A×B=\\n {}\".format(S))"
   ]
  },
  {
   "cell_type": "markdown",
   "metadata": {},
   "source": [
    "- 解(2)"
   ]
  },
  {
   "cell_type": "code",
   "execution_count": 1,
   "metadata": {},
   "outputs": [
    {
     "name": "stdout",
     "output_type": "stream",
     "text": [
      "4A^2+3AB-2BA+5B^2+(AB)^T=\n",
      " [[129  71 154  26]\n",
      " [ 97 107   4  35]\n",
      " [ 86  52  10 -23]\n",
      " [155  85  -3 141]]\n"
     ]
    }
   ],
   "source": [
    "import numpy as np\n",
    "A = np.array([[1,2,1,0],[2,1,0,1],[3,-2,2,1],[1,2,4,3]])\n",
    "B = np.array([[3,4,1,-2],[2,1,2,2],[2,-2,2,1],[1,2,-4,3]])\n",
    "\n",
    "M = 4*np.dot(A,A)+3*np.dot(A,B)-2*np.dot(B,A)+5*np.dot(B,B)+(np.dot(A,B).T)\n",
    "print(\"4A^2+3AB-2BA+5B^2+(AB)^T=\\n {}\".format(M))"
   ]
  },
  {
   "cell_type": "markdown",
   "metadata": {},
   "source": [
    "**4. 【应用题】冠状病毒感染人员预测**\n",
    "\n",
    "冠状病毒的感染是非常快速的，某城市有800万人，在1月15日有2000人确诊感染了冠状病毒。假设每天新增确诊病例为未感染人口的0.4%，每天的治愈率为确诊人群的5%。假设在没有找到有效的抑制病例增加手段和防感染疫苗的情况下，2天，10天，20天，50天，100天后分别有多少确诊病例。\n",
    "\n",
    "**【进阶问题】** <font color=\"blue\">按照当前的设定，多少天以后达到峰值，即：新增确诊病例和新增治愈人数基本一致。</font>\n",
    "\n",
    "**【扩展问题】** <font color=\"red\">有兴趣的同学可以考虑，如何利用Python获取，当治愈率上升到一定的程度，或感染率降低到一定的程度后，出现拐点的日期。</font>\n"
   ]
  },
  {
   "cell_type": "markdown",
   "metadata": {},
   "source": [
    "解：我们可以用如下思路构建传染矩阵X。\n",
    "1. 矩阵X的第一行第一个元素为一天后仍然没有被感染的人占前一天没有被感染人群的百分比; 第一行第二个元素为前一天被治愈的人群占前一天确诊感染人群的百分比。。\n",
    "2. 矩阵A的第二行第一个元素为一天后被感染确诊的人占前一天没有被感染人群的百分比；第二行第二个元素为前一天确诊的同时没有被治愈的人占前一天确诊人群的百分比。\n",
    "\n",
    "则有:\n",
    "$A=\\begin{bmatrix}\n",
    "99.6/100 & 5/100 \\\\\n",
    "0.4/100 & 95/100 \\\\\n",
    "\\end{bmatrix}$\n",
    "\n",
    "若令 $x=\\begin{bmatrix} 8000000-2000 \\\\ 2000 \\end{bmatrix}$，则1天后确诊感染人数和正常人数可以用$A$乘以$x$计算。其中`(8000000-2000)*(99.6/100)`表示原来正常人群中仍然没有被感染的人数，`2000*(5/100)`表示一天后被治愈的人数，两者相加就是1天后正常人群的总数；`(8000000-2000)*(0.4/100)`表示新增确诊病例，`2000*(95/100)`表示一天后仍然没有被治愈的确诊人数，两者相加就是1天后处于确诊状态的被感染人群。\n",
    "\n",
    "$Ax=\\begin{bmatrix}\n",
    "99.6/100 & 5/100 \\\\\n",
    "0.4/100 & 95/100 \\\\\n",
    "\\end{bmatrix}\n",
    "\\begin{bmatrix} \n",
    "8000000-2000 \\\\\n",
    "2000 \\\\\n",
    "\\end{bmatrix}\n",
    "=\\begin{bmatrix} \n",
    "0.996*7998000 + 0.05*2000 \\\\\n",
    "0.004*7998000 + 0.95*2000 \\\\\n",
    "\\end{bmatrix}\n",
    "=\\begin{bmatrix} \n",
    "‭7,966,108‬ \\\\\n",
    "‭33,892‬ \\\\\n",
    "\\end{bmatrix}$\n",
    "\n",
    "一般地说，n天后，感染冠状病毒的人数和正常人数，可由$A^n x$求得。"
   ]
  },
  {
   "cell_type": "code",
   "execution_count": 89,
   "metadata": {},
   "outputs": [
    {
     "name": "stdout",
     "output_type": "stream",
     "text": [
      "  2天后，未感染人数为7935938，确诊人数为64062\n",
      " 10天后，未感染人数为7728101，确诊人数为271899\n",
      " 20天后，未感染人数为7519099，确诊人数为480901\n",
      " 50天后，未感染人数为7414764，确诊人数为585236\n",
      "100天后，未感染人数为7407438，确诊人数为592562\n"
     ]
    }
   ],
   "source": [
    "import numpy as np\n",
    "A = np.array([[0.996, 0.05],[0.004,0.95]])\n",
    "x = np.array([[7998000],[2000]])\n",
    "\n",
    "n = [2, 10, 20, 50, 100] # n=1:A^2; n=2:A^3\n",
    "\n",
    "person = np.dot(A,x)\n",
    "\n",
    "for i in n:\n",
    "    for j in range(i-1):\n",
    "        person = np.dot(A, person)\n",
    "\n",
    "    print(\"{:3d}天后，未感染人数为{:.0f}，确诊人数为{:.0f}\".format(i, person[0][0], person[1][0]))\n"
   ]
  },
  {
   "cell_type": "markdown",
   "metadata": {},
   "source": [
    "**【进阶问题】** <font color=\"blue\">按照当前的设定，多少天以后达到峰值，即：新增确诊病例和新增治愈人数基本一致。</font>\n",
    "> 基本思路是设置一个`峰值`，当某一天确诊人数不再增长时，即确诊人数不高于峰值人数时，循环停止。"
   ]
  },
  {
   "cell_type": "markdown",
   "metadata": {},
   "source": [
    "- 方法一：使用for循环"
   ]
  },
  {
   "cell_type": "code",
   "execution_count": 90,
   "metadata": {},
   "outputs": [
    {
     "name": "stdout",
     "output_type": "stream",
     "text": [
      "\n",
      " 峰值出现在第612天，此时未感染人数为7407407，确诊人数为592593\n"
     ]
    }
   ],
   "source": [
    "import numpy as np\n",
    "A = np.array([[0.996, 0.05],[0.004,0.95]])\n",
    "x = np.array([[7998000],[2000]])\n",
    "\n",
    "n = 999999 # n=1:A^2; n=2:A^3\n",
    "\n",
    "person = np.dot(A,x)\n",
    "top = 0\n",
    "\n",
    "for i in range(n-1):\n",
    "    person = np.dot(A, person)\n",
    "    if top < person[1][0]:\n",
    "        top = person[1][0]\n",
    "#         print(\"\\r {:3d}天后，未感染人数为{:.0f}，确诊人数为{:.0f}\".format(i, person[0][0], person[1][0]), end=\"\")\n",
    "    else:\n",
    "        print(\"\\n 峰值出现在第{:3d}天，此时未感染人数为{:.0f}，确诊人数为{:.0f}\".format(i, person[0][0], person[1][0]))\n",
    "        break"
   ]
  },
  {
   "cell_type": "markdown",
   "metadata": {},
   "source": [
    "- 方法二：使用while循环"
   ]
  },
  {
   "cell_type": "code",
   "execution_count": 91,
   "metadata": {},
   "outputs": [
    {
     "name": "stdout",
     "output_type": "stream",
     "text": [
      "\n",
      " 峰值出现在第612天，此时未感染人数为7407407，确诊人数为592593\n"
     ]
    }
   ],
   "source": [
    "import numpy as np\n",
    "A = np.array([[0.996, 0.05],[0.004,0.95]])\n",
    "x = np.array([[7998000],[2000]])\n",
    "\n",
    "person = np.dot(A,x)\n",
    "top = person[1][0]\n",
    "person = np.dot(A, person)\n",
    "i = 0\n",
    "\n",
    "while top < person[1][0]:    \n",
    "    top = person[1][0]\n",
    "    person = np.dot(A, person)\n",
    "    i = i + 1\n",
    "\n",
    "print(\"\\n 峰值出现在第{:3d}天，此时未感染人数为{:.0f}，确诊人数为{:.0f}\".format(i, person[0][0], person[1][0]))\n"
   ]
  }
 ],
 "metadata": {
  "kernelspec": {
   "display_name": "Python 3",
   "language": "python",
   "name": "python3"
  },
  "language_info": {
   "codemirror_mode": {
    "name": "ipython",
    "version": 3
   },
   "file_extension": ".py",
   "mimetype": "text/x-python",
   "name": "python",
   "nbconvert_exporter": "python",
   "pygments_lexer": "ipython3",
   "version": "3.7.4"
  }
 },
 "nbformat": 4,
 "nbformat_minor": 4
}
