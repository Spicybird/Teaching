{
 "cells": [
  {
   "cell_type": "markdown",
   "metadata": {},
   "source": [
    "# 课后作业答案：向量"
   ]
  },
  {
   "cell_type": "markdown",
   "metadata": {},
   "source": [
    "<font color=\"blue\">作者：欧新宇（Xinyu OU）</font>\n",
    "\n",
    "<font color=\"red\">本文档所展示的测试结果，均运行于：Intel Core i7-7700K CPU 4.2GHz</font>\n",
    "\n",
    "---"
   ]
  },
  {
   "cell_type": "markdown",
   "metadata": {},
   "source": [
    "**要求完成以下作业:**\n",
    "\n",
    "1. 设 $v_1={(1,1,0)}^T, v_2={(0,1,1)}^T, v_3={(3,4,0)}^T$, 求 $v_1-v_2$ 及 $3v_1 + 2v_2 - v_3$。\n",
    "\n",
    "2. 设 $3(a_1-a) + 2(a_2 + a) = 5(a_3 + a)$。其中, $a_1={(2,5,1,3)}^T, a_2={(10,1,5,10)}^T, a_3={(4,1,-1,1)}^T$，求$a$。\n",
    "\n",
    "3. $u^T=(3,2,2), v^T=(5,3,1)$， 求 $u$ 和 $v$ 的内积（点乘）和外积（叉乘）。"
   ]
  },
  {
   "cell_type": "markdown",
   "metadata": {},
   "source": [
    "**【作业提交】**\n",
    "\n",
    "- 有电脑的同学\n",
    "    - 将所有运行结果保存至word文档（最好能另存为pdf）\n",
    "    - 要求：使用编程环境完成下列习题，并按题目顺序将代码（代码通过截图粘贴）和运行结果贴于文档中\n",
    "    - 将文档上传至 `课堂派` 平台，`作业——第2讲 向量`\n",
    "\n",
    "- 没有电脑的同学\n",
    "    - 在作业本上完成以上习题，并进行拍照\n",
    "    - 按顺序将**照片**上传至 `课堂派` 平台，`作业——第2讲 向量`\n",
    "\n",
    "> 有电脑的尽量使用电脑完成作业！！！"
   ]
  },
  {
   "cell_type": "markdown",
   "metadata": {},
   "source": [
    "**【参考答案】**\n",
    "\n",
    "**1. 第一题：** 设 $v_1={(1,1,0)}^T, v_2={(0,1,1)}^T, v_3={(3,4,0)}^T$, 求 $a = v_1-v_2$ 及 $b = 3v_1 + 2v_2 - v_3$。\n",
    "\n",
    "- 手工推导\n",
    "\n",
    "解：\n",
    "\n",
    "$a = v_1-v_2 =\n",
    "\\begin{bmatrix} 1 \\\\ 1 \\\\ 0 \\end{bmatrix}\n",
    "-\\begin{bmatrix} 0 \\\\ 1 \\\\ 1 \\end{bmatrix}\n",
    "=\\begin{bmatrix} 1-0 \\\\ 1-1 \\\\ 0-1 \\end{bmatrix}\n",
    "=\\begin{bmatrix} 1 \\\\ 0 \\\\ -1 \\end{bmatrix}$\n",
    "\n",
    "\n",
    "$b = 3v_1 + 2v_2 - v_3=\n",
    "3*\\begin{bmatrix} 1 \\\\ 1 \\\\ 0 \\end{bmatrix}\n",
    "+2*\\begin{bmatrix} 0 \\\\ 1 \\\\ 1 \\end{bmatrix}\n",
    "-\\begin{bmatrix} 3 \\\\ 4 \\\\ 0 \\end{bmatrix}\n",
    "=\\begin{bmatrix} 3*1+2*0-3 \\\\ 3*1+2*1-4 \\\\ 3*0+2*1-0 \\end{bmatrix}\n",
    "=\\begin{bmatrix} 0 \\\\ 1 \\\\ 2 \\end{bmatrix}$\n",
    "\n",
    "- Python描述："
   ]
  },
  {
   "cell_type": "code",
   "execution_count": 14,
   "metadata": {},
   "outputs": [
    {
     "name": "stdout",
     "output_type": "stream",
     "text": [
      "a = [[ 1]\n",
      " [ 0]\n",
      " [-1]]\n",
      "b = [[0]\n",
      " [1]\n",
      " [2]]\n"
     ]
    }
   ],
   "source": [
    "# 0. 载入运算库\n",
    "import numpy as np\n",
    "\n",
    "# 1. 定义已知量\n",
    "v1=np.array([[1,1,0]]).T\n",
    "v2=np.array([[0,1,1]]).T\n",
    "v3=np.array([[3,4,0]]).T\n",
    "\n",
    "# 2. 计算和数据处理\n",
    "print('a = {}'.format(v1-v2))\n",
    "print('b = {}'.format(3*v1+2*v2-v3))"
   ]
  },
  {
   "cell_type": "markdown",
   "metadata": {},
   "source": [
    "**【结果分析】**\n",
    "\n",
    "变量的定义，要满足变量命名规则：英文字母（大小写都可以）、数字、下划线、中文(不推荐使用)。首字只允许英文和下划线。"
   ]
  },
  {
   "cell_type": "markdown",
   "metadata": {},
   "source": [
    "**2. 第二题：** 设 $3(a_1-a) + 2(a_2 + a) = 5(a_3 + a)$。\n",
    "\n",
    "其中, $a_1={(2,5,1,3)}^T, a_2={(10,1,5,10)}^T, a_3={(4,1,-1,1)}^T$，求$a$。\n",
    "\n",
    "解：\n",
    "\n",
    "$3(a_1-a) + 2(a_2 + a) = 5(a_3 + a)$\n",
    "\n",
    "=> $3a_1 - 3*a + 2a_2 + 2*a = 5a_3 + 5*a$\n",
    "\n",
    "=> $3a_1 + 2a_2 - 5a_3 = 6*a$\n",
    "\n",
    "=> $a = \\frac{3}{6} a_1 + \\frac{2}{6} a_2 - \\frac{5}{6} a_3$ \n",
    " \n",
    "- 手工推导\n",
    "\n",
    "$a =\n",
    "\\frac{3}{6}*\\begin{bmatrix} 2 \\\\ 5 \\\\ 1 \\\\ 3 \\end{bmatrix}\n",
    "+\\frac{2}{6}*\\begin{bmatrix} 10 \\\\ 1 \\\\ 5 \\\\ 10 \\end{bmatrix}\n",
    "-\\frac{5}{6}\\begin{bmatrix} 4 \\\\ 1 \\\\ -1 \\\\ 1 \\end{bmatrix}\n",
    "=\\begin{bmatrix} \\frac{6+20-20}{6} \\\\ \\frac{15+2-10}{6} \\\\ \\frac{3+10+5}{6} \\\\ \\frac{9+20-5}{6} \\end{bmatrix}\n",
    "=\\begin{bmatrix} 1 \\\\ 2 \\\\ 3 \\\\ 4 \\end{bmatrix}$\n",
    "\n",
    "- Python描述"
   ]
  },
  {
   "cell_type": "code",
   "execution_count": 31,
   "metadata": {},
   "outputs": [
    {
     "name": "stdout",
     "output_type": "stream",
     "text": [
      "[[1.]\n",
      " [2.]\n",
      " [3.]\n",
      " [4.]]\n"
     ]
    }
   ],
   "source": [
    "import numpy as np\n",
    "a1=np.array([[2,5,1,3]]).T\n",
    "a2=np.array([[10,1,5,10]]).T\n",
    "a3=np.array([[4,1,(-1),1]]).T\n",
    "\n",
    "print(3/6*a1 + 2/6*a2 - 5/6*a3)\n"
   ]
  },
  {
   "cell_type": "markdown",
   "metadata": {},
   "source": [
    "**【结果分析】**\n",
    "1. 乘法的符号，注意区分： * , .dot , .cross, .*。\n",
    "2. \"1.\"？ 1是一个浮点数，表示带小数。此时小数部分=0，因为1.0 = 1，所以省略了小数部分，变成 “1.”。值得注意的是Python是一种**弱变量语法**，它不需要显示定义数据类型，因此数据类型之间根据需要可以在一定范围内自动进行转换。例如在产生分数的时候，整型就自动转换为了浮点型。本题中，由于后面的乘法运算，将分数部分约分了，所以就以浮点型的形式显示整数，如：1.，2.，3.。"
   ]
  },
  {
   "cell_type": "markdown",
   "metadata": {},
   "source": [
    "**3. 第三题：** $u=(3,2,2), v=(5,3,1)$， 求 $u$ 和 $v$ 的内积（点乘）和外积（叉乘）。\n",
    "\n",
    "解：\n",
    "\n",
    "$u·v=\n",
    "\\begin{bmatrix} 3 \\\\ 2 \\\\ 2 \\end{bmatrix}\n",
    "· \\begin{bmatrix} 5 \\\\ 3 \\\\ 1 \\end{bmatrix}\n",
    "= 3*5 + 2*3 + 2*1\n",
    "= 15 + 6 + 2\n",
    "= 23$\n",
    "\n",
    "\n",
    "$u \\times v=\n",
    "\\begin{bmatrix} 3 \\\\ 2 \\\\ 2 \\end{bmatrix}\n",
    "\\times\n",
    "\\begin{bmatrix} 5 \\\\ 3 \\\\ 1 \\end{bmatrix}\n",
    "= \\begin{bmatrix} u_2v_3-u_3v_2 \\\\ u_3v_1-u_1v_3 \\\\ u_1v_2-u_2v_1 \\end{bmatrix}\n",
    "= \\begin{bmatrix}  2*1-2*3 \\\\ 2*5-3*1 \\\\ 3*3-2*5 \\end{bmatrix}\n",
    "= \\begin{bmatrix} -4 \\\\ 7 \\\\ -1 \\end{bmatrix}$"
   ]
  },
  {
   "cell_type": "code",
   "execution_count": 32,
   "metadata": {},
   "outputs": [
    {
     "name": "stdout",
     "output_type": "stream",
     "text": [
      "点乘：[[23]]，叉乘：[[-4  7 -1]]\n"
     ]
    }
   ],
   "source": [
    "import numpy as np\n",
    "u=np.array([[3,2,2]])\n",
    "v=np.array([[5,3,1]])\n",
    "\n",
    "dot = np.dot(u, v.T)  # 不是数学规则，而是程序的限制，大家只需要记住\n",
    "cross = np.cross(u, v)\n",
    "print('点乘：{}，叉乘：{}'.format(dot, cross))"
   ]
  }
 ],
 "metadata": {
  "kernelspec": {
   "display_name": "Python 3",
   "language": "python",
   "name": "python3"
  },
  "language_info": {
   "codemirror_mode": {
    "name": "ipython",
    "version": 3
   },
   "file_extension": ".py",
   "mimetype": "text/x-python",
   "name": "python",
   "nbconvert_exporter": "python",
   "pygments_lexer": "ipython3",
   "version": "3.7.4"
  }
 },
 "nbformat": 4,
 "nbformat_minor": 4
}
