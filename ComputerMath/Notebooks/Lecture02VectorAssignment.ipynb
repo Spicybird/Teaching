{
 "cells": [
  {
   "cell_type": "markdown",
   "metadata": {},
   "source": [
    "# 课后作业：向量"
   ]
  },
  {
   "cell_type": "markdown",
   "metadata": {},
   "source": [
    "<font color=\"blue\">作者：欧新宇（Xinyu OU）</font>\n",
    "\n",
    "<font color=\"red\">本文档所展示的测试结果，均运行于：Intel Core i7-7700K CPU 4.2GHz</font>\n",
    "\n",
    "---"
   ]
  },
  {
   "cell_type": "markdown",
   "metadata": {},
   "source": [
    "**要求完成以下作业:**\n",
    "\n",
    "1. 设 $v_1={(1,1,0)}^T, v_2={(0,1,1)}^T, v_3={(3,4,0)}^T$, 求 $v_1-v_2$ 及 $3v_1 + 2v_2 - v_3$。\n",
    "\n",
    "2. 设 $3(a_1-a) + 2(a_2 + a) = 5(a_3 + a)$。其中, $a_1={(2,5,1,3)}^T, a_2={(10,1,5,10)}^T, a_3={(4,1,-1,1)}^T$，求$a$。\n",
    "\n",
    "3. $u=(3,2,2), v=(5,3,1)$， 求 $u$ 和 $v$ 的内积（点乘）和外积（叉乘）。"
   ]
  },
  {
   "cell_type": "markdown",
   "metadata": {},
   "source": [
    "**【作业提交】**\n",
    "\n",
    "- 有电脑的同学\n",
    "    - 将所有运行结果保存至word文档（最好能另存为pdf）\n",
    "    - 要求：使用编程环境完成下列习题，并按题目顺序将代码（代码通过截图粘贴）和运行结果贴于文档中\n",
    "    - 将文档上传至 `课堂派` 平台，`作业——第2讲 向量`\n",
    "\n",
    "- 没有电脑的同学\n",
    "    - **（推荐）**因代码量不大，建议使用在线平台完成作业：http://115.28.150.200:8000/\n",
    "    - *（不推荐）*在作业本上完成以上习题，并进行拍照. 按顺序将**照片**上传至 `课堂派` 平台，`作业——第2讲 向量`\n",
    "\n",
    "> <font color=\"blue\">不管有无电脑，尽量使用Python完成作业！！！</font>"
   ]
  },
  {
   "cell_type": "code",
   "execution_count": null,
   "metadata": {},
   "outputs": [],
   "source": []
  }
 ],
 "metadata": {
  "kernelspec": {
   "display_name": "Python 3",
   "language": "python",
   "name": "python3"
  },
  "language_info": {
   "codemirror_mode": {
    "name": "ipython",
    "version": 3
   },
   "file_extension": ".py",
   "mimetype": "text/x-python",
   "name": "python",
   "nbconvert_exporter": "python",
   "pygments_lexer": "ipython3",
   "version": "3.7.4"
  }
 },
 "nbformat": 4,
 "nbformat_minor": 4
}
