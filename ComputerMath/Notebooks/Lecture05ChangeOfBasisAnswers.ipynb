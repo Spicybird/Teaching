{
 "cells": [
  {
   "cell_type": "markdown",
   "metadata": {},
   "source": [
    "# 课后作业答案：基底变换"
   ]
  },
  {
   "cell_type": "markdown",
   "metadata": {},
   "source": [
    "<font color=\"blue\">作者：欧新宇（Xinyu OU）</font>\n",
    "\n",
    "<font color=\"red\">本文档所展示的测试结果，均运行于：Intel Core i7-7700K CPU 4.2GHz</font>\n",
    "\n",
    "---"
   ]
  },
  {
   "cell_type": "markdown",
   "metadata": {},
   "source": [
    "**1. 给定矩阵$M=\\begin{bmatrix}\n",
    "1 & 0 & 0 & 0 \\\\\n",
    "0 & 1 & 0 & 0 \\\\\n",
    "0 & 0 & 1 & 0 \\\\\n",
    "\\end{bmatrix}$，分别求它的行空间形式和列空间形式。其中，向量组的系数以$a,b,c,d$进行表示。** "
   ]
  },
  {
   "cell_type": "markdown",
   "metadata": {},
   "source": [
    "解：\n",
    "\n",
    "矩阵M的行空间形式为：$a(1,0,0,0)+b(0,1,0,0)+c(0,0,1,0)=(a,b,c,0)$\n",
    "\n",
    "矩阵M的列空间形式为：$a\\begin{bmatrix} 1 \\\\ 0 \\\\ 0 \\end{bmatrix}\n",
    "+b\\begin{bmatrix} 0 \\\\ 1 \\\\ 0 \\end{bmatrix}\n",
    "+c\\begin{bmatrix} 0 \\\\ 0 \\\\ 1 \\end{bmatrix}\n",
    "+d\\begin{bmatrix} 0 \\\\ 0 \\\\ 0 \\end{bmatrix}\n",
    "=\\begin{bmatrix} a \\\\ b \\\\ c \\end{bmatrix}$"
   ]
  },
  {
   "cell_type": "markdown",
   "metadata": {},
   "source": [
    "**2. 设存在矩阵\n",
    "$A = \\begin{bmatrix} 1 & 4 \\\\ 2 & 5 \\\\ 3 & 6 \\end{bmatrix},\n",
    "B = \\begin{bmatrix} 1 & 4 & 7 \\\\ 2 & 5 & 8 \\end{bmatrix}$, 向量\n",
    "$u = \\begin{bmatrix} 10 \\\\ 20 \\end{bmatrix}, \n",
    "v = \\begin{bmatrix} 100\\\\ 200 \\\\300 \\end{bmatrix}$。\n",
    "请将乘法$Au$和$Bv$分解成列的视角。**"
   ]
  },
  {
   "cell_type": "markdown",
   "metadata": {},
   "source": [
    "解：\n",
    "$Au=\\begin{bmatrix} 1 & 4 \\\\ 2 & 5 \\\\ 3 & 6 \\end{bmatrix} \n",
    "\\begin{bmatrix} 10 \\\\ 20 \\end{bmatrix}\n",
    "=10\\begin{bmatrix} 1 \\\\ 2 \\\\ 3 \\end{bmatrix}\n",
    "+20\\begin{bmatrix} 4 \\\\ 5 \\\\ 6 \\end{bmatrix}$\n",
    "\n",
    "$Bv=\\begin{bmatrix} 1 & 4 & 7 \\\\ 2 & 5 & 8 \\end{bmatrix}\n",
    "\\begin{bmatrix} 100\\\\ 200 \\\\300 \\end{bmatrix}\n",
    "=100\\begin{bmatrix} 1 \\\\ 2 \\end{bmatrix}\n",
    "+200\\begin{bmatrix} 4 \\\\ 5 \\end{bmatrix}\n",
    "+300\\begin{bmatrix} 7 \\\\ 8 \\end{bmatrix}$\n"
   ]
  },
  {
   "cell_type": "markdown",
   "metadata": {},
   "source": [
    "**3. 令$v_1=(4,3)^T, v_2=(2,5)^T$，对应于下列问题中每一组有序基$[u_1, u_2]$，求从$[v_1,v_2]$到$[u_1,u_2]$的转移矩阵。**\n",
    "\n",
    "1. $u_1 = (1,2)^T, u_2 = (1,-4)^T$\n",
    "\n",
    "2. $u_1 = (5,4)^T, u_2 = (2,5)^T$\n",
    "\n",
    "\n",
    "> 问题分析：从特定基$[u_1, u_2]$到特定基$[v_1, v_2]$的基底变换（坐标变换）。此处，求$[v_1,v_2]$到$[u_1,u_2]$的转移矩阵，可以直接套用公式$S=U^{-1} V$\n",
    "\n",
    "1. $S_1=U^{-1} V = \\begin{bmatrix} 1 & 1 \\\\ 2 & -4 \\end{bmatrix}^{-1} \\begin{bmatrix} 4 & 2 \\\\ 3 & 5 \\end{bmatrix}$\n",
    "2. $S_2=U^{-1} V = \\begin{bmatrix} 5 & 2 \\\\ 4 & 5 \\end{bmatrix}^{-1} \\begin{bmatrix} 4 & 2 \\\\ 3 & 5 \\end{bmatrix}$\n",
    "\n",
    "后续的工作，同样交给Python来实现。"
   ]
  },
  {
   "cell_type": "code",
   "execution_count": 2,
   "metadata": {},
   "outputs": [
    {
     "name": "stdout",
     "output_type": "stream",
     "text": [
      "S1=\n",
      "[[ 3.16666667  2.16666667]\n",
      " [ 0.83333333 -0.16666667]]\n",
      "S2=\n",
      "[[ 0.82352941  0.        ]\n",
      " [-0.05882353  1.        ]]\n"
     ]
    }
   ],
   "source": [
    "import numpy as np\n",
    "from scipy import linalg\n",
    "\n",
    "U1 = np.array([[1,1],[2,-4]])\n",
    "U2 = np.array([[5,2],[4,5]])\n",
    "\n",
    "V = np.array([[4,2],[3,5]])\n",
    "\n",
    "S1 = np.dot(linalg.inv(U1), V)\n",
    "S2 = np.dot(linalg.inv(U2), V)\n",
    "\n",
    "\n",
    "print('S1=\\n{}'.format(S1))\n",
    "print('S2=\\n{}'.format(S2))"
   ]
  },
  {
   "cell_type": "markdown",
   "metadata": {},
   "source": [
    "**4. 令$E=[(2,4)^T, (3,4)^T]$，并令$u=(3,5)^T,v=(6,8)^T$。计算$[u]_E, [v]_E$。**\n",
    "\n",
    "> 问题分析：从标准基$[e_1, e_2]$到特定基$[u_1, u_2]$的基底变换（坐标变换）。根据坐标变换公式，基坐标$x = Uc$，我们可以得到从标准基坐标向特定基坐标的变换公式：$c=U^{-1} x$，其中, $U^{-1}$就是标准基$[e_1, e_2]$到特定基$[u_1, u_2]$的转移矩阵。\n",
    "\n",
    "1. $[u]_E=E^{-1} u = \\begin{bmatrix} 3 \\\\ 5 \\end{bmatrix} \\begin{bmatrix} 2 & 4 \\\\ 3 & 4 \\end{bmatrix}^{-1}$\n",
    "2. $[v]_E=E^{-1} v = \\begin{bmatrix} 6 \\\\ 8 \\end{bmatrix} \\begin{bmatrix} 2 & 4 \\\\ 3 & 4 \\end{bmatrix}^{-1}$\n",
    "\n",
    "后续工作交给Python来实现。"
   ]
  },
  {
   "cell_type": "code",
   "execution_count": 1,
   "metadata": {},
   "outputs": [
    {
     "name": "stdout",
     "output_type": "stream",
     "text": [
      "xE=\n",
      "[[0.75]\n",
      " [0.5 ]]\n",
      "yE=\n",
      "[[0.]\n",
      " [2.]]\n"
     ]
    }
   ],
   "source": [
    "import numpy as np\n",
    "from scipy import linalg\n",
    "\n",
    "E = np.array([[2,3],[4,4]])\n",
    "\n",
    "u = np.array([[3],[5]])\n",
    "v = np.array([[6],[8]])\n",
    "\n",
    "print('xE=\\n{}'.format(np.dot(linalg.inv(E), u)))\n",
    "print('yE=\\n{}'.format(np.dot(linalg.inv(E), v)))"
   ]
  },
  {
   "cell_type": "markdown",
   "metadata": {},
   "source": [
    "**5. 令$v_1=(1,2,3)^T, v_2=(2,3,4)^T, v_3=(3,4,5)^T$，并令$u_1=(9,7,6)^T, u_2=(8,6,3)^T, u_3=(2,4,6)^T$，求：**\n",
    "\n",
    "**1) 求从特定基$[v_1, v_2, v_3]$到特定基$[u_1, u_2, u_3]$的转移矩阵。**\n",
    "\n",
    "**2) 若$x=-3v_1 - 5v_2 + 7v_3$，确定向量$x$相应于$u_1,u_2,u_3$的坐标。**\n",
    "\n",
    "> 问题分析：从特定基$[u_1, u_2, u_3]$到特定基$[v_1, v_2, v_3]$的基底变换（坐标变换）。根据坐标变换的通用公式$Vc = Ud$，即可求得坐标和转移矩阵。\n",
    "\n",
    "解：\n",
    "\n",
    "1) 要获得$v$到$u$的转移矩阵，实际上就是将$v$到$e$和$e$到$u$的转移矩阵进行合成，那么可以得到：\n",
    "\n",
    "$S = U^{-1} V = \\begin{bmatrix} 9 & 8 & 2 \\\\ 7 & 6 & 4 \\\\ 6 & 3 & 6 \\end{bmatrix} ^{-1} \\begin{bmatrix} 1 & 2 & 3 \\\\ 2 & 3 & 4 \\\\ 3 & 4 & 5 \\end{bmatrix} $\n",
    "\n",
    "2) 基于$v$的坐标$x$转换为基于$u$的坐标，可以通过通用公式的变形获得，即：\n",
    "\n",
    "$Vc = Ud => d = U^{-1} V c\n",
    "=> x_{new} = U^{-1} V x = S \\begin{bmatrix} -3 \\\\ -5 \\\\ 7 \\end{bmatrix}$\n",
    "\n",
    "接下来的工作，仍然交给Python来实现。"
   ]
  },
  {
   "cell_type": "code",
   "execution_count": 6,
   "metadata": {},
   "outputs": [
    {
     "name": "stdout",
     "output_type": "stream",
     "text": [
      "S=\n",
      " [[0.         0.04761905 0.0952381 ]\n",
      " [0.         0.04761905 0.0952381 ]\n",
      " [0.5        0.5952381  0.69047619]]\n",
      "xu=\n",
      "[[0.42857143]\n",
      " [0.42857143]\n",
      " [0.35714286]]\n"
     ]
    }
   ],
   "source": [
    "import numpy as np\n",
    "from scipy import linalg\n",
    "\n",
    "U = np.array([[9,8,2],[7,6,4],[6,3,6]])\n",
    "V = np.array([[1,2,3],[2,3,4],[3,4,5]])\n",
    "xv = np.array([[-3],[-5],[7]])\n",
    "\n",
    "S = np.dot(linalg.inv(U), V)\n",
    "xu = np.dot(S,xv)\n",
    "\n",
    "print('S=\\n {}'.format(S))\n",
    "print('xu=\\n{}'.format(xu))"
   ]
  },
  {
   "cell_type": "markdown",
   "metadata": {},
   "source": [
    "**6. 给定$v_1=\\begin{bmatrix} 3 \\\\ 5 \\end{bmatrix}, v_2=\\begin{bmatrix} -3 \\\\ -4 \\end{bmatrix}, S = \\begin{bmatrix} 2 & -2 \\\\ 3 & 5 \\end{bmatrix}$，求：$u_1, u_2$，使得$S$为从$[v_1, v_2]$到$[u_1, u_2]$的转移矩阵。**\n",
    "\n",
    "> 问题分析：从特定基$[u_1, u_2]$到特定基$[v_1, v_2]$的基底变换（坐标变换）。由于S是v到u的转移矩阵，所以有$S=U^{-1} V$，由此可以得到$V=US => U=VS^{-1}$\n",
    "\n",
    "解：\n",
    "\n",
    "$U = VS^{-1} = \\begin{bmatrix} 3 & -3 \\\\ 5 & -4 \\end{bmatrix} \\begin{bmatrix} 2 & -2 \\\\ 3 & 5 \\end{bmatrix} ^{-1}$\n",
    "\n",
    "后续计算同样使用Python实现。"
   ]
  },
  {
   "cell_type": "code",
   "execution_count": 5,
   "metadata": {},
   "outputs": [
    {
     "name": "stdout",
     "output_type": "stream",
     "text": [
      "W=\n",
      " [[1.5    0.    ]\n",
      " [2.3125 0.125 ]]\n"
     ]
    }
   ],
   "source": [
    "import numpy as np\n",
    "from scipy import linalg\n",
    "\n",
    "S = np.array([[2,-2],[3,5]])\n",
    "V = np.array([[3,-3],[5,-4]])\n",
    "\n",
    "W = np.dot(V, linalg.inv(S))\n",
    "\n",
    "print('W=\\n {}'.format(W))"
   ]
  }
 ],
 "metadata": {
  "kernelspec": {
   "display_name": "Python 3",
   "language": "python",
   "name": "python3"
  },
  "language_info": {
   "codemirror_mode": {
    "name": "ipython",
    "version": 3
   },
   "file_extension": ".py",
   "mimetype": "text/x-python",
   "name": "python",
   "nbconvert_exporter": "python",
   "pygments_lexer": "ipython3",
   "version": "3.7.4"
  }
 },
 "nbformat": 4,
 "nbformat_minor": 4
}
