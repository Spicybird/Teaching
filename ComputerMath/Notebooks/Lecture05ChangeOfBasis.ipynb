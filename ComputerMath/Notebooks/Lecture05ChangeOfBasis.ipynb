{
 "cells": [
  {
   "cell_type": "markdown",
   "metadata": {},
   "source": [
    "# 矩阵乘向量的新视角：变换基底"
   ]
  },
  {
   "cell_type": "markdown",
   "metadata": {},
   "source": [
    "<font color=\"blue\">作者：欧新宇（Xinyu OU）</font>\n",
    "\n",
    "<font color=\"red\">本文档所展示的测试结果，均运行于：Intel Core i7-7700K CPU 4.2GHz</font>\n",
    "\n",
    "---"
   ]
  },
  {
   "cell_type": "markdown",
   "metadata": {},
   "source": [
    "在前面的学习中，我们知道同一个向量在不同的基（坐标系）下有不同的表示（坐标），那么不同的基与不同的坐标之间又有怎么样的关系呢？其实，很多应用问题都可以通过从一个坐标系转换为另一个坐标系而得到简化。\n",
    "\n",
    "图一:\n",
    "![Image](http://ouxinyu.cn/Teaching/MachineLearning/Attachments/Ch0713Kernel01.webp)\n",
    "\n",
    "图二：\n",
    "![Image](http://ouxinyu.cn/Teaching/MachineLearning/Attachments/Ch0713Kernel02.webp)\n",
    "\n",
    "在一个向量空间中转换坐标和从一组基转为另外一组基本质上是相同的。本节中，我们讨论从一个坐标系转换为另一坐标系的问题，并证明它可以通过将给定向量 $x$ 乘以一个非奇异矩阵$S$来实现。乘积$y=Sx$为新坐标系下的坐标向量。"
   ]
  },
  {
   "cell_type": "markdown",
   "metadata": {},
   "source": [
    "## 1. 行空间和列空间"
   ]
  },
  {
   "cell_type": "markdown",
   "metadata": {},
   "source": [
    "## 2. 矩阵乘法的新视角"
   ]
  },
  {
   "cell_type": "markdown",
   "metadata": {},
   "source": [
    "### 1.1 基于行视角矩阵乘法"
   ]
  },
  {
   "cell_type": "markdown",
   "metadata": {},
   "source": [
    "### 1.1 基于列视角矩阵乘法"
   ]
  },
  {
   "cell_type": "markdown",
   "metadata": {},
   "source": [
    "## 3. 坐标变换"
   ]
  },
  {
   "cell_type": "markdown",
   "metadata": {},
   "source": [
    "## 4. 基变换"
   ]
  },
  {
   "cell_type": "markdown",
   "metadata": {},
   "source": [
    "### 4.1 二维向量的基底变换"
   ]
  },
  {
   "cell_type": "markdown",
   "metadata": {},
   "source": [
    "### 4.2 三维向量的基底变换"
   ]
  },
  {
   "cell_type": "markdown",
   "metadata": {},
   "source": [
    "### 4.3 一般向量空间的基变换"
   ]
  }
 ],
 "metadata": {
  "kernelspec": {
   "display_name": "Python 3",
   "language": "python",
   "name": "python3"
  },
  "language_info": {
   "codemirror_mode": {
    "name": "ipython",
    "version": 3
   },
   "file_extension": ".py",
   "mimetype": "text/x-python",
   "name": "python",
   "nbconvert_exporter": "python",
   "pygments_lexer": "ipython3",
   "version": "3.7.4"
  }
 },
 "nbformat": 4,
 "nbformat_minor": 4
}
