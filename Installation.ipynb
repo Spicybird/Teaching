{
 "cells": [
  {
   "cell_type": "markdown",
   "metadata": {},
   "source": [
    "# Python机器学习环境的安装和配置"
   ]
  },
  {
   "cell_type": "markdown",
   "metadata": {},
   "source": [
    "## 一、安装和配置Python环境\n",
    "### 1. 极简Python环境安装和配置\n",
    "PS: 该安装配置模式适用于仅需要完成《程序设计基础（Python）》课程的同学，对于需要学习其他Python和AI相关课程的同学，建议参看 2.标准Python环境安装和配置。\n",
    "### 1.1 安装Python环境\n",
    "a. 访问Python官网并下载最新版Python，URL: https://www.python.org/\n",
    "b. 双击并运行安装，勾选【Add Python 3.8 to PATH】\n",
    "### 1.2 测试Python环境\n",
    "方法一：打开IDLE交互环境，并执行下列指令进行测试\n",
    "\n",
    "方法二：打开IDLE文件编辑器，并输入下列代码并运行"
   ]
  },
  {
   "cell_type": "code",
   "execution_count": 1,
   "metadata": {},
   "outputs": [
    {
     "name": "stdout",
     "output_type": "stream",
     "text": [
      "Hello World!\n"
     ]
    }
   ],
   "source": [
    "print(\"Hello World!\")"
   ]
  }
 ],
 "metadata": {
  "kernelspec": {
   "display_name": "Python 3",
   "language": "python",
   "name": "python3"
  },
  "language_info": {
   "codemirror_mode": {
    "name": "ipython",
    "version": 3
   },
   "file_extension": ".py",
   "mimetype": "text/x-python",
   "name": "python",
   "nbconvert_exporter": "python",
   "pygments_lexer": "ipython3",
   "version": "3.7.4"
  }
 },
 "nbformat": 4,
 "nbformat_minor": 4
}
