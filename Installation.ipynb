{
 "cells": [
  {
   "cell_type": "markdown",
   "metadata": {},
   "source": [
    "# Python机器学习环境的安装和配置"
   ]
  },
  {
   "cell_type": "markdown",
   "metadata": {},
   "source": [
    "## 一、安装和配置Python环境\n",
    "### 1. 极简Python环境安装和配置\n",
    "PS: 该安装配置模式适用于仅需要完成《程序设计基础（Python）》课程的同学，对于需要学习其他Python和AI相关课程的同学，建议参看 2.标准Python环境安装和配置。\n",
    "### 1.1 安装Python环境\n",
    "a. 访问Python官网并下载最新版Python，URL: https://www.python.org/\n",
    "b. 双击并运行安装，勾选【Add Python 3.8 to PATH】\n",
    "### 1.2 测试Python环境\n",
    "方法一：打开IDLE交互环境，并执行下列指令进行测试\n",
    "\n",
    "方法二：打开IDLE文件编辑器，并输入下列代码并运行"
   ]
  },
  {
   "cell_type": "code",
   "execution_count": 1,
   "metadata": {},
   "outputs": [
    {
     "name": "stdout",
     "output_type": "stream",
     "text": [
      "Hello World!\n"
     ]
    }
   ],
   "source": [
    "print(\"Hello World!\")"
   ]
  },
  {
   "cell_type": "markdown",
   "metadata": {},
   "source": [
    "### 1.3 安装课程所需要的其他库文件\n",
    "- 安装jieba库"
   ]
  },
  {
   "cell_type": "raw",
   "metadata": {},
   "source": [
    ">> pip install jieba"
   ]
  },
  {
   "cell_type": "markdown",
   "metadata": {},
   "source": [
    "- 安装wordcloud词云库"
   ]
  },
  {
   "cell_type": "raw",
   "metadata": {},
   "source": [
    ">> pip install wordcloud"
   ]
  },
  {
   "cell_type": "markdown",
   "metadata": {},
   "source": [
    "## 2. 标准Python环境安装和配置\n",
    "### 2.1 Python环境的安装与配置"
   ]
  },
  {
   "cell_type": "markdown",
   "metadata": {},
   "source": []
  },
  {
   "cell_type": "markdown",
   "metadata": {},
   "source": [
    "\t1. 安装Python，推荐安装Anaconda最新版本，原因很简单，已经集成了很多东西，就避免了安装库的麻烦。URL：https://www.anaconda.com/\n",
    "\t2. 安装Visual Studio Code(VSCode)，最新版本1.39，URL：https://code.visualstudio.com/\n",
    "\t3. 安装jupyterlab\n",
    "\t4. 打开Anaconda Prompt，\n",
    "\t执行安装命令 ：conda install jupyterlab\n",
    "\t更新jupyterlab内核：conda update jupyter_core jupyter_client\n",
    "\t\n",
    "\t5. 修改Jupyter lab的默认路径：编辑【C:\\Users\\oxy\\.jupyter\\jupyter_notebook_config.py】，修改字段【c.NotebookApp.notebook_dir】为指定路径。\n",
    "PS：其中【C:\\Users\\oxy】为Anaconda默认路径，可通过启动Anaconda Prompt查看默认"
   ]
  },
  {
   "cell_type": "markdown",
   "metadata": {},
   "source": [
    "### 2.2 Visual Studio Code (VSCode) 编程环境的安装与配置"
   ]
  },
  {
   "cell_type": "markdown",
   "metadata": {},
   "source": [
    "### 2.3 JupyterLab 编程环境的安装与配置\n",
    "### 2.3.1 设置JupyterLab启动的初始路径\n",
    "- 生成配置文件"
   ]
  },
  {
   "cell_type": "raw",
   "metadata": {},
   "source": [
    ">> jupyter notebook --generate-config"
   ]
  },
  {
   "cell_type": "markdown",
   "metadata": {},
   "source": [
    "- 设置初始路径"
   ]
  },
  {
   "cell_type": "markdown",
   "metadata": {},
   "source": [
    "### 1. 测试Python环境是否工作正常"
   ]
  },
  {
   "cell_type": "code",
   "execution_count": 11,
   "metadata": {},
   "outputs": [
    {
     "name": "stdout",
     "output_type": "stream",
     "text": [
      "Hello world!\n"
     ]
    }
   ],
   "source": [
    "print(\"Hello world!\")"
   ]
  },
  {
   "cell_type": "markdown",
   "metadata": {},
   "source": [
    "## 二、 机器学习必需库的安装和测试"
   ]
  },
  {
   "cell_type": "markdown",
   "metadata": {},
   "source": [
    "### 1. Numpy 基础科学计算库"
   ]
  },
  {
   "cell_type": "markdown",
   "metadata": {},
   "source": [
    "### 2. Scipy 科学计算工具集"
   ]
  },
  {
   "cell_type": "markdown",
   "metadata": {},
   "source": [
    "### 3. Pandas 数据分析工具"
   ]
  },
  {
   "cell_type": "markdown",
   "metadata": {},
   "source": [
    "### 4. Matplotlib 绘图库"
   ]
  }
 ],
 "metadata": {
  "kernelspec": {
   "display_name": "Python 3",
   "language": "python",
   "name": "python3"
  },
  "language_info": {
   "codemirror_mode": {
    "name": "ipython",
    "version": 3
   },
   "file_extension": ".py",
   "mimetype": "text/x-python",
   "name": "python",
   "nbconvert_exporter": "python",
   "pygments_lexer": "ipython3",
   "version": "3.7.4"
  }
 },
 "nbformat": 4,
 "nbformat_minor": 4
}
